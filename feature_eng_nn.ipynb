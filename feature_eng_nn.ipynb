{
 "cells": [
  {
   "cell_type": "code",
   "execution_count": 1,
   "metadata": {},
   "outputs": [],
   "source": [
    "import pandas as pd\n",
    "import numpy as np\n",
    "\n",
    "import torch\n",
    "from torchtext.data.utils import get_tokenizer\n",
    "from torchtext.vocab import Vocab\n",
    "from torchtext.vocab import GloVe\n",
    "\n",
    "from collections import Counter\n",
    "\n",
    "from sklearn.model_selection import train_test_split\n",
    "from sklearn.utils import resample"
   ]
  },
  {
   "cell_type": "code",
   "execution_count": 2,
   "metadata": {},
   "outputs": [],
   "source": [
    "df = pd.read_pickle('initial_clean.pkl')"
   ]
  },
  {
   "cell_type": "code",
   "execution_count": 3,
   "metadata": {},
   "outputs": [
    {
     "output_type": "execute_result",
     "data": {
      "text/plain": [
       "    id_orig                       name  license facility_type  date_orig  \\\n",
       "16   577275                    ROYALTY  1306130    Restaurant 2011-04-18   \n",
       "38  1345428              PRET A MANGER  2138418    Restaurant 2013-08-06   \n",
       "43  1114379              PRET A MANGER  2138418    Restaurant 2012-07-23   \n",
       "65   343293     CHIPOTLE MEXICAN GRILL  1379435    Restaurant 2010-08-17   \n",
       "72  2484973  HILLTOP FAMILY RESTAURANT  2652370    Restaurant 2021-02-19   \n",
       "\n",
       "     inspection_type_orig results_orig  \\\n",
       "16                Canvass         Fail   \n",
       "38                Canvass         Fail   \n",
       "43              Complaint         Fail   \n",
       "65                Canvass         Fail   \n",
       "72  Canvass Re-Inspection         Fail   \n",
       "\n",
       "                                      violations_orig    id_re    date_re  \\\n",
       "16  18. NO EVIDENCE OF RODENT OR INSECT OUTER OPEN...   577343 2011-05-24   \n",
       "38  18. NO EVIDENCE OF RODENT OR INSECT OUTER OPEN...  1345448 2013-08-13   \n",
       "43  18. NO EVIDENCE OF RODENT OR INSECT OUTER OPEN...  1114384 2012-07-31   \n",
       "65  18. NO EVIDENCE OF RODENT OR INSECT OUTER OPEN...   343310 2010-08-26   \n",
       "72  44. UTENSILS, EQUIPMENT & LINENS: PROPERLY STO...  2485081 2021-02-23   \n",
       "\n",
       "            results_re  time_between  \n",
       "16                Pass           -36  \n",
       "38                Pass            -7  \n",
       "43                Pass            -8  \n",
       "65                Pass            -9  \n",
       "72  Pass w/ Conditions            -4  "
      ],
      "text/html": "<div>\n<style scoped>\n    .dataframe tbody tr th:only-of-type {\n        vertical-align: middle;\n    }\n\n    .dataframe tbody tr th {\n        vertical-align: top;\n    }\n\n    .dataframe thead th {\n        text-align: right;\n    }\n</style>\n<table border=\"1\" class=\"dataframe\">\n  <thead>\n    <tr style=\"text-align: right;\">\n      <th></th>\n      <th>id_orig</th>\n      <th>name</th>\n      <th>license</th>\n      <th>facility_type</th>\n      <th>date_orig</th>\n      <th>inspection_type_orig</th>\n      <th>results_orig</th>\n      <th>violations_orig</th>\n      <th>id_re</th>\n      <th>date_re</th>\n      <th>results_re</th>\n      <th>time_between</th>\n    </tr>\n  </thead>\n  <tbody>\n    <tr>\n      <th>16</th>\n      <td>577275</td>\n      <td>ROYALTY</td>\n      <td>1306130</td>\n      <td>Restaurant</td>\n      <td>2011-04-18</td>\n      <td>Canvass</td>\n      <td>Fail</td>\n      <td>18. NO EVIDENCE OF RODENT OR INSECT OUTER OPEN...</td>\n      <td>577343</td>\n      <td>2011-05-24</td>\n      <td>Pass</td>\n      <td>-36</td>\n    </tr>\n    <tr>\n      <th>38</th>\n      <td>1345428</td>\n      <td>PRET A MANGER</td>\n      <td>2138418</td>\n      <td>Restaurant</td>\n      <td>2013-08-06</td>\n      <td>Canvass</td>\n      <td>Fail</td>\n      <td>18. NO EVIDENCE OF RODENT OR INSECT OUTER OPEN...</td>\n      <td>1345448</td>\n      <td>2013-08-13</td>\n      <td>Pass</td>\n      <td>-7</td>\n    </tr>\n    <tr>\n      <th>43</th>\n      <td>1114379</td>\n      <td>PRET A MANGER</td>\n      <td>2138418</td>\n      <td>Restaurant</td>\n      <td>2012-07-23</td>\n      <td>Complaint</td>\n      <td>Fail</td>\n      <td>18. NO EVIDENCE OF RODENT OR INSECT OUTER OPEN...</td>\n      <td>1114384</td>\n      <td>2012-07-31</td>\n      <td>Pass</td>\n      <td>-8</td>\n    </tr>\n    <tr>\n      <th>65</th>\n      <td>343293</td>\n      <td>CHIPOTLE MEXICAN GRILL</td>\n      <td>1379435</td>\n      <td>Restaurant</td>\n      <td>2010-08-17</td>\n      <td>Canvass</td>\n      <td>Fail</td>\n      <td>18. NO EVIDENCE OF RODENT OR INSECT OUTER OPEN...</td>\n      <td>343310</td>\n      <td>2010-08-26</td>\n      <td>Pass</td>\n      <td>-9</td>\n    </tr>\n    <tr>\n      <th>72</th>\n      <td>2484973</td>\n      <td>HILLTOP FAMILY RESTAURANT</td>\n      <td>2652370</td>\n      <td>Restaurant</td>\n      <td>2021-02-19</td>\n      <td>Canvass Re-Inspection</td>\n      <td>Fail</td>\n      <td>44. UTENSILS, EQUIPMENT &amp; LINENS: PROPERLY STO...</td>\n      <td>2485081</td>\n      <td>2021-02-23</td>\n      <td>Pass w/ Conditions</td>\n      <td>-4</td>\n    </tr>\n  </tbody>\n</table>\n</div>"
     },
     "metadata": {},
     "execution_count": 3
    }
   ],
   "source": [
    "df.head()"
   ]
  },
  {
   "cell_type": "code",
   "execution_count": 4,
   "metadata": {},
   "outputs": [],
   "source": [
    "# Change 'Pass w/ Conditions' to 'Pass', and change target to 0/1 numeric\n",
    "results_dict = {'Pass': 0, 'Fail': 1}\n",
    "df['results_re'] = df['results_re'].str.replace('Pass w/ Conditions', 'Pass')\n",
    "df['results_re'] = df['results_re'].apply(lambda x: results_dict[x])"
   ]
  },
  {
   "cell_type": "markdown",
   "metadata": {},
   "source": [
    "### Split data into feature & target, and then into train and test sets"
   ]
  },
  {
   "cell_type": "code",
   "execution_count": 5,
   "metadata": {},
   "outputs": [],
   "source": [
    "# Sort dataframe by inspection date\n",
    "# Training set will include initial 80% of inspections\n",
    "sorted_df = df.sort_values(by=['date_orig'])"
   ]
  },
  {
   "cell_type": "code",
   "execution_count": 6,
   "metadata": {},
   "outputs": [
    {
     "output_type": "execute_result",
     "data": {
      "text/plain": [
       "       id_orig                       name  license  facility_type  date_orig  \\\n",
       "217726  104236                 TEMPO CAFE    80916     Restaurant 2010-01-04   \n",
       "494307   67738     MICHAEL'S ON MAIN CAFE  2008948     Restaurant 2010-01-04   \n",
       "452398   67736  MONTICELLO FOOD MART, INC  2013259  Grocery Store 2010-01-05   \n",
       "281119   67741                      CITGO  2013296  Grocery Store 2010-01-05   \n",
       "460847   67744    GOLDEN CROWN RESTAURANT  2013539     Restaurant 2010-01-05   \n",
       "\n",
       "       inspection_type_orig results_orig  \\\n",
       "217726              Canvass         Fail   \n",
       "494307              License         Fail   \n",
       "452398              License         Fail   \n",
       "281119              License         Fail   \n",
       "460847              License         Fail   \n",
       "\n",
       "                                          violations_orig   id_re    date_re  \\\n",
       "217726  18. NO EVIDENCE OF RODENT OR INSECT OUTER OPEN...  104243 2010-01-12   \n",
       "494307  18. NO EVIDENCE OF RODENT OR INSECT OUTER OPEN...  124279 2010-01-19   \n",
       "452398  21. * CERTIFIED FOOD MANAGER ON SITE WHEN POTE...   54219 2010-01-08   \n",
       "281119  2. FACILITIES TO MAINTAIN PROPER TEMPERATURE -...  176270 2010-02-17   \n",
       "460847  32. FOOD AND NON-FOOD CONTACT SURFACES PROPERL...   48215 2010-01-11   \n",
       "\n",
       "        results_re  time_between  \n",
       "217726           0            -8  \n",
       "494307           0           -15  \n",
       "452398           0            -3  \n",
       "281119           0           -43  \n",
       "460847           1            -6  "
      ],
      "text/html": "<div>\n<style scoped>\n    .dataframe tbody tr th:only-of-type {\n        vertical-align: middle;\n    }\n\n    .dataframe tbody tr th {\n        vertical-align: top;\n    }\n\n    .dataframe thead th {\n        text-align: right;\n    }\n</style>\n<table border=\"1\" class=\"dataframe\">\n  <thead>\n    <tr style=\"text-align: right;\">\n      <th></th>\n      <th>id_orig</th>\n      <th>name</th>\n      <th>license</th>\n      <th>facility_type</th>\n      <th>date_orig</th>\n      <th>inspection_type_orig</th>\n      <th>results_orig</th>\n      <th>violations_orig</th>\n      <th>id_re</th>\n      <th>date_re</th>\n      <th>results_re</th>\n      <th>time_between</th>\n    </tr>\n  </thead>\n  <tbody>\n    <tr>\n      <th>217726</th>\n      <td>104236</td>\n      <td>TEMPO CAFE</td>\n      <td>80916</td>\n      <td>Restaurant</td>\n      <td>2010-01-04</td>\n      <td>Canvass</td>\n      <td>Fail</td>\n      <td>18. NO EVIDENCE OF RODENT OR INSECT OUTER OPEN...</td>\n      <td>104243</td>\n      <td>2010-01-12</td>\n      <td>0</td>\n      <td>-8</td>\n    </tr>\n    <tr>\n      <th>494307</th>\n      <td>67738</td>\n      <td>MICHAEL'S ON MAIN CAFE</td>\n      <td>2008948</td>\n      <td>Restaurant</td>\n      <td>2010-01-04</td>\n      <td>License</td>\n      <td>Fail</td>\n      <td>18. NO EVIDENCE OF RODENT OR INSECT OUTER OPEN...</td>\n      <td>124279</td>\n      <td>2010-01-19</td>\n      <td>0</td>\n      <td>-15</td>\n    </tr>\n    <tr>\n      <th>452398</th>\n      <td>67736</td>\n      <td>MONTICELLO FOOD MART, INC</td>\n      <td>2013259</td>\n      <td>Grocery Store</td>\n      <td>2010-01-05</td>\n      <td>License</td>\n      <td>Fail</td>\n      <td>21. * CERTIFIED FOOD MANAGER ON SITE WHEN POTE...</td>\n      <td>54219</td>\n      <td>2010-01-08</td>\n      <td>0</td>\n      <td>-3</td>\n    </tr>\n    <tr>\n      <th>281119</th>\n      <td>67741</td>\n      <td>CITGO</td>\n      <td>2013296</td>\n      <td>Grocery Store</td>\n      <td>2010-01-05</td>\n      <td>License</td>\n      <td>Fail</td>\n      <td>2. FACILITIES TO MAINTAIN PROPER TEMPERATURE -...</td>\n      <td>176270</td>\n      <td>2010-02-17</td>\n      <td>0</td>\n      <td>-43</td>\n    </tr>\n    <tr>\n      <th>460847</th>\n      <td>67744</td>\n      <td>GOLDEN CROWN RESTAURANT</td>\n      <td>2013539</td>\n      <td>Restaurant</td>\n      <td>2010-01-05</td>\n      <td>License</td>\n      <td>Fail</td>\n      <td>32. FOOD AND NON-FOOD CONTACT SURFACES PROPERL...</td>\n      <td>48215</td>\n      <td>2010-01-11</td>\n      <td>1</td>\n      <td>-6</td>\n    </tr>\n  </tbody>\n</table>\n</div>"
     },
     "metadata": {},
     "execution_count": 6
    }
   ],
   "source": [
    "sorted_df.head()"
   ]
  },
  {
   "cell_type": "code",
   "execution_count": 7,
   "metadata": {},
   "outputs": [],
   "source": [
    "target_col = ['results_re']\n",
    "target = sorted_df[target_col]\n",
    "\n",
    "cols_to_exclude = ['name', 'id_orig', 'id_re', 'license']\n",
    "feature_cols = [col for col in sorted_df.columns if (col not in cols_to_exclude and col not in target_col)]\n",
    "features = sorted_df[feature_cols]"
   ]
  },
  {
   "cell_type": "code",
   "execution_count": 8,
   "metadata": {},
   "outputs": [
    {
     "output_type": "execute_result",
     "data": {
      "text/plain": [
       "        results_re\n",
       "217726           0\n",
       "494307           0\n",
       "452398           0\n",
       "281119           0\n",
       "460847           1"
      ],
      "text/html": "<div>\n<style scoped>\n    .dataframe tbody tr th:only-of-type {\n        vertical-align: middle;\n    }\n\n    .dataframe tbody tr th {\n        vertical-align: top;\n    }\n\n    .dataframe thead th {\n        text-align: right;\n    }\n</style>\n<table border=\"1\" class=\"dataframe\">\n  <thead>\n    <tr style=\"text-align: right;\">\n      <th></th>\n      <th>results_re</th>\n    </tr>\n  </thead>\n  <tbody>\n    <tr>\n      <th>217726</th>\n      <td>0</td>\n    </tr>\n    <tr>\n      <th>494307</th>\n      <td>0</td>\n    </tr>\n    <tr>\n      <th>452398</th>\n      <td>0</td>\n    </tr>\n    <tr>\n      <th>281119</th>\n      <td>0</td>\n    </tr>\n    <tr>\n      <th>460847</th>\n      <td>1</td>\n    </tr>\n  </tbody>\n</table>\n</div>"
     },
     "metadata": {},
     "execution_count": 8
    }
   ],
   "source": [
    "target.head()"
   ]
  },
  {
   "cell_type": "code",
   "execution_count": 9,
   "metadata": {},
   "outputs": [
    {
     "output_type": "execute_result",
     "data": {
      "text/plain": [
       "        facility_type  date_orig inspection_type_orig results_orig  \\\n",
       "217726     Restaurant 2010-01-04              Canvass         Fail   \n",
       "494307     Restaurant 2010-01-04              License         Fail   \n",
       "452398  Grocery Store 2010-01-05              License         Fail   \n",
       "281119  Grocery Store 2010-01-05              License         Fail   \n",
       "460847     Restaurant 2010-01-05              License         Fail   \n",
       "\n",
       "                                          violations_orig    date_re  \\\n",
       "217726  18. NO EVIDENCE OF RODENT OR INSECT OUTER OPEN... 2010-01-12   \n",
       "494307  18. NO EVIDENCE OF RODENT OR INSECT OUTER OPEN... 2010-01-19   \n",
       "452398  21. * CERTIFIED FOOD MANAGER ON SITE WHEN POTE... 2010-01-08   \n",
       "281119  2. FACILITIES TO MAINTAIN PROPER TEMPERATURE -... 2010-02-17   \n",
       "460847  32. FOOD AND NON-FOOD CONTACT SURFACES PROPERL... 2010-01-11   \n",
       "\n",
       "        time_between  \n",
       "217726            -8  \n",
       "494307           -15  \n",
       "452398            -3  \n",
       "281119           -43  \n",
       "460847            -6  "
      ],
      "text/html": "<div>\n<style scoped>\n    .dataframe tbody tr th:only-of-type {\n        vertical-align: middle;\n    }\n\n    .dataframe tbody tr th {\n        vertical-align: top;\n    }\n\n    .dataframe thead th {\n        text-align: right;\n    }\n</style>\n<table border=\"1\" class=\"dataframe\">\n  <thead>\n    <tr style=\"text-align: right;\">\n      <th></th>\n      <th>facility_type</th>\n      <th>date_orig</th>\n      <th>inspection_type_orig</th>\n      <th>results_orig</th>\n      <th>violations_orig</th>\n      <th>date_re</th>\n      <th>time_between</th>\n    </tr>\n  </thead>\n  <tbody>\n    <tr>\n      <th>217726</th>\n      <td>Restaurant</td>\n      <td>2010-01-04</td>\n      <td>Canvass</td>\n      <td>Fail</td>\n      <td>18. NO EVIDENCE OF RODENT OR INSECT OUTER OPEN...</td>\n      <td>2010-01-12</td>\n      <td>-8</td>\n    </tr>\n    <tr>\n      <th>494307</th>\n      <td>Restaurant</td>\n      <td>2010-01-04</td>\n      <td>License</td>\n      <td>Fail</td>\n      <td>18. NO EVIDENCE OF RODENT OR INSECT OUTER OPEN...</td>\n      <td>2010-01-19</td>\n      <td>-15</td>\n    </tr>\n    <tr>\n      <th>452398</th>\n      <td>Grocery Store</td>\n      <td>2010-01-05</td>\n      <td>License</td>\n      <td>Fail</td>\n      <td>21. * CERTIFIED FOOD MANAGER ON SITE WHEN POTE...</td>\n      <td>2010-01-08</td>\n      <td>-3</td>\n    </tr>\n    <tr>\n      <th>281119</th>\n      <td>Grocery Store</td>\n      <td>2010-01-05</td>\n      <td>License</td>\n      <td>Fail</td>\n      <td>2. FACILITIES TO MAINTAIN PROPER TEMPERATURE -...</td>\n      <td>2010-02-17</td>\n      <td>-43</td>\n    </tr>\n    <tr>\n      <th>460847</th>\n      <td>Restaurant</td>\n      <td>2010-01-05</td>\n      <td>License</td>\n      <td>Fail</td>\n      <td>32. FOOD AND NON-FOOD CONTACT SURFACES PROPERL...</td>\n      <td>2010-01-11</td>\n      <td>-6</td>\n    </tr>\n  </tbody>\n</table>\n</div>"
     },
     "metadata": {},
     "execution_count": 9
    }
   ],
   "source": [
    "features.head()"
   ]
  },
  {
   "cell_type": "code",
   "execution_count": 10,
   "metadata": {},
   "outputs": [],
   "source": [
    "# Don't shuffle data before splitting\n",
    "train_feat, test_feat, train_targ, test_targ = train_test_split(features, target, test_size=0.2,\n",
    "                                                                shuffle=False)"
   ]
  },
  {
   "cell_type": "code",
   "execution_count": 11,
   "metadata": {},
   "outputs": [
    {
     "output_type": "execute_result",
     "data": {
      "text/plain": [
       "        facility_type  date_orig inspection_type_orig results_orig  \\\n",
       "217726     Restaurant 2010-01-04              Canvass         Fail   \n",
       "494307     Restaurant 2010-01-04              License         Fail   \n",
       "452398  Grocery Store 2010-01-05              License         Fail   \n",
       "281119  Grocery Store 2010-01-05              License         Fail   \n",
       "460847     Restaurant 2010-01-05              License         Fail   \n",
       "\n",
       "                                          violations_orig    date_re  \\\n",
       "217726  18. NO EVIDENCE OF RODENT OR INSECT OUTER OPEN... 2010-01-12   \n",
       "494307  18. NO EVIDENCE OF RODENT OR INSECT OUTER OPEN... 2010-01-19   \n",
       "452398  21. * CERTIFIED FOOD MANAGER ON SITE WHEN POTE... 2010-01-08   \n",
       "281119  2. FACILITIES TO MAINTAIN PROPER TEMPERATURE -... 2010-02-17   \n",
       "460847  32. FOOD AND NON-FOOD CONTACT SURFACES PROPERL... 2010-01-11   \n",
       "\n",
       "        time_between  \n",
       "217726            -8  \n",
       "494307           -15  \n",
       "452398            -3  \n",
       "281119           -43  \n",
       "460847            -6  "
      ],
      "text/html": "<div>\n<style scoped>\n    .dataframe tbody tr th:only-of-type {\n        vertical-align: middle;\n    }\n\n    .dataframe tbody tr th {\n        vertical-align: top;\n    }\n\n    .dataframe thead th {\n        text-align: right;\n    }\n</style>\n<table border=\"1\" class=\"dataframe\">\n  <thead>\n    <tr style=\"text-align: right;\">\n      <th></th>\n      <th>facility_type</th>\n      <th>date_orig</th>\n      <th>inspection_type_orig</th>\n      <th>results_orig</th>\n      <th>violations_orig</th>\n      <th>date_re</th>\n      <th>time_between</th>\n    </tr>\n  </thead>\n  <tbody>\n    <tr>\n      <th>217726</th>\n      <td>Restaurant</td>\n      <td>2010-01-04</td>\n      <td>Canvass</td>\n      <td>Fail</td>\n      <td>18. NO EVIDENCE OF RODENT OR INSECT OUTER OPEN...</td>\n      <td>2010-01-12</td>\n      <td>-8</td>\n    </tr>\n    <tr>\n      <th>494307</th>\n      <td>Restaurant</td>\n      <td>2010-01-04</td>\n      <td>License</td>\n      <td>Fail</td>\n      <td>18. NO EVIDENCE OF RODENT OR INSECT OUTER OPEN...</td>\n      <td>2010-01-19</td>\n      <td>-15</td>\n    </tr>\n    <tr>\n      <th>452398</th>\n      <td>Grocery Store</td>\n      <td>2010-01-05</td>\n      <td>License</td>\n      <td>Fail</td>\n      <td>21. * CERTIFIED FOOD MANAGER ON SITE WHEN POTE...</td>\n      <td>2010-01-08</td>\n      <td>-3</td>\n    </tr>\n    <tr>\n      <th>281119</th>\n      <td>Grocery Store</td>\n      <td>2010-01-05</td>\n      <td>License</td>\n      <td>Fail</td>\n      <td>2. FACILITIES TO MAINTAIN PROPER TEMPERATURE -...</td>\n      <td>2010-02-17</td>\n      <td>-43</td>\n    </tr>\n    <tr>\n      <th>460847</th>\n      <td>Restaurant</td>\n      <td>2010-01-05</td>\n      <td>License</td>\n      <td>Fail</td>\n      <td>32. FOOD AND NON-FOOD CONTACT SURFACES PROPERL...</td>\n      <td>2010-01-11</td>\n      <td>-6</td>\n    </tr>\n  </tbody>\n</table>\n</div>"
     },
     "metadata": {},
     "execution_count": 11
    }
   ],
   "source": [
    "train_feat.head()"
   ]
  },
  {
   "cell_type": "code",
   "execution_count": 12,
   "metadata": {},
   "outputs": [
    {
     "output_type": "stream",
     "name": "stdout",
     "text": [
      "8.80% reinspections fail in training set\n"
     ]
    }
   ],
   "source": [
    "pct_fail = len(train_targ[train_targ['results_re'] == 1]) / len(train_targ)\n",
    "print(f'{pct_fail*100:.2f}% reinspections fail in training set')"
   ]
  },
  {
   "cell_type": "markdown",
   "metadata": {},
   "source": [
    "### Split out the text features"
   ]
  },
  {
   "cell_type": "code",
   "execution_count": 13,
   "metadata": {},
   "outputs": [],
   "source": [
    "text_col = ['violations_orig']\n",
    "train_feat_txt = train_feat[text_col].astype(str)\n",
    "test_feat_txt = test_feat[text_col].astype(str)"
   ]
  },
  {
   "cell_type": "code",
   "execution_count": 14,
   "metadata": {},
   "outputs": [
    {
     "output_type": "execute_result",
     "data": {
      "text/plain": [
       "                                          violations_orig\n",
       "217726  18. NO EVIDENCE OF RODENT OR INSECT OUTER OPEN...\n",
       "494307  18. NO EVIDENCE OF RODENT OR INSECT OUTER OPEN...\n",
       "452398  21. * CERTIFIED FOOD MANAGER ON SITE WHEN POTE...\n",
       "281119  2. FACILITIES TO MAINTAIN PROPER TEMPERATURE -...\n",
       "460847  32. FOOD AND NON-FOOD CONTACT SURFACES PROPERL..."
      ],
      "text/html": "<div>\n<style scoped>\n    .dataframe tbody tr th:only-of-type {\n        vertical-align: middle;\n    }\n\n    .dataframe tbody tr th {\n        vertical-align: top;\n    }\n\n    .dataframe thead th {\n        text-align: right;\n    }\n</style>\n<table border=\"1\" class=\"dataframe\">\n  <thead>\n    <tr style=\"text-align: right;\">\n      <th></th>\n      <th>violations_orig</th>\n    </tr>\n  </thead>\n  <tbody>\n    <tr>\n      <th>217726</th>\n      <td>18. NO EVIDENCE OF RODENT OR INSECT OUTER OPEN...</td>\n    </tr>\n    <tr>\n      <th>494307</th>\n      <td>18. NO EVIDENCE OF RODENT OR INSECT OUTER OPEN...</td>\n    </tr>\n    <tr>\n      <th>452398</th>\n      <td>21. * CERTIFIED FOOD MANAGER ON SITE WHEN POTE...</td>\n    </tr>\n    <tr>\n      <th>281119</th>\n      <td>2. FACILITIES TO MAINTAIN PROPER TEMPERATURE -...</td>\n    </tr>\n    <tr>\n      <th>460847</th>\n      <td>32. FOOD AND NON-FOOD CONTACT SURFACES PROPERL...</td>\n    </tr>\n  </tbody>\n</table>\n</div>"
     },
     "metadata": {},
     "execution_count": 14
    }
   ],
   "source": [
    "train_feat_txt.head()"
   ]
  },
  {
   "cell_type": "markdown",
   "metadata": {},
   "source": [
    "### Split the text into tokens"
   ]
  },
  {
   "cell_type": "code",
   "execution_count": 15,
   "metadata": {},
   "outputs": [],
   "source": [
    "tokenizer = get_tokenizer('basic_english')\n",
    "counter = Counter()"
   ]
  },
  {
   "cell_type": "code",
   "execution_count": 16,
   "metadata": {},
   "outputs": [],
   "source": [
    "# Create vocab using training set only!!!!\n",
    "for idx, text in train_feat_txt.itertuples():\n",
    "    counter.update(tokenizer(text))"
   ]
  },
  {
   "cell_type": "code",
   "execution_count": 17,
   "metadata": {},
   "outputs": [],
   "source": [
    "# Not sure what the min frequency should be\n",
    "# Min freq = 1 -> 50768 vocab length\n",
    "# Min freq = 50 -> 2942\n",
    "# Min freq = 100 -> 2211\n",
    "# Min freq = 250 -> 1481\n",
    "# Min freq = 500 -> 1107\n",
    "# Min freq = 1000 -> 806\n",
    "MIN_FREQ = 500\n",
    "vocab = Vocab(counter, min_freq=MIN_FREQ)"
   ]
  },
  {
   "cell_type": "code",
   "execution_count": 18,
   "metadata": {},
   "outputs": [
    {
     "output_type": "execute_result",
     "data": {
      "text/plain": [
       "1086"
      ]
     },
     "metadata": {},
     "execution_count": 18
    }
   ],
   "source": [
    "len(vocab)"
   ]
  },
  {
   "cell_type": "markdown",
   "metadata": {},
   "source": [
    "### Create BOW features"
   ]
  },
  {
   "cell_type": "code",
   "execution_count": 19,
   "metadata": {},
   "outputs": [],
   "source": [
    "def collate_into_bow(data, voc=vocab):\n",
    "    bow = torch.zeros((len(data), len(voc) + 1))\n",
    "    labels = torch.zeros((len(data), 1))\n",
    "    for i, (label, text) in enumerate(data):\n",
    "        counter = Counter()\n",
    "        counter.update(tokenizer(text))\n",
    "        line_vocab = Vocab(counter)\n",
    "        tot_freqs = sum(line_vocab.freqs.values())\n",
    "        labels[i] = label\n",
    "        for token in line_vocab.freqs:\n",
    "            bow[i, voc.stoi[token]] = line_vocab.freqs[token] / tot_freqs  # Using relative frequencies\n",
    "            bow[i, -1] = tot_freqs\n",
    "    \n",
    "    return (labels, bow)"
   ]
  },
  {
   "cell_type": "markdown",
   "metadata": {},
   "source": [
    "### __Create CBOW features__"
   ]
  },
  {
   "cell_type": "code",
   "execution_count": 20,
   "metadata": {},
   "outputs": [],
   "source": [
    "VECTORS_CACHE_DIR = './.vector_cache'\n",
    "DIM_GLOVE = 300\n",
    "\n",
    "glove = GloVe('6B',cache=VECTORS_CACHE_DIR)"
   ]
  },
  {
   "cell_type": "code",
   "execution_count": 21,
   "metadata": {},
   "outputs": [],
   "source": [
    "def collate_into_cbow(data):\n",
    "    cbow = torch.zeros((len(data), DIM_GLOVE))\n",
    "    labels = torch.zeros((len(data), 1))\n",
    "    for i, (label, text) in enumerate(data):\n",
    "        counter = Counter()\n",
    "        counter.update(tokenizer(text))\n",
    "        tokens = list(Vocab(counter).freqs)\n",
    "        vecs = glove.get_vecs_by_tokens(tokens)\n",
    "        cbow[i] = torch.mean(vecs, axis=0)\n",
    "        labels[i] = label\n",
    "    return (labels, cbow)\n"
   ]
  },
  {
   "cell_type": "markdown",
   "metadata": {},
   "source": [
    "### Create ngram features"
   ]
  },
  {
   "cell_type": "code",
   "execution_count": 22,
   "metadata": {},
   "outputs": [],
   "source": [
    "# Using CountVectorizer to get ngrams (this was the most intuitive tool I could find...)\n",
    "# https://scikit-learn.org/stable/modules/generated/sklearn.feature_extraction.text.CountVectorizer.html\n",
    "from sklearn.feature_extraction.text import CountVectorizer"
   ]
  },
  {
   "cell_type": "code",
   "execution_count": 23,
   "metadata": {},
   "outputs": [],
   "source": [
    "def divide_rows_by_row_sum(arr):\n",
    "    return np.nan_to_num(\n",
    "            np.divide(arr, arr.sum(axis=1)[:, None]),\n",
    "            nan=0  # Small number of ngram rows are all zeroes; don't divide row by 0 \n",
    "    )"
   ]
  },
  {
   "cell_type": "code",
   "execution_count": 24,
   "metadata": {},
   "outputs": [],
   "source": [
    "vectorizer = CountVectorizer(min_df=MIN_FREQ, ngram_range=(2,2))\n",
    "corpus = train_feat_txt['violations_orig'].to_list()\n",
    "vocab_ngrams = vectorizer.fit_transform(corpus)"
   ]
  },
  {
   "cell_type": "code",
   "execution_count": 25,
   "metadata": {},
   "outputs": [],
   "source": [
    "#I'm not sure how to get this to include document length, since\n",
    "#I had to alter the BOW collate function so it would work\n",
    "#with the dataloader\n",
    "\n",
    "def collate_into_ngrams(data, voc=vocab_ngrams):\n",
    "    ngrams = torch.zeros((len(data), voc.shape[1]))\n",
    "    labels = torch.zeros((len(data), 1))\n",
    "    for i, (label, text) in enumerate(data):\n",
    "        X_batch = vectorizer.transform([text])\n",
    "        ngram_arr = X_batch.toarray()\n",
    "        ngram_arr = divide_rows_by_row_sum(ngram_arr)\n",
    "        ngrams[i, :] = torch.tensor(ngram_arr)\n",
    "        labels[i] = label\n",
    "    \n",
    "    return (labels, ngrams)"
   ]
  },
  {
   "cell_type": "markdown",
   "metadata": {},
   "source": [
    "### Split train set into train and validation"
   ]
  },
  {
   "cell_type": "code",
   "execution_count": 26,
   "metadata": {},
   "outputs": [],
   "source": [
    "train_x, val_x, train_y, val_y = train_test_split(train_feat_txt, train_targ,\n",
    "                                                    test_size=0.2, shuffle=False)"
   ]
  },
  {
   "cell_type": "code",
   "execution_count": 27,
   "metadata": {},
   "outputs": [],
   "source": [
    "#Oversample on target vector\n",
    "train_targ_reset = train_y.reset_index().drop('index', axis=1)\n",
    "train_targ_fail = train_targ_reset[train_targ_reset['results_re'] == 1]\n",
    "size_diff = train_targ_reset.shape[0] - train_targ_fail.shape[0]\n",
    "train_resample = resample(train_targ_fail, n_samples = size_diff, replace=True)\n",
    "train_targ_all = pd.concat([train_targ_reset, train_resample])"
   ]
  },
  {
   "cell_type": "code",
   "execution_count": 28,
   "metadata": {},
   "outputs": [],
   "source": [
    "from torch.utils.data import Dataset, DataLoader\n",
    "\n",
    "class InspectionsDataset(Dataset):\n",
    "    def __init__(self, features_df, target_df):\n",
    "\n",
    "        self.features_text = features_df['violations_orig']\n",
    "        self.labels = target_df['results_re']\n",
    "\n",
    "    def __len__(self):\n",
    "        return len(self.features_text)\n",
    "\n",
    "    def __getitem__(self, idx):\n",
    "        text = self.features_text.iloc[idx]\n",
    "        label = self.labels.iloc[idx]\n",
    "\n",
    "        return (label, text)"
   ]
  },
  {
   "cell_type": "code",
   "execution_count": 29,
   "metadata": {},
   "outputs": [],
   "source": [
    "#then resample features\n",
    "train_x_reset = train_x.reset_index().drop('index', axis=1)\n",
    "train_x_resample = train_x_reset.iloc[train_targ_all.index]\n",
    "\n",
    "#and convert to dataset object\n",
    "inspections_train = InspectionsDataset(train_x_resample, train_targ_all)\n",
    "inspections_val = InspectionsDataset(val_x, val_y)\n",
    "inspections_test = InspectionsDataset(test_feat_txt, test_targ)\n",
    "\n",
    "#these can all now be fed into DataLoaders with the proper collate functions"
   ]
  },
  {
   "cell_type": "markdown",
   "metadata": {},
   "source": [
    "### Bag of Words"
   ]
  },
  {
   "cell_type": "code",
   "execution_count": 30,
   "metadata": {},
   "outputs": [],
   "source": [
    "BATCH_SIZE=64"
   ]
  },
  {
   "cell_type": "code",
   "execution_count": 64,
   "metadata": {},
   "outputs": [],
   "source": [
    "#create dataloaders\n",
    "train_dataloader = DataLoader(inspections_train, batch_size=BATCH_SIZE, shuffle=True, \n",
    "                                collate_fn=collate_into_bow)\n",
    "valid_dataloader = DataLoader(inspections_val, batch_size=BATCH_SIZE, shuffle=False, \n",
    "                                collate_fn=collate_into_bow)\n",
    "test_dataloader = DataLoader(inspections_test, batch_size=BATCH_SIZE, shuffle=False, \n",
    "                                collate_fn=collate_into_bow)\n"
   ]
  },
  {
   "cell_type": "code",
   "execution_count": 65,
   "metadata": {},
   "outputs": [],
   "source": [
    "from torch import nn\n",
    "import torch.nn.functional as F\n",
    "\n",
    "class BoWClassifier(nn.Module):\n",
    "\n",
    "    def __init__(self, vocab_size):\n",
    "        super(BoWClassifier, self).__init__()\n",
    "        self.linear1 = nn.Linear(vocab_size, 32)\n",
    "        self.linear2 = nn.Linear(32, 1)\n",
    "        self.hidden1 = nn.ReLU()\n",
    "        self.hidden2 = nn.Sigmoid()\n",
    "    \n",
    "    def forward(self, bow_vec):\n",
    "        x = self.hidden1(self.linear1(bow_vec))\n",
    "        x = self.hidden2(self.linear2(x))\n",
    "        return x\n",
    "        #return F.log_softmax(self.linear(bow_vec), dim=1)\n"
   ]
  },
  {
   "cell_type": "code",
   "execution_count": 42,
   "metadata": {},
   "outputs": [],
   "source": [
    "loss_function = torch.nn.BCELoss()\n",
    "\n",
    "def train_an_epoch(dataloader):\n",
    "    model.train() # Sets the module in training mode.\n",
    "    log_interval = 500\n",
    "\n",
    "    for idx, (label, text) in enumerate(dataloader):\n",
    "        model.zero_grad()\n",
    "        log_probs = model(text)\n",
    "        loss = loss_function(log_probs, label)\n",
    "        loss.backward()\n",
    "        optimizer.step()\n",
    "        if idx % log_interval == 0 and idx > 0:\n",
    "            print(f'At iteration {idx} the loss is {loss:.3f}.')"
   ]
  },
  {
   "cell_type": "code",
   "execution_count": 47,
   "metadata": {},
   "outputs": [],
   "source": [
    "def get_accuracy(dataloader):\n",
    "    model.eval()\n",
    "    correct = 0\n",
    "    total = 0\n",
    "    with torch.no_grad():\n",
    "        for idx, (label, text) in enumerate(dataloader):\n",
    "            outputs = model(text)\n",
    "            predicted = torch.round(outputs)\n",
    "            #predicted = torch.max(outputs.data, 1)[1]\n",
    "            total += label.size(0)\n",
    "            correct += (predicted == label).sum().item()\n",
    "    \n",
    "    print(\"Total: {}, correct: {}\".format(total, correct))\n",
    "    return(correct/total)"
   ]
  },
  {
   "cell_type": "code",
   "execution_count": 67,
   "metadata": {
    "tags": []
   },
   "outputs": [
    {
     "output_type": "stream",
     "name": "stdout",
     "text": [
      "At iteration 500 the loss is 48.450.\n",
      "Total: 5953, correct: 551\n",
      "\n",
      "After epoch 1 the validation accuracy is 0.093.\n",
      "\n",
      "At iteration 500 the loss is 31.273.\n",
      "Total: 5953, correct: 551\n",
      "\n",
      "After epoch 2 the validation accuracy is 0.093.\n",
      "\n",
      "At iteration 500 the loss is 48.467.\n",
      "Total: 5953, correct: 551\n",
      "\n",
      "After epoch 3 the validation accuracy is 0.093.\n",
      "\n"
     ]
    },
    {
     "output_type": "execute_result",
     "data": {
      "text/plain": [
       "[<matplotlib.lines.Line2D at 0x25ee2f766a0>]"
      ]
     },
     "metadata": {},
     "execution_count": 67
    },
    {
     "output_type": "display_data",
     "data": {
      "text/plain": "<Figure size 432x288 with 1 Axes>",
      "image/svg+xml": "<?xml version=\"1.0\" encoding=\"utf-8\" standalone=\"no\"?>\r\n<!DOCTYPE svg PUBLIC \"-//W3C//DTD SVG 1.1//EN\"\r\n  \"http://www.w3.org/Graphics/SVG/1.1/DTD/svg11.dtd\">\r\n<!-- Created with matplotlib (https://matplotlib.org/) -->\r\n<svg height=\"248.518125pt\" version=\"1.1\" viewBox=\"0 0 384.828125 248.518125\" width=\"384.828125pt\" xmlns=\"http://www.w3.org/2000/svg\" xmlns:xlink=\"http://www.w3.org/1999/xlink\">\r\n <metadata>\r\n  <rdf:RDF xmlns:cc=\"http://creativecommons.org/ns#\" xmlns:dc=\"http://purl.org/dc/elements/1.1/\" xmlns:rdf=\"http://www.w3.org/1999/02/22-rdf-syntax-ns#\">\r\n   <cc:Work>\r\n    <dc:type rdf:resource=\"http://purl.org/dc/dcmitype/StillImage\"/>\r\n    <dc:date>2021-05-11T22:38:49.632301</dc:date>\r\n    <dc:format>image/svg+xml</dc:format>\r\n    <dc:creator>\r\n     <cc:Agent>\r\n      <dc:title>Matplotlib v3.3.2, https://matplotlib.org/</dc:title>\r\n     </cc:Agent>\r\n    </dc:creator>\r\n   </cc:Work>\r\n  </rdf:RDF>\r\n </metadata>\r\n <defs>\r\n  <style type=\"text/css\">*{stroke-linecap:butt;stroke-linejoin:round;}</style>\r\n </defs>\r\n <g id=\"figure_1\">\r\n  <g id=\"patch_1\">\r\n   <path d=\"M 0 248.518125 \r\nL 384.828125 248.518125 \r\nL 384.828125 0 \r\nL 0 0 \r\nz\r\n\" style=\"fill:none;\"/>\r\n  </g>\r\n  <g id=\"axes_1\">\r\n   <g id=\"patch_2\">\r\n    <path d=\"M 42.828125 224.64 \r\nL 377.628125 224.64 \r\nL 377.628125 7.2 \r\nL 42.828125 7.2 \r\nz\r\n\" style=\"fill:#ffffff;\"/>\r\n   </g>\r\n   <g id=\"matplotlib.axis_1\">\r\n    <g id=\"xtick_1\">\r\n     <g id=\"line2d_1\">\r\n      <defs>\r\n       <path d=\"M 0 0 \r\nL 0 3.5 \r\n\" id=\"m3ff8e589f8\" style=\"stroke:#000000;stroke-width:0.8;\"/>\r\n      </defs>\r\n      <g>\r\n       <use style=\"stroke:#000000;stroke-width:0.8;\" x=\"58.046307\" xlink:href=\"#m3ff8e589f8\" y=\"224.64\"/>\r\n      </g>\r\n     </g>\r\n     <g id=\"text_1\">\r\n      <!-- 1.00 -->\r\n      <g transform=\"translate(46.913494 239.238438)scale(0.1 -0.1)\">\r\n       <defs>\r\n        <path d=\"M 12.40625 8.296875 \r\nL 28.515625 8.296875 \r\nL 28.515625 63.921875 \r\nL 10.984375 60.40625 \r\nL 10.984375 69.390625 \r\nL 28.421875 72.90625 \r\nL 38.28125 72.90625 \r\nL 38.28125 8.296875 \r\nL 54.390625 8.296875 \r\nL 54.390625 0 \r\nL 12.40625 0 \r\nz\r\n\" id=\"DejaVuSans-49\"/>\r\n        <path d=\"M 10.6875 12.40625 \r\nL 21 12.40625 \r\nL 21 0 \r\nL 10.6875 0 \r\nz\r\n\" id=\"DejaVuSans-46\"/>\r\n        <path d=\"M 31.78125 66.40625 \r\nQ 24.171875 66.40625 20.328125 58.90625 \r\nQ 16.5 51.421875 16.5 36.375 \r\nQ 16.5 21.390625 20.328125 13.890625 \r\nQ 24.171875 6.390625 31.78125 6.390625 \r\nQ 39.453125 6.390625 43.28125 13.890625 \r\nQ 47.125 21.390625 47.125 36.375 \r\nQ 47.125 51.421875 43.28125 58.90625 \r\nQ 39.453125 66.40625 31.78125 66.40625 \r\nz\r\nM 31.78125 74.21875 \r\nQ 44.046875 74.21875 50.515625 64.515625 \r\nQ 56.984375 54.828125 56.984375 36.375 \r\nQ 56.984375 17.96875 50.515625 8.265625 \r\nQ 44.046875 -1.421875 31.78125 -1.421875 \r\nQ 19.53125 -1.421875 13.0625 8.265625 \r\nQ 6.59375 17.96875 6.59375 36.375 \r\nQ 6.59375 54.828125 13.0625 64.515625 \r\nQ 19.53125 74.21875 31.78125 74.21875 \r\nz\r\n\" id=\"DejaVuSans-48\"/>\r\n       </defs>\r\n       <use xlink:href=\"#DejaVuSans-49\"/>\r\n       <use x=\"63.623047\" xlink:href=\"#DejaVuSans-46\"/>\r\n       <use x=\"95.410156\" xlink:href=\"#DejaVuSans-48\"/>\r\n       <use x=\"159.033203\" xlink:href=\"#DejaVuSans-48\"/>\r\n      </g>\r\n     </g>\r\n    </g>\r\n    <g id=\"xtick_2\">\r\n     <g id=\"line2d_2\">\r\n      <g>\r\n       <use style=\"stroke:#000000;stroke-width:0.8;\" x=\"96.091761\" xlink:href=\"#m3ff8e589f8\" y=\"224.64\"/>\r\n      </g>\r\n     </g>\r\n     <g id=\"text_2\">\r\n      <!-- 1.25 -->\r\n      <g transform=\"translate(84.958949 239.238438)scale(0.1 -0.1)\">\r\n       <defs>\r\n        <path d=\"M 19.1875 8.296875 \r\nL 53.609375 8.296875 \r\nL 53.609375 0 \r\nL 7.328125 0 \r\nL 7.328125 8.296875 \r\nQ 12.9375 14.109375 22.625 23.890625 \r\nQ 32.328125 33.6875 34.8125 36.53125 \r\nQ 39.546875 41.84375 41.421875 45.53125 \r\nQ 43.3125 49.21875 43.3125 52.78125 \r\nQ 43.3125 58.59375 39.234375 62.25 \r\nQ 35.15625 65.921875 28.609375 65.921875 \r\nQ 23.96875 65.921875 18.8125 64.3125 \r\nQ 13.671875 62.703125 7.8125 59.421875 \r\nL 7.8125 69.390625 \r\nQ 13.765625 71.78125 18.9375 73 \r\nQ 24.125 74.21875 28.421875 74.21875 \r\nQ 39.75 74.21875 46.484375 68.546875 \r\nQ 53.21875 62.890625 53.21875 53.421875 \r\nQ 53.21875 48.921875 51.53125 44.890625 \r\nQ 49.859375 40.875 45.40625 35.40625 \r\nQ 44.1875 33.984375 37.640625 27.21875 \r\nQ 31.109375 20.453125 19.1875 8.296875 \r\nz\r\n\" id=\"DejaVuSans-50\"/>\r\n        <path d=\"M 10.796875 72.90625 \r\nL 49.515625 72.90625 \r\nL 49.515625 64.59375 \r\nL 19.828125 64.59375 \r\nL 19.828125 46.734375 \r\nQ 21.96875 47.46875 24.109375 47.828125 \r\nQ 26.265625 48.1875 28.421875 48.1875 \r\nQ 40.625 48.1875 47.75 41.5 \r\nQ 54.890625 34.8125 54.890625 23.390625 \r\nQ 54.890625 11.625 47.5625 5.09375 \r\nQ 40.234375 -1.421875 26.90625 -1.421875 \r\nQ 22.3125 -1.421875 17.546875 -0.640625 \r\nQ 12.796875 0.140625 7.71875 1.703125 \r\nL 7.71875 11.625 \r\nQ 12.109375 9.234375 16.796875 8.0625 \r\nQ 21.484375 6.890625 26.703125 6.890625 \r\nQ 35.15625 6.890625 40.078125 11.328125 \r\nQ 45.015625 15.765625 45.015625 23.390625 \r\nQ 45.015625 31 40.078125 35.4375 \r\nQ 35.15625 39.890625 26.703125 39.890625 \r\nQ 22.75 39.890625 18.8125 39.015625 \r\nQ 14.890625 38.140625 10.796875 36.28125 \r\nz\r\n\" id=\"DejaVuSans-53\"/>\r\n       </defs>\r\n       <use xlink:href=\"#DejaVuSans-49\"/>\r\n       <use x=\"63.623047\" xlink:href=\"#DejaVuSans-46\"/>\r\n       <use x=\"95.410156\" xlink:href=\"#DejaVuSans-50\"/>\r\n       <use x=\"159.033203\" xlink:href=\"#DejaVuSans-53\"/>\r\n      </g>\r\n     </g>\r\n    </g>\r\n    <g id=\"xtick_3\">\r\n     <g id=\"line2d_3\">\r\n      <g>\r\n       <use style=\"stroke:#000000;stroke-width:0.8;\" x=\"134.137216\" xlink:href=\"#m3ff8e589f8\" y=\"224.64\"/>\r\n      </g>\r\n     </g>\r\n     <g id=\"text_3\">\r\n      <!-- 1.50 -->\r\n      <g transform=\"translate(123.004403 239.238438)scale(0.1 -0.1)\">\r\n       <use xlink:href=\"#DejaVuSans-49\"/>\r\n       <use x=\"63.623047\" xlink:href=\"#DejaVuSans-46\"/>\r\n       <use x=\"95.410156\" xlink:href=\"#DejaVuSans-53\"/>\r\n       <use x=\"159.033203\" xlink:href=\"#DejaVuSans-48\"/>\r\n      </g>\r\n     </g>\r\n    </g>\r\n    <g id=\"xtick_4\">\r\n     <g id=\"line2d_4\">\r\n      <g>\r\n       <use style=\"stroke:#000000;stroke-width:0.8;\" x=\"172.18267\" xlink:href=\"#m3ff8e589f8\" y=\"224.64\"/>\r\n      </g>\r\n     </g>\r\n     <g id=\"text_4\">\r\n      <!-- 1.75 -->\r\n      <g transform=\"translate(161.049858 239.238438)scale(0.1 -0.1)\">\r\n       <defs>\r\n        <path d=\"M 8.203125 72.90625 \r\nL 55.078125 72.90625 \r\nL 55.078125 68.703125 \r\nL 28.609375 0 \r\nL 18.3125 0 \r\nL 43.21875 64.59375 \r\nL 8.203125 64.59375 \r\nz\r\n\" id=\"DejaVuSans-55\"/>\r\n       </defs>\r\n       <use xlink:href=\"#DejaVuSans-49\"/>\r\n       <use x=\"63.623047\" xlink:href=\"#DejaVuSans-46\"/>\r\n       <use x=\"95.410156\" xlink:href=\"#DejaVuSans-55\"/>\r\n       <use x=\"159.033203\" xlink:href=\"#DejaVuSans-53\"/>\r\n      </g>\r\n     </g>\r\n    </g>\r\n    <g id=\"xtick_5\">\r\n     <g id=\"line2d_5\">\r\n      <g>\r\n       <use style=\"stroke:#000000;stroke-width:0.8;\" x=\"210.228125\" xlink:href=\"#m3ff8e589f8\" y=\"224.64\"/>\r\n      </g>\r\n     </g>\r\n     <g id=\"text_5\">\r\n      <!-- 2.00 -->\r\n      <g transform=\"translate(199.095313 239.238438)scale(0.1 -0.1)\">\r\n       <use xlink:href=\"#DejaVuSans-50\"/>\r\n       <use x=\"63.623047\" xlink:href=\"#DejaVuSans-46\"/>\r\n       <use x=\"95.410156\" xlink:href=\"#DejaVuSans-48\"/>\r\n       <use x=\"159.033203\" xlink:href=\"#DejaVuSans-48\"/>\r\n      </g>\r\n     </g>\r\n    </g>\r\n    <g id=\"xtick_6\">\r\n     <g id=\"line2d_6\">\r\n      <g>\r\n       <use style=\"stroke:#000000;stroke-width:0.8;\" x=\"248.27358\" xlink:href=\"#m3ff8e589f8\" y=\"224.64\"/>\r\n      </g>\r\n     </g>\r\n     <g id=\"text_6\">\r\n      <!-- 2.25 -->\r\n      <g transform=\"translate(237.140767 239.238438)scale(0.1 -0.1)\">\r\n       <use xlink:href=\"#DejaVuSans-50\"/>\r\n       <use x=\"63.623047\" xlink:href=\"#DejaVuSans-46\"/>\r\n       <use x=\"95.410156\" xlink:href=\"#DejaVuSans-50\"/>\r\n       <use x=\"159.033203\" xlink:href=\"#DejaVuSans-53\"/>\r\n      </g>\r\n     </g>\r\n    </g>\r\n    <g id=\"xtick_7\">\r\n     <g id=\"line2d_7\">\r\n      <g>\r\n       <use style=\"stroke:#000000;stroke-width:0.8;\" x=\"286.319034\" xlink:href=\"#m3ff8e589f8\" y=\"224.64\"/>\r\n      </g>\r\n     </g>\r\n     <g id=\"text_7\">\r\n      <!-- 2.50 -->\r\n      <g transform=\"translate(275.186222 239.238438)scale(0.1 -0.1)\">\r\n       <use xlink:href=\"#DejaVuSans-50\"/>\r\n       <use x=\"63.623047\" xlink:href=\"#DejaVuSans-46\"/>\r\n       <use x=\"95.410156\" xlink:href=\"#DejaVuSans-53\"/>\r\n       <use x=\"159.033203\" xlink:href=\"#DejaVuSans-48\"/>\r\n      </g>\r\n     </g>\r\n    </g>\r\n    <g id=\"xtick_8\">\r\n     <g id=\"line2d_8\">\r\n      <g>\r\n       <use style=\"stroke:#000000;stroke-width:0.8;\" x=\"324.364489\" xlink:href=\"#m3ff8e589f8\" y=\"224.64\"/>\r\n      </g>\r\n     </g>\r\n     <g id=\"text_8\">\r\n      <!-- 2.75 -->\r\n      <g transform=\"translate(313.231676 239.238438)scale(0.1 -0.1)\">\r\n       <use xlink:href=\"#DejaVuSans-50\"/>\r\n       <use x=\"63.623047\" xlink:href=\"#DejaVuSans-46\"/>\r\n       <use x=\"95.410156\" xlink:href=\"#DejaVuSans-55\"/>\r\n       <use x=\"159.033203\" xlink:href=\"#DejaVuSans-53\"/>\r\n      </g>\r\n     </g>\r\n    </g>\r\n    <g id=\"xtick_9\">\r\n     <g id=\"line2d_9\">\r\n      <g>\r\n       <use style=\"stroke:#000000;stroke-width:0.8;\" x=\"362.409943\" xlink:href=\"#m3ff8e589f8\" y=\"224.64\"/>\r\n      </g>\r\n     </g>\r\n     <g id=\"text_9\">\r\n      <!-- 3.00 -->\r\n      <g transform=\"translate(351.277131 239.238438)scale(0.1 -0.1)\">\r\n       <defs>\r\n        <path d=\"M 40.578125 39.3125 \r\nQ 47.65625 37.796875 51.625 33 \r\nQ 55.609375 28.21875 55.609375 21.1875 \r\nQ 55.609375 10.40625 48.1875 4.484375 \r\nQ 40.765625 -1.421875 27.09375 -1.421875 \r\nQ 22.515625 -1.421875 17.65625 -0.515625 \r\nQ 12.796875 0.390625 7.625 2.203125 \r\nL 7.625 11.71875 \r\nQ 11.71875 9.328125 16.59375 8.109375 \r\nQ 21.484375 6.890625 26.8125 6.890625 \r\nQ 36.078125 6.890625 40.9375 10.546875 \r\nQ 45.796875 14.203125 45.796875 21.1875 \r\nQ 45.796875 27.640625 41.28125 31.265625 \r\nQ 36.765625 34.90625 28.71875 34.90625 \r\nL 20.21875 34.90625 \r\nL 20.21875 43.015625 \r\nL 29.109375 43.015625 \r\nQ 36.375 43.015625 40.234375 45.921875 \r\nQ 44.09375 48.828125 44.09375 54.296875 \r\nQ 44.09375 59.90625 40.109375 62.90625 \r\nQ 36.140625 65.921875 28.71875 65.921875 \r\nQ 24.65625 65.921875 20.015625 65.03125 \r\nQ 15.375 64.15625 9.8125 62.3125 \r\nL 9.8125 71.09375 \r\nQ 15.4375 72.65625 20.34375 73.4375 \r\nQ 25.25 74.21875 29.59375 74.21875 \r\nQ 40.828125 74.21875 47.359375 69.109375 \r\nQ 53.90625 64.015625 53.90625 55.328125 \r\nQ 53.90625 49.265625 50.4375 45.09375 \r\nQ 46.96875 40.921875 40.578125 39.3125 \r\nz\r\n\" id=\"DejaVuSans-51\"/>\r\n       </defs>\r\n       <use xlink:href=\"#DejaVuSans-51\"/>\r\n       <use x=\"63.623047\" xlink:href=\"#DejaVuSans-46\"/>\r\n       <use x=\"95.410156\" xlink:href=\"#DejaVuSans-48\"/>\r\n       <use x=\"159.033203\" xlink:href=\"#DejaVuSans-48\"/>\r\n      </g>\r\n     </g>\r\n    </g>\r\n   </g>\r\n   <g id=\"matplotlib.axis_2\">\r\n    <g id=\"ytick_1\">\r\n     <g id=\"line2d_10\">\r\n      <defs>\r\n       <path d=\"M 0 0 \r\nL -3.5 0 \r\n\" id=\"mc5fbaddaf1\" style=\"stroke:#000000;stroke-width:0.8;\"/>\r\n      </defs>\r\n      <g>\r\n       <use style=\"stroke:#000000;stroke-width:0.8;\" x=\"42.828125\" xlink:href=\"#mc5fbaddaf1\" y=\"213.271128\"/>\r\n      </g>\r\n     </g>\r\n     <g id=\"text_10\">\r\n      <!-- 0.088 -->\r\n      <g transform=\"translate(7.2 217.070346)scale(0.1 -0.1)\">\r\n       <defs>\r\n        <path d=\"M 31.78125 34.625 \r\nQ 24.75 34.625 20.71875 30.859375 \r\nQ 16.703125 27.09375 16.703125 20.515625 \r\nQ 16.703125 13.921875 20.71875 10.15625 \r\nQ 24.75 6.390625 31.78125 6.390625 \r\nQ 38.8125 6.390625 42.859375 10.171875 \r\nQ 46.921875 13.96875 46.921875 20.515625 \r\nQ 46.921875 27.09375 42.890625 30.859375 \r\nQ 38.875 34.625 31.78125 34.625 \r\nz\r\nM 21.921875 38.8125 \r\nQ 15.578125 40.375 12.03125 44.71875 \r\nQ 8.5 49.078125 8.5 55.328125 \r\nQ 8.5 64.0625 14.71875 69.140625 \r\nQ 20.953125 74.21875 31.78125 74.21875 \r\nQ 42.671875 74.21875 48.875 69.140625 \r\nQ 55.078125 64.0625 55.078125 55.328125 \r\nQ 55.078125 49.078125 51.53125 44.71875 \r\nQ 48 40.375 41.703125 38.8125 \r\nQ 48.828125 37.15625 52.796875 32.3125 \r\nQ 56.78125 27.484375 56.78125 20.515625 \r\nQ 56.78125 9.90625 50.3125 4.234375 \r\nQ 43.84375 -1.421875 31.78125 -1.421875 \r\nQ 19.734375 -1.421875 13.25 4.234375 \r\nQ 6.78125 9.90625 6.78125 20.515625 \r\nQ 6.78125 27.484375 10.78125 32.3125 \r\nQ 14.796875 37.15625 21.921875 38.8125 \r\nz\r\nM 18.3125 54.390625 \r\nQ 18.3125 48.734375 21.84375 45.5625 \r\nQ 25.390625 42.390625 31.78125 42.390625 \r\nQ 38.140625 42.390625 41.71875 45.5625 \r\nQ 45.3125 48.734375 45.3125 54.390625 \r\nQ 45.3125 60.0625 41.71875 63.234375 \r\nQ 38.140625 66.40625 31.78125 66.40625 \r\nQ 25.390625 66.40625 21.84375 63.234375 \r\nQ 18.3125 60.0625 18.3125 54.390625 \r\nz\r\n\" id=\"DejaVuSans-56\"/>\r\n       </defs>\r\n       <use xlink:href=\"#DejaVuSans-48\"/>\r\n       <use x=\"63.623047\" xlink:href=\"#DejaVuSans-46\"/>\r\n       <use x=\"95.410156\" xlink:href=\"#DejaVuSans-48\"/>\r\n       <use x=\"159.033203\" xlink:href=\"#DejaVuSans-56\"/>\r\n       <use x=\"222.65625\" xlink:href=\"#DejaVuSans-56\"/>\r\n      </g>\r\n     </g>\r\n    </g>\r\n    <g id=\"ytick_2\">\r\n     <g id=\"line2d_11\">\r\n      <g>\r\n       <use style=\"stroke:#000000;stroke-width:0.8;\" x=\"42.828125\" xlink:href=\"#mc5fbaddaf1\" y=\"170.558033\"/>\r\n      </g>\r\n     </g>\r\n     <g id=\"text_11\">\r\n      <!-- 0.090 -->\r\n      <g transform=\"translate(7.2 174.357252)scale(0.1 -0.1)\">\r\n       <defs>\r\n        <path d=\"M 10.984375 1.515625 \r\nL 10.984375 10.5 \r\nQ 14.703125 8.734375 18.5 7.8125 \r\nQ 22.3125 6.890625 25.984375 6.890625 \r\nQ 35.75 6.890625 40.890625 13.453125 \r\nQ 46.046875 20.015625 46.78125 33.40625 \r\nQ 43.953125 29.203125 39.59375 26.953125 \r\nQ 35.25 24.703125 29.984375 24.703125 \r\nQ 19.046875 24.703125 12.671875 31.3125 \r\nQ 6.296875 37.9375 6.296875 49.421875 \r\nQ 6.296875 60.640625 12.9375 67.421875 \r\nQ 19.578125 74.21875 30.609375 74.21875 \r\nQ 43.265625 74.21875 49.921875 64.515625 \r\nQ 56.59375 54.828125 56.59375 36.375 \r\nQ 56.59375 19.140625 48.40625 8.859375 \r\nQ 40.234375 -1.421875 26.421875 -1.421875 \r\nQ 22.703125 -1.421875 18.890625 -0.6875 \r\nQ 15.09375 0.046875 10.984375 1.515625 \r\nz\r\nM 30.609375 32.421875 \r\nQ 37.25 32.421875 41.125 36.953125 \r\nQ 45.015625 41.5 45.015625 49.421875 \r\nQ 45.015625 57.28125 41.125 61.84375 \r\nQ 37.25 66.40625 30.609375 66.40625 \r\nQ 23.96875 66.40625 20.09375 61.84375 \r\nQ 16.21875 57.28125 16.21875 49.421875 \r\nQ 16.21875 41.5 20.09375 36.953125 \r\nQ 23.96875 32.421875 30.609375 32.421875 \r\nz\r\n\" id=\"DejaVuSans-57\"/>\r\n       </defs>\r\n       <use xlink:href=\"#DejaVuSans-48\"/>\r\n       <use x=\"63.623047\" xlink:href=\"#DejaVuSans-46\"/>\r\n       <use x=\"95.410156\" xlink:href=\"#DejaVuSans-48\"/>\r\n       <use x=\"159.033203\" xlink:href=\"#DejaVuSans-57\"/>\r\n       <use x=\"222.65625\" xlink:href=\"#DejaVuSans-48\"/>\r\n      </g>\r\n     </g>\r\n    </g>\r\n    <g id=\"ytick_3\">\r\n     <g id=\"line2d_12\">\r\n      <g>\r\n       <use style=\"stroke:#000000;stroke-width:0.8;\" x=\"42.828125\" xlink:href=\"#mc5fbaddaf1\" y=\"127.844939\"/>\r\n      </g>\r\n     </g>\r\n     <g id=\"text_12\">\r\n      <!-- 0.092 -->\r\n      <g transform=\"translate(7.2 131.644158)scale(0.1 -0.1)\">\r\n       <use xlink:href=\"#DejaVuSans-48\"/>\r\n       <use x=\"63.623047\" xlink:href=\"#DejaVuSans-46\"/>\r\n       <use x=\"95.410156\" xlink:href=\"#DejaVuSans-48\"/>\r\n       <use x=\"159.033203\" xlink:href=\"#DejaVuSans-57\"/>\r\n       <use x=\"222.65625\" xlink:href=\"#DejaVuSans-50\"/>\r\n      </g>\r\n     </g>\r\n    </g>\r\n    <g id=\"ytick_4\">\r\n     <g id=\"line2d_13\">\r\n      <g>\r\n       <use style=\"stroke:#000000;stroke-width:0.8;\" x=\"42.828125\" xlink:href=\"#mc5fbaddaf1\" y=\"85.131845\"/>\r\n      </g>\r\n     </g>\r\n     <g id=\"text_13\">\r\n      <!-- 0.094 -->\r\n      <g transform=\"translate(7.2 88.931064)scale(0.1 -0.1)\">\r\n       <defs>\r\n        <path d=\"M 37.796875 64.3125 \r\nL 12.890625 25.390625 \r\nL 37.796875 25.390625 \r\nz\r\nM 35.203125 72.90625 \r\nL 47.609375 72.90625 \r\nL 47.609375 25.390625 \r\nL 58.015625 25.390625 \r\nL 58.015625 17.1875 \r\nL 47.609375 17.1875 \r\nL 47.609375 0 \r\nL 37.796875 0 \r\nL 37.796875 17.1875 \r\nL 4.890625 17.1875 \r\nL 4.890625 26.703125 \r\nz\r\n\" id=\"DejaVuSans-52\"/>\r\n       </defs>\r\n       <use xlink:href=\"#DejaVuSans-48\"/>\r\n       <use x=\"63.623047\" xlink:href=\"#DejaVuSans-46\"/>\r\n       <use x=\"95.410156\" xlink:href=\"#DejaVuSans-48\"/>\r\n       <use x=\"159.033203\" xlink:href=\"#DejaVuSans-57\"/>\r\n       <use x=\"222.65625\" xlink:href=\"#DejaVuSans-52\"/>\r\n      </g>\r\n     </g>\r\n    </g>\r\n    <g id=\"ytick_5\">\r\n     <g id=\"line2d_14\">\r\n      <g>\r\n       <use style=\"stroke:#000000;stroke-width:0.8;\" x=\"42.828125\" xlink:href=\"#mc5fbaddaf1\" y=\"42.418751\"/>\r\n      </g>\r\n     </g>\r\n     <g id=\"text_14\">\r\n      <!-- 0.096 -->\r\n      <g transform=\"translate(7.2 46.217969)scale(0.1 -0.1)\">\r\n       <defs>\r\n        <path d=\"M 33.015625 40.375 \r\nQ 26.375 40.375 22.484375 35.828125 \r\nQ 18.609375 31.296875 18.609375 23.390625 \r\nQ 18.609375 15.53125 22.484375 10.953125 \r\nQ 26.375 6.390625 33.015625 6.390625 \r\nQ 39.65625 6.390625 43.53125 10.953125 \r\nQ 47.40625 15.53125 47.40625 23.390625 \r\nQ 47.40625 31.296875 43.53125 35.828125 \r\nQ 39.65625 40.375 33.015625 40.375 \r\nz\r\nM 52.59375 71.296875 \r\nL 52.59375 62.3125 \r\nQ 48.875 64.0625 45.09375 64.984375 \r\nQ 41.3125 65.921875 37.59375 65.921875 \r\nQ 27.828125 65.921875 22.671875 59.328125 \r\nQ 17.53125 52.734375 16.796875 39.40625 \r\nQ 19.671875 43.65625 24.015625 45.921875 \r\nQ 28.375 48.1875 33.59375 48.1875 \r\nQ 44.578125 48.1875 50.953125 41.515625 \r\nQ 57.328125 34.859375 57.328125 23.390625 \r\nQ 57.328125 12.15625 50.6875 5.359375 \r\nQ 44.046875 -1.421875 33.015625 -1.421875 \r\nQ 20.359375 -1.421875 13.671875 8.265625 \r\nQ 6.984375 17.96875 6.984375 36.375 \r\nQ 6.984375 53.65625 15.1875 63.9375 \r\nQ 23.390625 74.21875 37.203125 74.21875 \r\nQ 40.921875 74.21875 44.703125 73.484375 \r\nQ 48.484375 72.75 52.59375 71.296875 \r\nz\r\n\" id=\"DejaVuSans-54\"/>\r\n       </defs>\r\n       <use xlink:href=\"#DejaVuSans-48\"/>\r\n       <use x=\"63.623047\" xlink:href=\"#DejaVuSans-46\"/>\r\n       <use x=\"95.410156\" xlink:href=\"#DejaVuSans-48\"/>\r\n       <use x=\"159.033203\" xlink:href=\"#DejaVuSans-57\"/>\r\n       <use x=\"222.65625\" xlink:href=\"#DejaVuSans-54\"/>\r\n      </g>\r\n     </g>\r\n    </g>\r\n   </g>\r\n   <g id=\"line2d_15\">\r\n    <path clip-path=\"url(#p7fbb0fdd04)\" d=\"M 58.046307 115.92 \r\nL 210.228125 115.92 \r\nL 362.409943 115.92 \r\n\" style=\"fill:none;stroke:#1f77b4;stroke-linecap:square;stroke-width:1.5;\"/>\r\n   </g>\r\n   <g id=\"patch_3\">\r\n    <path d=\"M 42.828125 224.64 \r\nL 42.828125 7.2 \r\n\" style=\"fill:none;stroke:#000000;stroke-linecap:square;stroke-linejoin:miter;stroke-width:0.8;\"/>\r\n   </g>\r\n   <g id=\"patch_4\">\r\n    <path d=\"M 377.628125 224.64 \r\nL 377.628125 7.2 \r\n\" style=\"fill:none;stroke:#000000;stroke-linecap:square;stroke-linejoin:miter;stroke-width:0.8;\"/>\r\n   </g>\r\n   <g id=\"patch_5\">\r\n    <path d=\"M 42.828125 224.64 \r\nL 377.628125 224.64 \r\n\" style=\"fill:none;stroke:#000000;stroke-linecap:square;stroke-linejoin:miter;stroke-width:0.8;\"/>\r\n   </g>\r\n   <g id=\"patch_6\">\r\n    <path d=\"M 42.828125 7.2 \r\nL 377.628125 7.2 \r\n\" style=\"fill:none;stroke:#000000;stroke-linecap:square;stroke-linejoin:miter;stroke-width:0.8;\"/>\r\n   </g>\r\n  </g>\r\n </g>\r\n <defs>\r\n  <clipPath id=\"p7fbb0fdd04\">\r\n   <rect height=\"217.44\" width=\"334.8\" x=\"42.828125\" y=\"7.2\"/>\r\n  </clipPath>\r\n </defs>\r\n</svg>\r\n",
      "image/png": "[encoded data removed]"
     },
     "metadata": {
      "needs_background": "light"
     }
    }
   ],
   "source": [
    "import matplotlib.pyplot as plt\n",
    "%matplotlib inline\n",
    "import time\n",
    "\n",
    "num_labels = 2\n",
    "vocab_size = len(vocab) + 1\n",
    "model = BoWClassifier(vocab_size)\n",
    "EPOCHS = 3 # epoch\n",
    "optimizer = torch.optim.Adam(model.parameters(), lr=0.1)\n",
    "\n",
    "#reset/clear out model just in case\n",
    "for layer in model.children():\n",
    "    if hasattr(layer, 'reset_parameters'):\n",
    "        layer.reset_parameters()\n",
    "\n",
    "\n",
    "accuracies=[]\n",
    "for epoch in range(1, EPOCHS + 1):\n",
    "    epoch_start_time = time.time()\n",
    "    train_an_epoch(train_dataloader)\n",
    "    accuracy = get_accuracy(valid_dataloader)\n",
    "    accuracies.append(accuracy)\n",
    "    print()\n",
    "    print(f'After epoch {epoch} the validation accuracy is {accuracy:.3f}.')\n",
    "    print()\n",
    "    \n",
    "plt.plot(range(1, EPOCHS+1), accuracies)"
   ]
  },
  {
   "source": [
    "### Continuous Bag of Words"
   ],
   "cell_type": "markdown",
   "metadata": {}
  },
  {
   "cell_type": "code",
   "execution_count": 142,
   "metadata": {},
   "outputs": [],
   "source": [
    "#create dataloaders\n",
    "train_dataloader = DataLoader(inspections_train, batch_size=BATCH_SIZE, shuffle=True, \n",
    "                                collate_fn=collate_into_cbow)\n",
    "val_dataloader = DataLoader(inspections_val, batch_size=BATCH_SIZE, shuffle=False, \n",
    "                                collate_fn=collate_into_cbow)\n",
    "test_dataloader = DataLoader(inspections_test, batch_size=BATCH_SIZE, shuffle=False, \n",
    "                                collate_fn=collate_into_cbow)"
   ]
  },
  {
   "source": [
    "### Ngrams"
   ],
   "cell_type": "markdown",
   "metadata": {}
  },
  {
   "cell_type": "code",
   "execution_count": 143,
   "metadata": {},
   "outputs": [],
   "source": [
    "#create dataloaders\n",
    "train_dataloader = DataLoader(inspections_train, batch_size=BATCH_SIZE, shuffle=True, \n",
    "                                collate_fn=collate_into_ngrams)\n",
    "val_dataloader = DataLoader(inspections_val, batch_size=BATCH_SIZE, shuffle=False, \n",
    "                                collate_fn=collate_into_ngrams)\n",
    "test_dataloader = DataLoader(inspections_test, batch_size=BATCH_SIZE, shuffle=False, \n",
    "                                collate_fn=collate_into_ngrams)"
   ]
  },
  {
   "cell_type": "code",
   "execution_count": null,
   "metadata": {},
   "outputs": [],
   "source": []
  }
 ],
 "metadata": {
  "kernelspec": {
   "name": "python385jvsc74a57bd0ba539312d09a2ffa8c7e90eb1ed4fb57b0b5103be99f6c8fe3af2b5222ff8312",
   "display_name": "Python 3.8.5 64-bit ('base': conda)"
  },
  "language_info": {
   "codemirror_mode": {
    "name": "ipython",
    "version": 3
   },
   "file_extension": ".py",
   "mimetype": "text/x-python",
   "name": "python",
   "nbconvert_exporter": "python",
   "pygments_lexer": "ipython3",
   "version": "3.8.5"
  }
 },
 "nbformat": 4,
 "nbformat_minor": 4
}