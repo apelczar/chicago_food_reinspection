{
 "cells": [
  {
   "cell_type": "code",
   "execution_count": 1,
   "metadata": {},
   "outputs": [],
   "source": [
    "import pandas as pd\n",
    "import numpy as np\n",
    "\n",
    "import torch\n",
    "from torchtext.data.utils import get_tokenizer\n",
    "from torchtext.vocab import Vocab\n",
    "from torchtext.vocab import GloVe\n",
    "\n",
    "from collections import Counter\n",
    "\n",
    "from sklearn.naive_bayes import MultinomialNB, GaussianNB\n",
    "from sklearn.linear_model import LogisticRegression\n",
    "from sklearn.model_selection import train_test_split\n",
    "from sklearn.metrics import accuracy_score, precision_score, recall_score, f1_score, roc_auc_score\n",
    "from sklearn.utils import resample"
   ]
  },
  {
   "cell_type": "code",
   "execution_count": 2,
   "metadata": {},
   "outputs": [],
   "source": [
    "df = pd.read_pickle('initial_clean.pkl')"
   ]
  },
  {
   "cell_type": "code",
   "execution_count": 3,
   "metadata": {},
   "outputs": [
    {
     "output_type": "execute_result",
     "data": {
      "text/plain": [
       "    id_orig                       name  license facility_type  date_orig  \\\n",
       "16   577275                    ROYALTY  1306130    Restaurant 2011-04-18   \n",
       "38  1345428              PRET A MANGER  2138418    Restaurant 2013-08-06   \n",
       "43  1114379              PRET A MANGER  2138418    Restaurant 2012-07-23   \n",
       "65   343293     CHIPOTLE MEXICAN GRILL  1379435    Restaurant 2010-08-17   \n",
       "72  2484973  HILLTOP FAMILY RESTAURANT  2652370    Restaurant 2021-02-19   \n",
       "\n",
       "     inspection_type_orig results_orig  \\\n",
       "16                Canvass         Fail   \n",
       "38                Canvass         Fail   \n",
       "43              Complaint         Fail   \n",
       "65                Canvass         Fail   \n",
       "72  Canvass Re-Inspection         Fail   \n",
       "\n",
       "                                      violations_orig    id_re    date_re  \\\n",
       "16  18. NO EVIDENCE OF RODENT OR INSECT OUTER OPEN...   577343 2011-05-24   \n",
       "38  18. NO EVIDENCE OF RODENT OR INSECT OUTER OPEN...  1345448 2013-08-13   \n",
       "43  18. NO EVIDENCE OF RODENT OR INSECT OUTER OPEN...  1114384 2012-07-31   \n",
       "65  18. NO EVIDENCE OF RODENT OR INSECT OUTER OPEN...   343310 2010-08-26   \n",
       "72  44. UTENSILS, EQUIPMENT & LINENS: PROPERLY STO...  2485081 2021-02-23   \n",
       "\n",
       "            results_re  time_between  \n",
       "16                Pass           -36  \n",
       "38                Pass            -7  \n",
       "43                Pass            -8  \n",
       "65                Pass            -9  \n",
       "72  Pass w/ Conditions            -4  "
      ],
      "text/html": "<div>\n<style scoped>\n    .dataframe tbody tr th:only-of-type {\n        vertical-align: middle;\n    }\n\n    .dataframe tbody tr th {\n        vertical-align: top;\n    }\n\n    .dataframe thead th {\n        text-align: right;\n    }\n</style>\n<table border=\"1\" class=\"dataframe\">\n  <thead>\n    <tr style=\"text-align: right;\">\n      <th></th>\n      <th>id_orig</th>\n      <th>name</th>\n      <th>license</th>\n      <th>facility_type</th>\n      <th>date_orig</th>\n      <th>inspection_type_orig</th>\n      <th>results_orig</th>\n      <th>violations_orig</th>\n      <th>id_re</th>\n      <th>date_re</th>\n      <th>results_re</th>\n      <th>time_between</th>\n    </tr>\n  </thead>\n  <tbody>\n    <tr>\n      <th>16</th>\n      <td>577275</td>\n      <td>ROYALTY</td>\n      <td>1306130</td>\n      <td>Restaurant</td>\n      <td>2011-04-18</td>\n      <td>Canvass</td>\n      <td>Fail</td>\n      <td>18. NO EVIDENCE OF RODENT OR INSECT OUTER OPEN...</td>\n      <td>577343</td>\n      <td>2011-05-24</td>\n      <td>Pass</td>\n      <td>-36</td>\n    </tr>\n    <tr>\n      <th>38</th>\n      <td>1345428</td>\n      <td>PRET A MANGER</td>\n      <td>2138418</td>\n      <td>Restaurant</td>\n      <td>2013-08-06</td>\n      <td>Canvass</td>\n      <td>Fail</td>\n      <td>18. NO EVIDENCE OF RODENT OR INSECT OUTER OPEN...</td>\n      <td>1345448</td>\n      <td>2013-08-13</td>\n      <td>Pass</td>\n      <td>-7</td>\n    </tr>\n    <tr>\n      <th>43</th>\n      <td>1114379</td>\n      <td>PRET A MANGER</td>\n      <td>2138418</td>\n      <td>Restaurant</td>\n      <td>2012-07-23</td>\n      <td>Complaint</td>\n      <td>Fail</td>\n      <td>18. NO EVIDENCE OF RODENT OR INSECT OUTER OPEN...</td>\n      <td>1114384</td>\n      <td>2012-07-31</td>\n      <td>Pass</td>\n      <td>-8</td>\n    </tr>\n    <tr>\n      <th>65</th>\n      <td>343293</td>\n      <td>CHIPOTLE MEXICAN GRILL</td>\n      <td>1379435</td>\n      <td>Restaurant</td>\n      <td>2010-08-17</td>\n      <td>Canvass</td>\n      <td>Fail</td>\n      <td>18. NO EVIDENCE OF RODENT OR INSECT OUTER OPEN...</td>\n      <td>343310</td>\n      <td>2010-08-26</td>\n      <td>Pass</td>\n      <td>-9</td>\n    </tr>\n    <tr>\n      <th>72</th>\n      <td>2484973</td>\n      <td>HILLTOP FAMILY RESTAURANT</td>\n      <td>2652370</td>\n      <td>Restaurant</td>\n      <td>2021-02-19</td>\n      <td>Canvass Re-Inspection</td>\n      <td>Fail</td>\n      <td>44. UTENSILS, EQUIPMENT &amp; LINENS: PROPERLY STO...</td>\n      <td>2485081</td>\n      <td>2021-02-23</td>\n      <td>Pass w/ Conditions</td>\n      <td>-4</td>\n    </tr>\n  </tbody>\n</table>\n</div>"
     },
     "metadata": {},
     "execution_count": 3
    }
   ],
   "source": [
    "# Remove rows with no comments\n",
    "df = df[df['violations_orig'].notna()]\n",
    "df.head()"
   ]
  },
  {
   "cell_type": "code",
   "execution_count": 4,
   "metadata": {},
   "outputs": [],
   "source": [
    "# Change 'Pass w/ Conditions' to 'Pass', and change target to 0/1 numeric\n",
    "results_dict = {'Pass': 0, 'Fail': 1}\n",
    "df['results_re'] = df['results_re'].str.replace('Pass w/ Conditions', 'Pass')\n",
    "df['results_re'] = df['results_re'].apply(lambda x: results_dict[x])"
   ]
  },
  {
   "cell_type": "markdown",
   "metadata": {},
   "source": [
    "### Split data into feature & target, and then into train and test sets"
   ]
  },
  {
   "cell_type": "code",
   "execution_count": 5,
   "metadata": {},
   "outputs": [],
   "source": [
    "# Sort dataframe by inspection date\n",
    "# Training set will include initial 80% of inspections\n",
    "sorted_df = df.sort_values(by=['date_orig'])"
   ]
  },
  {
   "cell_type": "code",
   "execution_count": 6,
   "metadata": {},
   "outputs": [
    {
     "output_type": "execute_result",
     "data": {
      "text/plain": [
       "       id_orig                        name  license          facility_type  \\\n",
       "494307   67738      MICHAEL'S ON MAIN CAFE  2008948             Restaurant   \n",
       "217726  104236                  TEMPO CAFE    80916             Restaurant   \n",
       "45936    80207    Delhi Darbar Kabob House  2013590             Restaurant   \n",
       "489892   98313               WHIPPLE STORE  2009114          Grocery Store   \n",
       "491644  160209  CHICAGO SINAI CONGREGATION    75567  Daycare (2 - 6 Years)   \n",
       "\n",
       "        date_orig inspection_type_orig results_orig  \\\n",
       "494307 2010-01-04              License         Fail   \n",
       "217726 2010-01-04              Canvass         Fail   \n",
       "45936  2010-01-05              License         Fail   \n",
       "489892 2010-01-05              License         Fail   \n",
       "491644 2010-01-05              License         Fail   \n",
       "\n",
       "                                          violations_orig   id_re    date_re  \\\n",
       "494307  18. NO EVIDENCE OF RODENT OR INSECT OUTER OPEN...  124279 2010-01-19   \n",
       "217726  18. NO EVIDENCE OF RODENT OR INSECT OUTER OPEN...  104243 2010-01-12   \n",
       "45936   18. NO EVIDENCE OF RODENT OR INSECT OUTER OPEN...   72235 2010-01-12   \n",
       "489892  35. WALLS, CEILINGS, ATTACHED EQUIPMENT CONSTR...   98371 2010-02-05   \n",
       "491644  32. FOOD AND NON-FOOD CONTACT SURFACES PROPERL...  160331 2010-04-12   \n",
       "\n",
       "        results_re  time_between  \n",
       "494307           0           -15  \n",
       "217726           0            -8  \n",
       "45936            0            -7  \n",
       "489892           0           -31  \n",
       "491644           0           -97  "
      ],
      "text/html": "<div>\n<style scoped>\n    .dataframe tbody tr th:only-of-type {\n        vertical-align: middle;\n    }\n\n    .dataframe tbody tr th {\n        vertical-align: top;\n    }\n\n    .dataframe thead th {\n        text-align: right;\n    }\n</style>\n<table border=\"1\" class=\"dataframe\">\n  <thead>\n    <tr style=\"text-align: right;\">\n      <th></th>\n      <th>id_orig</th>\n      <th>name</th>\n      <th>license</th>\n      <th>facility_type</th>\n      <th>date_orig</th>\n      <th>inspection_type_orig</th>\n      <th>results_orig</th>\n      <th>violations_orig</th>\n      <th>id_re</th>\n      <th>date_re</th>\n      <th>results_re</th>\n      <th>time_between</th>\n    </tr>\n  </thead>\n  <tbody>\n    <tr>\n      <th>494307</th>\n      <td>67738</td>\n      <td>MICHAEL'S ON MAIN CAFE</td>\n      <td>2008948</td>\n      <td>Restaurant</td>\n      <td>2010-01-04</td>\n      <td>License</td>\n      <td>Fail</td>\n      <td>18. NO EVIDENCE OF RODENT OR INSECT OUTER OPEN...</td>\n      <td>124279</td>\n      <td>2010-01-19</td>\n      <td>0</td>\n      <td>-15</td>\n    </tr>\n    <tr>\n      <th>217726</th>\n      <td>104236</td>\n      <td>TEMPO CAFE</td>\n      <td>80916</td>\n      <td>Restaurant</td>\n      <td>2010-01-04</td>\n      <td>Canvass</td>\n      <td>Fail</td>\n      <td>18. NO EVIDENCE OF RODENT OR INSECT OUTER OPEN...</td>\n      <td>104243</td>\n      <td>2010-01-12</td>\n      <td>0</td>\n      <td>-8</td>\n    </tr>\n    <tr>\n      <th>45936</th>\n      <td>80207</td>\n      <td>Delhi Darbar Kabob House</td>\n      <td>2013590</td>\n      <td>Restaurant</td>\n      <td>2010-01-05</td>\n      <td>License</td>\n      <td>Fail</td>\n      <td>18. NO EVIDENCE OF RODENT OR INSECT OUTER OPEN...</td>\n      <td>72235</td>\n      <td>2010-01-12</td>\n      <td>0</td>\n      <td>-7</td>\n    </tr>\n    <tr>\n      <th>489892</th>\n      <td>98313</td>\n      <td>WHIPPLE STORE</td>\n      <td>2009114</td>\n      <td>Grocery Store</td>\n      <td>2010-01-05</td>\n      <td>License</td>\n      <td>Fail</td>\n      <td>35. WALLS, CEILINGS, ATTACHED EQUIPMENT CONSTR...</td>\n      <td>98371</td>\n      <td>2010-02-05</td>\n      <td>0</td>\n      <td>-31</td>\n    </tr>\n    <tr>\n      <th>491644</th>\n      <td>160209</td>\n      <td>CHICAGO SINAI CONGREGATION</td>\n      <td>75567</td>\n      <td>Daycare (2 - 6 Years)</td>\n      <td>2010-01-05</td>\n      <td>License</td>\n      <td>Fail</td>\n      <td>32. FOOD AND NON-FOOD CONTACT SURFACES PROPERL...</td>\n      <td>160331</td>\n      <td>2010-04-12</td>\n      <td>0</td>\n      <td>-97</td>\n    </tr>\n  </tbody>\n</table>\n</div>"
     },
     "metadata": {},
     "execution_count": 6
    }
   ],
   "source": [
    "sorted_df.head()"
   ]
  },
  {
   "cell_type": "code",
   "execution_count": 7,
   "metadata": {},
   "outputs": [],
   "source": [
    "target_col = ['results_re']\n",
    "target = sorted_df[target_col]\n",
    "\n",
    "cols_to_exclude = ['name', 'id_orig', 'id_re', 'license']\n",
    "feature_cols = [col for col in sorted_df.columns if (col not in cols_to_exclude and col not in target_col)]\n",
    "features = sorted_df[feature_cols]"
   ]
  },
  {
   "cell_type": "code",
   "execution_count": 8,
   "metadata": {},
   "outputs": [
    {
     "output_type": "execute_result",
     "data": {
      "text/plain": [
       "        results_re\n",
       "494307           0\n",
       "217726           0\n",
       "45936            0\n",
       "489892           0\n",
       "491644           0"
      ],
      "text/html": "<div>\n<style scoped>\n    .dataframe tbody tr th:only-of-type {\n        vertical-align: middle;\n    }\n\n    .dataframe tbody tr th {\n        vertical-align: top;\n    }\n\n    .dataframe thead th {\n        text-align: right;\n    }\n</style>\n<table border=\"1\" class=\"dataframe\">\n  <thead>\n    <tr style=\"text-align: right;\">\n      <th></th>\n      <th>results_re</th>\n    </tr>\n  </thead>\n  <tbody>\n    <tr>\n      <th>494307</th>\n      <td>0</td>\n    </tr>\n    <tr>\n      <th>217726</th>\n      <td>0</td>\n    </tr>\n    <tr>\n      <th>45936</th>\n      <td>0</td>\n    </tr>\n    <tr>\n      <th>489892</th>\n      <td>0</td>\n    </tr>\n    <tr>\n      <th>491644</th>\n      <td>0</td>\n    </tr>\n  </tbody>\n</table>\n</div>"
     },
     "metadata": {},
     "execution_count": 8
    }
   ],
   "source": [
    "target.head()"
   ]
  },
  {
   "cell_type": "code",
   "execution_count": 9,
   "metadata": {},
   "outputs": [
    {
     "output_type": "execute_result",
     "data": {
      "text/plain": [
       "                facility_type  date_orig inspection_type_orig results_orig  \\\n",
       "494307             Restaurant 2010-01-04              License         Fail   \n",
       "217726             Restaurant 2010-01-04              Canvass         Fail   \n",
       "45936              Restaurant 2010-01-05              License         Fail   \n",
       "489892          Grocery Store 2010-01-05              License         Fail   \n",
       "491644  Daycare (2 - 6 Years) 2010-01-05              License         Fail   \n",
       "\n",
       "                                          violations_orig    date_re  \\\n",
       "494307  18. NO EVIDENCE OF RODENT OR INSECT OUTER OPEN... 2010-01-19   \n",
       "217726  18. NO EVIDENCE OF RODENT OR INSECT OUTER OPEN... 2010-01-12   \n",
       "45936   18. NO EVIDENCE OF RODENT OR INSECT OUTER OPEN... 2010-01-12   \n",
       "489892  35. WALLS, CEILINGS, ATTACHED EQUIPMENT CONSTR... 2010-02-05   \n",
       "491644  32. FOOD AND NON-FOOD CONTACT SURFACES PROPERL... 2010-04-12   \n",
       "\n",
       "        time_between  \n",
       "494307           -15  \n",
       "217726            -8  \n",
       "45936             -7  \n",
       "489892           -31  \n",
       "491644           -97  "
      ],
      "text/html": "<div>\n<style scoped>\n    .dataframe tbody tr th:only-of-type {\n        vertical-align: middle;\n    }\n\n    .dataframe tbody tr th {\n        vertical-align: top;\n    }\n\n    .dataframe thead th {\n        text-align: right;\n    }\n</style>\n<table border=\"1\" class=\"dataframe\">\n  <thead>\n    <tr style=\"text-align: right;\">\n      <th></th>\n      <th>facility_type</th>\n      <th>date_orig</th>\n      <th>inspection_type_orig</th>\n      <th>results_orig</th>\n      <th>violations_orig</th>\n      <th>date_re</th>\n      <th>time_between</th>\n    </tr>\n  </thead>\n  <tbody>\n    <tr>\n      <th>494307</th>\n      <td>Restaurant</td>\n      <td>2010-01-04</td>\n      <td>License</td>\n      <td>Fail</td>\n      <td>18. NO EVIDENCE OF RODENT OR INSECT OUTER OPEN...</td>\n      <td>2010-01-19</td>\n      <td>-15</td>\n    </tr>\n    <tr>\n      <th>217726</th>\n      <td>Restaurant</td>\n      <td>2010-01-04</td>\n      <td>Canvass</td>\n      <td>Fail</td>\n      <td>18. NO EVIDENCE OF RODENT OR INSECT OUTER OPEN...</td>\n      <td>2010-01-12</td>\n      <td>-8</td>\n    </tr>\n    <tr>\n      <th>45936</th>\n      <td>Restaurant</td>\n      <td>2010-01-05</td>\n      <td>License</td>\n      <td>Fail</td>\n      <td>18. NO EVIDENCE OF RODENT OR INSECT OUTER OPEN...</td>\n      <td>2010-01-12</td>\n      <td>-7</td>\n    </tr>\n    <tr>\n      <th>489892</th>\n      <td>Grocery Store</td>\n      <td>2010-01-05</td>\n      <td>License</td>\n      <td>Fail</td>\n      <td>35. WALLS, CEILINGS, ATTACHED EQUIPMENT CONSTR...</td>\n      <td>2010-02-05</td>\n      <td>-31</td>\n    </tr>\n    <tr>\n      <th>491644</th>\n      <td>Daycare (2 - 6 Years)</td>\n      <td>2010-01-05</td>\n      <td>License</td>\n      <td>Fail</td>\n      <td>32. FOOD AND NON-FOOD CONTACT SURFACES PROPERL...</td>\n      <td>2010-04-12</td>\n      <td>-97</td>\n    </tr>\n  </tbody>\n</table>\n</div>"
     },
     "metadata": {},
     "execution_count": 9
    }
   ],
   "source": [
    "features.head()"
   ]
  },
  {
   "cell_type": "code",
   "execution_count": 10,
   "metadata": {},
   "outputs": [],
   "source": [
    "# Don't shuffle data before splitting\n",
    "train_feat, test_feat, train_targ, test_targ = train_test_split(features, target, test_size=0.2,\n",
    "                                                                shuffle=False)"
   ]
  },
  {
   "cell_type": "code",
   "execution_count": 11,
   "metadata": {},
   "outputs": [
    {
     "output_type": "execute_result",
     "data": {
      "text/plain": [
       "                facility_type  date_orig inspection_type_orig results_orig  \\\n",
       "494307             Restaurant 2010-01-04              License         Fail   \n",
       "217726             Restaurant 2010-01-04              Canvass         Fail   \n",
       "45936              Restaurant 2010-01-05              License         Fail   \n",
       "489892          Grocery Store 2010-01-05              License         Fail   \n",
       "491644  Daycare (2 - 6 Years) 2010-01-05              License         Fail   \n",
       "\n",
       "                                          violations_orig    date_re  \\\n",
       "494307  18. NO EVIDENCE OF RODENT OR INSECT OUTER OPEN... 2010-01-19   \n",
       "217726  18. NO EVIDENCE OF RODENT OR INSECT OUTER OPEN... 2010-01-12   \n",
       "45936   18. NO EVIDENCE OF RODENT OR INSECT OUTER OPEN... 2010-01-12   \n",
       "489892  35. WALLS, CEILINGS, ATTACHED EQUIPMENT CONSTR... 2010-02-05   \n",
       "491644  32. FOOD AND NON-FOOD CONTACT SURFACES PROPERL... 2010-04-12   \n",
       "\n",
       "        time_between  \n",
       "494307           -15  \n",
       "217726            -8  \n",
       "45936             -7  \n",
       "489892           -31  \n",
       "491644           -97  "
      ],
      "text/html": "<div>\n<style scoped>\n    .dataframe tbody tr th:only-of-type {\n        vertical-align: middle;\n    }\n\n    .dataframe tbody tr th {\n        vertical-align: top;\n    }\n\n    .dataframe thead th {\n        text-align: right;\n    }\n</style>\n<table border=\"1\" class=\"dataframe\">\n  <thead>\n    <tr style=\"text-align: right;\">\n      <th></th>\n      <th>facility_type</th>\n      <th>date_orig</th>\n      <th>inspection_type_orig</th>\n      <th>results_orig</th>\n      <th>violations_orig</th>\n      <th>date_re</th>\n      <th>time_between</th>\n    </tr>\n  </thead>\n  <tbody>\n    <tr>\n      <th>494307</th>\n      <td>Restaurant</td>\n      <td>2010-01-04</td>\n      <td>License</td>\n      <td>Fail</td>\n      <td>18. NO EVIDENCE OF RODENT OR INSECT OUTER OPEN...</td>\n      <td>2010-01-19</td>\n      <td>-15</td>\n    </tr>\n    <tr>\n      <th>217726</th>\n      <td>Restaurant</td>\n      <td>2010-01-04</td>\n      <td>Canvass</td>\n      <td>Fail</td>\n      <td>18. NO EVIDENCE OF RODENT OR INSECT OUTER OPEN...</td>\n      <td>2010-01-12</td>\n      <td>-8</td>\n    </tr>\n    <tr>\n      <th>45936</th>\n      <td>Restaurant</td>\n      <td>2010-01-05</td>\n      <td>License</td>\n      <td>Fail</td>\n      <td>18. NO EVIDENCE OF RODENT OR INSECT OUTER OPEN...</td>\n      <td>2010-01-12</td>\n      <td>-7</td>\n    </tr>\n    <tr>\n      <th>489892</th>\n      <td>Grocery Store</td>\n      <td>2010-01-05</td>\n      <td>License</td>\n      <td>Fail</td>\n      <td>35. WALLS, CEILINGS, ATTACHED EQUIPMENT CONSTR...</td>\n      <td>2010-02-05</td>\n      <td>-31</td>\n    </tr>\n    <tr>\n      <th>491644</th>\n      <td>Daycare (2 - 6 Years)</td>\n      <td>2010-01-05</td>\n      <td>License</td>\n      <td>Fail</td>\n      <td>32. FOOD AND NON-FOOD CONTACT SURFACES PROPERL...</td>\n      <td>2010-04-12</td>\n      <td>-97</td>\n    </tr>\n  </tbody>\n</table>\n</div>"
     },
     "metadata": {},
     "execution_count": 11
    }
   ],
   "source": [
    "train_feat.head()"
   ]
  },
  {
   "cell_type": "code",
   "execution_count": 12,
   "metadata": {},
   "outputs": [
    {
     "output_type": "stream",
     "name": "stdout",
     "text": [
      "8.77% reinspections fail in training set\n"
     ]
    }
   ],
   "source": [
    "pct_fail = len(train_targ[train_targ['results_re'] == 1]) / len(train_targ)\n",
    "print(f'{pct_fail*100:.2f}% reinspections fail in training set')"
   ]
  },
  {
   "cell_type": "markdown",
   "metadata": {},
   "source": [
    "### Split out the text features"
   ]
  },
  {
   "cell_type": "code",
   "execution_count": 13,
   "metadata": {},
   "outputs": [],
   "source": [
    "text_col = ['violations_orig']\n",
    "train_feat_txt = train_feat[text_col].astype(str)\n",
    "test_feat_txt = test_feat[text_col].astype(str)"
   ]
  },
  {
   "cell_type": "code",
   "execution_count": 14,
   "metadata": {},
   "outputs": [
    {
     "output_type": "execute_result",
     "data": {
      "text/plain": [
       "                                          violations_orig\n",
       "494307  18. NO EVIDENCE OF RODENT OR INSECT OUTER OPEN...\n",
       "217726  18. NO EVIDENCE OF RODENT OR INSECT OUTER OPEN...\n",
       "45936   18. NO EVIDENCE OF RODENT OR INSECT OUTER OPEN...\n",
       "489892  35. WALLS, CEILINGS, ATTACHED EQUIPMENT CONSTR...\n",
       "491644  32. FOOD AND NON-FOOD CONTACT SURFACES PROPERL..."
      ],
      "text/html": "<div>\n<style scoped>\n    .dataframe tbody tr th:only-of-type {\n        vertical-align: middle;\n    }\n\n    .dataframe tbody tr th {\n        vertical-align: top;\n    }\n\n    .dataframe thead th {\n        text-align: right;\n    }\n</style>\n<table border=\"1\" class=\"dataframe\">\n  <thead>\n    <tr style=\"text-align: right;\">\n      <th></th>\n      <th>violations_orig</th>\n    </tr>\n  </thead>\n  <tbody>\n    <tr>\n      <th>494307</th>\n      <td>18. NO EVIDENCE OF RODENT OR INSECT OUTER OPEN...</td>\n    </tr>\n    <tr>\n      <th>217726</th>\n      <td>18. NO EVIDENCE OF RODENT OR INSECT OUTER OPEN...</td>\n    </tr>\n    <tr>\n      <th>45936</th>\n      <td>18. NO EVIDENCE OF RODENT OR INSECT OUTER OPEN...</td>\n    </tr>\n    <tr>\n      <th>489892</th>\n      <td>35. WALLS, CEILINGS, ATTACHED EQUIPMENT CONSTR...</td>\n    </tr>\n    <tr>\n      <th>491644</th>\n      <td>32. FOOD AND NON-FOOD CONTACT SURFACES PROPERL...</td>\n    </tr>\n  </tbody>\n</table>\n</div>"
     },
     "metadata": {},
     "execution_count": 14
    }
   ],
   "source": [
    "train_feat_txt.head()"
   ]
  },
  {
   "cell_type": "markdown",
   "metadata": {},
   "source": [
    "### Split the text into tokens"
   ]
  },
  {
   "cell_type": "code",
   "execution_count": 15,
   "metadata": {},
   "outputs": [],
   "source": [
    "tokenizer = get_tokenizer('basic_english')\n",
    "counter = Counter()"
   ]
  },
  {
   "cell_type": "code",
   "execution_count": 16,
   "metadata": {},
   "outputs": [],
   "source": [
    "# Create vocab using training set only\n",
    "for idx, text in train_feat_txt.itertuples():\n",
    "    counter.update(tokenizer(text))"
   ]
  },
  {
   "cell_type": "code",
   "execution_count": 17,
   "metadata": {},
   "outputs": [],
   "source": [
    "MIN_FREQ = 500\n",
    "vocab = Vocab(counter, min_freq=MIN_FREQ)"
   ]
  },
  {
   "cell_type": "code",
   "execution_count": 18,
   "metadata": {},
   "outputs": [
    {
     "output_type": "execute_result",
     "data": {
      "text/plain": [
       "1081"
      ]
     },
     "metadata": {},
     "execution_count": 18
    }
   ],
   "source": [
    "len(vocab)"
   ]
  },
  {
   "cell_type": "markdown",
   "metadata": {},
   "source": [
    "### Create BOW features"
   ]
  },
  {
   "cell_type": "code",
   "execution_count": 19,
   "metadata": {},
   "outputs": [],
   "source": [
    "def collate_into_bow(data, voc):\n",
    "    '''\n",
    "    Collate data into BOW features\n",
    "\n",
    "    Inputs:\n",
    "    data - Pandas dataframe\n",
    "    voc - vocab object\n",
    "\n",
    "    Returns:\n",
    "    token counts - a vector of document lengths\n",
    "    bow - a matrix of BOW embeddings\n",
    "    '''\n",
    "    bow = np.zeros((len(data), len(voc)))\n",
    "    token_counts = np.zeros((len(data), 1))\n",
    "    for i, (idx, text) in enumerate(data.itertuples()):\n",
    "        counter = Counter()\n",
    "        counter.update(tokenizer(text))\n",
    "        line_vocab = Vocab(counter)\n",
    "        tot_freqs = sum(line_vocab.freqs.values())\n",
    "        token_counts[i] = tot_freqs\n",
    "        for token in line_vocab.freqs:\n",
    "            bow[i, voc.stoi[token]] = line_vocab.freqs[token] / tot_freqs  # Using relative frequencies\n",
    "    return token_counts, bow"
   ]
  },
  {
   "cell_type": "code",
   "execution_count": 20,
   "metadata": {},
   "outputs": [],
   "source": [
    "# Create training bow set\n",
    "token_counts, bow = collate_into_bow(train_feat_txt, vocab)\n",
    "bow_concat = np.concatenate((bow, token_counts), axis=1)\n",
    "bow_df = pd.DataFrame(bow_concat, columns=vocab.itos + ['token_counts'])"
   ]
  },
  {
   "cell_type": "code",
   "execution_count": 21,
   "metadata": {},
   "outputs": [],
   "source": [
    "# Create test bow set using vocab from training set\n",
    "test_token_counts, test_bow = collate_into_bow(test_feat_txt, vocab)\n",
    "test_bow_concat = np.concatenate((test_bow, test_token_counts), axis=1)\n",
    "test_bow_df = pd.DataFrame(test_bow_concat, columns=vocab.itos + ['token_counts'])"
   ]
  },
  {
   "cell_type": "markdown",
   "metadata": {},
   "source": [
    "### __Create CBOW features__"
   ]
  },
  {
   "cell_type": "code",
   "execution_count": 22,
   "metadata": {},
   "outputs": [],
   "source": [
    "# You'll need to copy your vector cache to the folder with this notebook!\n",
    "VECTORS_CACHE_DIR = './.vector_cache'\n",
    "DIM_GLOVE = 300\n",
    "\n",
    "glove = GloVe('6B',cache=VECTORS_CACHE_DIR)"
   ]
  },
  {
   "cell_type": "code",
   "execution_count": 23,
   "metadata": {},
   "outputs": [],
   "source": [
    "def collate_into_cbow(data):\n",
    "    '''\n",
    "    Collate data into CBOW features\n",
    "\n",
    "    Inputs:\n",
    "    data - Pandas dataframe\n",
    "\n",
    "    Returns:\n",
    "    cbow - a matrix of CBOW embeddings\n",
    "    '''\n",
    "    cbow = np.zeros((len(data), DIM_GLOVE))\n",
    "    for i, (idx, text) in enumerate(data.itertuples()):\n",
    "        counter = Counter()\n",
    "        counter.update(tokenizer(text))\n",
    "        tokens = list(Vocab(counter).freqs)\n",
    "        vecs = glove.get_vecs_by_tokens(tokens).numpy()\n",
    "        cbow[i] = np.mean(vecs, axis=0)\n",
    "    return cbow"
   ]
  },
  {
   "cell_type": "code",
   "execution_count": 24,
   "metadata": {},
   "outputs": [],
   "source": [
    "# Create training cbow set\n",
    "cbow = collate_into_cbow(train_feat_txt)\n",
    "cbow_df = pd.DataFrame(cbow)"
   ]
  },
  {
   "cell_type": "code",
   "execution_count": 25,
   "metadata": {},
   "outputs": [],
   "source": [
    "# Create test cbow set\n",
    "test_cbow = collate_into_cbow(test_feat_txt)\n",
    "test_cbow_df = pd.DataFrame(test_cbow)"
   ]
  },
  {
   "cell_type": "markdown",
   "metadata": {},
   "source": [
    "### Create ngram features"
   ]
  },
  {
   "cell_type": "code",
   "execution_count": 26,
   "metadata": {},
   "outputs": [],
   "source": [
    "# Using CountVectorizer to get ngrams\n",
    "# https://scikit-learn.org/stable/modules/generated/sklearn.feature_extraction.text.CountVectorizer.html\n",
    "from sklearn.feature_extraction.text import CountVectorizer"
   ]
  },
  {
   "cell_type": "code",
   "execution_count": 27,
   "metadata": {},
   "outputs": [],
   "source": [
    "def divide_rows_by_row_sum(arr):\n",
    "        '''\n",
    "        Divides the rows of a given numpy array by the sum, account for zeroes\n",
    "        '''\n",
    "    return np.nan_to_num(\n",
    "            np.divide(arr, arr.sum(axis=1)[:, None]),\n",
    "            nan=0  # Small number of ngram rows are all zeroes; don't divide row by 0 \n",
    "    )"
   ]
  },
  {
   "cell_type": "code",
   "execution_count": 28,
   "metadata": {},
   "outputs": [],
   "source": [
    "vectorizer = CountVectorizer(min_df=MIN_FREQ, ngram_range=(2,2))"
   ]
  },
  {
   "cell_type": "code",
   "execution_count": 29,
   "metadata": {},
   "outputs": [],
   "source": [
    "corpus = train_feat_txt['violations_orig'].to_list()"
   ]
  },
  {
   "cell_type": "code",
   "execution_count": 30,
   "metadata": {},
   "outputs": [],
   "source": [
    "# Create training ngram set\n",
    "X = vectorizer.fit_transform(corpus)\n",
    "ngram_arr = X.toarray()\n",
    "ngram_arr = divide_rows_by_row_sum(ngram_arr)\n",
    "ngram_arr = np.concatenate((ngram_arr, token_counts), axis=1)"
   ]
  },
  {
   "cell_type": "code",
   "execution_count": 31,
   "metadata": {},
   "outputs": [
    {
     "output_type": "stream",
     "name": "stderr",
     "text": [
      "<ipython-input-27-17bb06bbd3b0>:3: RuntimeWarning: invalid value encountered in true_divide\n  np.divide(arr, arr.sum(axis=1)[:, None]),\n"
     ]
    }
   ],
   "source": [
    "# Create test ngram set\n",
    "\n",
    "corpus_test = test_feat_txt['violations_orig'].to_list()\n",
    "X_test = vectorizer.transform(corpus_test)\n",
    "test_ngram_arr = X_test.toarray()\n",
    "test_ngram_arr = divide_rows_by_row_sum(test_ngram_arr)\n",
    "test_ngram_arr = np.concatenate((test_ngram_arr, test_token_counts), axis=1)"
   ]
  },
  {
   "cell_type": "code",
   "execution_count": 32,
   "metadata": {},
   "outputs": [
    {
     "output_type": "execute_result",
     "data": {
      "text/plain": [
       "(7311, 1905)"
      ]
     },
     "metadata": {},
     "execution_count": 32
    }
   ],
   "source": [
    "test_ngram_arr.shape"
   ]
  },
  {
   "cell_type": "markdown",
   "metadata": {},
   "source": [
    "### Split train set into train and validation"
   ]
  },
  {
   "cell_type": "code",
   "execution_count": 33,
   "metadata": {},
   "outputs": [],
   "source": [
    "# Don't need to split into validation set because we use cross validation instead\n",
    "#train_bow, val_bow, train_targ_spl, val_targ = train_test_split(bow_df, train_targ, test_size=0.2,\n",
    "#                                                                shuffle=False)\n",
    "\n",
    "#train_cbow, val_cbow = train_test_split(cbow_df, test_size=0.2, shuffle=False)\n",
    "#train_2gram, val_2gram = train_test_split(ngram_arr, test_size=0.2, shuffle=False)\n",
    "\n",
    "train_bow, train_targ_spl = bow_df, train_targ\n",
    "train_cbow = cbow_df\n",
    "train_2gram = ngram_arr"
   ]
  },
  {
   "cell_type": "code",
   "execution_count": 34,
   "metadata": {},
   "outputs": [],
   "source": [
    "#Oversample on target vector\n",
    "train_targ_reset = train_targ_spl.reset_index().drop('index', axis=1)\n",
    "train_targ_fail = train_targ_reset[train_targ_reset['results_re'] == 1]\n",
    "size_diff = train_targ_reset.shape[0] - train_targ_fail.shape[0]\n",
    "train_resample = resample(train_targ_fail, n_samples = size_diff, replace=True)\n",
    "train_targ_all = pd.concat([train_targ_reset, train_resample])"
   ]
  },
  {
   "cell_type": "code",
   "execution_count": 35,
   "metadata": {},
   "outputs": [
    {
     "output_type": "stream",
     "name": "stderr",
     "text": [
      "<ipython-input-35-b91eb85c8663>:4: FutureWarning: Using a non-tuple sequence for multidimensional indexing is deprecated; use `arr[tuple(seq)]` instead of `arr[seq]`. In the future this will be interpreted as an array index, `arr[np.array(seq)]`, which will result either in an error or a different result.\n  train_2gram_resample = train_2gram[[train_targ_all.index]]\n"
     ]
    }
   ],
   "source": [
    "#then resample feature matrices\n",
    "train_bow_resample = train_bow.iloc[train_targ_all.index]\n",
    "train_cbow_resample = train_cbow.iloc[train_targ_all.index]\n",
    "train_2gram_resample = train_2gram[[train_targ_all.index]]"
   ]
  },
  {
   "cell_type": "code",
   "execution_count": 36,
   "metadata": {},
   "outputs": [],
   "source": [
    "# Model expects 1d array as target\n",
    "train_targ_1d = train_targ_all.iloc[:, 0].ravel()\n",
    "test_targ_1d = test_targ.iloc[:, 0].ravel()"
   ]
  },
  {
   "cell_type": "markdown",
   "metadata": {},
   "source": [
    "### Set model baseline"
   ]
  },
  {
   "cell_type": "markdown",
   "metadata": {},
   "source": [
    "Baseline for model will be if we predict 'pass' every time. If model cannot beat these scores, then it is not good!"
   ]
  },
  {
   "cell_type": "code",
   "execution_count": 37,
   "metadata": {},
   "outputs": [],
   "source": [
    "def print_clf_metrics(y_true, y_pred):\n",
    "    '''\n",
    "    Prints performance metrics for the given vectors\n",
    "\n",
    "    Inputs:\n",
    "        y_true - a vector; the true labels\n",
    "        y_pred - a vector; the predicted labels\n",
    "    \n",
    "    Returns:\n",
    "        None\n",
    "    '''\n",
    "    accuracy = accuracy_score(y_true, y_pred)\n",
    "    precision = precision_score(y_true, y_pred, zero_division=0)\n",
    "    recall = recall_score(y_true, y_pred)\n",
    "    f1 = f1_score(y_true, y_pred)\n",
    "    auc = roc_auc_score(y_true, y_pred)\n",
    "\n",
    "    print(f\"\"\"\n",
    "    Accuracy: {accuracy:.2f}\n",
    "    Precision: {precision:.2f}\n",
    "    Recall: {recall:.2f}\n",
    "    F1 score: {f1:.2f}\n",
    "    ROC AUC: {auc:.2f}\n",
    "    \"\"\")"
   ]
  },
  {
   "cell_type": "code",
   "execution_count": 39,
   "metadata": {},
   "outputs": [],
   "source": [
    "# create y_pred array that includes only Passes\n",
    "results = [0] * test_targ.shape[0]\n",
    "d = {'results_re': results}\n",
    "baseline_df = pd.DataFrame(data=d)"
   ]
  },
  {
   "cell_type": "code",
   "execution_count": 41,
   "metadata": {},
   "outputs": [
    {
     "output_type": "stream",
     "name": "stdout",
     "text": [
      "\n    Accuracy: 0.88\n    Precision: 0.00\n    Recall: 0.00\n    F1 score: 0.00\n    ROC AUC: 0.50\n    \n"
     ]
    }
   ],
   "source": [
    "print_clf_metrics(test_targ['results_re'], baseline_df['results_re'])"
   ]
  },
  {
   "cell_type": "markdown",
   "metadata": {},
   "source": [
    "### Naive Bayes model"
   ]
  },
  {
   "cell_type": "markdown",
   "metadata": {},
   "source": [
    "BOW model:"
   ]
  },
  {
   "cell_type": "code",
   "execution_count": 42,
   "metadata": {},
   "outputs": [
    {
     "output_type": "stream",
     "name": "stdout",
     "text": [
      "\n    Accuracy: 0.36\n    Precision: 0.13\n    Recall: 0.83\n    F1 score: 0.23\n    ROC AUC: 0.57\n    \n"
     ]
    }
   ],
   "source": [
    "# Use multinomial NB b/c features are discrete (counts)\n",
    "nb_bow = MultinomialNB()\n",
    "nb_bow.fit(train_bow_resample, train_targ_1d)\n",
    "\n",
    "y_pred_bow_test = nb_bow.predict(test_bow_df)\n",
    "print_clf_metrics(test_targ_1d, y_pred_bow_test)"
   ]
  },
  {
   "cell_type": "markdown",
   "metadata": {},
   "source": [
    "CBOW model:"
   ]
  },
  {
   "cell_type": "code",
   "execution_count": 43,
   "metadata": {},
   "outputs": [
    {
     "output_type": "stream",
     "name": "stdout",
     "text": [
      "\n    Accuracy: 0.67\n    Precision: 0.17\n    Recall: 0.49\n    F1 score: 0.26\n    ROC AUC: 0.59\n    \n"
     ]
    }
   ],
   "source": [
    "# Use Gaussian NB b/c features now continuous\n",
    "nb_cbow = GaussianNB()\n",
    "nb_cbow.fit(train_cbow_resample, train_targ_1d)\n",
    "\n",
    "y_pred_cbow_test = nb_cbow.predict(test_cbow_df)\n",
    "print_clf_metrics(test_targ_1d, y_pred_cbow_test)"
   ]
  },
  {
   "cell_type": "markdown",
   "metadata": {},
   "source": [
    "2-gram model:"
   ]
  },
  {
   "cell_type": "code",
   "execution_count": 44,
   "metadata": {},
   "outputs": [
    {
     "output_type": "stream",
     "name": "stdout",
     "text": [
      "\n    Accuracy: 0.44\n    Precision: 0.14\n    Recall: 0.78\n    F1 score: 0.24\n    ROC AUC: 0.58\n    \n"
     ]
    }
   ],
   "source": [
    "# Use multinomial NB b/c features are discrete (counts)\n",
    "nb_2gram = MultinomialNB()\n",
    "nb_2gram.fit(train_2gram_resample, train_targ_1d)\n",
    "\n",
    "y_pred_2gram_test = nb_2gram.predict(test_ngram_arr)\n",
    "print_clf_metrics(test_targ_1d, y_pred_2gram_test)"
   ]
  },
  {
   "cell_type": "markdown",
   "metadata": {},
   "source": [
    "### Logistic Regression model"
   ]
  },
  {
   "cell_type": "markdown",
   "metadata": {},
   "source": [
    "BOW model:"
   ]
  },
  {
   "cell_type": "code",
   "execution_count": 45,
   "metadata": {},
   "outputs": [
    {
     "output_type": "stream",
     "name": "stdout",
     "text": [
      "\n    Accuracy: 0.54\n    Precision: 0.15\n    Recall: 0.64\n    F1 score: 0.24\n    ROC AUC: 0.58\n    \n"
     ]
    }
   ],
   "source": [
    "log_reg_bow = LogisticRegression(max_iter=5000)\n",
    "log_reg_bow.fit(train_bow_resample, train_targ_1d)\n",
    "\n",
    "log_y_pred_bow = log_reg_bow.predict(test_bow_df)\n",
    "print_clf_metrics(test_targ_1d, log_y_pred_bow)"
   ]
  },
  {
   "cell_type": "code",
   "execution_count": 46,
   "metadata": {},
   "outputs": [],
   "source": [
    "def get_top_features(model, vocabulary):\n",
    "    '''\n",
    "    Get the features of a regression model ordered by magnitude.\n",
    "\n",
    "    Inputs:\n",
    "        model - a sklearn model object\n",
    "        vocabulary - a vector-like object of the vocabulary used in the model\n",
    "    \n",
    "    Returns:\n",
    "        a sorted Pandas dataframe of the coefficients\n",
    "    '''\n",
    "    features = np.array(vocabulary).reshape(-1, 1)\n",
    "    features = np.append(features, ['len_document'])\n",
    "    coefficients = model.coef_[0]\n",
    "    \n",
    "    ranked_coeffs = pd.DataFrame(features, coefficients).reset_index()\n",
    "    ranked_coeffs['abs'] = [abs(x) for x in ranked_coeffs['index']]\n",
    "\n",
    "    ranked_coeffs = ranked_coeffs.sort_values('abs', ascending=False)\n",
    "    ranked_coeffs.columns = ['coefficient', 'feature', 'coefficient (absolute)']\n",
    "\n",
    "    return ranked_coeffs"
   ]
  },
  {
   "cell_type": "code",
   "execution_count": 47,
   "metadata": {},
   "outputs": [
    {
     "output_type": "execute_result",
     "data": {
      "text/plain": [
       "    coefficient   feature  coefficient (absolute)\n",
       "2     -0.051965         .                0.051965\n",
       "3     -0.039181         ,                0.039181\n",
       "4     -0.032513       and                0.032513\n",
       "5     -0.022961       the                0.022961\n",
       "10    -0.018806        to                0.018806\n",
       "9     -0.018098         -                0.018098\n",
       "8     -0.018006  comments                0.018006\n",
       "13    -0.015763     clean                0.015763\n",
       "7     -0.015606        of                0.015606\n",
       "12    -0.013573      food                0.013573"
      ],
      "text/html": "<div>\n<style scoped>\n    .dataframe tbody tr th:only-of-type {\n        vertical-align: middle;\n    }\n\n    .dataframe tbody tr th {\n        vertical-align: top;\n    }\n\n    .dataframe thead th {\n        text-align: right;\n    }\n</style>\n<table border=\"1\" class=\"dataframe\">\n  <thead>\n    <tr style=\"text-align: right;\">\n      <th></th>\n      <th>coefficient</th>\n      <th>feature</th>\n      <th>coefficient (absolute)</th>\n    </tr>\n  </thead>\n  <tbody>\n    <tr>\n      <th>2</th>\n      <td>-0.051965</td>\n      <td>.</td>\n      <td>0.051965</td>\n    </tr>\n    <tr>\n      <th>3</th>\n      <td>-0.039181</td>\n      <td>,</td>\n      <td>0.039181</td>\n    </tr>\n    <tr>\n      <th>4</th>\n      <td>-0.032513</td>\n      <td>and</td>\n      <td>0.032513</td>\n    </tr>\n    <tr>\n      <th>5</th>\n      <td>-0.022961</td>\n      <td>the</td>\n      <td>0.022961</td>\n    </tr>\n    <tr>\n      <th>10</th>\n      <td>-0.018806</td>\n      <td>to</td>\n      <td>0.018806</td>\n    </tr>\n    <tr>\n      <th>9</th>\n      <td>-0.018098</td>\n      <td>-</td>\n      <td>0.018098</td>\n    </tr>\n    <tr>\n      <th>8</th>\n      <td>-0.018006</td>\n      <td>comments</td>\n      <td>0.018006</td>\n    </tr>\n    <tr>\n      <th>13</th>\n      <td>-0.015763</td>\n      <td>clean</td>\n      <td>0.015763</td>\n    </tr>\n    <tr>\n      <th>7</th>\n      <td>-0.015606</td>\n      <td>of</td>\n      <td>0.015606</td>\n    </tr>\n    <tr>\n      <th>12</th>\n      <td>-0.013573</td>\n      <td>food</td>\n      <td>0.013573</td>\n    </tr>\n  </tbody>\n</table>\n</div>"
     },
     "metadata": {},
     "execution_count": 47
    }
   ],
   "source": [
    "top_reg_bow = get_top_features(log_reg_bow, vocab.itos)\n",
    "top_reg_bow.head(10)"
   ]
  },
  {
   "cell_type": "markdown",
   "metadata": {},
   "source": [
    "CBOW model:"
   ]
  },
  {
   "cell_type": "code",
   "execution_count": 48,
   "metadata": {
    "scrolled": true
   },
   "outputs": [
    {
     "output_type": "stream",
     "name": "stdout",
     "text": [
      "\n    Accuracy: 0.44\n    Precision: 0.14\n    Recall: 0.78\n    F1 score: 0.24\n    ROC AUC: 0.59\n    \n"
     ]
    }
   ],
   "source": [
    "log_reg_cbow = LogisticRegression(max_iter=1000)\n",
    "log_reg_cbow.fit(train_cbow_resample, train_targ_1d)\n",
    "\n",
    "log_y_pred_cbow = log_reg_cbow.predict(test_cbow_df)\n",
    "print_clf_metrics(test_targ_1d, log_y_pred_cbow)"
   ]
  },
  {
   "cell_type": "markdown",
   "metadata": {},
   "source": [
    "2-gram model:"
   ]
  },
  {
   "cell_type": "code",
   "execution_count": 49,
   "metadata": {},
   "outputs": [
    {
     "output_type": "stream",
     "name": "stdout",
     "text": [
      "\n    Accuracy: 0.54\n    Precision: 0.15\n    Recall: 0.64\n    F1 score: 0.24\n    ROC AUC: 0.59\n    \n"
     ]
    }
   ],
   "source": [
    "log_reg_2gram = LogisticRegression(max_iter=5000)\n",
    "log_reg_2gram.fit(train_2gram_resample, train_targ_1d)\n",
    "\n",
    "log_y_pred_2gram = log_reg_2gram.predict(test_ngram_arr)\n",
    "print_clf_metrics(test_targ_1d, log_y_pred_2gram)"
   ]
  },
  {
   "cell_type": "code",
   "execution_count": 50,
   "metadata": {},
   "outputs": [
    {
     "output_type": "execute_result",
     "data": {
      "text/plain": [
       "      coefficient            feature  coefficient (absolute)\n",
       "981     -0.014985      instructed to                0.014985\n",
       "196     -0.010717       and maintain                0.010717\n",
       "427     -0.010020          clean and                0.010020\n",
       "496     -0.008892  comments observed                0.008892\n",
       "852     -0.007172        good repair                0.007172\n",
       "1300    -0.007068           per code                0.007068\n",
       "528     -0.007067    constructed per                0.007067\n",
       "1522    -0.006955           shall be                0.006955\n",
       "764     -0.006850           food and                0.006850\n",
       "456     -0.006842   cleaning methods                0.006842"
      ],
      "text/html": "<div>\n<style scoped>\n    .dataframe tbody tr th:only-of-type {\n        vertical-align: middle;\n    }\n\n    .dataframe tbody tr th {\n        vertical-align: top;\n    }\n\n    .dataframe thead th {\n        text-align: right;\n    }\n</style>\n<table border=\"1\" class=\"dataframe\">\n  <thead>\n    <tr style=\"text-align: right;\">\n      <th></th>\n      <th>coefficient</th>\n      <th>feature</th>\n      <th>coefficient (absolute)</th>\n    </tr>\n  </thead>\n  <tbody>\n    <tr>\n      <th>981</th>\n      <td>-0.014985</td>\n      <td>instructed to</td>\n      <td>0.014985</td>\n    </tr>\n    <tr>\n      <th>196</th>\n      <td>-0.010717</td>\n      <td>and maintain</td>\n      <td>0.010717</td>\n    </tr>\n    <tr>\n      <th>427</th>\n      <td>-0.010020</td>\n      <td>clean and</td>\n      <td>0.010020</td>\n    </tr>\n    <tr>\n      <th>496</th>\n      <td>-0.008892</td>\n      <td>comments observed</td>\n      <td>0.008892</td>\n    </tr>\n    <tr>\n      <th>852</th>\n      <td>-0.007172</td>\n      <td>good repair</td>\n      <td>0.007172</td>\n    </tr>\n    <tr>\n      <th>1300</th>\n      <td>-0.007068</td>\n      <td>per code</td>\n      <td>0.007068</td>\n    </tr>\n    <tr>\n      <th>528</th>\n      <td>-0.007067</td>\n      <td>constructed per</td>\n      <td>0.007067</td>\n    </tr>\n    <tr>\n      <th>1522</th>\n      <td>-0.006955</td>\n      <td>shall be</td>\n      <td>0.006955</td>\n    </tr>\n    <tr>\n      <th>764</th>\n      <td>-0.006850</td>\n      <td>food and</td>\n      <td>0.006850</td>\n    </tr>\n    <tr>\n      <th>456</th>\n      <td>-0.006842</td>\n      <td>cleaning methods</td>\n      <td>0.006842</td>\n    </tr>\n  </tbody>\n</table>\n</div>"
     },
     "metadata": {},
     "execution_count": 50
    }
   ],
   "source": [
    "top_reg_bow = get_top_features(log_reg_2gram, vectorizer.get_feature_names())\n",
    "top_reg_bow.head(10)"
   ]
  },
  {
   "source": [
    "### Grid Search on Logistic Regression and SVM"
   ],
   "cell_type": "markdown",
   "metadata": {}
  },
  {
   "cell_type": "code",
   "execution_count": 51,
   "metadata": {},
   "outputs": [],
   "source": [
    "from sklearn.svm import LinearSVC\n",
    "from sklearn.model_selection import GridSearchCV\n"
   ]
  },
  {
   "cell_type": "code",
   "execution_count": 52,
   "metadata": {},
   "outputs": [],
   "source": [
    "parameters_log = {'C': [0.3, 0.5, 0.7]}\n",
    "#scikit learn uses L2 penalty (ridge) by default, with C=1\n",
    "\n",
    "scoring = {'Accuracy': 'accuracy', 'Precision': 'precision', 'Recall': 'recall'}\n",
    "\n",
    "def grid_search_log(train_x, train_y, max_iter=5000):\n",
    "    '''\n",
    "    Run a logistic regression grid search\n",
    "\n",
    "    Inputs:\n",
    "        train_x - Pandas dataframe of features\n",
    "        train_y - Pandas series of targets\n",
    "        max_iter - max number of iterations on models\n",
    "    \n",
    "    Returns:\n",
    "        a GridSearchCV object\n",
    "    '''\n",
    "    grid_log = GridSearchCV(LogisticRegression(max_iter=max_iter, random_state=0), param_grid=parameters_log, scoring=scoring,\n",
    "                            cv=5, refit='Precision')\n",
    "    grid_log.fit(train_x, train_y)\n",
    "    logs_all = pd.DataFrame.from_dict(grid_log.cv_results_)\n",
    "    print(logs_all.loc[:, ['param_C', 'mean_test_Accuracy', 'mean_test_Precision', 'mean_test_Recall', 'rank_test_Precision']])\n",
    "    return grid_log"
   ]
  },
  {
   "cell_type": "code",
   "execution_count": 53,
   "metadata": {},
   "outputs": [
    {
     "output_type": "stream",
     "name": "stdout",
     "text": [
      "  param_C  mean_test_Accuracy  mean_test_Precision  mean_test_Recall  \\\n0     0.3            0.603889             0.627263          0.607735   \n1     0.5            0.603889             0.627263          0.607735   \n2     0.7            0.603889             0.627263          0.607735   \n\n   rank_test_Precision  \n0                    1  \n1                    1  \n2                    1  \n"
     ]
    }
   ],
   "source": [
    "grid_log = grid_search_log(train_bow_resample, train_targ_1d)"
   ]
  },
  {
   "cell_type": "code",
   "execution_count": 54,
   "metadata": {},
   "outputs": [
    {
     "output_type": "execute_result",
     "data": {
      "text/plain": [
       "    coefficient   feature  coefficient (absolute)\n",
       "2     -0.051964         .                0.051964\n",
       "3     -0.039180         ,                0.039180\n",
       "4     -0.032512       and                0.032512\n",
       "5     -0.022961       the                0.022961\n",
       "10    -0.018806        to                0.018806\n",
       "9     -0.018098         -                0.018098\n",
       "8     -0.018006  comments                0.018006\n",
       "13    -0.015763     clean                0.015763\n",
       "7     -0.015606        of                0.015606\n",
       "12    -0.013573      food                0.013573"
      ],
      "text/html": "<div>\n<style scoped>\n    .dataframe tbody tr th:only-of-type {\n        vertical-align: middle;\n    }\n\n    .dataframe tbody tr th {\n        vertical-align: top;\n    }\n\n    .dataframe thead th {\n        text-align: right;\n    }\n</style>\n<table border=\"1\" class=\"dataframe\">\n  <thead>\n    <tr style=\"text-align: right;\">\n      <th></th>\n      <th>coefficient</th>\n      <th>feature</th>\n      <th>coefficient (absolute)</th>\n    </tr>\n  </thead>\n  <tbody>\n    <tr>\n      <th>2</th>\n      <td>-0.051964</td>\n      <td>.</td>\n      <td>0.051964</td>\n    </tr>\n    <tr>\n      <th>3</th>\n      <td>-0.039180</td>\n      <td>,</td>\n      <td>0.039180</td>\n    </tr>\n    <tr>\n      <th>4</th>\n      <td>-0.032512</td>\n      <td>and</td>\n      <td>0.032512</td>\n    </tr>\n    <tr>\n      <th>5</th>\n      <td>-0.022961</td>\n      <td>the</td>\n      <td>0.022961</td>\n    </tr>\n    <tr>\n      <th>10</th>\n      <td>-0.018806</td>\n      <td>to</td>\n      <td>0.018806</td>\n    </tr>\n    <tr>\n      <th>9</th>\n      <td>-0.018098</td>\n      <td>-</td>\n      <td>0.018098</td>\n    </tr>\n    <tr>\n      <th>8</th>\n      <td>-0.018006</td>\n      <td>comments</td>\n      <td>0.018006</td>\n    </tr>\n    <tr>\n      <th>13</th>\n      <td>-0.015763</td>\n      <td>clean</td>\n      <td>0.015763</td>\n    </tr>\n    <tr>\n      <th>7</th>\n      <td>-0.015606</td>\n      <td>of</td>\n      <td>0.015606</td>\n    </tr>\n    <tr>\n      <th>12</th>\n      <td>-0.013573</td>\n      <td>food</td>\n      <td>0.013573</td>\n    </tr>\n  </tbody>\n</table>\n</div>"
     },
     "metadata": {},
     "execution_count": 54
    }
   ],
   "source": [
    "top_reg_bow = get_top_features(grid_log.best_estimator_, vocab.itos)\n",
    "top_reg_bow.head(10)"
   ]
  },
  {
   "cell_type": "code",
   "execution_count": 55,
   "metadata": {},
   "outputs": [
    {
     "output_type": "stream",
     "name": "stdout",
     "text": [
      "\n    Accuracy: 0.54\n    Precision: 0.15\n    Recall: 0.64\n    F1 score: 0.24\n    ROC AUC: 0.58\n    \n"
     ]
    }
   ],
   "source": [
    "y_pred_bow_test = grid_log.best_estimator_.predict(test_bow_df)\n",
    "print_clf_metrics(test_targ_1d, y_pred_bow_test)"
   ]
  },
  {
   "cell_type": "code",
   "execution_count": 56,
   "metadata": {},
   "outputs": [
    {
     "output_type": "stream",
     "name": "stdout",
     "text": [
      "  param_C  mean_test_Accuracy  mean_test_Precision  mean_test_Recall  \\\n0     0.3            0.627584             0.626112          0.753275   \n1     0.5            0.629802             0.628720          0.751770   \n2     0.7            0.631572             0.630384          0.752317   \n\n   rank_test_Precision  \n0                    3  \n1                    2  \n2                    1  \n"
     ]
    }
   ],
   "source": [
    "grid_log = grid_search_log(train_cbow_resample, train_targ_1d)"
   ]
  },
  {
   "cell_type": "code",
   "execution_count": 57,
   "metadata": {},
   "outputs": [
    {
     "output_type": "stream",
     "name": "stdout",
     "text": [
      "\n    Accuracy: 0.44\n    Precision: 0.14\n    Recall: 0.78\n    F1 score: 0.24\n    ROC AUC: 0.59\n    \n"
     ]
    }
   ],
   "source": [
    "y_pred_cbow_test = grid_log.best_estimator_.predict(test_cbow_df)\n",
    "print_clf_metrics(test_targ_1d, y_pred_cbow_test)"
   ]
  },
  {
   "cell_type": "code",
   "execution_count": 58,
   "metadata": {},
   "outputs": [
    {
     "output_type": "stream",
     "name": "stdout",
     "text": [
      "  param_C  mean_test_Accuracy  mean_test_Precision  mean_test_Recall  \\\n0     0.3            0.603746             0.627231          0.607222   \n1     0.5            0.603746             0.627231          0.607222   \n2     0.7            0.603746             0.627231          0.607222   \n\n   rank_test_Precision  \n0                    1  \n1                    1  \n2                    1  \n"
     ]
    }
   ],
   "source": [
    "grid_log = grid_search_log(train_2gram_resample, train_targ_1d)"
   ]
  },
  {
   "cell_type": "code",
   "execution_count": 59,
   "metadata": {},
   "outputs": [
    {
     "output_type": "execute_result",
     "data": {
      "text/plain": [
       "      coefficient            feature  coefficient (absolute)\n",
       "981     -0.014985      instructed to                0.014985\n",
       "196     -0.010717       and maintain                0.010717\n",
       "427     -0.010020          clean and                0.010020\n",
       "496     -0.008892  comments observed                0.008892\n",
       "852     -0.007172        good repair                0.007172\n",
       "1300    -0.007068           per code                0.007068\n",
       "528     -0.007067    constructed per                0.007067\n",
       "1522    -0.006955           shall be                0.006955\n",
       "764     -0.006850           food and                0.006850\n",
       "456     -0.006842   cleaning methods                0.006842"
      ],
      "text/html": "<div>\n<style scoped>\n    .dataframe tbody tr th:only-of-type {\n        vertical-align: middle;\n    }\n\n    .dataframe tbody tr th {\n        vertical-align: top;\n    }\n\n    .dataframe thead th {\n        text-align: right;\n    }\n</style>\n<table border=\"1\" class=\"dataframe\">\n  <thead>\n    <tr style=\"text-align: right;\">\n      <th></th>\n      <th>coefficient</th>\n      <th>feature</th>\n      <th>coefficient (absolute)</th>\n    </tr>\n  </thead>\n  <tbody>\n    <tr>\n      <th>981</th>\n      <td>-0.014985</td>\n      <td>instructed to</td>\n      <td>0.014985</td>\n    </tr>\n    <tr>\n      <th>196</th>\n      <td>-0.010717</td>\n      <td>and maintain</td>\n      <td>0.010717</td>\n    </tr>\n    <tr>\n      <th>427</th>\n      <td>-0.010020</td>\n      <td>clean and</td>\n      <td>0.010020</td>\n    </tr>\n    <tr>\n      <th>496</th>\n      <td>-0.008892</td>\n      <td>comments observed</td>\n      <td>0.008892</td>\n    </tr>\n    <tr>\n      <th>852</th>\n      <td>-0.007172</td>\n      <td>good repair</td>\n      <td>0.007172</td>\n    </tr>\n    <tr>\n      <th>1300</th>\n      <td>-0.007068</td>\n      <td>per code</td>\n      <td>0.007068</td>\n    </tr>\n    <tr>\n      <th>528</th>\n      <td>-0.007067</td>\n      <td>constructed per</td>\n      <td>0.007067</td>\n    </tr>\n    <tr>\n      <th>1522</th>\n      <td>-0.006955</td>\n      <td>shall be</td>\n      <td>0.006955</td>\n    </tr>\n    <tr>\n      <th>764</th>\n      <td>-0.006850</td>\n      <td>food and</td>\n      <td>0.006850</td>\n    </tr>\n    <tr>\n      <th>456</th>\n      <td>-0.006842</td>\n      <td>cleaning methods</td>\n      <td>0.006842</td>\n    </tr>\n  </tbody>\n</table>\n</div>"
     },
     "metadata": {},
     "execution_count": 59
    }
   ],
   "source": [
    "top_reg_2gram = get_top_features(grid_log.best_estimator_, vectorizer.get_feature_names())\n",
    "top_reg_2gram.head(10)"
   ]
  },
  {
   "cell_type": "code",
   "execution_count": 60,
   "metadata": {},
   "outputs": [
    {
     "output_type": "stream",
     "name": "stdout",
     "text": [
      "\n    Accuracy: 0.54\n    Precision: 0.15\n    Recall: 0.64\n    F1 score: 0.24\n    ROC AUC: 0.59\n    \n"
     ]
    }
   ],
   "source": [
    "y_pred_2gram_test = grid_log.best_estimator_.predict(test_ngram_arr)\n",
    "print_clf_metrics(test_targ_1d, y_pred_2gram_test)"
   ]
  },
  {
   "cell_type": "code",
   "execution_count": 61,
   "metadata": {},
   "outputs": [],
   "source": [
    "parameters_svm = {'C': [0.1, 1, 10]}\n",
    "\n",
    "scoring = {'Accuracy': 'accuracy', 'Precision': 'precision', 'Recall': 'recall'}\n",
    "\n",
    "def grid_search_svm(train_x, train_y, max_iter=10000):\n",
    "    '''\n",
    "    Run a SVM grid search\n",
    "\n",
    "    Inputs:\n",
    "        train_x - Pandas dataframe of features\n",
    "        train_y - Pandas series of targets\n",
    "        max_iter - max number of iterations on models\n",
    "    \n",
    "    Returns:\n",
    "        a GridSearchCV object\n",
    "    '''\n",
    "    grid_svm = GridSearchCV(LinearSVC(max_iter=max_iter, random_state=0), param_grid=parameters_log, scoring=scoring,\n",
    "                            cv=3, refit='Precision')\n",
    "    grid_svm.fit(train_x, train_y)\n",
    "    svm_all = pd.DataFrame.from_dict(grid_svm.cv_results_)\n",
    "    print(svm_all.loc[:, ['param_C', 'mean_test_Accuracy', 'mean_test_Precision', 'mean_test_Recall', 'rank_test_Precision']])\n",
    "    return grid_svm"
   ]
  },
  {
   "cell_type": "code",
   "execution_count": 62,
   "metadata": {},
   "outputs": [
    {
     "output_type": "stream",
     "name": "stderr",
     "text": [
      "C:\\Users\\alipe\\anaconda3\\lib\\site-packages\\sklearn\\svm\\_base.py:976: ConvergenceWarning: Liblinear failed to converge, increase the number of iterations.\n",
      "  warnings.warn(\"Liblinear failed to converge, increase \"\n",
      "C:\\Users\\alipe\\anaconda3\\lib\\site-packages\\sklearn\\svm\\_base.py:976: ConvergenceWarning: Liblinear failed to converge, increase the number of iterations.\n",
      "  warnings.warn(\"Liblinear failed to converge, increase \"\n",
      "C:\\Users\\alipe\\anaconda3\\lib\\site-packages\\sklearn\\svm\\_base.py:976: ConvergenceWarning: Liblinear failed to converge, increase the number of iterations.\n",
      "  warnings.warn(\"Liblinear failed to converge, increase \"\n",
      "C:\\Users\\alipe\\anaconda3\\lib\\site-packages\\sklearn\\svm\\_base.py:976: ConvergenceWarning: Liblinear failed to converge, increase the number of iterations.\n",
      "  warnings.warn(\"Liblinear failed to converge, increase \"\n",
      "C:\\Users\\alipe\\anaconda3\\lib\\site-packages\\sklearn\\svm\\_base.py:976: ConvergenceWarning: Liblinear failed to converge, increase the number of iterations.\n",
      "  warnings.warn(\"Liblinear failed to converge, increase \"\n",
      "C:\\Users\\alipe\\anaconda3\\lib\\site-packages\\sklearn\\svm\\_base.py:976: ConvergenceWarning: Liblinear failed to converge, increase the number of iterations.\n",
      "  warnings.warn(\"Liblinear failed to converge, increase \"\n",
      "C:\\Users\\alipe\\anaconda3\\lib\\site-packages\\sklearn\\svm\\_base.py:976: ConvergenceWarning: Liblinear failed to converge, increase the number of iterations.\n",
      "  warnings.warn(\"Liblinear failed to converge, increase \"\n",
      "C:\\Users\\alipe\\anaconda3\\lib\\site-packages\\sklearn\\svm\\_base.py:976: ConvergenceWarning: Liblinear failed to converge, increase the number of iterations.\n",
      "  warnings.warn(\"Liblinear failed to converge, increase \"\n",
      "C:\\Users\\alipe\\anaconda3\\lib\\site-packages\\sklearn\\svm\\_base.py:976: ConvergenceWarning: Liblinear failed to converge, increase the number of iterations.\n",
      "  warnings.warn(\"Liblinear failed to converge, increase \"\n",
      "  param_C  mean_test_Accuracy  mean_test_Precision  mean_test_Recall  \\\n",
      "0     0.3            0.542373             0.535141          0.950724   \n",
      "1     0.5            0.476154             0.548495          0.010156   \n",
      "2     0.7            0.515084             0.547193          0.619682   \n",
      "\n",
      "   rank_test_Precision  \n",
      "0                    3  \n",
      "1                    1  \n",
      "2                    2  \n",
      "C:\\Users\\alipe\\anaconda3\\lib\\site-packages\\sklearn\\svm\\_base.py:976: ConvergenceWarning: Liblinear failed to converge, increase the number of iterations.\n",
      "  warnings.warn(\"Liblinear failed to converge, increase \"\n"
     ]
    }
   ],
   "source": [
    "grid_svm = grid_search_svm(train_bow_resample, train_targ_1d)"
   ]
  },
  {
   "cell_type": "code",
   "execution_count": 63,
   "metadata": {},
   "outputs": [
    {
     "output_type": "stream",
     "name": "stdout",
     "text": [
      "\n    Accuracy: 0.37\n    Precision: 0.14\n    Recall: 0.83\n    F1 score: 0.23\n    ROC AUC: 0.57\n    \n"
     ]
    }
   ],
   "source": [
    "y_pred_bow_test = grid_svm.best_estimator_.predict(test_bow_df)\n",
    "print_clf_metrics(test_targ_1d, y_pred_bow_test)"
   ]
  },
  {
   "cell_type": "code",
   "execution_count": 64,
   "metadata": {},
   "outputs": [
    {
     "output_type": "stream",
     "name": "stdout",
     "text": [
      "  param_C  mean_test_Accuracy  mean_test_Precision  mean_test_Recall  \\\n0     0.3            0.600223             0.598285          0.753069   \n1     0.5            0.600581             0.598762          0.753035   \n2     0.7            0.599794             0.598281          0.751599   \n\n   rank_test_Precision  \n0                    2  \n1                    1  \n2                    3  \n"
     ]
    }
   ],
   "source": [
    "grid_svm_cbow = grid_search_svm(train_cbow_resample, train_targ_1d)"
   ]
  },
  {
   "cell_type": "code",
   "execution_count": 65,
   "metadata": {},
   "outputs": [
    {
     "output_type": "stream",
     "name": "stdout",
     "text": [
      "\n    Accuracy: 0.45\n    Precision: 0.14\n    Recall: 0.76\n    F1 score: 0.24\n    ROC AUC: 0.59\n    \n"
     ]
    }
   ],
   "source": [
    "y_pred_cbow_test = grid_svm_cbow.best_estimator_.predict(test_cbow_df)\n",
    "print_clf_metrics(test_targ_1d, y_pred_cbow_test)"
   ]
  },
  {
   "cell_type": "code",
   "execution_count": 66,
   "metadata": {},
   "outputs": [
    {
     "output_type": "stream",
     "name": "stderr",
     "text": [
      "C:\\Users\\alipe\\anaconda3\\lib\\site-packages\\sklearn\\svm\\_base.py:976: ConvergenceWarning: Liblinear failed to converge, increase the number of iterations.\n",
      "  warnings.warn(\"Liblinear failed to converge, increase \"\n",
      "C:\\Users\\alipe\\anaconda3\\lib\\site-packages\\sklearn\\svm\\_base.py:976: ConvergenceWarning: Liblinear failed to converge, increase the number of iterations.\n",
      "  warnings.warn(\"Liblinear failed to converge, increase \"\n",
      "C:\\Users\\alipe\\anaconda3\\lib\\site-packages\\sklearn\\svm\\_base.py:976: ConvergenceWarning: Liblinear failed to converge, increase the number of iterations.\n",
      "  warnings.warn(\"Liblinear failed to converge, increase \"\n",
      "C:\\Users\\alipe\\anaconda3\\lib\\site-packages\\sklearn\\svm\\_base.py:976: ConvergenceWarning: Liblinear failed to converge, increase the number of iterations.\n",
      "  warnings.warn(\"Liblinear failed to converge, increase \"\n",
      "C:\\Users\\alipe\\anaconda3\\lib\\site-packages\\sklearn\\svm\\_base.py:976: ConvergenceWarning: Liblinear failed to converge, increase the number of iterations.\n",
      "  warnings.warn(\"Liblinear failed to converge, increase \"\n",
      "C:\\Users\\alipe\\anaconda3\\lib\\site-packages\\sklearn\\svm\\_base.py:976: ConvergenceWarning: Liblinear failed to converge, increase the number of iterations.\n",
      "  warnings.warn(\"Liblinear failed to converge, increase \"\n",
      "C:\\Users\\alipe\\anaconda3\\lib\\site-packages\\sklearn\\svm\\_base.py:976: ConvergenceWarning: Liblinear failed to converge, increase the number of iterations.\n",
      "  warnings.warn(\"Liblinear failed to converge, increase \"\n",
      "C:\\Users\\alipe\\anaconda3\\lib\\site-packages\\sklearn\\svm\\_base.py:976: ConvergenceWarning: Liblinear failed to converge, increase the number of iterations.\n",
      "  warnings.warn(\"Liblinear failed to converge, increase \"\n",
      "C:\\Users\\alipe\\anaconda3\\lib\\site-packages\\sklearn\\svm\\_base.py:976: ConvergenceWarning: Liblinear failed to converge, increase the number of iterations.\n",
      "  warnings.warn(\"Liblinear failed to converge, increase \"\n",
      "  param_C  mean_test_Accuracy  mean_test_Precision  mean_test_Recall  \\\n",
      "0     0.3            0.473257             0.586346          0.199631   \n",
      "1     0.5            0.477012             0.552989          0.012789   \n",
      "2     0.7            0.495414             0.539898          0.337608   \n",
      "\n",
      "   rank_test_Precision  \n",
      "0                    1  \n",
      "1                    2  \n",
      "2                    3  \n",
      "C:\\Users\\alipe\\anaconda3\\lib\\site-packages\\sklearn\\svm\\_base.py:976: ConvergenceWarning: Liblinear failed to converge, increase the number of iterations.\n",
      "  warnings.warn(\"Liblinear failed to converge, increase \"\n"
     ]
    }
   ],
   "source": [
    "grid_svm_ngrams = grid_search_svm(train_2gram_resample, train_targ_1d)"
   ]
  },
  {
   "cell_type": "code",
   "execution_count": 67,
   "metadata": {},
   "outputs": [
    {
     "output_type": "stream",
     "name": "stdout",
     "text": [
      "\n    Accuracy: 0.88\n    Precision: 0.00\n    Recall: 0.00\n    F1 score: 0.00\n    ROC AUC: 0.50\n    \n"
     ]
    }
   ],
   "source": [
    "y_pred_ngram_test = grid_svm_ngrams.best_estimator_.predict(test_ngram_arr)\n",
    "print_clf_metrics(test_targ_1d, y_pred_ngram_test)"
   ]
  },
  {
   "cell_type": "code",
   "execution_count": null,
   "metadata": {},
   "outputs": [],
   "source": []
  }
 ],
 "metadata": {
  "kernelspec": {
   "name": "python385jvsc74a57bd0ba539312d09a2ffa8c7e90eb1ed4fb57b0b5103be99f6c8fe3af2b5222ff8312",
   "display_name": "Python 3.8.5 64-bit ('base': conda)"
  },
  "language_info": {
   "codemirror_mode": {
    "name": "ipython",
    "version": 3
   },
   "file_extension": ".py",
   "mimetype": "text/x-python",
   "name": "python",
   "nbconvert_exporter": "python",
   "pygments_lexer": "ipython3",
   "version": "3.8.5"
  }
 },
 "nbformat": 4,
 "nbformat_minor": 4
}