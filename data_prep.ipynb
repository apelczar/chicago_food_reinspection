{
 "metadata": {
  "language_info": {
   "codemirror_mode": {
    "name": "ipython",
    "version": 3
   },
   "file_extension": ".py",
   "mimetype": "text/x-python",
   "name": "python",
   "nbconvert_exporter": "python",
   "pygments_lexer": "ipython3",
   "version": "3.8.5-final"
  },
  "orig_nbformat": 2,
  "kernelspec": {
   "name": "python385jvsc74a57bd0ba539312d09a2ffa8c7e90eb1ed4fb57b0b5103be99f6c8fe3af2b5222ff8312",
   "display_name": "Python 3.8.5 64-bit (conda)"
  }
 },
 "nbformat": 4,
 "nbformat_minor": 2,
 "cells": [
  {
   "cell_type": "code",
   "execution_count": 1,
   "metadata": {},
   "outputs": [],
   "source": [
    "import numpy as np\n",
    "import pandas as pd\n",
    "from sodapy import Socrata"
   ]
  },
  {
   "cell_type": "code",
   "execution_count": 2,
   "metadata": {},
   "outputs": [
    {
     "output_type": "stream",
     "name": "stderr",
     "text": [
      "WARNING:root:Requests made without an app_token will be subject to strict throttling limits.\n"
     ]
    },
    {
     "output_type": "execute_result",
     "data": {
      "text/plain": [
       "  inspection_id                  dba_name              aka_name license_  \\\n",
       "0       2493173      PIEROGI HEAVEN, INC.        PIEROGI HEAVEN  2022158   \n",
       "1       2497619          CRUSHED BY GIANT      CRUSHED BY GIANT  2647349   \n",
       "2       2497613  MONARCA P.L.A.C.E .7 INC  MONARCA P.L.A.C.E. 7  2391062   \n",
       "3       2497603       EDDIE V'S WILD FISH   EDDIE V'S WILD FISH  2428608   \n",
       "4       2497593              BAKE FOR ME!          BAKE FOR ME!  2443317   \n",
       "\n",
       "  facility_type           risk              address     city state    zip  \\\n",
       "0    Restaurant  Risk 1 (High)      169 N WELLS ST   CHICAGO    IL  60606   \n",
       "1    Restaurant  Risk 1 (High)  600 N MICHIGAN AVE   CHICAGO    IL  60611   \n",
       "2    Restaurant  Risk 1 (High)  4553 S ASHLAND AVE   CHICAGO    IL  60609   \n",
       "3    Restaurant  Risk 1 (High)       521 N RUSH ST   CHICAGO    IL  60611   \n",
       "4        Bakery  Risk 1 (High)   4305 S HALSTED ST   CHICAGO    IL  60609   \n",
       "\n",
       "           inspection_date inspection_type          results  \\\n",
       "0  2021-03-18T00:00:00.000         Canvass  Out of Business   \n",
       "1  2021-03-31T00:00:00.000  Non-Inspection         No Entry   \n",
       "2  2021-03-31T00:00:00.000  Non-Inspection         No Entry   \n",
       "3  2021-03-31T00:00:00.000         Canvass             Pass   \n",
       "4  2021-03-31T00:00:00.000       Complaint             Fail   \n",
       "\n",
       "             latitude           longitude  \\\n",
       "0   41.88507356203613  -87.63376475726596   \n",
       "1   41.89259322553828   -87.6243340479495   \n",
       "2   41.81068114659683   -87.6648796277618   \n",
       "3   41.89167129985412  -87.62522472785261   \n",
       "4  41.816000608796905  -87.64557477487227   \n",
       "\n",
       "                                            location  \\\n",
       "0  {'latitude': '-87.63376475726596', 'longitude'...   \n",
       "1  {'latitude': '-87.6243340479495', 'longitude':...   \n",
       "2  {'latitude': '-87.6648796277618', 'longitude':...   \n",
       "3  {'latitude': '-87.62522472785261', 'longitude'...   \n",
       "4  {'latitude': '-87.64557477487227', 'longitude'...   \n",
       "\n",
       "                                          violations  \n",
       "0                                                NaN  \n",
       "1                                                NaN  \n",
       "2                                                NaN  \n",
       "3  55. PHYSICAL FACILITIES INSTALLED, MAINTAINED ...  \n",
       "4  3. MANAGEMENT, FOOD EMPLOYEE AND CONDITIONAL E...  "
      ],
      "text/html": "<div>\n<style scoped>\n    .dataframe tbody tr th:only-of-type {\n        vertical-align: middle;\n    }\n\n    .dataframe tbody tr th {\n        vertical-align: top;\n    }\n\n    .dataframe thead th {\n        text-align: right;\n    }\n</style>\n<table border=\"1\" class=\"dataframe\">\n  <thead>\n    <tr style=\"text-align: right;\">\n      <th></th>\n      <th>inspection_id</th>\n      <th>dba_name</th>\n      <th>aka_name</th>\n      <th>license_</th>\n      <th>facility_type</th>\n      <th>risk</th>\n      <th>address</th>\n      <th>city</th>\n      <th>state</th>\n      <th>zip</th>\n      <th>inspection_date</th>\n      <th>inspection_type</th>\n      <th>results</th>\n      <th>latitude</th>\n      <th>longitude</th>\n      <th>location</th>\n      <th>violations</th>\n    </tr>\n  </thead>\n  <tbody>\n    <tr>\n      <th>0</th>\n      <td>2493173</td>\n      <td>PIEROGI HEAVEN, INC.</td>\n      <td>PIEROGI HEAVEN</td>\n      <td>2022158</td>\n      <td>Restaurant</td>\n      <td>Risk 1 (High)</td>\n      <td>169 N WELLS ST</td>\n      <td>CHICAGO</td>\n      <td>IL</td>\n      <td>60606</td>\n      <td>2021-03-18T00:00:00.000</td>\n      <td>Canvass</td>\n      <td>Out of Business</td>\n      <td>41.88507356203613</td>\n      <td>-87.63376475726596</td>\n      <td>{'latitude': '-87.63376475726596', 'longitude'...</td>\n      <td>NaN</td>\n    </tr>\n    <tr>\n      <th>1</th>\n      <td>2497619</td>\n      <td>CRUSHED BY GIANT</td>\n      <td>CRUSHED BY GIANT</td>\n      <td>2647349</td>\n      <td>Restaurant</td>\n      <td>Risk 1 (High)</td>\n      <td>600 N MICHIGAN AVE</td>\n      <td>CHICAGO</td>\n      <td>IL</td>\n      <td>60611</td>\n      <td>2021-03-31T00:00:00.000</td>\n      <td>Non-Inspection</td>\n      <td>No Entry</td>\n      <td>41.89259322553828</td>\n      <td>-87.6243340479495</td>\n      <td>{'latitude': '-87.6243340479495', 'longitude':...</td>\n      <td>NaN</td>\n    </tr>\n    <tr>\n      <th>2</th>\n      <td>2497613</td>\n      <td>MONARCA P.L.A.C.E .7 INC</td>\n      <td>MONARCA P.L.A.C.E. 7</td>\n      <td>2391062</td>\n      <td>Restaurant</td>\n      <td>Risk 1 (High)</td>\n      <td>4553 S ASHLAND AVE</td>\n      <td>CHICAGO</td>\n      <td>IL</td>\n      <td>60609</td>\n      <td>2021-03-31T00:00:00.000</td>\n      <td>Non-Inspection</td>\n      <td>No Entry</td>\n      <td>41.81068114659683</td>\n      <td>-87.6648796277618</td>\n      <td>{'latitude': '-87.6648796277618', 'longitude':...</td>\n      <td>NaN</td>\n    </tr>\n    <tr>\n      <th>3</th>\n      <td>2497603</td>\n      <td>EDDIE V'S WILD FISH</td>\n      <td>EDDIE V'S WILD FISH</td>\n      <td>2428608</td>\n      <td>Restaurant</td>\n      <td>Risk 1 (High)</td>\n      <td>521 N RUSH ST</td>\n      <td>CHICAGO</td>\n      <td>IL</td>\n      <td>60611</td>\n      <td>2021-03-31T00:00:00.000</td>\n      <td>Canvass</td>\n      <td>Pass</td>\n      <td>41.89167129985412</td>\n      <td>-87.62522472785261</td>\n      <td>{'latitude': '-87.62522472785261', 'longitude'...</td>\n      <td>55. PHYSICAL FACILITIES INSTALLED, MAINTAINED ...</td>\n    </tr>\n    <tr>\n      <th>4</th>\n      <td>2497593</td>\n      <td>BAKE FOR ME!</td>\n      <td>BAKE FOR ME!</td>\n      <td>2443317</td>\n      <td>Bakery</td>\n      <td>Risk 1 (High)</td>\n      <td>4305 S HALSTED ST</td>\n      <td>CHICAGO</td>\n      <td>IL</td>\n      <td>60609</td>\n      <td>2021-03-31T00:00:00.000</td>\n      <td>Complaint</td>\n      <td>Fail</td>\n      <td>41.816000608796905</td>\n      <td>-87.64557477487227</td>\n      <td>{'latitude': '-87.64557477487227', 'longitude'...</td>\n      <td>3. MANAGEMENT, FOOD EMPLOYEE AND CONDITIONAL E...</td>\n    </tr>\n  </tbody>\n</table>\n</div>"
     },
     "metadata": {},
     "execution_count": 2
    }
   ],
   "source": [
    "#Make API call to City of Chicago Open Data Portal\n",
    "#Include only inspections prior to 3/31/2021\n",
    "client = Socrata(\"data.cityofchicago.org\", None)\n",
    "results = client.get(\"4ijn-s7e5\", where=\"inspection_date < '2021-04-01T00:00:00.000'\", limit=100000000)\n",
    "\n",
    "inspections_df = pd.DataFrame.from_records(results)\n",
    "inspections_df.head()"
   ]
  },
  {
   "cell_type": "code",
   "execution_count": 3,
   "metadata": {},
   "outputs": [
    {
     "output_type": "execute_result",
     "data": {
      "text/plain": [
       "array(['Canvass', 'Non-Inspection', 'Complaint', 'License',\n",
       "       'Canvass Re-Inspection', 'Complaint Re-Inspection',\n",
       "       'License Re-Inspection', 'Short Form Complaint',\n",
       "       'Recent Inspection', 'Suspected Food Poisoning', 'Not Ready',\n",
       "       'Consultation', 'Task Force Liquor 1475', 'License-Task Force',\n",
       "       'Complaint-Fire Re-inspection', 'Complaint-Fire', 'Tag Removal',\n",
       "       'Out of Business', 'No Entry',\n",
       "       'Suspected Food Poisoning Re-inspection',\n",
       "       'TASK FORCE LIQUOR (1481)', 'TASK FORCE LIQUOR 1474',\n",
       "       'Package Liquor 1474', 'TASK FORCE PACKAGE GOODS 1474',\n",
       "       'OFFICE ASSIGNMENT', 'COVID COMPLAINT',\n",
       "       'Special Events (Festivals)', 'Recent inspection',\n",
       "       'fire complaint', 'FIRE', nan, 'Short Form Fire-Complaint',\n",
       "       'KITCHEN CLOSED FOR RENOVATION', 'O.B.', 'CORRECTIVE ACTION',\n",
       "       'OWNER SUSPENDED OPERATION/LICENSE', 'LICENSE CANCELED BY OWNER',\n",
       "       'LICENSE CONSULTATION', 'License consultation',\n",
       "       'Illegal Operation', 'Pre-License Consultation',\n",
       "       'CANVASS SCHOOL/SPECIAL EVENT', 'CANVASS SPECIAL EVENTS',\n",
       "       'TWO PEOPLE ATE AND GOT SICK.', 'OUT OF BUSINESS', 'No entry',\n",
       "       'NO ENTRY', 'TASK FORCE LIQUOR 1470', 'FIRE/COMPLAIN',\n",
       "       'Sample Collection', 'license task 1474',\n",
       "       'Task Force for liquor 1474', '1315 license reinspection',\n",
       "       'Task force liquor inspection 1474', 'ADDENDUM', 'CANVAS',\n",
       "       'no entry', 'SFP', 'Task Force Liquor Catering', 'expansion',\n",
       "       'TASK FORCE NIGHT', 'SFP/COMPLAINT', 'SFP/Complaint',\n",
       "       'SMOKING COMPLAINT', 'TAVERN 1470', 'NO ENTRY-SHORT COMPLAINT)',\n",
       "       'TASKFORCE', 'LICENSE REQUEST', 'LICENSE RENEWAL FOR DAYCARE',\n",
       "       'CANVASS', 'SFP RECENTLY INSPECTED',\n",
       "       'CANVASS RE INSPECTION OF CLOSE UP',\n",
       "       'LICENSE RENEWAL INSPECTION FOR DAYCARE', 'KIDS CAFE',\n",
       "       'task force(1470) liquor tavern',\n",
       "       'LICENSE TASK FORCE / NOT -FOR-PROFIT CLU', 'LICENSE DAYCARE 1586',\n",
       "       'LICENSE TASK FORCE / NOT -FOR-PROFIT CLUB', 'CITF',\n",
       "       'LICENSE/NOT READY', 'LIQUOR CATERING', 'Summer Feeding',\n",
       "       'finish complaint inspection from 5-18-10', 'Duplicated',\n",
       "       'TASK FORCE PACKAGE LIQUOR', 'CHANGED COURT DATE',\n",
       "       'DAY CARE LICENSE RENEWAL', 'CLOSE-UP/COMPLAINT REINSPECTION',\n",
       "       'citation re-issued', 'TASTE OF CHICAGO', 'error save',\n",
       "       'CANVASS/SPECIAL EVENT', 'LICENSE', 'LICENSE WRONG ADDRESS',\n",
       "       'HACCP QUESTIONAIRE', 'out ofbusiness',\n",
       "       'RE-INSPECTION OF CLOSE-UP', 'task force', 'CANVASS FOR RIB FEST',\n",
       "       'SPECIAL TASK FORCE', 'sfp/complaint', 'REINSPECTION',\n",
       "       'REINSPECTION OF 48 HOUR NOTICE', 'LIQOUR TASK FORCE NOT READY',\n",
       "       'RECALL INSPECTION', 'POSSIBLE FBI', 'Special Task Force',\n",
       "       'license', 'TASK FORCE NOT READY', 'Business Not Located',\n",
       "       \"Kids Cafe'\"], dtype=object)"
      ]
     },
     "metadata": {},
     "execution_count": 3
    }
   ],
   "source": [
    "inspections_df[\"inspection_type\"].unique()"
   ]
  },
  {
   "cell_type": "code",
   "execution_count": 4,
   "metadata": {},
   "outputs": [
    {
     "output_type": "execute_result",
     "data": {
      "text/plain": [
       "(41456, 18)"
      ]
     },
     "metadata": {},
     "execution_count": 4
    }
   ],
   "source": [
    "#Take only re-inspections\n",
    "inspections_df['inspection_type_clean'] = inspections_df['inspection_type'].str.lower()\n",
    "inspections_df['inspection_type_clean'] = inspections_df['inspection_type_clean'].str.replace('-', '')\n",
    "inspections_df['inspection_type_clean'] = inspections_df['inspection_type_clean'].str.replace('re inspection', 'reinspection')\n",
    "\n",
    "#inspections_df[inspections_df['inspection_type_clean'].isna()]\n",
    "#One record is missing inspection type; will drop\n",
    "inspections_df = inspections_df.dropna(subset=['inspection_type_clean'])\n",
    "#inspections_df['inspection_type_clean'].unique()\n",
    "\n",
    "reinspections_df = inspections_df[inspections_df['inspection_type_clean'].str.contains('reinspection')]\n",
    "reinspections_df.shape"
   ]
  },
  {
   "cell_type": "code",
   "execution_count": 5,
   "metadata": {},
   "outputs": [
    {
     "output_type": "execute_result",
     "data": {
      "text/plain": [
       "(218256, 18)"
      ]
     },
     "metadata": {},
     "execution_count": 5
    }
   ],
   "source": [
    "inspections_df.shape"
   ]
  },
  {
   "cell_type": "code",
   "execution_count": 6,
   "metadata": {},
   "outputs": [
    {
     "output_type": "execute_result",
     "data": {
      "text/plain": [
       "(494335, 31)"
      ]
     },
     "metadata": {},
     "execution_count": 6
    }
   ],
   "source": [
    "#matching steps:\n",
    "#merge full inspections_df with reinspections_df\n",
    "#delete where inspection_id = reinspection_id\n",
    "#group by ID of reinspection\n",
    "#within each group, retain only inspection with closest date before (but not equal to) reinspection\n",
    "full_merge = inspections_df.merge(reinspections_df, on=['dba_name', 'address', 'license_', 'latitude', 'longitude'],\n",
    "                                    suffixes=('_orig', '_re'))\n",
    "full_merge.shape"
   ]
  },
  {
   "cell_type": "code",
   "execution_count": 7,
   "metadata": {},
   "outputs": [
    {
     "output_type": "execute_result",
     "data": {
      "text/plain": [
       "Index(['inspection_id_orig', 'dba_name', 'aka_name_orig', 'license_',\n",
       "       'facility_type_orig', 'risk_orig', 'address', 'city_orig', 'state_orig',\n",
       "       'zip_orig', 'inspection_date_orig', 'inspection_type_orig',\n",
       "       'results_orig', 'latitude', 'longitude', 'location_orig',\n",
       "       'violations_orig', 'inspection_type_clean_orig', 'inspection_id_re',\n",
       "       'aka_name_re', 'facility_type_re', 'risk_re', 'city_re', 'state_re',\n",
       "       'zip_re', 'inspection_date_re', 'inspection_type_re', 'results_re',\n",
       "       'location_re', 'violations_re', 'inspection_type_clean_re'],\n",
       "      dtype='object')"
      ]
     },
     "metadata": {},
     "execution_count": 7
    }
   ],
   "source": [
    "full_merge.columns"
   ]
  },
  {
   "cell_type": "code",
   "execution_count": 8,
   "metadata": {},
   "outputs": [
    {
     "output_type": "execute_result",
     "data": {
      "text/plain": [
       "(452879, 31)"
      ]
     },
     "metadata": {},
     "execution_count": 8
    }
   ],
   "source": [
    "full_merge_clean = full_merge[full_merge['inspection_id_orig'] != full_merge['inspection_id_re']]\n",
    "full_merge_clean.shape"
   ]
  },
  {
   "cell_type": "code",
   "execution_count": 9,
   "metadata": {},
   "outputs": [
    {
     "output_type": "stream",
     "name": "stderr",
     "text": [
      "<ipython-input-9-2341921e68a0>:1: SettingWithCopyWarning: \nA value is trying to be set on a copy of a slice from a DataFrame.\nTry using .loc[row_indexer,col_indexer] = value instead\n\nSee the caveats in the documentation: https://pandas.pydata.org/pandas-docs/stable/user_guide/indexing.html#returning-a-view-versus-a-copy\n  full_merge_clean['date_orig'] = pd.to_datetime(full_merge_clean['inspection_date_orig'])\n<ipython-input-9-2341921e68a0>:2: SettingWithCopyWarning: \nA value is trying to be set on a copy of a slice from a DataFrame.\nTry using .loc[row_indexer,col_indexer] = value instead\n\nSee the caveats in the documentation: https://pandas.pydata.org/pandas-docs/stable/user_guide/indexing.html#returning-a-view-versus-a-copy\n  full_merge_clean['date_re'] = pd.to_datetime(full_merge_clean['inspection_date_re'])\n"
     ]
    }
   ],
   "source": [
    "full_merge_clean['date_orig'] = pd.to_datetime(full_merge_clean['inspection_date_orig'])\n",
    "full_merge_clean['date_re'] = pd.to_datetime(full_merge_clean['inspection_date_re'])"
   ]
  },
  {
   "cell_type": "code",
   "execution_count": 10,
   "metadata": {},
   "outputs": [
    {
     "output_type": "stream",
     "name": "stderr",
     "text": [
      "<ipython-input-10-6563173d44f8>:2: SettingWithCopyWarning: \nA value is trying to be set on a copy of a slice from a DataFrame.\nTry using .loc[row_indexer,col_indexer] = value instead\n\nSee the caveats in the documentation: https://pandas.pydata.org/pandas-docs/stable/user_guide/indexing.html#returning-a-view-versus-a-copy\n  full_merge_clean['time_between'] = full_merge_clean['date_orig'] - full_merge_clean['date_re']\n<ipython-input-10-6563173d44f8>:3: SettingWithCopyWarning: \nA value is trying to be set on a copy of a slice from a DataFrame.\nTry using .loc[row_indexer,col_indexer] = value instead\n\nSee the caveats in the documentation: https://pandas.pydata.org/pandas-docs/stable/user_guide/indexing.html#returning-a-view-versus-a-copy\n  full_merge_clean['time_between'] = full_merge_clean['time_between'].dt.days\n"
     ]
    },
    {
     "output_type": "execute_result",
     "data": {
      "text/plain": [
       "(248091, 34)"
      ]
     },
     "metadata": {},
     "execution_count": 10
    }
   ],
   "source": [
    "#remove rows where original inspection occurred after re-inspection\n",
    "full_merge_clean['time_between'] = full_merge_clean['date_orig'] - full_merge_clean['date_re']\n",
    "full_merge_clean['time_between'] = full_merge_clean['time_between'].dt.days\n",
    "full_merge_clean = full_merge_clean[full_merge_clean['time_between'] <= 0]\n",
    "full_merge_clean.shape"
   ]
  },
  {
   "cell_type": "code",
   "execution_count": 11,
   "metadata": {},
   "outputs": [
    {
     "output_type": "execute_result",
     "data": {
      "text/plain": [
       "   inspection_id_orig                  dba_name         aka_name_orig  \\\n",
       "14            1684274      PIEROGI HEAVEN, INC.        PIEROGI HEAVEN   \n",
       "19            1447377      PIEROGI HEAVEN, INC.        PIEROGI HEAVEN   \n",
       "33            2282269  MONARCA P.L.A.C.E .7 INC  MONARCA P.L.A.C.E. 7   \n",
       "38            2282633  MONARCA P.L.A.C.E .7 INC  MONARCA P.L.A.C.E. 7   \n",
       "43            2282806  MONARCA P.L.A.C.E .7 INC  MONARCA P.L.A.C.E. 7   \n",
       "\n",
       "   license_ facility_type_orig      risk_orig              address city_orig  \\\n",
       "14  2022158         Restaurant  Risk 1 (High)      169 N WELLS ST    CHICAGO   \n",
       "19  2022158         Restaurant  Risk 1 (High)      169 N WELLS ST    CHICAGO   \n",
       "33  2391062         Restaurant  Risk 1 (High)  4553 S ASHLAND AVE    CHICAGO   \n",
       "38  2391062         Restaurant  Risk 1 (High)  4553 S ASHLAND AVE    CHICAGO   \n",
       "43  2391062         Restaurant  Risk 1 (High)  4553 S ASHLAND AVE    CHICAGO   \n",
       "\n",
       "   state_orig zip_orig  ... zip_re       inspection_date_re  \\\n",
       "14         IL    60606  ...  60606  2016-03-24T00:00:00.000   \n",
       "19         IL    60606  ...  60606  2014-07-30T00:00:00.000   \n",
       "33         IL    60609  ...  60609  2019-04-04T00:00:00.000   \n",
       "38         IL    60609  ...  60609  2019-04-08T00:00:00.000   \n",
       "43         IL    60609  ...  60609  2019-04-10T00:00:00.000   \n",
       "\n",
       "       inspection_type_re          results_re  \\\n",
       "14  Canvass Re-Inspection                Pass   \n",
       "19  Canvass Re-Inspection                Pass   \n",
       "33  Canvass Re-Inspection            No Entry   \n",
       "38  Canvass Re-Inspection                Fail   \n",
       "43  Canvass Re-Inspection  Pass w/ Conditions   \n",
       "\n",
       "                                          location_re  \\\n",
       "14  {'latitude': '-87.63376475726596', 'longitude'...   \n",
       "19  {'latitude': '-87.63376475726596', 'longitude'...   \n",
       "33  {'latitude': '-87.6648796277618', 'longitude':...   \n",
       "38  {'latitude': '-87.6648796277618', 'longitude':...   \n",
       "43  {'latitude': '-87.6648796277618', 'longitude':...   \n",
       "\n",
       "                                        violations_re  \\\n",
       "14                                                NaN   \n",
       "19  32. FOOD AND NON-FOOD CONTACT SURFACES PROPERL...   \n",
       "33                                                NaN   \n",
       "38  3. MANAGEMENT, FOOD EMPLOYEE AND CONDITIONAL E...   \n",
       "43  3. MANAGEMENT, FOOD EMPLOYEE AND CONDITIONAL E...   \n",
       "\n",
       "   inspection_type_clean_re  date_orig    date_re time_between  \n",
       "14     canvass reinspection 2016-03-17 2016-03-24           -7  \n",
       "19     canvass reinspection 2014-07-22 2014-07-30           -8  \n",
       "33     canvass reinspection 2019-03-28 2019-04-04           -7  \n",
       "38     canvass reinspection 2019-04-04 2019-04-08           -4  \n",
       "43     canvass reinspection 2019-04-08 2019-04-10           -2  \n",
       "\n",
       "[5 rows x 34 columns]"
      ],
      "text/html": "<div>\n<style scoped>\n    .dataframe tbody tr th:only-of-type {\n        vertical-align: middle;\n    }\n\n    .dataframe tbody tr th {\n        vertical-align: top;\n    }\n\n    .dataframe thead th {\n        text-align: right;\n    }\n</style>\n<table border=\"1\" class=\"dataframe\">\n  <thead>\n    <tr style=\"text-align: right;\">\n      <th></th>\n      <th>inspection_id_orig</th>\n      <th>dba_name</th>\n      <th>aka_name_orig</th>\n      <th>license_</th>\n      <th>facility_type_orig</th>\n      <th>risk_orig</th>\n      <th>address</th>\n      <th>city_orig</th>\n      <th>state_orig</th>\n      <th>zip_orig</th>\n      <th>...</th>\n      <th>zip_re</th>\n      <th>inspection_date_re</th>\n      <th>inspection_type_re</th>\n      <th>results_re</th>\n      <th>location_re</th>\n      <th>violations_re</th>\n      <th>inspection_type_clean_re</th>\n      <th>date_orig</th>\n      <th>date_re</th>\n      <th>time_between</th>\n    </tr>\n  </thead>\n  <tbody>\n    <tr>\n      <th>14</th>\n      <td>1684274</td>\n      <td>PIEROGI HEAVEN, INC.</td>\n      <td>PIEROGI HEAVEN</td>\n      <td>2022158</td>\n      <td>Restaurant</td>\n      <td>Risk 1 (High)</td>\n      <td>169 N WELLS ST</td>\n      <td>CHICAGO</td>\n      <td>IL</td>\n      <td>60606</td>\n      <td>...</td>\n      <td>60606</td>\n      <td>2016-03-24T00:00:00.000</td>\n      <td>Canvass Re-Inspection</td>\n      <td>Pass</td>\n      <td>{'latitude': '-87.63376475726596', 'longitude'...</td>\n      <td>NaN</td>\n      <td>canvass reinspection</td>\n      <td>2016-03-17</td>\n      <td>2016-03-24</td>\n      <td>-7</td>\n    </tr>\n    <tr>\n      <th>19</th>\n      <td>1447377</td>\n      <td>PIEROGI HEAVEN, INC.</td>\n      <td>PIEROGI HEAVEN</td>\n      <td>2022158</td>\n      <td>Restaurant</td>\n      <td>Risk 1 (High)</td>\n      <td>169 N WELLS ST</td>\n      <td>CHICAGO</td>\n      <td>IL</td>\n      <td>60606</td>\n      <td>...</td>\n      <td>60606</td>\n      <td>2014-07-30T00:00:00.000</td>\n      <td>Canvass Re-Inspection</td>\n      <td>Pass</td>\n      <td>{'latitude': '-87.63376475726596', 'longitude'...</td>\n      <td>32. FOOD AND NON-FOOD CONTACT SURFACES PROPERL...</td>\n      <td>canvass reinspection</td>\n      <td>2014-07-22</td>\n      <td>2014-07-30</td>\n      <td>-8</td>\n    </tr>\n    <tr>\n      <th>33</th>\n      <td>2282269</td>\n      <td>MONARCA P.L.A.C.E .7 INC</td>\n      <td>MONARCA P.L.A.C.E. 7</td>\n      <td>2391062</td>\n      <td>Restaurant</td>\n      <td>Risk 1 (High)</td>\n      <td>4553 S ASHLAND AVE</td>\n      <td>CHICAGO</td>\n      <td>IL</td>\n      <td>60609</td>\n      <td>...</td>\n      <td>60609</td>\n      <td>2019-04-04T00:00:00.000</td>\n      <td>Canvass Re-Inspection</td>\n      <td>No Entry</td>\n      <td>{'latitude': '-87.6648796277618', 'longitude':...</td>\n      <td>NaN</td>\n      <td>canvass reinspection</td>\n      <td>2019-03-28</td>\n      <td>2019-04-04</td>\n      <td>-7</td>\n    </tr>\n    <tr>\n      <th>38</th>\n      <td>2282633</td>\n      <td>MONARCA P.L.A.C.E .7 INC</td>\n      <td>MONARCA P.L.A.C.E. 7</td>\n      <td>2391062</td>\n      <td>Restaurant</td>\n      <td>Risk 1 (High)</td>\n      <td>4553 S ASHLAND AVE</td>\n      <td>CHICAGO</td>\n      <td>IL</td>\n      <td>60609</td>\n      <td>...</td>\n      <td>60609</td>\n      <td>2019-04-08T00:00:00.000</td>\n      <td>Canvass Re-Inspection</td>\n      <td>Fail</td>\n      <td>{'latitude': '-87.6648796277618', 'longitude':...</td>\n      <td>3. MANAGEMENT, FOOD EMPLOYEE AND CONDITIONAL E...</td>\n      <td>canvass reinspection</td>\n      <td>2019-04-04</td>\n      <td>2019-04-08</td>\n      <td>-4</td>\n    </tr>\n    <tr>\n      <th>43</th>\n      <td>2282806</td>\n      <td>MONARCA P.L.A.C.E .7 INC</td>\n      <td>MONARCA P.L.A.C.E. 7</td>\n      <td>2391062</td>\n      <td>Restaurant</td>\n      <td>Risk 1 (High)</td>\n      <td>4553 S ASHLAND AVE</td>\n      <td>CHICAGO</td>\n      <td>IL</td>\n      <td>60609</td>\n      <td>...</td>\n      <td>60609</td>\n      <td>2019-04-10T00:00:00.000</td>\n      <td>Canvass Re-Inspection</td>\n      <td>Pass w/ Conditions</td>\n      <td>{'latitude': '-87.6648796277618', 'longitude':...</td>\n      <td>3. MANAGEMENT, FOOD EMPLOYEE AND CONDITIONAL E...</td>\n      <td>canvass reinspection</td>\n      <td>2019-04-08</td>\n      <td>2019-04-10</td>\n      <td>-2</td>\n    </tr>\n  </tbody>\n</table>\n<p>5 rows × 34 columns</p>\n</div>"
     },
     "metadata": {},
     "execution_count": 11
    }
   ],
   "source": [
    "#full_merge_grp = full_merge_clean.groupby('inspection_id_re')\n",
    "grped = full_merge_clean[full_merge_clean['time_between'] == full_merge_clean.groupby('inspection_id_re')['time_between'].transform('max')]\n",
    "\n",
    "grped.head()"
   ]
  },
  {
   "cell_type": "code",
   "execution_count": 12,
   "metadata": {},
   "outputs": [
    {
     "output_type": "execute_result",
     "data": {
      "text/plain": [
       "(41600, 34)"
      ]
     },
     "metadata": {},
     "execution_count": 12
    }
   ],
   "source": [
    "grped.shape"
   ]
  },
  {
   "cell_type": "code",
   "execution_count": 13,
   "metadata": {},
   "outputs": [
    {
     "output_type": "stream",
     "name": "stdout",
     "text": [
      "(262, 34)\n"
     ]
    },
    {
     "output_type": "execute_result",
     "data": {
      "text/plain": [
       "       inspection_id_orig     inspection_date_orig inspection_id_re  \\\n",
       "4208              2492464  2021-03-05T00:00:00.000          2492814   \n",
       "10966             2472750  2021-01-15T00:00:00.000          2472744   \n",
       "14155             1931653  2016-05-19T00:00:00.000          1931655   \n",
       "19658             2252450  2019-01-10T00:00:00.000          2252797   \n",
       "22896             1307394  2014-04-17T00:00:00.000          1307399   \n",
       "25788             2303973  2019-07-31T00:00:00.000          2304284   \n",
       "34004             1966455  2016-10-14T00:00:00.000          1970656   \n",
       "37084             2484257  2021-01-28T00:00:00.000          2484727   \n",
       "38161             2050307  2017-05-12T00:00:00.000          2050414   \n",
       "41047              233570  2010-05-06T00:00:00.000           233645   \n",
       "41483              154306  2010-03-12T00:00:00.000           154309   \n",
       "56903             1931211  2016-05-19T00:00:00.000          1931711   \n",
       "67157             2213707  2018-08-30T00:00:00.000          2222313   \n",
       "73792             1502173  2014-11-21T00:00:00.000          1516184   \n",
       "80038             1467468  2014-09-09T00:00:00.000          1467490   \n",
       "84113             2321157  2019-11-06T00:00:00.000          2345478   \n",
       "91482             1516051  2015-01-16T00:00:00.000          1516204   \n",
       "94643             2050786  2017-05-19T00:00:00.000          2051156   \n",
       "96461             2240478  2018-11-20T00:00:00.000          2240598   \n",
       "101604            1561377  2015-07-20T00:00:00.000          1447916   \n",
       "\n",
       "             inspection_date_re  time_between  \n",
       "4208    2021-03-12T00:00:00.000            -7  \n",
       "10966   2021-01-15T00:00:00.000             0  \n",
       "14155   2016-05-26T00:00:00.000            -7  \n",
       "19658   2019-01-18T00:00:00.000            -8  \n",
       "22896   2014-04-18T00:00:00.000            -1  \n",
       "25788   2019-08-07T00:00:00.000            -7  \n",
       "34004   2016-11-01T00:00:00.000           -18  \n",
       "37084   2021-02-10T00:00:00.000           -13  \n",
       "38161   2017-05-15T00:00:00.000            -3  \n",
       "41047   2010-05-10T00:00:00.000            -4  \n",
       "41483   2010-03-19T00:00:00.000            -7  \n",
       "56903   2016-05-26T00:00:00.000            -7  \n",
       "67157   2018-09-13T00:00:00.000           -14  \n",
       "73792   2015-01-22T00:00:00.000           -62  \n",
       "80038   2014-09-23T00:00:00.000           -14  \n",
       "84113   2019-11-13T00:00:00.000            -7  \n",
       "91482   2015-01-23T00:00:00.000            -7  \n",
       "94643   2017-05-26T00:00:00.000            -7  \n",
       "96461   2018-11-26T00:00:00.000            -6  \n",
       "101604  2015-07-28T00:00:00.000            -8  "
      ],
      "text/html": "<div>\n<style scoped>\n    .dataframe tbody tr th:only-of-type {\n        vertical-align: middle;\n    }\n\n    .dataframe tbody tr th {\n        vertical-align: top;\n    }\n\n    .dataframe thead th {\n        text-align: right;\n    }\n</style>\n<table border=\"1\" class=\"dataframe\">\n  <thead>\n    <tr style=\"text-align: right;\">\n      <th></th>\n      <th>inspection_id_orig</th>\n      <th>inspection_date_orig</th>\n      <th>inspection_id_re</th>\n      <th>inspection_date_re</th>\n      <th>time_between</th>\n    </tr>\n  </thead>\n  <tbody>\n    <tr>\n      <th>4208</th>\n      <td>2492464</td>\n      <td>2021-03-05T00:00:00.000</td>\n      <td>2492814</td>\n      <td>2021-03-12T00:00:00.000</td>\n      <td>-7</td>\n    </tr>\n    <tr>\n      <th>10966</th>\n      <td>2472750</td>\n      <td>2021-01-15T00:00:00.000</td>\n      <td>2472744</td>\n      <td>2021-01-15T00:00:00.000</td>\n      <td>0</td>\n    </tr>\n    <tr>\n      <th>14155</th>\n      <td>1931653</td>\n      <td>2016-05-19T00:00:00.000</td>\n      <td>1931655</td>\n      <td>2016-05-26T00:00:00.000</td>\n      <td>-7</td>\n    </tr>\n    <tr>\n      <th>19658</th>\n      <td>2252450</td>\n      <td>2019-01-10T00:00:00.000</td>\n      <td>2252797</td>\n      <td>2019-01-18T00:00:00.000</td>\n      <td>-8</td>\n    </tr>\n    <tr>\n      <th>22896</th>\n      <td>1307394</td>\n      <td>2014-04-17T00:00:00.000</td>\n      <td>1307399</td>\n      <td>2014-04-18T00:00:00.000</td>\n      <td>-1</td>\n    </tr>\n    <tr>\n      <th>25788</th>\n      <td>2303973</td>\n      <td>2019-07-31T00:00:00.000</td>\n      <td>2304284</td>\n      <td>2019-08-07T00:00:00.000</td>\n      <td>-7</td>\n    </tr>\n    <tr>\n      <th>34004</th>\n      <td>1966455</td>\n      <td>2016-10-14T00:00:00.000</td>\n      <td>1970656</td>\n      <td>2016-11-01T00:00:00.000</td>\n      <td>-18</td>\n    </tr>\n    <tr>\n      <th>37084</th>\n      <td>2484257</td>\n      <td>2021-01-28T00:00:00.000</td>\n      <td>2484727</td>\n      <td>2021-02-10T00:00:00.000</td>\n      <td>-13</td>\n    </tr>\n    <tr>\n      <th>38161</th>\n      <td>2050307</td>\n      <td>2017-05-12T00:00:00.000</td>\n      <td>2050414</td>\n      <td>2017-05-15T00:00:00.000</td>\n      <td>-3</td>\n    </tr>\n    <tr>\n      <th>41047</th>\n      <td>233570</td>\n      <td>2010-05-06T00:00:00.000</td>\n      <td>233645</td>\n      <td>2010-05-10T00:00:00.000</td>\n      <td>-4</td>\n    </tr>\n    <tr>\n      <th>41483</th>\n      <td>154306</td>\n      <td>2010-03-12T00:00:00.000</td>\n      <td>154309</td>\n      <td>2010-03-19T00:00:00.000</td>\n      <td>-7</td>\n    </tr>\n    <tr>\n      <th>56903</th>\n      <td>1931211</td>\n      <td>2016-05-19T00:00:00.000</td>\n      <td>1931711</td>\n      <td>2016-05-26T00:00:00.000</td>\n      <td>-7</td>\n    </tr>\n    <tr>\n      <th>67157</th>\n      <td>2213707</td>\n      <td>2018-08-30T00:00:00.000</td>\n      <td>2222313</td>\n      <td>2018-09-13T00:00:00.000</td>\n      <td>-14</td>\n    </tr>\n    <tr>\n      <th>73792</th>\n      <td>1502173</td>\n      <td>2014-11-21T00:00:00.000</td>\n      <td>1516184</td>\n      <td>2015-01-22T00:00:00.000</td>\n      <td>-62</td>\n    </tr>\n    <tr>\n      <th>80038</th>\n      <td>1467468</td>\n      <td>2014-09-09T00:00:00.000</td>\n      <td>1467490</td>\n      <td>2014-09-23T00:00:00.000</td>\n      <td>-14</td>\n    </tr>\n    <tr>\n      <th>84113</th>\n      <td>2321157</td>\n      <td>2019-11-06T00:00:00.000</td>\n      <td>2345478</td>\n      <td>2019-11-13T00:00:00.000</td>\n      <td>-7</td>\n    </tr>\n    <tr>\n      <th>91482</th>\n      <td>1516051</td>\n      <td>2015-01-16T00:00:00.000</td>\n      <td>1516204</td>\n      <td>2015-01-23T00:00:00.000</td>\n      <td>-7</td>\n    </tr>\n    <tr>\n      <th>94643</th>\n      <td>2050786</td>\n      <td>2017-05-19T00:00:00.000</td>\n      <td>2051156</td>\n      <td>2017-05-26T00:00:00.000</td>\n      <td>-7</td>\n    </tr>\n    <tr>\n      <th>96461</th>\n      <td>2240478</td>\n      <td>2018-11-20T00:00:00.000</td>\n      <td>2240598</td>\n      <td>2018-11-26T00:00:00.000</td>\n      <td>-6</td>\n    </tr>\n    <tr>\n      <th>101604</th>\n      <td>1561377</td>\n      <td>2015-07-20T00:00:00.000</td>\n      <td>1447916</td>\n      <td>2015-07-28T00:00:00.000</td>\n      <td>-8</td>\n    </tr>\n  </tbody>\n</table>\n</div>"
     },
     "metadata": {},
     "execution_count": 13
    }
   ],
   "source": [
    "duplicates = grped[grped.duplicated('inspection_id_re')]\n",
    "print(duplicates.shape)\n",
    "duplicates[['inspection_id_orig', 'inspection_date_orig', 'inspection_id_re', 'inspection_date_re', 'time_between']].head(20)"
   ]
  },
  {
   "cell_type": "code",
   "execution_count": 14,
   "metadata": {},
   "outputs": [
    {
     "output_type": "execute_result",
     "data": {
      "text/plain": [
       "array(['Fail', 'No Entry', 'Pass w/ Conditions', 'Pass', 'Not Ready',\n",
       "       'Out of Business'], dtype=object)"
      ]
     },
     "metadata": {},
     "execution_count": 14
    }
   ],
   "source": [
    "grped['results_orig'].unique()"
   ]
  },
  {
   "cell_type": "code",
   "execution_count": 15,
   "metadata": {},
   "outputs": [
    {
     "output_type": "execute_result",
     "data": {
      "text/plain": [
       "                    inspection_id_orig  dba_name  aka_name_orig  license_  \\\n",
       "results_orig                                                                \n",
       "Fail                             37853     37853          37419     37851   \n",
       "No Entry                           343       343            338       343   \n",
       "Not Ready                           70        70             70        70   \n",
       "Out of Business                    300       300            297       300   \n",
       "Pass                               596       596            591       596   \n",
       "Pass w/ Conditions                2438      2438           2429      2438   \n",
       "\n",
       "                    facility_type_orig  risk_orig  address  city_orig  \\\n",
       "results_orig                                                            \n",
       "Fail                             37826      37853    37853      37820   \n",
       "No Entry                           343        343      343        343   \n",
       "Not Ready                           70         70       70         70   \n",
       "Out of Business                    298        300      300        300   \n",
       "Pass                               596        596      596        596   \n",
       "Pass w/ Conditions                2438       2438     2438       2436   \n",
       "\n",
       "                    state_orig  zip_orig  ...  zip_re  inspection_date_re  \\\n",
       "results_orig                              ...                               \n",
       "Fail                     37844     37846  ...   37846               37853   \n",
       "No Entry                   343       343  ...     343                 343   \n",
       "Not Ready                   70        70  ...      70                  70   \n",
       "Out of Business            300       300  ...     300                 300   \n",
       "Pass                       596       596  ...     596                 596   \n",
       "Pass w/ Conditions        2438      2437  ...    2437                2438   \n",
       "\n",
       "                    inspection_type_re  results_re  location_re  \\\n",
       "results_orig                                                      \n",
       "Fail                             37853       37853        37724   \n",
       "No Entry                           343         343          343   \n",
       "Not Ready                           70          70           68   \n",
       "Out of Business                    300         300          299   \n",
       "Pass                               596         596          595   \n",
       "Pass w/ Conditions                2438        2438         2433   \n",
       "\n",
       "                    violations_re  inspection_type_clean_re  date_orig  \\\n",
       "results_orig                                                             \n",
       "Fail                        24824                     37853      37853   \n",
       "No Entry                      254                       343        343   \n",
       "Not Ready                      36                        70         70   \n",
       "Out of Business               175                       300        300   \n",
       "Pass                          277                       596        596   \n",
       "Pass w/ Conditions           1803                      2438       2438   \n",
       "\n",
       "                    date_re  time_between  \n",
       "results_orig                               \n",
       "Fail                  37853         37853  \n",
       "No Entry                343           343  \n",
       "Not Ready                70            70  \n",
       "Out of Business         300           300  \n",
       "Pass                    596           596  \n",
       "Pass w/ Conditions     2438          2438  \n",
       "\n",
       "[6 rows x 33 columns]"
      ],
      "text/html": "<div>\n<style scoped>\n    .dataframe tbody tr th:only-of-type {\n        vertical-align: middle;\n    }\n\n    .dataframe tbody tr th {\n        vertical-align: top;\n    }\n\n    .dataframe thead th {\n        text-align: right;\n    }\n</style>\n<table border=\"1\" class=\"dataframe\">\n  <thead>\n    <tr style=\"text-align: right;\">\n      <th></th>\n      <th>inspection_id_orig</th>\n      <th>dba_name</th>\n      <th>aka_name_orig</th>\n      <th>license_</th>\n      <th>facility_type_orig</th>\n      <th>risk_orig</th>\n      <th>address</th>\n      <th>city_orig</th>\n      <th>state_orig</th>\n      <th>zip_orig</th>\n      <th>...</th>\n      <th>zip_re</th>\n      <th>inspection_date_re</th>\n      <th>inspection_type_re</th>\n      <th>results_re</th>\n      <th>location_re</th>\n      <th>violations_re</th>\n      <th>inspection_type_clean_re</th>\n      <th>date_orig</th>\n      <th>date_re</th>\n      <th>time_between</th>\n    </tr>\n    <tr>\n      <th>results_orig</th>\n      <th></th>\n      <th></th>\n      <th></th>\n      <th></th>\n      <th></th>\n      <th></th>\n      <th></th>\n      <th></th>\n      <th></th>\n      <th></th>\n      <th></th>\n      <th></th>\n      <th></th>\n      <th></th>\n      <th></th>\n      <th></th>\n      <th></th>\n      <th></th>\n      <th></th>\n      <th></th>\n      <th></th>\n    </tr>\n  </thead>\n  <tbody>\n    <tr>\n      <th>Fail</th>\n      <td>37853</td>\n      <td>37853</td>\n      <td>37419</td>\n      <td>37851</td>\n      <td>37826</td>\n      <td>37853</td>\n      <td>37853</td>\n      <td>37820</td>\n      <td>37844</td>\n      <td>37846</td>\n      <td>...</td>\n      <td>37846</td>\n      <td>37853</td>\n      <td>37853</td>\n      <td>37853</td>\n      <td>37724</td>\n      <td>24824</td>\n      <td>37853</td>\n      <td>37853</td>\n      <td>37853</td>\n      <td>37853</td>\n    </tr>\n    <tr>\n      <th>No Entry</th>\n      <td>343</td>\n      <td>343</td>\n      <td>338</td>\n      <td>343</td>\n      <td>343</td>\n      <td>343</td>\n      <td>343</td>\n      <td>343</td>\n      <td>343</td>\n      <td>343</td>\n      <td>...</td>\n      <td>343</td>\n      <td>343</td>\n      <td>343</td>\n      <td>343</td>\n      <td>343</td>\n      <td>254</td>\n      <td>343</td>\n      <td>343</td>\n      <td>343</td>\n      <td>343</td>\n    </tr>\n    <tr>\n      <th>Not Ready</th>\n      <td>70</td>\n      <td>70</td>\n      <td>70</td>\n      <td>70</td>\n      <td>70</td>\n      <td>70</td>\n      <td>70</td>\n      <td>70</td>\n      <td>70</td>\n      <td>70</td>\n      <td>...</td>\n      <td>70</td>\n      <td>70</td>\n      <td>70</td>\n      <td>70</td>\n      <td>68</td>\n      <td>36</td>\n      <td>70</td>\n      <td>70</td>\n      <td>70</td>\n      <td>70</td>\n    </tr>\n    <tr>\n      <th>Out of Business</th>\n      <td>300</td>\n      <td>300</td>\n      <td>297</td>\n      <td>300</td>\n      <td>298</td>\n      <td>300</td>\n      <td>300</td>\n      <td>300</td>\n      <td>300</td>\n      <td>300</td>\n      <td>...</td>\n      <td>300</td>\n      <td>300</td>\n      <td>300</td>\n      <td>300</td>\n      <td>299</td>\n      <td>175</td>\n      <td>300</td>\n      <td>300</td>\n      <td>300</td>\n      <td>300</td>\n    </tr>\n    <tr>\n      <th>Pass</th>\n      <td>596</td>\n      <td>596</td>\n      <td>591</td>\n      <td>596</td>\n      <td>596</td>\n      <td>596</td>\n      <td>596</td>\n      <td>596</td>\n      <td>596</td>\n      <td>596</td>\n      <td>...</td>\n      <td>596</td>\n      <td>596</td>\n      <td>596</td>\n      <td>596</td>\n      <td>595</td>\n      <td>277</td>\n      <td>596</td>\n      <td>596</td>\n      <td>596</td>\n      <td>596</td>\n    </tr>\n    <tr>\n      <th>Pass w/ Conditions</th>\n      <td>2438</td>\n      <td>2438</td>\n      <td>2429</td>\n      <td>2438</td>\n      <td>2438</td>\n      <td>2438</td>\n      <td>2438</td>\n      <td>2436</td>\n      <td>2438</td>\n      <td>2437</td>\n      <td>...</td>\n      <td>2437</td>\n      <td>2438</td>\n      <td>2438</td>\n      <td>2438</td>\n      <td>2433</td>\n      <td>1803</td>\n      <td>2438</td>\n      <td>2438</td>\n      <td>2438</td>\n      <td>2438</td>\n    </tr>\n  </tbody>\n</table>\n<p>6 rows × 33 columns</p>\n</div>"
     },
     "metadata": {},
     "execution_count": 15
    }
   ],
   "source": [
    "grped.groupby('results_orig').count()"
   ]
  },
  {
   "cell_type": "code",
   "execution_count": 16,
   "metadata": {},
   "outputs": [
    {
     "output_type": "execute_result",
     "data": {
      "text/plain": [
       "(40291, 34)"
      ]
     },
     "metadata": {},
     "execution_count": 16
    }
   ],
   "source": [
    "grped_clean = grped[(grped['results_orig'] == 'Fail') | (grped['results_orig'] == 'Pass w/ Conditions')]\n",
    "grped_clean.shape"
   ]
  },
  {
   "cell_type": "code",
   "execution_count": 17,
   "metadata": {},
   "outputs": [
    {
     "output_type": "stream",
     "name": "stdout",
     "text": [
      "(69, 34)\n"
     ]
    },
    {
     "output_type": "execute_result",
     "data": {
      "text/plain": [
       "       inspection_id_orig     inspection_date_orig inspection_id_re  \\\n",
       "14155             1931653  2016-05-19T00:00:00.000          1931655   \n",
       "22896             1307394  2014-04-17T00:00:00.000          1307399   \n",
       "34004             1966455  2016-10-14T00:00:00.000          1970656   \n",
       "41047              233570  2010-05-06T00:00:00.000           233645   \n",
       "41483              154306  2010-03-12T00:00:00.000           154309   \n",
       "56903             1931211  2016-05-19T00:00:00.000          1931711   \n",
       "91482             1516051  2015-01-16T00:00:00.000          1516204   \n",
       "110480             580191  2011-04-04T00:00:00.000           580179   \n",
       "110481             580191  2011-04-04T00:00:00.000           580176   \n",
       "110482             580191  2011-04-04T00:00:00.000           580185   \n",
       "110483             580191  2011-04-04T00:00:00.000           580167   \n",
       "110484             580191  2011-04-04T00:00:00.000           580186   \n",
       "110486             580191  2011-04-04T00:00:00.000           580181   \n",
       "110487             580191  2011-04-04T00:00:00.000           580188   \n",
       "110488             580191  2011-04-04T00:00:00.000           580172   \n",
       "110489             580191  2011-04-04T00:00:00.000           580234   \n",
       "110490             580191  2011-04-04T00:00:00.000           580169   \n",
       "110524             580193  2011-04-04T00:00:00.000           580179   \n",
       "110525             580193  2011-04-04T00:00:00.000           580176   \n",
       "110526             580193  2011-04-04T00:00:00.000           580185   \n",
       "\n",
       "             inspection_date_re  time_between  \n",
       "14155   2016-05-26T00:00:00.000            -7  \n",
       "22896   2014-04-18T00:00:00.000            -1  \n",
       "34004   2016-11-01T00:00:00.000           -18  \n",
       "41047   2010-05-10T00:00:00.000            -4  \n",
       "41483   2010-03-19T00:00:00.000            -7  \n",
       "56903   2016-05-26T00:00:00.000            -7  \n",
       "91482   2015-01-23T00:00:00.000            -7  \n",
       "110480  2011-04-04T00:00:00.000             0  \n",
       "110481  2011-04-04T00:00:00.000             0  \n",
       "110482  2011-04-04T00:00:00.000             0  \n",
       "110483  2011-04-04T00:00:00.000             0  \n",
       "110484  2011-04-04T00:00:00.000             0  \n",
       "110486  2011-04-04T00:00:00.000             0  \n",
       "110487  2011-04-04T00:00:00.000             0  \n",
       "110488  2011-04-04T00:00:00.000             0  \n",
       "110489  2011-04-04T00:00:00.000             0  \n",
       "110490  2011-04-04T00:00:00.000             0  \n",
       "110524  2011-04-04T00:00:00.000             0  \n",
       "110525  2011-04-04T00:00:00.000             0  \n",
       "110526  2011-04-04T00:00:00.000             0  "
      ],
      "text/html": "<div>\n<style scoped>\n    .dataframe tbody tr th:only-of-type {\n        vertical-align: middle;\n    }\n\n    .dataframe tbody tr th {\n        vertical-align: top;\n    }\n\n    .dataframe thead th {\n        text-align: right;\n    }\n</style>\n<table border=\"1\" class=\"dataframe\">\n  <thead>\n    <tr style=\"text-align: right;\">\n      <th></th>\n      <th>inspection_id_orig</th>\n      <th>inspection_date_orig</th>\n      <th>inspection_id_re</th>\n      <th>inspection_date_re</th>\n      <th>time_between</th>\n    </tr>\n  </thead>\n  <tbody>\n    <tr>\n      <th>14155</th>\n      <td>1931653</td>\n      <td>2016-05-19T00:00:00.000</td>\n      <td>1931655</td>\n      <td>2016-05-26T00:00:00.000</td>\n      <td>-7</td>\n    </tr>\n    <tr>\n      <th>22896</th>\n      <td>1307394</td>\n      <td>2014-04-17T00:00:00.000</td>\n      <td>1307399</td>\n      <td>2014-04-18T00:00:00.000</td>\n      <td>-1</td>\n    </tr>\n    <tr>\n      <th>34004</th>\n      <td>1966455</td>\n      <td>2016-10-14T00:00:00.000</td>\n      <td>1970656</td>\n      <td>2016-11-01T00:00:00.000</td>\n      <td>-18</td>\n    </tr>\n    <tr>\n      <th>41047</th>\n      <td>233570</td>\n      <td>2010-05-06T00:00:00.000</td>\n      <td>233645</td>\n      <td>2010-05-10T00:00:00.000</td>\n      <td>-4</td>\n    </tr>\n    <tr>\n      <th>41483</th>\n      <td>154306</td>\n      <td>2010-03-12T00:00:00.000</td>\n      <td>154309</td>\n      <td>2010-03-19T00:00:00.000</td>\n      <td>-7</td>\n    </tr>\n    <tr>\n      <th>56903</th>\n      <td>1931211</td>\n      <td>2016-05-19T00:00:00.000</td>\n      <td>1931711</td>\n      <td>2016-05-26T00:00:00.000</td>\n      <td>-7</td>\n    </tr>\n    <tr>\n      <th>91482</th>\n      <td>1516051</td>\n      <td>2015-01-16T00:00:00.000</td>\n      <td>1516204</td>\n      <td>2015-01-23T00:00:00.000</td>\n      <td>-7</td>\n    </tr>\n    <tr>\n      <th>110480</th>\n      <td>580191</td>\n      <td>2011-04-04T00:00:00.000</td>\n      <td>580179</td>\n      <td>2011-04-04T00:00:00.000</td>\n      <td>0</td>\n    </tr>\n    <tr>\n      <th>110481</th>\n      <td>580191</td>\n      <td>2011-04-04T00:00:00.000</td>\n      <td>580176</td>\n      <td>2011-04-04T00:00:00.000</td>\n      <td>0</td>\n    </tr>\n    <tr>\n      <th>110482</th>\n      <td>580191</td>\n      <td>2011-04-04T00:00:00.000</td>\n      <td>580185</td>\n      <td>2011-04-04T00:00:00.000</td>\n      <td>0</td>\n    </tr>\n    <tr>\n      <th>110483</th>\n      <td>580191</td>\n      <td>2011-04-04T00:00:00.000</td>\n      <td>580167</td>\n      <td>2011-04-04T00:00:00.000</td>\n      <td>0</td>\n    </tr>\n    <tr>\n      <th>110484</th>\n      <td>580191</td>\n      <td>2011-04-04T00:00:00.000</td>\n      <td>580186</td>\n      <td>2011-04-04T00:00:00.000</td>\n      <td>0</td>\n    </tr>\n    <tr>\n      <th>110486</th>\n      <td>580191</td>\n      <td>2011-04-04T00:00:00.000</td>\n      <td>580181</td>\n      <td>2011-04-04T00:00:00.000</td>\n      <td>0</td>\n    </tr>\n    <tr>\n      <th>110487</th>\n      <td>580191</td>\n      <td>2011-04-04T00:00:00.000</td>\n      <td>580188</td>\n      <td>2011-04-04T00:00:00.000</td>\n      <td>0</td>\n    </tr>\n    <tr>\n      <th>110488</th>\n      <td>580191</td>\n      <td>2011-04-04T00:00:00.000</td>\n      <td>580172</td>\n      <td>2011-04-04T00:00:00.000</td>\n      <td>0</td>\n    </tr>\n    <tr>\n      <th>110489</th>\n      <td>580191</td>\n      <td>2011-04-04T00:00:00.000</td>\n      <td>580234</td>\n      <td>2011-04-04T00:00:00.000</td>\n      <td>0</td>\n    </tr>\n    <tr>\n      <th>110490</th>\n      <td>580191</td>\n      <td>2011-04-04T00:00:00.000</td>\n      <td>580169</td>\n      <td>2011-04-04T00:00:00.000</td>\n      <td>0</td>\n    </tr>\n    <tr>\n      <th>110524</th>\n      <td>580193</td>\n      <td>2011-04-04T00:00:00.000</td>\n      <td>580179</td>\n      <td>2011-04-04T00:00:00.000</td>\n      <td>0</td>\n    </tr>\n    <tr>\n      <th>110525</th>\n      <td>580193</td>\n      <td>2011-04-04T00:00:00.000</td>\n      <td>580176</td>\n      <td>2011-04-04T00:00:00.000</td>\n      <td>0</td>\n    </tr>\n    <tr>\n      <th>110526</th>\n      <td>580193</td>\n      <td>2011-04-04T00:00:00.000</td>\n      <td>580185</td>\n      <td>2011-04-04T00:00:00.000</td>\n      <td>0</td>\n    </tr>\n  </tbody>\n</table>\n</div>"
     },
     "metadata": {},
     "execution_count": 17
    }
   ],
   "source": [
    "duplicates2 = grped_clean[grped_clean.duplicated('inspection_id_re')]\n",
    "print(duplicates2.shape)\n",
    "duplicates2[['inspection_id_orig', 'inspection_date_orig', 'inspection_id_re', 'inspection_date_re', 'time_between']].head(20)"
   ]
  },
  {
   "cell_type": "code",
   "execution_count": 18,
   "metadata": {},
   "outputs": [
    {
     "output_type": "execute_result",
     "data": {
      "text/plain": [
       "(40191, 34)"
      ]
     },
     "metadata": {},
     "execution_count": 18
    }
   ],
   "source": [
    "#Dropping anything that's been duplicated. This only drops 69 rows. \n",
    "grped_no_duplicates = grped_clean.drop_duplicates(subset='inspection_id_re')\n",
    "grped_no_duplicates = grped_no_duplicates.drop_duplicates(subset='inspection_id_orig')\n",
    "grped_no_duplicates.shape"
   ]
  },
  {
   "cell_type": "code",
   "execution_count": 19,
   "metadata": {},
   "outputs": [
    {
     "output_type": "execute_result",
     "data": {
      "text/plain": [
       "count    40191.000000\n",
       "mean       -11.131223\n",
       "std         20.854148\n",
       "min      -1121.000000\n",
       "25%        -10.000000\n",
       "50%         -7.000000\n",
       "75%         -7.000000\n",
       "max          0.000000\n",
       "Name: time_between, dtype: float64"
      ]
     },
     "metadata": {},
     "execution_count": 19
    }
   ],
   "source": [
    "grped_no_duplicates['time_between'].describe()"
   ]
  },
  {
   "cell_type": "code",
   "execution_count": 20,
   "metadata": {},
   "outputs": [
    {
     "output_type": "execute_result",
     "data": {
      "text/plain": [
       "                    inspection_id_orig  dba_name  aka_name_orig  license_  \\\n",
       "results_re                                                                  \n",
       "Fail                              3511      3511           3432      3510   \n",
       "No Entry                           340       340            335       340   \n",
       "Not Ready                           36        36             36        36   \n",
       "Out of Business                     81        81             81        81   \n",
       "Pass                             31030     31030          30692     31029   \n",
       "Pass w/ Conditions                5193      5193           5173      5193   \n",
       "\n",
       "                    facility_type_orig  risk_orig  address  city_orig  \\\n",
       "results_re                                                              \n",
       "Fail                              3508       3511     3511       3506   \n",
       "No Entry                           340        340      340        340   \n",
       "Not Ready                           36         36       36         36   \n",
       "Out of Business                     80         81       81         81   \n",
       "Pass                             31011      31030    31030      31002   \n",
       "Pass w/ Conditions                5189       5193     5193       5191   \n",
       "\n",
       "                    state_orig  zip_orig  ...  state_re  zip_re  \\\n",
       "results_re                                ...                     \n",
       "Fail                      3511      3510  ...      3511    3510   \n",
       "No Entry                   340       340  ...       340     340   \n",
       "Not Ready                   36        36  ...        36      36   \n",
       "Out of Business             81        81  ...        81      81   \n",
       "Pass                     31023     31024  ...     31023   31024   \n",
       "Pass w/ Conditions        5191      5192  ...      5191    5192   \n",
       "\n",
       "                    inspection_date_re  inspection_type_re  location_re  \\\n",
       "results_re                                                                \n",
       "Fail                              3511                3511         3494   \n",
       "No Entry                           340                 340          339   \n",
       "Not Ready                           36                  36           36   \n",
       "Out of Business                     81                  81           81   \n",
       "Pass                             31030               31030        30929   \n",
       "Pass w/ Conditions                5193                5193         5178   \n",
       "\n",
       "                    violations_re  inspection_type_clean_re  date_orig  \\\n",
       "results_re                                                               \n",
       "Fail                         3432                      3511       3511   \n",
       "No Entry                      259                       340        340   \n",
       "Not Ready                      27                        36         36   \n",
       "Out of Business                14                        81         81   \n",
       "Pass                        17804                     31030      31030   \n",
       "Pass w/ Conditions           5057                      5193       5193   \n",
       "\n",
       "                    date_re  time_between  \n",
       "results_re                                 \n",
       "Fail                   3511          3511  \n",
       "No Entry                340           340  \n",
       "Not Ready                36            36  \n",
       "Out of Business          81            81  \n",
       "Pass                  31030         31030  \n",
       "Pass w/ Conditions     5193          5193  \n",
       "\n",
       "[6 rows x 33 columns]"
      ],
      "text/html": "<div>\n<style scoped>\n    .dataframe tbody tr th:only-of-type {\n        vertical-align: middle;\n    }\n\n    .dataframe tbody tr th {\n        vertical-align: top;\n    }\n\n    .dataframe thead th {\n        text-align: right;\n    }\n</style>\n<table border=\"1\" class=\"dataframe\">\n  <thead>\n    <tr style=\"text-align: right;\">\n      <th></th>\n      <th>inspection_id_orig</th>\n      <th>dba_name</th>\n      <th>aka_name_orig</th>\n      <th>license_</th>\n      <th>facility_type_orig</th>\n      <th>risk_orig</th>\n      <th>address</th>\n      <th>city_orig</th>\n      <th>state_orig</th>\n      <th>zip_orig</th>\n      <th>...</th>\n      <th>state_re</th>\n      <th>zip_re</th>\n      <th>inspection_date_re</th>\n      <th>inspection_type_re</th>\n      <th>location_re</th>\n      <th>violations_re</th>\n      <th>inspection_type_clean_re</th>\n      <th>date_orig</th>\n      <th>date_re</th>\n      <th>time_between</th>\n    </tr>\n    <tr>\n      <th>results_re</th>\n      <th></th>\n      <th></th>\n      <th></th>\n      <th></th>\n      <th></th>\n      <th></th>\n      <th></th>\n      <th></th>\n      <th></th>\n      <th></th>\n      <th></th>\n      <th></th>\n      <th></th>\n      <th></th>\n      <th></th>\n      <th></th>\n      <th></th>\n      <th></th>\n      <th></th>\n      <th></th>\n      <th></th>\n    </tr>\n  </thead>\n  <tbody>\n    <tr>\n      <th>Fail</th>\n      <td>3511</td>\n      <td>3511</td>\n      <td>3432</td>\n      <td>3510</td>\n      <td>3508</td>\n      <td>3511</td>\n      <td>3511</td>\n      <td>3506</td>\n      <td>3511</td>\n      <td>3510</td>\n      <td>...</td>\n      <td>3511</td>\n      <td>3510</td>\n      <td>3511</td>\n      <td>3511</td>\n      <td>3494</td>\n      <td>3432</td>\n      <td>3511</td>\n      <td>3511</td>\n      <td>3511</td>\n      <td>3511</td>\n    </tr>\n    <tr>\n      <th>No Entry</th>\n      <td>340</td>\n      <td>340</td>\n      <td>335</td>\n      <td>340</td>\n      <td>340</td>\n      <td>340</td>\n      <td>340</td>\n      <td>340</td>\n      <td>340</td>\n      <td>340</td>\n      <td>...</td>\n      <td>340</td>\n      <td>340</td>\n      <td>340</td>\n      <td>340</td>\n      <td>339</td>\n      <td>259</td>\n      <td>340</td>\n      <td>340</td>\n      <td>340</td>\n      <td>340</td>\n    </tr>\n    <tr>\n      <th>Not Ready</th>\n      <td>36</td>\n      <td>36</td>\n      <td>36</td>\n      <td>36</td>\n      <td>36</td>\n      <td>36</td>\n      <td>36</td>\n      <td>36</td>\n      <td>36</td>\n      <td>36</td>\n      <td>...</td>\n      <td>36</td>\n      <td>36</td>\n      <td>36</td>\n      <td>36</td>\n      <td>36</td>\n      <td>27</td>\n      <td>36</td>\n      <td>36</td>\n      <td>36</td>\n      <td>36</td>\n    </tr>\n    <tr>\n      <th>Out of Business</th>\n      <td>81</td>\n      <td>81</td>\n      <td>81</td>\n      <td>81</td>\n      <td>80</td>\n      <td>81</td>\n      <td>81</td>\n      <td>81</td>\n      <td>81</td>\n      <td>81</td>\n      <td>...</td>\n      <td>81</td>\n      <td>81</td>\n      <td>81</td>\n      <td>81</td>\n      <td>81</td>\n      <td>14</td>\n      <td>81</td>\n      <td>81</td>\n      <td>81</td>\n      <td>81</td>\n    </tr>\n    <tr>\n      <th>Pass</th>\n      <td>31030</td>\n      <td>31030</td>\n      <td>30692</td>\n      <td>31029</td>\n      <td>31011</td>\n      <td>31030</td>\n      <td>31030</td>\n      <td>31002</td>\n      <td>31023</td>\n      <td>31024</td>\n      <td>...</td>\n      <td>31023</td>\n      <td>31024</td>\n      <td>31030</td>\n      <td>31030</td>\n      <td>30929</td>\n      <td>17804</td>\n      <td>31030</td>\n      <td>31030</td>\n      <td>31030</td>\n      <td>31030</td>\n    </tr>\n    <tr>\n      <th>Pass w/ Conditions</th>\n      <td>5193</td>\n      <td>5193</td>\n      <td>5173</td>\n      <td>5193</td>\n      <td>5189</td>\n      <td>5193</td>\n      <td>5193</td>\n      <td>5191</td>\n      <td>5191</td>\n      <td>5192</td>\n      <td>...</td>\n      <td>5191</td>\n      <td>5192</td>\n      <td>5193</td>\n      <td>5193</td>\n      <td>5178</td>\n      <td>5057</td>\n      <td>5193</td>\n      <td>5193</td>\n      <td>5193</td>\n      <td>5193</td>\n    </tr>\n  </tbody>\n</table>\n<p>6 rows × 33 columns</p>\n</div>"
     },
     "metadata": {},
     "execution_count": 20
    }
   ],
   "source": [
    "grped_no_duplicates.groupby('results_re').count()"
   ]
  },
  {
   "cell_type": "code",
   "execution_count": 21,
   "metadata": {},
   "outputs": [
    {
     "output_type": "execute_result",
     "data": {
      "text/plain": [
       "count    39734.000000\n",
       "mean       -10.997232\n",
       "std         19.786472\n",
       "min       -685.000000\n",
       "25%        -10.000000\n",
       "50%         -7.000000\n",
       "75%         -7.000000\n",
       "max          0.000000\n",
       "Name: time_between, dtype: float64"
      ]
     },
     "metadata": {},
     "execution_count": 21
    }
   ],
   "source": [
    "grped2 = grped_no_duplicates[(grped_no_duplicates['results_re'] == 'Fail') | (grped_no_duplicates['results_re'] == 'Pass') | (grped_no_duplicates['results_re'] == 'Pass w/ Conditions') ]\n",
    "grped2['time_between'].describe()"
   ]
  },
  {
   "cell_type": "code",
   "execution_count": 22,
   "metadata": {},
   "outputs": [],
   "source": [
    "final_grped = grped2[grped2['time_between'] >= -180]"
   ]
  },
  {
   "cell_type": "code",
   "execution_count": 23,
   "metadata": {},
   "outputs": [
    {
     "output_type": "execute_result",
     "data": {
      "text/plain": [
       "Index(['inspection_id_orig', 'dba_name', 'aka_name_orig', 'license_',\n",
       "       'facility_type_orig', 'risk_orig', 'address', 'city_orig', 'state_orig',\n",
       "       'zip_orig', 'inspection_date_orig', 'inspection_type_orig',\n",
       "       'results_orig', 'latitude', 'longitude', 'location_orig',\n",
       "       'violations_orig', 'inspection_type_clean_orig', 'inspection_id_re',\n",
       "       'aka_name_re', 'facility_type_re', 'risk_re', 'city_re', 'state_re',\n",
       "       'zip_re', 'inspection_date_re', 'inspection_type_re', 'results_re',\n",
       "       'location_re', 'violations_re', 'inspection_type_clean_re', 'date_orig',\n",
       "       'date_re', 'time_between'],\n",
       "      dtype='object')"
      ]
     },
     "metadata": {},
     "execution_count": 23
    }
   ],
   "source": [
    "final_grped.columns"
   ]
  },
  {
   "cell_type": "code",
   "execution_count": 24,
   "metadata": {},
   "outputs": [],
   "source": [
    "final_df = final_grped[['inspection_id_orig', 'dba_name', 'license_', \n",
    "                        'facility_type_orig', 'date_orig', 'inspection_type_orig',\n",
    "                        'results_orig', 'violations_orig', 'inspection_id_re',\n",
    "                        'date_re', 'results_re', 'time_between']]\n",
    "final_df = final_df.rename({'inspection_id_orig': 'id_orig', 'dba_name': 'name', 'license_': 'license', \n",
    "                        'facility_type_orig': 'facility_type', 'inspection_id_re': 'id_re'}, axis=1)"
   ]
  },
  {
   "cell_type": "code",
   "execution_count": 25,
   "metadata": {},
   "outputs": [
    {
     "output_type": "execute_result",
     "data": {
      "text/plain": [
       "array(['Canvass', 'Canvass Re-Inspection', 'Complaint',\n",
       "       'License Re-Inspection', 'License', 'License-Task Force',\n",
       "       'Short Form Complaint', 'Complaint Re-Inspection',\n",
       "       'Recent Inspection', 'Tag Removal', 'Suspected Food Poisoning',\n",
       "       'Short Form Fire-Complaint', 'Consultation', 'Complaint-Fire',\n",
       "       'RECALL INSPECTION', 'Special Events (Festivals)',\n",
       "       'Suspected Food Poisoning Re-inspection', 'SFP', 'No Entry',\n",
       "       'Task Force Liquor 1475', 'Complaint-Fire Re-inspection',\n",
       "       'REINSPECTION OF 48 HOUR NOTICE', 'SFP/COMPLAINT',\n",
       "       'Non-Inspection', 'TWO PEOPLE ATE AND GOT SICK.', 'no entry',\n",
       "       'RE-INSPECTION OF CLOSE-UP', 'Illegal Operation', 'SFP/Complaint',\n",
       "       'Package Liquor 1474', '1315 license reinspection', 'NO ENTRY',\n",
       "       'LIQUOR CATERING', 'TASK FORCE NIGHT', 'TAVERN 1470',\n",
       "       'task force(1470) liquor tavern', 'TASK FORCE PACKAGE LIQUOR',\n",
       "       'SPECIAL TASK FORCE'], dtype=object)"
      ]
     },
     "metadata": {},
     "execution_count": 25
    }
   ],
   "source": [
    "final_df['inspection_type_orig'].unique()"
   ]
  },
  {
   "cell_type": "code",
   "execution_count": 27,
   "metadata": {},
   "outputs": [],
   "source": [
    "final_df = final_df[(final_df['inspection_type_orig'] != 'No Entry') & (final_df['inspection_type_orig'] != 'no entry')]"
   ]
  },
  {
   "cell_type": "code",
   "execution_count": 28,
   "metadata": {},
   "outputs": [
    {
     "output_type": "stream",
     "name": "stdout",
     "text": [
      "(39621, 12)\n"
     ]
    },
    {
     "output_type": "execute_result",
     "data": {
      "text/plain": [
       "    id_orig                      name  license facility_type  date_orig  \\\n",
       "14  1684274      PIEROGI HEAVEN, INC.  2022158    Restaurant 2016-03-17   \n",
       "19  1447377      PIEROGI HEAVEN, INC.  2022158    Restaurant 2014-07-22   \n",
       "43  2282806  MONARCA P.L.A.C.E .7 INC  2391062    Restaurant 2019-04-08   \n",
       "63  2200614       EDDIE V'S WILD FISH  2428608    Restaurant 2018-08-07   \n",
       "79  1609983       EDDIE V'S WILD FISH  2428608    Restaurant 2016-01-21   \n",
       "\n",
       "     inspection_type_orig results_orig  \\\n",
       "14                Canvass         Fail   \n",
       "19                Canvass         Fail   \n",
       "43  Canvass Re-Inspection         Fail   \n",
       "63              Complaint         Fail   \n",
       "79  License Re-Inspection         Fail   \n",
       "\n",
       "                                      violations_orig    id_re    date_re  \\\n",
       "14  19. OUTSIDE GARBAGE WASTE GREASE AND STORAGE A...  1734731 2016-03-24   \n",
       "19  24. DISH WASHING FACILITIES: PROPERLY DESIGNED...  1447391 2014-07-30   \n",
       "43  3. MANAGEMENT, FOOD EMPLOYEE AND CONDITIONAL E...  2282937 2019-04-10   \n",
       "63  16. FOOD-CONTACT SURFACES: CLEANED & SANITIZED...  2200969 2018-08-15   \n",
       "79  16. FOOD PROTECTED DURING STORAGE, PREPARATION...  1632823 2016-03-09   \n",
       "\n",
       "            results_re  time_between  \n",
       "14                Pass            -7  \n",
       "19                Pass            -8  \n",
       "43  Pass w/ Conditions            -2  \n",
       "63                Pass            -8  \n",
       "79                Pass           -48  "
      ],
      "text/html": "<div>\n<style scoped>\n    .dataframe tbody tr th:only-of-type {\n        vertical-align: middle;\n    }\n\n    .dataframe tbody tr th {\n        vertical-align: top;\n    }\n\n    .dataframe thead th {\n        text-align: right;\n    }\n</style>\n<table border=\"1\" class=\"dataframe\">\n  <thead>\n    <tr style=\"text-align: right;\">\n      <th></th>\n      <th>id_orig</th>\n      <th>name</th>\n      <th>license</th>\n      <th>facility_type</th>\n      <th>date_orig</th>\n      <th>inspection_type_orig</th>\n      <th>results_orig</th>\n      <th>violations_orig</th>\n      <th>id_re</th>\n      <th>date_re</th>\n      <th>results_re</th>\n      <th>time_between</th>\n    </tr>\n  </thead>\n  <tbody>\n    <tr>\n      <th>14</th>\n      <td>1684274</td>\n      <td>PIEROGI HEAVEN, INC.</td>\n      <td>2022158</td>\n      <td>Restaurant</td>\n      <td>2016-03-17</td>\n      <td>Canvass</td>\n      <td>Fail</td>\n      <td>19. OUTSIDE GARBAGE WASTE GREASE AND STORAGE A...</td>\n      <td>1734731</td>\n      <td>2016-03-24</td>\n      <td>Pass</td>\n      <td>-7</td>\n    </tr>\n    <tr>\n      <th>19</th>\n      <td>1447377</td>\n      <td>PIEROGI HEAVEN, INC.</td>\n      <td>2022158</td>\n      <td>Restaurant</td>\n      <td>2014-07-22</td>\n      <td>Canvass</td>\n      <td>Fail</td>\n      <td>24. DISH WASHING FACILITIES: PROPERLY DESIGNED...</td>\n      <td>1447391</td>\n      <td>2014-07-30</td>\n      <td>Pass</td>\n      <td>-8</td>\n    </tr>\n    <tr>\n      <th>43</th>\n      <td>2282806</td>\n      <td>MONARCA P.L.A.C.E .7 INC</td>\n      <td>2391062</td>\n      <td>Restaurant</td>\n      <td>2019-04-08</td>\n      <td>Canvass Re-Inspection</td>\n      <td>Fail</td>\n      <td>3. MANAGEMENT, FOOD EMPLOYEE AND CONDITIONAL E...</td>\n      <td>2282937</td>\n      <td>2019-04-10</td>\n      <td>Pass w/ Conditions</td>\n      <td>-2</td>\n    </tr>\n    <tr>\n      <th>63</th>\n      <td>2200614</td>\n      <td>EDDIE V'S WILD FISH</td>\n      <td>2428608</td>\n      <td>Restaurant</td>\n      <td>2018-08-07</td>\n      <td>Complaint</td>\n      <td>Fail</td>\n      <td>16. FOOD-CONTACT SURFACES: CLEANED &amp; SANITIZED...</td>\n      <td>2200969</td>\n      <td>2018-08-15</td>\n      <td>Pass</td>\n      <td>-8</td>\n    </tr>\n    <tr>\n      <th>79</th>\n      <td>1609983</td>\n      <td>EDDIE V'S WILD FISH</td>\n      <td>2428608</td>\n      <td>Restaurant</td>\n      <td>2016-01-21</td>\n      <td>License Re-Inspection</td>\n      <td>Fail</td>\n      <td>16. FOOD PROTECTED DURING STORAGE, PREPARATION...</td>\n      <td>1632823</td>\n      <td>2016-03-09</td>\n      <td>Pass</td>\n      <td>-48</td>\n    </tr>\n  </tbody>\n</table>\n</div>"
     },
     "metadata": {},
     "execution_count": 28
    }
   ],
   "source": [
    "print(final_df.shape)\n",
    "final_df.head()"
   ]
  },
  {
   "cell_type": "code",
   "execution_count": 29,
   "metadata": {},
   "outputs": [],
   "source": [
    "#Drop conditions:\n",
    "#repeat re-inspection ID or original inspection ID (may investigate further, but not a big impact)\n",
    "#original outcome of pass, no entry, or not ready\n",
    "#more than 150 days between original and reinspection\n",
    "#went from 41,600 rows to 39,621\n",
    "\n",
    "#save to pickle\n",
    "final_df.to_pickle(\"initial_clean.pkl\")"
   ]
  },
  {
   "cell_type": "code",
   "execution_count": null,
   "metadata": {},
   "outputs": [],
   "source": []
  }
 ]
}