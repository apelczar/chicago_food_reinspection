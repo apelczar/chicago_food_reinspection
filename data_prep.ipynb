{
 "metadata": {
  "language_info": {
   "codemirror_mode": {
    "name": "ipython",
    "version": 3
   },
   "file_extension": ".py",
   "mimetype": "text/x-python",
   "name": "python",
   "nbconvert_exporter": "python",
   "pygments_lexer": "ipython3",
   "version": "3.8.5"
  },
  "orig_nbformat": 2,
  "kernelspec": {
   "name": "python385jvsc74a57bd0ba539312d09a2ffa8c7e90eb1ed4fb57b0b5103be99f6c8fe3af2b5222ff8312",
   "display_name": "Python 3.8.5 64-bit ('alipe': virtualenv)"
  }
 },
 "nbformat": 4,
 "nbformat_minor": 2,
 "cells": [
  {
   "cell_type": "code",
   "execution_count": 1,
   "metadata": {},
   "outputs": [],
   "source": [
    "import numpy as np\n",
    "import pandas as pd\n",
    "from sodapy import Socrata"
   ]
  },
  {
   "cell_type": "code",
   "execution_count": 2,
   "metadata": {},
   "outputs": [
    {
     "output_type": "stream",
     "name": "stderr",
     "text": [
      "WARNING:root:Requests made without an app_token will be subject to strict throttling limits.\n"
     ]
    },
    {
     "output_type": "execute_result",
     "data": {
      "text/plain": [
       "  inspection_id                dba_name                aka_name license_  \\\n",
       "0       2484567                 ROYALTY                 ROYALTY  1306130   \n",
       "1       2473041     ROSATI'S GRANT PARK                ROSATI'S  2762683   \n",
       "2       2472982           ENZO & EMILIA           ENZO & EMILIA  2762590   \n",
       "3       2472728           PRET A MANGER           PRET A MANGER  2138418   \n",
       "4       2472613  CHIPOTLE MEXICAN GRILL  CHIPOTLE MEXICAN GRILL  1379435   \n",
       "\n",
       "  facility_type           risk                      address     city state  \\\n",
       "0    Restaurant  Risk 1 (High)              3810 W 63RD ST   CHICAGO    IL   \n",
       "1    Restaurant  Risk 1 (High)               23 E ADAMS ST   CHICAGO    IL   \n",
       "2    Restaurant  Risk 1 (High)  2840-2542 N MILKWAUKEE AVE   CHICAGO    IL   \n",
       "3    Restaurant  Risk 1 (High)       225 N MICHIGAN AVE FL   CHICAGO    IL   \n",
       "4    Restaurant  Risk 1 (High)               235 W LAKE ST   CHICAGO    IL   \n",
       "\n",
       "     zip          inspection_date inspection_type          results  \\\n",
       "0  60629  2021-02-05T00:00:00.000  Non-Inspection         No Entry   \n",
       "1  60603  2021-01-22T00:00:00.000         License             Pass   \n",
       "2  60647  2021-01-21T00:00:00.000         License             Pass   \n",
       "3  60601  2021-01-14T00:00:00.000         Canvass  Out of Business   \n",
       "4  60606  2021-01-12T00:00:00.000         Canvass             Pass   \n",
       "\n",
       "             latitude           longitude  \\\n",
       "0  41.778836516734856  -87.71836138998039   \n",
       "1  41.879391313239694  -87.62684825563626   \n",
       "2                 NaN                 NaN   \n",
       "3   41.88637740620821  -87.62438167043969   \n",
       "4  41.885620943905664  -87.63506653338979   \n",
       "\n",
       "                                            location violations  \n",
       "0  {'latitude': '-87.71836138998039', 'longitude'...        NaN  \n",
       "1  {'latitude': '-87.62684825563626', 'longitude'...        NaN  \n",
       "2                                                NaN        NaN  \n",
       "3  {'latitude': '-87.62438167043969', 'longitude'...        NaN  \n",
       "4  {'latitude': '-87.63506653338979', 'longitude'...        NaN  "
      ],
      "text/html": "<div>\n<style scoped>\n    .dataframe tbody tr th:only-of-type {\n        vertical-align: middle;\n    }\n\n    .dataframe tbody tr th {\n        vertical-align: top;\n    }\n\n    .dataframe thead th {\n        text-align: right;\n    }\n</style>\n<table border=\"1\" class=\"dataframe\">\n  <thead>\n    <tr style=\"text-align: right;\">\n      <th></th>\n      <th>inspection_id</th>\n      <th>dba_name</th>\n      <th>aka_name</th>\n      <th>license_</th>\n      <th>facility_type</th>\n      <th>risk</th>\n      <th>address</th>\n      <th>city</th>\n      <th>state</th>\n      <th>zip</th>\n      <th>inspection_date</th>\n      <th>inspection_type</th>\n      <th>results</th>\n      <th>latitude</th>\n      <th>longitude</th>\n      <th>location</th>\n      <th>violations</th>\n    </tr>\n  </thead>\n  <tbody>\n    <tr>\n      <th>0</th>\n      <td>2484567</td>\n      <td>ROYALTY</td>\n      <td>ROYALTY</td>\n      <td>1306130</td>\n      <td>Restaurant</td>\n      <td>Risk 1 (High)</td>\n      <td>3810 W 63RD ST</td>\n      <td>CHICAGO</td>\n      <td>IL</td>\n      <td>60629</td>\n      <td>2021-02-05T00:00:00.000</td>\n      <td>Non-Inspection</td>\n      <td>No Entry</td>\n      <td>41.778836516734856</td>\n      <td>-87.71836138998039</td>\n      <td>{'latitude': '-87.71836138998039', 'longitude'...</td>\n      <td>NaN</td>\n    </tr>\n    <tr>\n      <th>1</th>\n      <td>2473041</td>\n      <td>ROSATI'S GRANT PARK</td>\n      <td>ROSATI'S</td>\n      <td>2762683</td>\n      <td>Restaurant</td>\n      <td>Risk 1 (High)</td>\n      <td>23 E ADAMS ST</td>\n      <td>CHICAGO</td>\n      <td>IL</td>\n      <td>60603</td>\n      <td>2021-01-22T00:00:00.000</td>\n      <td>License</td>\n      <td>Pass</td>\n      <td>41.879391313239694</td>\n      <td>-87.62684825563626</td>\n      <td>{'latitude': '-87.62684825563626', 'longitude'...</td>\n      <td>NaN</td>\n    </tr>\n    <tr>\n      <th>2</th>\n      <td>2472982</td>\n      <td>ENZO &amp; EMILIA</td>\n      <td>ENZO &amp; EMILIA</td>\n      <td>2762590</td>\n      <td>Restaurant</td>\n      <td>Risk 1 (High)</td>\n      <td>2840-2542 N MILKWAUKEE AVE</td>\n      <td>CHICAGO</td>\n      <td>IL</td>\n      <td>60647</td>\n      <td>2021-01-21T00:00:00.000</td>\n      <td>License</td>\n      <td>Pass</td>\n      <td>NaN</td>\n      <td>NaN</td>\n      <td>NaN</td>\n      <td>NaN</td>\n    </tr>\n    <tr>\n      <th>3</th>\n      <td>2472728</td>\n      <td>PRET A MANGER</td>\n      <td>PRET A MANGER</td>\n      <td>2138418</td>\n      <td>Restaurant</td>\n      <td>Risk 1 (High)</td>\n      <td>225 N MICHIGAN AVE FL</td>\n      <td>CHICAGO</td>\n      <td>IL</td>\n      <td>60601</td>\n      <td>2021-01-14T00:00:00.000</td>\n      <td>Canvass</td>\n      <td>Out of Business</td>\n      <td>41.88637740620821</td>\n      <td>-87.62438167043969</td>\n      <td>{'latitude': '-87.62438167043969', 'longitude'...</td>\n      <td>NaN</td>\n    </tr>\n    <tr>\n      <th>4</th>\n      <td>2472613</td>\n      <td>CHIPOTLE MEXICAN GRILL</td>\n      <td>CHIPOTLE MEXICAN GRILL</td>\n      <td>1379435</td>\n      <td>Restaurant</td>\n      <td>Risk 1 (High)</td>\n      <td>235 W LAKE ST</td>\n      <td>CHICAGO</td>\n      <td>IL</td>\n      <td>60606</td>\n      <td>2021-01-12T00:00:00.000</td>\n      <td>Canvass</td>\n      <td>Pass</td>\n      <td>41.885620943905664</td>\n      <td>-87.63506653338979</td>\n      <td>{'latitude': '-87.63506653338979', 'longitude'...</td>\n      <td>NaN</td>\n    </tr>\n  </tbody>\n</table>\n</div>"
     },
     "metadata": {},
     "execution_count": 2
    }
   ],
   "source": [
    "#Make API call to City of Chicago Open Data Portal\n",
    "#Include only inspections prior to 3/31/2021\n",
    "client = Socrata(\"data.cityofchicago.org\", None)\n",
    "results = client.get(\"4ijn-s7e5\", where=\"inspection_date < '2021-04-01T00:00:00.000'\", limit=100000000)\n",
    "\n",
    "inspections_df = pd.DataFrame.from_records(results)\n",
    "inspections_df.head()"
   ]
  },
  {
   "cell_type": "code",
   "execution_count": 3,
   "metadata": {},
   "outputs": [
    {
     "output_type": "execute_result",
     "data": {
      "text/plain": [
       "array(['Non-Inspection', 'License', 'Canvass', 'Complaint',\n",
       "       'Canvass Re-Inspection', 'License Re-Inspection',\n",
       "       'Short Form Complaint', 'Complaint Re-Inspection',\n",
       "       'Suspected Food Poisoning', 'Recent Inspection', 'Consultation',\n",
       "       'License-Task Force', 'Suspected Food Poisoning Re-inspection',\n",
       "       'Complaint-Fire', 'Short Form Fire-Complaint', 'Not Ready',\n",
       "       'Pre-License Consultation', 'OUT OF BUSINESS',\n",
       "       'Complaint-Fire Re-inspection', 'Tag Removal',\n",
       "       'Task Force Liquor 1475', 'LICENSE REQUEST', 'Out of Business',\n",
       "       'No Entry', 'OFFICE ASSIGNMENT', 'COVID COMPLAINT',\n",
       "       'Recent inspection', 'Special Events (Festivals)',\n",
       "       'fire complaint', 'FIRE', nan, 'KITCHEN CLOSED FOR RENOVATION',\n",
       "       'O.B.', 'CORRECTIVE ACTION', 'LICENSE CANCELED BY OWNER',\n",
       "       'LICENSE CONSULTATION', 'OWNER SUSPENDED OPERATION/LICENSE',\n",
       "       'License consultation', 'Package Liquor 1474', 'Illegal Operation',\n",
       "       'CANVASS SPECIAL EVENTS', 'TWO PEOPLE ATE AND GOT SICK.',\n",
       "       'NO ENTRY', 'CANVASS SCHOOL/SPECIAL EVENT', 'No entry',\n",
       "       'Sample Collection', 'license task 1474', 'TASK FORCE LIQUOR 1470',\n",
       "       'FIRE/COMPLAIN', 'Task Force for liquor 1474',\n",
       "       '1315 license reinspection', 'error save', 'ADDENDUM',\n",
       "       'Task force liquor inspection 1474', 'SFP',\n",
       "       'Task Force Liquor Catering', 'CANVAS', 'expansion',\n",
       "       'TASK FORCE NIGHT', 'no entry', 'SFP/Complaint', 'SFP/COMPLAINT',\n",
       "       'LICENSE RENEWAL FOR DAYCARE', 'CANVASS RE INSPECTION OF CLOSE UP',\n",
       "       'SFP RECENTLY INSPECTED', 'TAVERN 1470', 'SMOKING COMPLAINT',\n",
       "       'CANVASS', 'LICENSE RENEWAL INSPECTION FOR DAYCARE',\n",
       "       'task force(1470) liquor tavern', 'LICENSE/NOT READY', 'TASKFORCE',\n",
       "       'CITF', 'KIDS CAFE', 'LICENSE TASK FORCE / NOT -FOR-PROFIT CLU',\n",
       "       'LICENSE DAYCARE 1586', 'NO ENTRY-SHORT COMPLAINT)',\n",
       "       'LICENSE TASK FORCE / NOT -FOR-PROFIT CLUB', 'citation re-issued',\n",
       "       'TASK FORCE PACKAGE LIQUOR', 'HACCP QUESTIONAIRE',\n",
       "       'DAY CARE LICENSE RENEWAL', 'TASTE OF CHICAGO',\n",
       "       'CANVASS/SPECIAL EVENT', 'LICENSE WRONG ADDRESS', 'LICENSE',\n",
       "       'Summer Feeding', 'out ofbusiness', 'CHANGED COURT DATE',\n",
       "       'LIQUOR CATERING', 'CANVASS FOR RIB FEST', 'TASK FORCE NOT READY',\n",
       "       'Duplicated', 'REINSPECTION', 'REINSPECTION OF 48 HOUR NOTICE',\n",
       "       'sfp/complaint', 'CLOSE-UP/COMPLAINT REINSPECTION', 'task force',\n",
       "       'finish complaint inspection from 5-18-10',\n",
       "       'LIQOUR TASK FORCE NOT READY', 'RECALL INSPECTION',\n",
       "       'RE-INSPECTION OF CLOSE-UP', 'SPECIAL TASK FORCE', 'license',\n",
       "       'Business Not Located', 'TASK FORCE LIQUOR (1481)',\n",
       "       'Special Task Force', \"Kids Cafe'\", 'TASK FORCE LIQUOR 1474',\n",
       "       'POSSIBLE FBI', 'TASK FORCE PACKAGE GOODS 1474'], dtype=object)"
      ]
     },
     "metadata": {},
     "execution_count": 3
    }
   ],
   "source": [
    "inspections_df[\"inspection_type\"].unique()"
   ]
  },
  {
   "cell_type": "code",
   "execution_count": 4,
   "metadata": {},
   "outputs": [
    {
     "output_type": "execute_result",
     "data": {
      "text/plain": [
       "(41456, 18)"
      ]
     },
     "metadata": {},
     "execution_count": 4
    }
   ],
   "source": [
    "#Take only re-inspections\n",
    "inspections_df['inspection_type_clean'] = inspections_df['inspection_type'].str.lower()\n",
    "inspections_df['inspection_type_clean'] = inspections_df['inspection_type_clean'].str.replace('-', '')\n",
    "inspections_df['inspection_type_clean'] = inspections_df['inspection_type_clean'].str.replace('re inspection', 'reinspection')\n",
    "\n",
    "#inspections_df[inspections_df['inspection_type_clean'].isna()]\n",
    "#One record is missing inspection type; will drop\n",
    "inspections_df = inspections_df.dropna(subset=['inspection_type_clean'])\n",
    "#inspections_df['inspection_type_clean'].unique()\n",
    "\n",
    "reinspections_df = inspections_df[inspections_df['inspection_type_clean'].str.contains('reinspection')]\n",
    "reinspections_df.shape"
   ]
  },
  {
   "cell_type": "code",
   "execution_count": 5,
   "metadata": {},
   "outputs": [
    {
     "output_type": "execute_result",
     "data": {
      "text/plain": [
       "(218277, 18)"
      ]
     },
     "metadata": {},
     "execution_count": 5
    }
   ],
   "source": [
    "inspections_df.shape"
   ]
  },
  {
   "cell_type": "code",
   "execution_count": 6,
   "metadata": {},
   "outputs": [
    {
     "output_type": "execute_result",
     "data": {
      "text/plain": [
       "(494375, 31)"
      ]
     },
     "metadata": {},
     "execution_count": 6
    }
   ],
   "source": [
    "#matching steps:\n",
    "#merge full inspections_df with reinspections_df\n",
    "#delete where inspection_id = reinspection_id\n",
    "#group by ID of reinspection\n",
    "#within each group, retain only inspection with closest date before (but not equal to) reinspection\n",
    "full_merge = inspections_df.merge(reinspections_df, on=['dba_name', 'address', 'license_', 'latitude', 'longitude'],\n",
    "                                    suffixes=('_orig', '_re'))\n",
    "full_merge.shape"
   ]
  },
  {
   "cell_type": "code",
   "execution_count": 7,
   "metadata": {},
   "outputs": [
    {
     "output_type": "execute_result",
     "data": {
      "text/plain": [
       "Index(['inspection_id_orig', 'dba_name', 'aka_name_orig', 'license_',\n",
       "       'facility_type_orig', 'risk_orig', 'address', 'city_orig', 'state_orig',\n",
       "       'zip_orig', 'inspection_date_orig', 'inspection_type_orig',\n",
       "       'results_orig', 'latitude', 'longitude', 'location_orig',\n",
       "       'violations_orig', 'inspection_type_clean_orig', 'inspection_id_re',\n",
       "       'aka_name_re', 'facility_type_re', 'risk_re', 'city_re', 'state_re',\n",
       "       'zip_re', 'inspection_date_re', 'inspection_type_re', 'results_re',\n",
       "       'location_re', 'violations_re', 'inspection_type_clean_re'],\n",
       "      dtype='object')"
      ]
     },
     "metadata": {},
     "execution_count": 7
    }
   ],
   "source": [
    "full_merge.columns"
   ]
  },
  {
   "cell_type": "code",
   "execution_count": 8,
   "metadata": {},
   "outputs": [
    {
     "output_type": "execute_result",
     "data": {
      "text/plain": [
       "(452919, 31)"
      ]
     },
     "metadata": {},
     "execution_count": 8
    }
   ],
   "source": [
    "full_merge_clean = full_merge[full_merge['inspection_id_orig'] != full_merge['inspection_id_re']]\n",
    "full_merge_clean.shape"
   ]
  },
  {
   "cell_type": "code",
   "execution_count": 9,
   "metadata": {},
   "outputs": [
    {
     "output_type": "stream",
     "name": "stderr",
     "text": [
      "<ipython-input-9-2341921e68a0>:1: SettingWithCopyWarning: \nA value is trying to be set on a copy of a slice from a DataFrame.\nTry using .loc[row_indexer,col_indexer] = value instead\n\nSee the caveats in the documentation: https://pandas.pydata.org/pandas-docs/stable/user_guide/indexing.html#returning-a-view-versus-a-copy\n  full_merge_clean['date_orig'] = pd.to_datetime(full_merge_clean['inspection_date_orig'])\n<ipython-input-9-2341921e68a0>:2: SettingWithCopyWarning: \nA value is trying to be set on a copy of a slice from a DataFrame.\nTry using .loc[row_indexer,col_indexer] = value instead\n\nSee the caveats in the documentation: https://pandas.pydata.org/pandas-docs/stable/user_guide/indexing.html#returning-a-view-versus-a-copy\n  full_merge_clean['date_re'] = pd.to_datetime(full_merge_clean['inspection_date_re'])\n"
     ]
    }
   ],
   "source": [
    "full_merge_clean['date_orig'] = pd.to_datetime(full_merge_clean['inspection_date_orig'])\n",
    "full_merge_clean['date_re'] = pd.to_datetime(full_merge_clean['inspection_date_re'])"
   ]
  },
  {
   "cell_type": "code",
   "execution_count": 10,
   "metadata": {},
   "outputs": [
    {
     "output_type": "stream",
     "name": "stderr",
     "text": [
      "<ipython-input-10-6563173d44f8>:2: SettingWithCopyWarning: \nA value is trying to be set on a copy of a slice from a DataFrame.\nTry using .loc[row_indexer,col_indexer] = value instead\n\nSee the caveats in the documentation: https://pandas.pydata.org/pandas-docs/stable/user_guide/indexing.html#returning-a-view-versus-a-copy\n  full_merge_clean['time_between'] = full_merge_clean['date_orig'] - full_merge_clean['date_re']\n<ipython-input-10-6563173d44f8>:3: SettingWithCopyWarning: \nA value is trying to be set on a copy of a slice from a DataFrame.\nTry using .loc[row_indexer,col_indexer] = value instead\n\nSee the caveats in the documentation: https://pandas.pydata.org/pandas-docs/stable/user_guide/indexing.html#returning-a-view-versus-a-copy\n  full_merge_clean['time_between'] = full_merge_clean['time_between'].dt.days\n"
     ]
    },
    {
     "output_type": "execute_result",
     "data": {
      "text/plain": [
       "(248093, 34)"
      ]
     },
     "metadata": {},
     "execution_count": 10
    }
   ],
   "source": [
    "#remove rows where original inspection occurred after re-inspection\n",
    "full_merge_clean['time_between'] = full_merge_clean['date_orig'] - full_merge_clean['date_re']\n",
    "full_merge_clean['time_between'] = full_merge_clean['time_between'].dt.days\n",
    "full_merge_clean = full_merge_clean[full_merge_clean['time_between'] <= 0]\n",
    "full_merge_clean.shape"
   ]
  },
  {
   "cell_type": "code",
   "execution_count": 11,
   "metadata": {},
   "outputs": [
    {
     "output_type": "execute_result",
     "data": {
      "text/plain": [
       "   inspection_id_orig                   dba_name              aka_name_orig  \\\n",
       "16             577275                    ROYALTY                    ROYALTY   \n",
       "38            1345428              PRET A MANGER              PRET A MANGER   \n",
       "43            1114379              PRET A MANGER              PRET A MANGER   \n",
       "65             343293     CHIPOTLE MEXICAN GRILL     CHIPOTLE MEXICAN GRILL   \n",
       "72            2484973  HILLTOP FAMILY RESTAURANT  HILLTOP FAMILY RESTAURANT   \n",
       "\n",
       "   license_ facility_type_orig      risk_orig                 address  \\\n",
       "16  1306130         Restaurant  Risk 1 (High)         3810 W 63RD ST    \n",
       "38  2138418         Restaurant  Risk 1 (High)  225 N MICHIGAN AVE FL    \n",
       "43  2138418         Restaurant  Risk 1 (High)  225 N MICHIGAN AVE FL    \n",
       "65  1379435         Restaurant  Risk 1 (High)          235 W LAKE ST    \n",
       "72  2652370         Restaurant  Risk 1 (High)      2800 W FOSTER AVE    \n",
       "\n",
       "   city_orig state_orig zip_orig  ... zip_re       inspection_date_re  \\\n",
       "16   CHICAGO         IL    60629  ...  60629  2011-05-24T00:00:00.000   \n",
       "38   CHICAGO         IL    60601  ...  60601  2013-08-13T00:00:00.000   \n",
       "43   CHICAGO         IL    60601  ...  60601  2012-07-31T00:00:00.000   \n",
       "65   CHICAGO         IL    60606  ...  60606  2010-08-26T00:00:00.000   \n",
       "72   CHICAGO         IL    60625  ...  60625  2021-02-23T00:00:00.000   \n",
       "\n",
       "         inspection_type_re          results_re  \\\n",
       "16    Canvass Re-Inspection                Pass   \n",
       "38    Canvass Re-Inspection                Pass   \n",
       "43  Complaint Re-Inspection                Pass   \n",
       "65    Canvass Re-Inspection                Pass   \n",
       "72    Canvass Re-Inspection  Pass w/ Conditions   \n",
       "\n",
       "                                          location_re  \\\n",
       "16  {'latitude': '-87.71836138998039', 'longitude'...   \n",
       "38  {'latitude': '-87.62438167043969', 'longitude'...   \n",
       "43  {'latitude': '-87.62438167043969', 'longitude'...   \n",
       "65  {'latitude': '-87.63506653338979', 'longitude'...   \n",
       "72  {'latitude': '-87.69904568571212', 'longitude'...   \n",
       "\n",
       "                                        violations_re  \\\n",
       "16  33. FOOD AND NON-FOOD CONTACT EQUIPMENT UTENSI...   \n",
       "38                                                NaN   \n",
       "43  34. FLOORS: CONSTRUCTED PER CODE, CLEANED, GOO...   \n",
       "65  32. FOOD AND NON-FOOD CONTACT SURFACES PROPERL...   \n",
       "72  23. PROPER DATE MARKING AND DISPOSITION - Comm...   \n",
       "\n",
       "   inspection_type_clean_re  date_orig    date_re time_between  \n",
       "16     canvass reinspection 2011-04-18 2011-05-24          -36  \n",
       "38     canvass reinspection 2013-08-06 2013-08-13           -7  \n",
       "43   complaint reinspection 2012-07-23 2012-07-31           -8  \n",
       "65     canvass reinspection 2010-08-17 2010-08-26           -9  \n",
       "72     canvass reinspection 2021-02-19 2021-02-23           -4  \n",
       "\n",
       "[5 rows x 34 columns]"
      ],
      "text/html": "<div>\n<style scoped>\n    .dataframe tbody tr th:only-of-type {\n        vertical-align: middle;\n    }\n\n    .dataframe tbody tr th {\n        vertical-align: top;\n    }\n\n    .dataframe thead th {\n        text-align: right;\n    }\n</style>\n<table border=\"1\" class=\"dataframe\">\n  <thead>\n    <tr style=\"text-align: right;\">\n      <th></th>\n      <th>inspection_id_orig</th>\n      <th>dba_name</th>\n      <th>aka_name_orig</th>\n      <th>license_</th>\n      <th>facility_type_orig</th>\n      <th>risk_orig</th>\n      <th>address</th>\n      <th>city_orig</th>\n      <th>state_orig</th>\n      <th>zip_orig</th>\n      <th>...</th>\n      <th>zip_re</th>\n      <th>inspection_date_re</th>\n      <th>inspection_type_re</th>\n      <th>results_re</th>\n      <th>location_re</th>\n      <th>violations_re</th>\n      <th>inspection_type_clean_re</th>\n      <th>date_orig</th>\n      <th>date_re</th>\n      <th>time_between</th>\n    </tr>\n  </thead>\n  <tbody>\n    <tr>\n      <th>16</th>\n      <td>577275</td>\n      <td>ROYALTY</td>\n      <td>ROYALTY</td>\n      <td>1306130</td>\n      <td>Restaurant</td>\n      <td>Risk 1 (High)</td>\n      <td>3810 W 63RD ST</td>\n      <td>CHICAGO</td>\n      <td>IL</td>\n      <td>60629</td>\n      <td>...</td>\n      <td>60629</td>\n      <td>2011-05-24T00:00:00.000</td>\n      <td>Canvass Re-Inspection</td>\n      <td>Pass</td>\n      <td>{'latitude': '-87.71836138998039', 'longitude'...</td>\n      <td>33. FOOD AND NON-FOOD CONTACT EQUIPMENT UTENSI...</td>\n      <td>canvass reinspection</td>\n      <td>2011-04-18</td>\n      <td>2011-05-24</td>\n      <td>-36</td>\n    </tr>\n    <tr>\n      <th>38</th>\n      <td>1345428</td>\n      <td>PRET A MANGER</td>\n      <td>PRET A MANGER</td>\n      <td>2138418</td>\n      <td>Restaurant</td>\n      <td>Risk 1 (High)</td>\n      <td>225 N MICHIGAN AVE FL</td>\n      <td>CHICAGO</td>\n      <td>IL</td>\n      <td>60601</td>\n      <td>...</td>\n      <td>60601</td>\n      <td>2013-08-13T00:00:00.000</td>\n      <td>Canvass Re-Inspection</td>\n      <td>Pass</td>\n      <td>{'latitude': '-87.62438167043969', 'longitude'...</td>\n      <td>NaN</td>\n      <td>canvass reinspection</td>\n      <td>2013-08-06</td>\n      <td>2013-08-13</td>\n      <td>-7</td>\n    </tr>\n    <tr>\n      <th>43</th>\n      <td>1114379</td>\n      <td>PRET A MANGER</td>\n      <td>PRET A MANGER</td>\n      <td>2138418</td>\n      <td>Restaurant</td>\n      <td>Risk 1 (High)</td>\n      <td>225 N MICHIGAN AVE FL</td>\n      <td>CHICAGO</td>\n      <td>IL</td>\n      <td>60601</td>\n      <td>...</td>\n      <td>60601</td>\n      <td>2012-07-31T00:00:00.000</td>\n      <td>Complaint Re-Inspection</td>\n      <td>Pass</td>\n      <td>{'latitude': '-87.62438167043969', 'longitude'...</td>\n      <td>34. FLOORS: CONSTRUCTED PER CODE, CLEANED, GOO...</td>\n      <td>complaint reinspection</td>\n      <td>2012-07-23</td>\n      <td>2012-07-31</td>\n      <td>-8</td>\n    </tr>\n    <tr>\n      <th>65</th>\n      <td>343293</td>\n      <td>CHIPOTLE MEXICAN GRILL</td>\n      <td>CHIPOTLE MEXICAN GRILL</td>\n      <td>1379435</td>\n      <td>Restaurant</td>\n      <td>Risk 1 (High)</td>\n      <td>235 W LAKE ST</td>\n      <td>CHICAGO</td>\n      <td>IL</td>\n      <td>60606</td>\n      <td>...</td>\n      <td>60606</td>\n      <td>2010-08-26T00:00:00.000</td>\n      <td>Canvass Re-Inspection</td>\n      <td>Pass</td>\n      <td>{'latitude': '-87.63506653338979', 'longitude'...</td>\n      <td>32. FOOD AND NON-FOOD CONTACT SURFACES PROPERL...</td>\n      <td>canvass reinspection</td>\n      <td>2010-08-17</td>\n      <td>2010-08-26</td>\n      <td>-9</td>\n    </tr>\n    <tr>\n      <th>72</th>\n      <td>2484973</td>\n      <td>HILLTOP FAMILY RESTAURANT</td>\n      <td>HILLTOP FAMILY RESTAURANT</td>\n      <td>2652370</td>\n      <td>Restaurant</td>\n      <td>Risk 1 (High)</td>\n      <td>2800 W FOSTER AVE</td>\n      <td>CHICAGO</td>\n      <td>IL</td>\n      <td>60625</td>\n      <td>...</td>\n      <td>60625</td>\n      <td>2021-02-23T00:00:00.000</td>\n      <td>Canvass Re-Inspection</td>\n      <td>Pass w/ Conditions</td>\n      <td>{'latitude': '-87.69904568571212', 'longitude'...</td>\n      <td>23. PROPER DATE MARKING AND DISPOSITION - Comm...</td>\n      <td>canvass reinspection</td>\n      <td>2021-02-19</td>\n      <td>2021-02-23</td>\n      <td>-4</td>\n    </tr>\n  </tbody>\n</table>\n<p>5 rows × 34 columns</p>\n</div>"
     },
     "metadata": {},
     "execution_count": 11
    }
   ],
   "source": [
    "#full_merge_grp = full_merge_clean.groupby('inspection_id_re')\n",
    "grped = full_merge_clean[full_merge_clean['time_between'] == full_merge_clean.groupby('inspection_id_re')['time_between'].transform('max')]\n",
    "\n",
    "grped.head()"
   ]
  },
  {
   "cell_type": "code",
   "execution_count": 12,
   "metadata": {},
   "outputs": [
    {
     "output_type": "execute_result",
     "data": {
      "text/plain": [
       "(41600, 34)"
      ]
     },
     "metadata": {},
     "execution_count": 12
    }
   ],
   "source": [
    "grped.shape"
   ]
  },
  {
   "cell_type": "code",
   "execution_count": 13,
   "metadata": {},
   "outputs": [
    {
     "output_type": "stream",
     "name": "stdout",
     "text": [
      "(262, 34)\n"
     ]
    },
    {
     "output_type": "execute_result",
     "data": {
      "text/plain": [
       "      inspection_id_orig     inspection_date_orig inspection_id_re  \\\n",
       "3933             2492457  2021-03-05T00:00:00.000          2492814   \n",
       "4667             2252347  2019-01-10T00:00:00.000          2252797   \n",
       "19662            2285631  2019-04-23T00:00:00.000          2290882   \n",
       "22362            2484255  2021-01-28T00:00:00.000          2484727   \n",
       "23194             154305  2010-03-12T00:00:00.000           154309   \n",
       "23514            2214129  2018-09-10T00:00:00.000          2240981   \n",
       "43154            1760212  2016-05-19T00:00:00.000          1931711   \n",
       "43334            2144587  2018-02-06T00:00:00.000          2144892   \n",
       "43649            2050307  2017-05-12T00:00:00.000          2050414   \n",
       "49181            1467468  2014-09-09T00:00:00.000          1467490   \n",
       "52136            1965764  2016-09-30T00:00:00.000          1965767   \n",
       "75513              88601  2010-11-19T00:00:00.000            88604   \n",
       "79510             580611  2011-04-27T00:00:00.000           580732   \n",
       "83253            2240474  2018-11-20T00:00:00.000          2240598   \n",
       "84165            1286300  2013-03-11T00:00:00.000          1326277   \n",
       "92796             670705  2012-02-17T00:00:00.000           670797   \n",
       "94796             580186  2011-04-04T00:00:00.000           580176   \n",
       "94797             580186  2011-04-04T00:00:00.000           580167   \n",
       "94799             580186  2011-04-04T00:00:00.000           580234   \n",
       "94800             580186  2011-04-04T00:00:00.000           580169   \n",
       "\n",
       "            inspection_date_re  time_between  \n",
       "3933   2021-03-12T00:00:00.000            -7  \n",
       "4667   2019-01-18T00:00:00.000            -8  \n",
       "19662  2019-06-04T00:00:00.000           -42  \n",
       "22362  2021-02-10T00:00:00.000           -13  \n",
       "23194  2010-03-19T00:00:00.000            -7  \n",
       "23514  2018-12-04T00:00:00.000           -85  \n",
       "43154  2016-05-26T00:00:00.000            -7  \n",
       "43334  2018-02-13T00:00:00.000            -7  \n",
       "43649  2017-05-15T00:00:00.000            -3  \n",
       "49181  2014-09-23T00:00:00.000           -14  \n",
       "52136  2016-10-03T00:00:00.000            -3  \n",
       "75513  2010-11-23T00:00:00.000            -4  \n",
       "79510  2011-05-04T00:00:00.000            -7  \n",
       "83253  2018-11-26T00:00:00.000            -6  \n",
       "84165  2013-03-12T00:00:00.000            -1  \n",
       "92796  2012-02-27T00:00:00.000           -10  \n",
       "94796  2011-04-04T00:00:00.000             0  \n",
       "94797  2011-04-04T00:00:00.000             0  \n",
       "94799  2011-04-04T00:00:00.000             0  \n",
       "94800  2011-04-04T00:00:00.000             0  "
      ],
      "text/html": "<div>\n<style scoped>\n    .dataframe tbody tr th:only-of-type {\n        vertical-align: middle;\n    }\n\n    .dataframe tbody tr th {\n        vertical-align: top;\n    }\n\n    .dataframe thead th {\n        text-align: right;\n    }\n</style>\n<table border=\"1\" class=\"dataframe\">\n  <thead>\n    <tr style=\"text-align: right;\">\n      <th></th>\n      <th>inspection_id_orig</th>\n      <th>inspection_date_orig</th>\n      <th>inspection_id_re</th>\n      <th>inspection_date_re</th>\n      <th>time_between</th>\n    </tr>\n  </thead>\n  <tbody>\n    <tr>\n      <th>3933</th>\n      <td>2492457</td>\n      <td>2021-03-05T00:00:00.000</td>\n      <td>2492814</td>\n      <td>2021-03-12T00:00:00.000</td>\n      <td>-7</td>\n    </tr>\n    <tr>\n      <th>4667</th>\n      <td>2252347</td>\n      <td>2019-01-10T00:00:00.000</td>\n      <td>2252797</td>\n      <td>2019-01-18T00:00:00.000</td>\n      <td>-8</td>\n    </tr>\n    <tr>\n      <th>19662</th>\n      <td>2285631</td>\n      <td>2019-04-23T00:00:00.000</td>\n      <td>2290882</td>\n      <td>2019-06-04T00:00:00.000</td>\n      <td>-42</td>\n    </tr>\n    <tr>\n      <th>22362</th>\n      <td>2484255</td>\n      <td>2021-01-28T00:00:00.000</td>\n      <td>2484727</td>\n      <td>2021-02-10T00:00:00.000</td>\n      <td>-13</td>\n    </tr>\n    <tr>\n      <th>23194</th>\n      <td>154305</td>\n      <td>2010-03-12T00:00:00.000</td>\n      <td>154309</td>\n      <td>2010-03-19T00:00:00.000</td>\n      <td>-7</td>\n    </tr>\n    <tr>\n      <th>23514</th>\n      <td>2214129</td>\n      <td>2018-09-10T00:00:00.000</td>\n      <td>2240981</td>\n      <td>2018-12-04T00:00:00.000</td>\n      <td>-85</td>\n    </tr>\n    <tr>\n      <th>43154</th>\n      <td>1760212</td>\n      <td>2016-05-19T00:00:00.000</td>\n      <td>1931711</td>\n      <td>2016-05-26T00:00:00.000</td>\n      <td>-7</td>\n    </tr>\n    <tr>\n      <th>43334</th>\n      <td>2144587</td>\n      <td>2018-02-06T00:00:00.000</td>\n      <td>2144892</td>\n      <td>2018-02-13T00:00:00.000</td>\n      <td>-7</td>\n    </tr>\n    <tr>\n      <th>43649</th>\n      <td>2050307</td>\n      <td>2017-05-12T00:00:00.000</td>\n      <td>2050414</td>\n      <td>2017-05-15T00:00:00.000</td>\n      <td>-3</td>\n    </tr>\n    <tr>\n      <th>49181</th>\n      <td>1467468</td>\n      <td>2014-09-09T00:00:00.000</td>\n      <td>1467490</td>\n      <td>2014-09-23T00:00:00.000</td>\n      <td>-14</td>\n    </tr>\n    <tr>\n      <th>52136</th>\n      <td>1965764</td>\n      <td>2016-09-30T00:00:00.000</td>\n      <td>1965767</td>\n      <td>2016-10-03T00:00:00.000</td>\n      <td>-3</td>\n    </tr>\n    <tr>\n      <th>75513</th>\n      <td>88601</td>\n      <td>2010-11-19T00:00:00.000</td>\n      <td>88604</td>\n      <td>2010-11-23T00:00:00.000</td>\n      <td>-4</td>\n    </tr>\n    <tr>\n      <th>79510</th>\n      <td>580611</td>\n      <td>2011-04-27T00:00:00.000</td>\n      <td>580732</td>\n      <td>2011-05-04T00:00:00.000</td>\n      <td>-7</td>\n    </tr>\n    <tr>\n      <th>83253</th>\n      <td>2240474</td>\n      <td>2018-11-20T00:00:00.000</td>\n      <td>2240598</td>\n      <td>2018-11-26T00:00:00.000</td>\n      <td>-6</td>\n    </tr>\n    <tr>\n      <th>84165</th>\n      <td>1286300</td>\n      <td>2013-03-11T00:00:00.000</td>\n      <td>1326277</td>\n      <td>2013-03-12T00:00:00.000</td>\n      <td>-1</td>\n    </tr>\n    <tr>\n      <th>92796</th>\n      <td>670705</td>\n      <td>2012-02-17T00:00:00.000</td>\n      <td>670797</td>\n      <td>2012-02-27T00:00:00.000</td>\n      <td>-10</td>\n    </tr>\n    <tr>\n      <th>94796</th>\n      <td>580186</td>\n      <td>2011-04-04T00:00:00.000</td>\n      <td>580176</td>\n      <td>2011-04-04T00:00:00.000</td>\n      <td>0</td>\n    </tr>\n    <tr>\n      <th>94797</th>\n      <td>580186</td>\n      <td>2011-04-04T00:00:00.000</td>\n      <td>580167</td>\n      <td>2011-04-04T00:00:00.000</td>\n      <td>0</td>\n    </tr>\n    <tr>\n      <th>94799</th>\n      <td>580186</td>\n      <td>2011-04-04T00:00:00.000</td>\n      <td>580234</td>\n      <td>2011-04-04T00:00:00.000</td>\n      <td>0</td>\n    </tr>\n    <tr>\n      <th>94800</th>\n      <td>580186</td>\n      <td>2011-04-04T00:00:00.000</td>\n      <td>580169</td>\n      <td>2011-04-04T00:00:00.000</td>\n      <td>0</td>\n    </tr>\n  </tbody>\n</table>\n</div>"
     },
     "metadata": {},
     "execution_count": 13
    }
   ],
   "source": [
    "duplicates = grped[grped.duplicated('inspection_id_re')]\n",
    "print(duplicates.shape)\n",
    "duplicates[['inspection_id_orig', 'inspection_date_orig', 'inspection_id_re', 'inspection_date_re', 'time_between']].head(20)"
   ]
  },
  {
   "cell_type": "code",
   "execution_count": 14,
   "metadata": {},
   "outputs": [
    {
     "output_type": "execute_result",
     "data": {
      "text/plain": [
       "array(['Fail', 'Pass w/ Conditions', 'Pass', 'Not Ready', 'No Entry',\n",
       "       'Out of Business'], dtype=object)"
      ]
     },
     "metadata": {},
     "execution_count": 14
    }
   ],
   "source": [
    "grped['results_orig'].unique()"
   ]
  },
  {
   "cell_type": "code",
   "execution_count": 15,
   "metadata": {},
   "outputs": [
    {
     "output_type": "execute_result",
     "data": {
      "text/plain": [
       "                    inspection_id_orig  dba_name  aka_name_orig  license_  \\\n",
       "results_orig                                                                \n",
       "Fail                             37854     37854          37420     37852   \n",
       "No Entry                           343       343            338       343   \n",
       "Not Ready                           70        70             70        70   \n",
       "Out of Business                    300       300            297       300   \n",
       "Pass                               596       596            591       596   \n",
       "Pass w/ Conditions                2437      2437           2428      2437   \n",
       "\n",
       "                    facility_type_orig  risk_orig  address  city_orig  \\\n",
       "results_orig                                                            \n",
       "Fail                             37827      37854    37854      37821   \n",
       "No Entry                           343        343      343        343   \n",
       "Not Ready                           70         70       70         70   \n",
       "Out of Business                    298        300      300        300   \n",
       "Pass                               596        596      596        596   \n",
       "Pass w/ Conditions                2437       2437     2437       2435   \n",
       "\n",
       "                    state_orig  zip_orig  ...  zip_re  inspection_date_re  \\\n",
       "results_orig                              ...                               \n",
       "Fail                     37845     37847  ...   37847               37854   \n",
       "No Entry                   343       343  ...     343                 343   \n",
       "Not Ready                   70        70  ...      70                  70   \n",
       "Out of Business            300       300  ...     300                 300   \n",
       "Pass                       596       596  ...     596                 596   \n",
       "Pass w/ Conditions        2437      2436  ...    2436                2437   \n",
       "\n",
       "                    inspection_type_re  results_re  location_re  \\\n",
       "results_orig                                                      \n",
       "Fail                             37854       37854        37725   \n",
       "No Entry                           343         343          343   \n",
       "Not Ready                           70          70           68   \n",
       "Out of Business                    300         300          299   \n",
       "Pass                               596         596          595   \n",
       "Pass w/ Conditions                2437        2437         2432   \n",
       "\n",
       "                    violations_re  inspection_type_clean_re  date_orig  \\\n",
       "results_orig                                                             \n",
       "Fail                        24825                     37854      37854   \n",
       "No Entry                      254                       343        343   \n",
       "Not Ready                      36                        70         70   \n",
       "Out of Business               175                       300        300   \n",
       "Pass                          277                       596        596   \n",
       "Pass w/ Conditions           1802                      2437       2437   \n",
       "\n",
       "                    date_re  time_between  \n",
       "results_orig                               \n",
       "Fail                  37854         37854  \n",
       "No Entry                343           343  \n",
       "Not Ready                70            70  \n",
       "Out of Business         300           300  \n",
       "Pass                    596           596  \n",
       "Pass w/ Conditions     2437          2437  \n",
       "\n",
       "[6 rows x 33 columns]"
      ],
      "text/html": "<div>\n<style scoped>\n    .dataframe tbody tr th:only-of-type {\n        vertical-align: middle;\n    }\n\n    .dataframe tbody tr th {\n        vertical-align: top;\n    }\n\n    .dataframe thead th {\n        text-align: right;\n    }\n</style>\n<table border=\"1\" class=\"dataframe\">\n  <thead>\n    <tr style=\"text-align: right;\">\n      <th></th>\n      <th>inspection_id_orig</th>\n      <th>dba_name</th>\n      <th>aka_name_orig</th>\n      <th>license_</th>\n      <th>facility_type_orig</th>\n      <th>risk_orig</th>\n      <th>address</th>\n      <th>city_orig</th>\n      <th>state_orig</th>\n      <th>zip_orig</th>\n      <th>...</th>\n      <th>zip_re</th>\n      <th>inspection_date_re</th>\n      <th>inspection_type_re</th>\n      <th>results_re</th>\n      <th>location_re</th>\n      <th>violations_re</th>\n      <th>inspection_type_clean_re</th>\n      <th>date_orig</th>\n      <th>date_re</th>\n      <th>time_between</th>\n    </tr>\n    <tr>\n      <th>results_orig</th>\n      <th></th>\n      <th></th>\n      <th></th>\n      <th></th>\n      <th></th>\n      <th></th>\n      <th></th>\n      <th></th>\n      <th></th>\n      <th></th>\n      <th></th>\n      <th></th>\n      <th></th>\n      <th></th>\n      <th></th>\n      <th></th>\n      <th></th>\n      <th></th>\n      <th></th>\n      <th></th>\n      <th></th>\n    </tr>\n  </thead>\n  <tbody>\n    <tr>\n      <th>Fail</th>\n      <td>37854</td>\n      <td>37854</td>\n      <td>37420</td>\n      <td>37852</td>\n      <td>37827</td>\n      <td>37854</td>\n      <td>37854</td>\n      <td>37821</td>\n      <td>37845</td>\n      <td>37847</td>\n      <td>...</td>\n      <td>37847</td>\n      <td>37854</td>\n      <td>37854</td>\n      <td>37854</td>\n      <td>37725</td>\n      <td>24825</td>\n      <td>37854</td>\n      <td>37854</td>\n      <td>37854</td>\n      <td>37854</td>\n    </tr>\n    <tr>\n      <th>No Entry</th>\n      <td>343</td>\n      <td>343</td>\n      <td>338</td>\n      <td>343</td>\n      <td>343</td>\n      <td>343</td>\n      <td>343</td>\n      <td>343</td>\n      <td>343</td>\n      <td>343</td>\n      <td>...</td>\n      <td>343</td>\n      <td>343</td>\n      <td>343</td>\n      <td>343</td>\n      <td>343</td>\n      <td>254</td>\n      <td>343</td>\n      <td>343</td>\n      <td>343</td>\n      <td>343</td>\n    </tr>\n    <tr>\n      <th>Not Ready</th>\n      <td>70</td>\n      <td>70</td>\n      <td>70</td>\n      <td>70</td>\n      <td>70</td>\n      <td>70</td>\n      <td>70</td>\n      <td>70</td>\n      <td>70</td>\n      <td>70</td>\n      <td>...</td>\n      <td>70</td>\n      <td>70</td>\n      <td>70</td>\n      <td>70</td>\n      <td>68</td>\n      <td>36</td>\n      <td>70</td>\n      <td>70</td>\n      <td>70</td>\n      <td>70</td>\n    </tr>\n    <tr>\n      <th>Out of Business</th>\n      <td>300</td>\n      <td>300</td>\n      <td>297</td>\n      <td>300</td>\n      <td>298</td>\n      <td>300</td>\n      <td>300</td>\n      <td>300</td>\n      <td>300</td>\n      <td>300</td>\n      <td>...</td>\n      <td>300</td>\n      <td>300</td>\n      <td>300</td>\n      <td>300</td>\n      <td>299</td>\n      <td>175</td>\n      <td>300</td>\n      <td>300</td>\n      <td>300</td>\n      <td>300</td>\n    </tr>\n    <tr>\n      <th>Pass</th>\n      <td>596</td>\n      <td>596</td>\n      <td>591</td>\n      <td>596</td>\n      <td>596</td>\n      <td>596</td>\n      <td>596</td>\n      <td>596</td>\n      <td>596</td>\n      <td>596</td>\n      <td>...</td>\n      <td>596</td>\n      <td>596</td>\n      <td>596</td>\n      <td>596</td>\n      <td>595</td>\n      <td>277</td>\n      <td>596</td>\n      <td>596</td>\n      <td>596</td>\n      <td>596</td>\n    </tr>\n    <tr>\n      <th>Pass w/ Conditions</th>\n      <td>2437</td>\n      <td>2437</td>\n      <td>2428</td>\n      <td>2437</td>\n      <td>2437</td>\n      <td>2437</td>\n      <td>2437</td>\n      <td>2435</td>\n      <td>2437</td>\n      <td>2436</td>\n      <td>...</td>\n      <td>2436</td>\n      <td>2437</td>\n      <td>2437</td>\n      <td>2437</td>\n      <td>2432</td>\n      <td>1802</td>\n      <td>2437</td>\n      <td>2437</td>\n      <td>2437</td>\n      <td>2437</td>\n    </tr>\n  </tbody>\n</table>\n<p>6 rows × 33 columns</p>\n</div>"
     },
     "metadata": {},
     "execution_count": 15
    }
   ],
   "source": [
    "grped.groupby('results_orig').count()"
   ]
  },
  {
   "cell_type": "code",
   "execution_count": 16,
   "metadata": {},
   "outputs": [
    {
     "output_type": "execute_result",
     "data": {
      "text/plain": [
       "(37854, 34)"
      ]
     },
     "metadata": {},
     "execution_count": 16
    }
   ],
   "source": [
    "#grped_clean = grped[(grped['results_orig'] == 'Fail') | (grped['results_orig'] == 'Pass w/ Conditions')]\n",
    "grped_clean = grped[grped['results_orig'] == 'Fail']\n",
    "grped_clean.shape"
   ]
  },
  {
   "cell_type": "code",
   "execution_count": 17,
   "metadata": {},
   "outputs": [
    {
     "output_type": "stream",
     "name": "stdout",
     "text": [
      "(64, 34)\n"
     ]
    },
    {
     "output_type": "execute_result",
     "data": {
      "text/plain": [
       "      inspection_id_orig     inspection_date_orig inspection_id_re  \\\n",
       "23194             154305  2010-03-12T00:00:00.000           154309   \n",
       "43154            1760212  2016-05-19T00:00:00.000          1931711   \n",
       "52136            1965764  2016-09-30T00:00:00.000          1965767   \n",
       "75513              88601  2010-11-19T00:00:00.000            88604   \n",
       "79510             580611  2011-04-27T00:00:00.000           580732   \n",
       "92796             670705  2012-02-17T00:00:00.000           670797   \n",
       "94927             580191  2011-04-04T00:00:00.000           580186   \n",
       "94928             580191  2011-04-04T00:00:00.000           580176   \n",
       "94929             580191  2011-04-04T00:00:00.000           580167   \n",
       "94931             580191  2011-04-04T00:00:00.000           580234   \n",
       "94932             580191  2011-04-04T00:00:00.000           580169   \n",
       "94933             580191  2011-04-04T00:00:00.000           580185   \n",
       "94934             580191  2011-04-04T00:00:00.000           580188   \n",
       "94935             580191  2011-04-04T00:00:00.000           580172   \n",
       "94936             580191  2011-04-04T00:00:00.000           580181   \n",
       "94937             580191  2011-04-04T00:00:00.000           580179   \n",
       "95136             580192  2011-04-04T00:00:00.000           580186   \n",
       "95137             580192  2011-04-04T00:00:00.000           580176   \n",
       "95138             580192  2011-04-04T00:00:00.000           580167   \n",
       "95140             580192  2011-04-04T00:00:00.000           580234   \n",
       "\n",
       "            inspection_date_re  time_between  \n",
       "23194  2010-03-19T00:00:00.000            -7  \n",
       "43154  2016-05-26T00:00:00.000            -7  \n",
       "52136  2016-10-03T00:00:00.000            -3  \n",
       "75513  2010-11-23T00:00:00.000            -4  \n",
       "79510  2011-05-04T00:00:00.000            -7  \n",
       "92796  2012-02-27T00:00:00.000           -10  \n",
       "94927  2011-04-04T00:00:00.000             0  \n",
       "94928  2011-04-04T00:00:00.000             0  \n",
       "94929  2011-04-04T00:00:00.000             0  \n",
       "94931  2011-04-04T00:00:00.000             0  \n",
       "94932  2011-04-04T00:00:00.000             0  \n",
       "94933  2011-04-04T00:00:00.000             0  \n",
       "94934  2011-04-04T00:00:00.000             0  \n",
       "94935  2011-04-04T00:00:00.000             0  \n",
       "94936  2011-04-04T00:00:00.000             0  \n",
       "94937  2011-04-04T00:00:00.000             0  \n",
       "95136  2011-04-04T00:00:00.000             0  \n",
       "95137  2011-04-04T00:00:00.000             0  \n",
       "95138  2011-04-04T00:00:00.000             0  \n",
       "95140  2011-04-04T00:00:00.000             0  "
      ],
      "text/html": "<div>\n<style scoped>\n    .dataframe tbody tr th:only-of-type {\n        vertical-align: middle;\n    }\n\n    .dataframe tbody tr th {\n        vertical-align: top;\n    }\n\n    .dataframe thead th {\n        text-align: right;\n    }\n</style>\n<table border=\"1\" class=\"dataframe\">\n  <thead>\n    <tr style=\"text-align: right;\">\n      <th></th>\n      <th>inspection_id_orig</th>\n      <th>inspection_date_orig</th>\n      <th>inspection_id_re</th>\n      <th>inspection_date_re</th>\n      <th>time_between</th>\n    </tr>\n  </thead>\n  <tbody>\n    <tr>\n      <th>23194</th>\n      <td>154305</td>\n      <td>2010-03-12T00:00:00.000</td>\n      <td>154309</td>\n      <td>2010-03-19T00:00:00.000</td>\n      <td>-7</td>\n    </tr>\n    <tr>\n      <th>43154</th>\n      <td>1760212</td>\n      <td>2016-05-19T00:00:00.000</td>\n      <td>1931711</td>\n      <td>2016-05-26T00:00:00.000</td>\n      <td>-7</td>\n    </tr>\n    <tr>\n      <th>52136</th>\n      <td>1965764</td>\n      <td>2016-09-30T00:00:00.000</td>\n      <td>1965767</td>\n      <td>2016-10-03T00:00:00.000</td>\n      <td>-3</td>\n    </tr>\n    <tr>\n      <th>75513</th>\n      <td>88601</td>\n      <td>2010-11-19T00:00:00.000</td>\n      <td>88604</td>\n      <td>2010-11-23T00:00:00.000</td>\n      <td>-4</td>\n    </tr>\n    <tr>\n      <th>79510</th>\n      <td>580611</td>\n      <td>2011-04-27T00:00:00.000</td>\n      <td>580732</td>\n      <td>2011-05-04T00:00:00.000</td>\n      <td>-7</td>\n    </tr>\n    <tr>\n      <th>92796</th>\n      <td>670705</td>\n      <td>2012-02-17T00:00:00.000</td>\n      <td>670797</td>\n      <td>2012-02-27T00:00:00.000</td>\n      <td>-10</td>\n    </tr>\n    <tr>\n      <th>94927</th>\n      <td>580191</td>\n      <td>2011-04-04T00:00:00.000</td>\n      <td>580186</td>\n      <td>2011-04-04T00:00:00.000</td>\n      <td>0</td>\n    </tr>\n    <tr>\n      <th>94928</th>\n      <td>580191</td>\n      <td>2011-04-04T00:00:00.000</td>\n      <td>580176</td>\n      <td>2011-04-04T00:00:00.000</td>\n      <td>0</td>\n    </tr>\n    <tr>\n      <th>94929</th>\n      <td>580191</td>\n      <td>2011-04-04T00:00:00.000</td>\n      <td>580167</td>\n      <td>2011-04-04T00:00:00.000</td>\n      <td>0</td>\n    </tr>\n    <tr>\n      <th>94931</th>\n      <td>580191</td>\n      <td>2011-04-04T00:00:00.000</td>\n      <td>580234</td>\n      <td>2011-04-04T00:00:00.000</td>\n      <td>0</td>\n    </tr>\n    <tr>\n      <th>94932</th>\n      <td>580191</td>\n      <td>2011-04-04T00:00:00.000</td>\n      <td>580169</td>\n      <td>2011-04-04T00:00:00.000</td>\n      <td>0</td>\n    </tr>\n    <tr>\n      <th>94933</th>\n      <td>580191</td>\n      <td>2011-04-04T00:00:00.000</td>\n      <td>580185</td>\n      <td>2011-04-04T00:00:00.000</td>\n      <td>0</td>\n    </tr>\n    <tr>\n      <th>94934</th>\n      <td>580191</td>\n      <td>2011-04-04T00:00:00.000</td>\n      <td>580188</td>\n      <td>2011-04-04T00:00:00.000</td>\n      <td>0</td>\n    </tr>\n    <tr>\n      <th>94935</th>\n      <td>580191</td>\n      <td>2011-04-04T00:00:00.000</td>\n      <td>580172</td>\n      <td>2011-04-04T00:00:00.000</td>\n      <td>0</td>\n    </tr>\n    <tr>\n      <th>94936</th>\n      <td>580191</td>\n      <td>2011-04-04T00:00:00.000</td>\n      <td>580181</td>\n      <td>2011-04-04T00:00:00.000</td>\n      <td>0</td>\n    </tr>\n    <tr>\n      <th>94937</th>\n      <td>580191</td>\n      <td>2011-04-04T00:00:00.000</td>\n      <td>580179</td>\n      <td>2011-04-04T00:00:00.000</td>\n      <td>0</td>\n    </tr>\n    <tr>\n      <th>95136</th>\n      <td>580192</td>\n      <td>2011-04-04T00:00:00.000</td>\n      <td>580186</td>\n      <td>2011-04-04T00:00:00.000</td>\n      <td>0</td>\n    </tr>\n    <tr>\n      <th>95137</th>\n      <td>580192</td>\n      <td>2011-04-04T00:00:00.000</td>\n      <td>580176</td>\n      <td>2011-04-04T00:00:00.000</td>\n      <td>0</td>\n    </tr>\n    <tr>\n      <th>95138</th>\n      <td>580192</td>\n      <td>2011-04-04T00:00:00.000</td>\n      <td>580167</td>\n      <td>2011-04-04T00:00:00.000</td>\n      <td>0</td>\n    </tr>\n    <tr>\n      <th>95140</th>\n      <td>580192</td>\n      <td>2011-04-04T00:00:00.000</td>\n      <td>580234</td>\n      <td>2011-04-04T00:00:00.000</td>\n      <td>0</td>\n    </tr>\n  </tbody>\n</table>\n</div>"
     },
     "metadata": {},
     "execution_count": 17
    }
   ],
   "source": [
    "duplicates2 = grped_clean[grped_clean.duplicated('inspection_id_re')]\n",
    "print(duplicates2.shape)\n",
    "duplicates2[['inspection_id_orig', 'inspection_date_orig', 'inspection_id_re', 'inspection_date_re', 'time_between']].head(20)"
   ]
  },
  {
   "cell_type": "code",
   "execution_count": 18,
   "metadata": {},
   "outputs": [
    {
     "output_type": "execute_result",
     "data": {
      "text/plain": [
       "(37756, 34)"
      ]
     },
     "metadata": {},
     "execution_count": 18
    }
   ],
   "source": [
    "#Dropping anything that's been duplicated. This only drops 69 rows. \n",
    "grped_no_duplicates = grped_clean.drop_duplicates(subset='inspection_id_re')\n",
    "grped_no_duplicates = grped_no_duplicates.drop_duplicates(subset='inspection_id_orig')\n",
    "grped_no_duplicates.shape"
   ]
  },
  {
   "cell_type": "code",
   "execution_count": 19,
   "metadata": {},
   "outputs": [
    {
     "output_type": "execute_result",
     "data": {
      "text/plain": [
       "count    37756.000000\n",
       "mean       -11.004556\n",
       "std         19.771317\n",
       "min       -685.000000\n",
       "25%        -10.000000\n",
       "50%         -7.000000\n",
       "75%         -7.000000\n",
       "max          0.000000\n",
       "Name: time_between, dtype: float64"
      ]
     },
     "metadata": {},
     "execution_count": 19
    }
   ],
   "source": [
    "grped_no_duplicates['time_between'].describe()"
   ]
  },
  {
   "cell_type": "code",
   "execution_count": 20,
   "metadata": {},
   "outputs": [
    {
     "output_type": "execute_result",
     "data": {
      "text/plain": [
       "                    inspection_id_orig  dba_name  aka_name_orig  license_  \\\n",
       "results_re                                                                  \n",
       "Fail                              3489      3489           3410      3488   \n",
       "No Entry                           329       329            324       329   \n",
       "Not Ready                           36        36             36        36   \n",
       "Out of Business                     78        78             78        78   \n",
       "Pass                             29043     29043          28713     29042   \n",
       "Pass w/ Conditions                4781      4781           4762      4781   \n",
       "\n",
       "                    facility_type_orig  risk_orig  address  city_orig  \\\n",
       "results_re                                                              \n",
       "Fail                              3486       3489     3489       3485   \n",
       "No Entry                           329        329      329        329   \n",
       "Not Ready                           36         36       36         36   \n",
       "Out of Business                     77         78       78         78   \n",
       "Pass                             29024      29043    29043      29016   \n",
       "Pass w/ Conditions                4777       4781     4781       4779   \n",
       "\n",
       "                    state_orig  zip_orig  ...  state_re  zip_re  \\\n",
       "results_re                                ...                     \n",
       "Fail                      3489      3488  ...      3489    3488   \n",
       "No Entry                   329       329  ...       329     329   \n",
       "Not Ready                   36        36  ...        36      36   \n",
       "Out of Business             78        78  ...        78      78   \n",
       "Pass                     29036     29038  ...     29036   29038   \n",
       "Pass w/ Conditions        4779      4780  ...      4779    4780   \n",
       "\n",
       "                    inspection_date_re  inspection_type_re  location_re  \\\n",
       "results_re                                                                \n",
       "Fail                              3489                3489         3472   \n",
       "No Entry                           329                 329          329   \n",
       "Not Ready                           36                  36           36   \n",
       "Out of Business                     78                  78           78   \n",
       "Pass                             29043               29043        28944   \n",
       "Pass w/ Conditions                4781                4781         4768   \n",
       "\n",
       "                    violations_re  inspection_type_clean_re  date_orig  \\\n",
       "results_re                                                               \n",
       "Fail                         3412                      3489       3489   \n",
       "No Entry                      252                       329        329   \n",
       "Not Ready                      27                        36         36   \n",
       "Out of Business                14                        78         78   \n",
       "Pass                        16438                     29043      29043   \n",
       "Pass w/ Conditions           4654                      4781       4781   \n",
       "\n",
       "                    date_re  time_between  \n",
       "results_re                                 \n",
       "Fail                   3489          3489  \n",
       "No Entry                329           329  \n",
       "Not Ready                36            36  \n",
       "Out of Business          78            78  \n",
       "Pass                  29043         29043  \n",
       "Pass w/ Conditions     4781          4781  \n",
       "\n",
       "[6 rows x 33 columns]"
      ],
      "text/html": "<div>\n<style scoped>\n    .dataframe tbody tr th:only-of-type {\n        vertical-align: middle;\n    }\n\n    .dataframe tbody tr th {\n        vertical-align: top;\n    }\n\n    .dataframe thead th {\n        text-align: right;\n    }\n</style>\n<table border=\"1\" class=\"dataframe\">\n  <thead>\n    <tr style=\"text-align: right;\">\n      <th></th>\n      <th>inspection_id_orig</th>\n      <th>dba_name</th>\n      <th>aka_name_orig</th>\n      <th>license_</th>\n      <th>facility_type_orig</th>\n      <th>risk_orig</th>\n      <th>address</th>\n      <th>city_orig</th>\n      <th>state_orig</th>\n      <th>zip_orig</th>\n      <th>...</th>\n      <th>state_re</th>\n      <th>zip_re</th>\n      <th>inspection_date_re</th>\n      <th>inspection_type_re</th>\n      <th>location_re</th>\n      <th>violations_re</th>\n      <th>inspection_type_clean_re</th>\n      <th>date_orig</th>\n      <th>date_re</th>\n      <th>time_between</th>\n    </tr>\n    <tr>\n      <th>results_re</th>\n      <th></th>\n      <th></th>\n      <th></th>\n      <th></th>\n      <th></th>\n      <th></th>\n      <th></th>\n      <th></th>\n      <th></th>\n      <th></th>\n      <th></th>\n      <th></th>\n      <th></th>\n      <th></th>\n      <th></th>\n      <th></th>\n      <th></th>\n      <th></th>\n      <th></th>\n      <th></th>\n      <th></th>\n    </tr>\n  </thead>\n  <tbody>\n    <tr>\n      <th>Fail</th>\n      <td>3489</td>\n      <td>3489</td>\n      <td>3410</td>\n      <td>3488</td>\n      <td>3486</td>\n      <td>3489</td>\n      <td>3489</td>\n      <td>3485</td>\n      <td>3489</td>\n      <td>3488</td>\n      <td>...</td>\n      <td>3489</td>\n      <td>3488</td>\n      <td>3489</td>\n      <td>3489</td>\n      <td>3472</td>\n      <td>3412</td>\n      <td>3489</td>\n      <td>3489</td>\n      <td>3489</td>\n      <td>3489</td>\n    </tr>\n    <tr>\n      <th>No Entry</th>\n      <td>329</td>\n      <td>329</td>\n      <td>324</td>\n      <td>329</td>\n      <td>329</td>\n      <td>329</td>\n      <td>329</td>\n      <td>329</td>\n      <td>329</td>\n      <td>329</td>\n      <td>...</td>\n      <td>329</td>\n      <td>329</td>\n      <td>329</td>\n      <td>329</td>\n      <td>329</td>\n      <td>252</td>\n      <td>329</td>\n      <td>329</td>\n      <td>329</td>\n      <td>329</td>\n    </tr>\n    <tr>\n      <th>Not Ready</th>\n      <td>36</td>\n      <td>36</td>\n      <td>36</td>\n      <td>36</td>\n      <td>36</td>\n      <td>36</td>\n      <td>36</td>\n      <td>36</td>\n      <td>36</td>\n      <td>36</td>\n      <td>...</td>\n      <td>36</td>\n      <td>36</td>\n      <td>36</td>\n      <td>36</td>\n      <td>36</td>\n      <td>27</td>\n      <td>36</td>\n      <td>36</td>\n      <td>36</td>\n      <td>36</td>\n    </tr>\n    <tr>\n      <th>Out of Business</th>\n      <td>78</td>\n      <td>78</td>\n      <td>78</td>\n      <td>78</td>\n      <td>77</td>\n      <td>78</td>\n      <td>78</td>\n      <td>78</td>\n      <td>78</td>\n      <td>78</td>\n      <td>...</td>\n      <td>78</td>\n      <td>78</td>\n      <td>78</td>\n      <td>78</td>\n      <td>78</td>\n      <td>14</td>\n      <td>78</td>\n      <td>78</td>\n      <td>78</td>\n      <td>78</td>\n    </tr>\n    <tr>\n      <th>Pass</th>\n      <td>29043</td>\n      <td>29043</td>\n      <td>28713</td>\n      <td>29042</td>\n      <td>29024</td>\n      <td>29043</td>\n      <td>29043</td>\n      <td>29016</td>\n      <td>29036</td>\n      <td>29038</td>\n      <td>...</td>\n      <td>29036</td>\n      <td>29038</td>\n      <td>29043</td>\n      <td>29043</td>\n      <td>28944</td>\n      <td>16438</td>\n      <td>29043</td>\n      <td>29043</td>\n      <td>29043</td>\n      <td>29043</td>\n    </tr>\n    <tr>\n      <th>Pass w/ Conditions</th>\n      <td>4781</td>\n      <td>4781</td>\n      <td>4762</td>\n      <td>4781</td>\n      <td>4777</td>\n      <td>4781</td>\n      <td>4781</td>\n      <td>4779</td>\n      <td>4779</td>\n      <td>4780</td>\n      <td>...</td>\n      <td>4779</td>\n      <td>4780</td>\n      <td>4781</td>\n      <td>4781</td>\n      <td>4768</td>\n      <td>4654</td>\n      <td>4781</td>\n      <td>4781</td>\n      <td>4781</td>\n      <td>4781</td>\n    </tr>\n  </tbody>\n</table>\n<p>6 rows × 33 columns</p>\n</div>"
     },
     "metadata": {},
     "execution_count": 20
    }
   ],
   "source": [
    "grped_no_duplicates.groupby('results_re').count()"
   ]
  },
  {
   "cell_type": "code",
   "execution_count": 21,
   "metadata": {},
   "outputs": [
    {
     "output_type": "execute_result",
     "data": {
      "text/plain": [
       "count    37313.000000\n",
       "mean       -10.889422\n",
       "std         19.417266\n",
       "min       -685.000000\n",
       "25%        -10.000000\n",
       "50%         -7.000000\n",
       "75%         -7.000000\n",
       "max          0.000000\n",
       "Name: time_between, dtype: float64"
      ]
     },
     "metadata": {},
     "execution_count": 21
    }
   ],
   "source": [
    "grped2 = grped_no_duplicates[(grped_no_duplicates['results_re'] == 'Fail') | (grped_no_duplicates['results_re'] == 'Pass') | (grped_no_duplicates['results_re'] == 'Pass w/ Conditions') ]\n",
    "grped2['time_between'].describe()"
   ]
  },
  {
   "cell_type": "code",
   "execution_count": 22,
   "metadata": {},
   "outputs": [],
   "source": [
    "final_grped = grped2[grped2['time_between'] >= -180]"
   ]
  },
  {
   "cell_type": "code",
   "execution_count": 23,
   "metadata": {},
   "outputs": [
    {
     "output_type": "execute_result",
     "data": {
      "text/plain": [
       "Index(['inspection_id_orig', 'dba_name', 'aka_name_orig', 'license_',\n",
       "       'facility_type_orig', 'risk_orig', 'address', 'city_orig', 'state_orig',\n",
       "       'zip_orig', 'inspection_date_orig', 'inspection_type_orig',\n",
       "       'results_orig', 'latitude', 'longitude', 'location_orig',\n",
       "       'violations_orig', 'inspection_type_clean_orig', 'inspection_id_re',\n",
       "       'aka_name_re', 'facility_type_re', 'risk_re', 'city_re', 'state_re',\n",
       "       'zip_re', 'inspection_date_re', 'inspection_type_re', 'results_re',\n",
       "       'location_re', 'violations_re', 'inspection_type_clean_re', 'date_orig',\n",
       "       'date_re', 'time_between'],\n",
       "      dtype='object')"
      ]
     },
     "metadata": {},
     "execution_count": 23
    }
   ],
   "source": [
    "final_grped.columns"
   ]
  },
  {
   "cell_type": "code",
   "execution_count": 24,
   "metadata": {},
   "outputs": [],
   "source": [
    "final_df = final_grped[['inspection_id_orig', 'dba_name', 'license_', \n",
    "                        'facility_type_orig', 'date_orig', 'inspection_type_orig',\n",
    "                        'results_orig', 'violations_orig', 'inspection_id_re',\n",
    "                        'date_re', 'results_re', 'time_between']]\n",
    "final_df = final_df.rename({'inspection_id_orig': 'id_orig', 'dba_name': 'name', 'license_': 'license', \n",
    "                        'facility_type_orig': 'facility_type', 'inspection_id_re': 'id_re'}, axis=1)"
   ]
  },
  {
   "cell_type": "code",
   "execution_count": 25,
   "metadata": {},
   "outputs": [
    {
     "output_type": "execute_result",
     "data": {
      "text/plain": [
       "array(['Canvass', 'Complaint', 'Canvass Re-Inspection', 'License',\n",
       "       'License Re-Inspection', 'Complaint Re-Inspection',\n",
       "       'License-Task Force', 'Short Form Complaint',\n",
       "       'Suspected Food Poisoning', 'Consultation', 'Recent Inspection',\n",
       "       'RECALL INSPECTION', 'Complaint-Fire',\n",
       "       'Special Events (Festivals)', 'SFP',\n",
       "       'Suspected Food Poisoning Re-inspection', 'No Entry',\n",
       "       'Tag Removal', 'Short Form Fire-Complaint',\n",
       "       'Task Force Liquor 1475', 'Complaint-Fire Re-inspection',\n",
       "       'SFP/COMPLAINT', 'Non-Inspection', 'TWO PEOPLE ATE AND GOT SICK.',\n",
       "       'no entry', 'RE-INSPECTION OF CLOSE-UP', 'Illegal Operation',\n",
       "       'REINSPECTION OF 48 HOUR NOTICE', 'SFP/Complaint',\n",
       "       'Package Liquor 1474', '1315 license reinspection', 'NO ENTRY',\n",
       "       'TASK FORCE NIGHT', 'TAVERN 1470',\n",
       "       'task force(1470) liquor tavern', 'TASK FORCE PACKAGE LIQUOR',\n",
       "       'LIQUOR CATERING', 'SPECIAL TASK FORCE'], dtype=object)"
      ]
     },
     "metadata": {},
     "execution_count": 25
    }
   ],
   "source": [
    "final_df['inspection_type_orig'].unique()"
   ]
  },
  {
   "cell_type": "code",
   "execution_count": 26,
   "metadata": {},
   "outputs": [],
   "source": [
    "final_df = final_df[(final_df['inspection_type_orig'] != 'No Entry') & (final_df['inspection_type_orig'] != 'no entry')]"
   ]
  },
  {
   "cell_type": "code",
   "execution_count": 27,
   "metadata": {},
   "outputs": [
    {
     "output_type": "stream",
     "name": "stdout",
     "text": [
      "(37206, 12)\n"
     ]
    },
    {
     "output_type": "execute_result",
     "data": {
      "text/plain": [
       "    id_orig                       name  license facility_type  date_orig  \\\n",
       "16   577275                    ROYALTY  1306130    Restaurant 2011-04-18   \n",
       "38  1345428              PRET A MANGER  2138418    Restaurant 2013-08-06   \n",
       "43  1114379              PRET A MANGER  2138418    Restaurant 2012-07-23   \n",
       "65   343293     CHIPOTLE MEXICAN GRILL  1379435    Restaurant 2010-08-17   \n",
       "72  2484973  HILLTOP FAMILY RESTAURANT  2652370    Restaurant 2021-02-19   \n",
       "\n",
       "     inspection_type_orig results_orig  \\\n",
       "16                Canvass         Fail   \n",
       "38                Canvass         Fail   \n",
       "43              Complaint         Fail   \n",
       "65                Canvass         Fail   \n",
       "72  Canvass Re-Inspection         Fail   \n",
       "\n",
       "                                      violations_orig    id_re    date_re  \\\n",
       "16  18. NO EVIDENCE OF RODENT OR INSECT OUTER OPEN...   577343 2011-05-24   \n",
       "38  18. NO EVIDENCE OF RODENT OR INSECT OUTER OPEN...  1345448 2013-08-13   \n",
       "43  18. NO EVIDENCE OF RODENT OR INSECT OUTER OPEN...  1114384 2012-07-31   \n",
       "65  18. NO EVIDENCE OF RODENT OR INSECT OUTER OPEN...   343310 2010-08-26   \n",
       "72  44. UTENSILS, EQUIPMENT & LINENS: PROPERLY STO...  2485081 2021-02-23   \n",
       "\n",
       "            results_re  time_between  \n",
       "16                Pass           -36  \n",
       "38                Pass            -7  \n",
       "43                Pass            -8  \n",
       "65                Pass            -9  \n",
       "72  Pass w/ Conditions            -4  "
      ],
      "text/html": "<div>\n<style scoped>\n    .dataframe tbody tr th:only-of-type {\n        vertical-align: middle;\n    }\n\n    .dataframe tbody tr th {\n        vertical-align: top;\n    }\n\n    .dataframe thead th {\n        text-align: right;\n    }\n</style>\n<table border=\"1\" class=\"dataframe\">\n  <thead>\n    <tr style=\"text-align: right;\">\n      <th></th>\n      <th>id_orig</th>\n      <th>name</th>\n      <th>license</th>\n      <th>facility_type</th>\n      <th>date_orig</th>\n      <th>inspection_type_orig</th>\n      <th>results_orig</th>\n      <th>violations_orig</th>\n      <th>id_re</th>\n      <th>date_re</th>\n      <th>results_re</th>\n      <th>time_between</th>\n    </tr>\n  </thead>\n  <tbody>\n    <tr>\n      <th>16</th>\n      <td>577275</td>\n      <td>ROYALTY</td>\n      <td>1306130</td>\n      <td>Restaurant</td>\n      <td>2011-04-18</td>\n      <td>Canvass</td>\n      <td>Fail</td>\n      <td>18. NO EVIDENCE OF RODENT OR INSECT OUTER OPEN...</td>\n      <td>577343</td>\n      <td>2011-05-24</td>\n      <td>Pass</td>\n      <td>-36</td>\n    </tr>\n    <tr>\n      <th>38</th>\n      <td>1345428</td>\n      <td>PRET A MANGER</td>\n      <td>2138418</td>\n      <td>Restaurant</td>\n      <td>2013-08-06</td>\n      <td>Canvass</td>\n      <td>Fail</td>\n      <td>18. NO EVIDENCE OF RODENT OR INSECT OUTER OPEN...</td>\n      <td>1345448</td>\n      <td>2013-08-13</td>\n      <td>Pass</td>\n      <td>-7</td>\n    </tr>\n    <tr>\n      <th>43</th>\n      <td>1114379</td>\n      <td>PRET A MANGER</td>\n      <td>2138418</td>\n      <td>Restaurant</td>\n      <td>2012-07-23</td>\n      <td>Complaint</td>\n      <td>Fail</td>\n      <td>18. NO EVIDENCE OF RODENT OR INSECT OUTER OPEN...</td>\n      <td>1114384</td>\n      <td>2012-07-31</td>\n      <td>Pass</td>\n      <td>-8</td>\n    </tr>\n    <tr>\n      <th>65</th>\n      <td>343293</td>\n      <td>CHIPOTLE MEXICAN GRILL</td>\n      <td>1379435</td>\n      <td>Restaurant</td>\n      <td>2010-08-17</td>\n      <td>Canvass</td>\n      <td>Fail</td>\n      <td>18. NO EVIDENCE OF RODENT OR INSECT OUTER OPEN...</td>\n      <td>343310</td>\n      <td>2010-08-26</td>\n      <td>Pass</td>\n      <td>-9</td>\n    </tr>\n    <tr>\n      <th>72</th>\n      <td>2484973</td>\n      <td>HILLTOP FAMILY RESTAURANT</td>\n      <td>2652370</td>\n      <td>Restaurant</td>\n      <td>2021-02-19</td>\n      <td>Canvass Re-Inspection</td>\n      <td>Fail</td>\n      <td>44. UTENSILS, EQUIPMENT &amp; LINENS: PROPERLY STO...</td>\n      <td>2485081</td>\n      <td>2021-02-23</td>\n      <td>Pass w/ Conditions</td>\n      <td>-4</td>\n    </tr>\n  </tbody>\n</table>\n</div>"
     },
     "metadata": {},
     "execution_count": 27
    }
   ],
   "source": [
    "print(final_df.shape)\n",
    "final_df.head()"
   ]
  },
  {
   "cell_type": "code",
   "execution_count": 28,
   "metadata": {},
   "outputs": [],
   "source": [
    "#Drop conditions:\n",
    "#repeat re-inspection ID or original inspection ID (may investigate further, but not a big impact)\n",
    "#original outcome of pass, pass w/conditions, no entry, or not ready\n",
    "#more than 150 days between original and reinspection\n",
    "#went from 41,600 rows to 37,201\n",
    "\n",
    "#save to pickle\n",
    "final_df.to_pickle(\"initial_clean.pkl\")"
   ]
  },
  {
   "cell_type": "code",
   "execution_count": null,
   "metadata": {},
   "outputs": [],
   "source": []
  }
 ]
}