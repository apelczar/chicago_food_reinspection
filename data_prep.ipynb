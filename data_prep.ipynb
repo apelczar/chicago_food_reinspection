{
 "metadata": {
  "language_info": {
   "codemirror_mode": {
    "name": "ipython",
    "version": 3
   },
   "file_extension": ".py",
   "mimetype": "text/x-python",
   "name": "python",
   "nbconvert_exporter": "python",
   "pygments_lexer": "ipython3",
   "version": "3.8.5"
  },
  "orig_nbformat": 2,
  "kernelspec": {
   "name": "python385jvsc74a57bd0ba539312d09a2ffa8c7e90eb1ed4fb57b0b5103be99f6c8fe3af2b5222ff8312",
   "display_name": "Python 3.8.5 64-bit ('alipe': virtualenv)"
  }
 },
 "nbformat": 4,
 "nbformat_minor": 2,
 "cells": [
  {
   "cell_type": "code",
   "execution_count": 1,
   "metadata": {},
   "outputs": [],
   "source": [
    "import numpy as np\n",
    "import pandas as pd\n",
    "from sodapy import Socrata"
   ]
  },
  {
   "cell_type": "code",
   "execution_count": 2,
   "metadata": {},
   "outputs": [
    {
     "output_type": "stream",
     "name": "stderr",
     "text": [
      "WARNING:root:Requests made without an app_token will be subject to strict throttling limits.\n"
     ]
    },
    {
     "output_type": "execute_result",
     "data": {
      "text/plain": [
       "  inspection_id             dba_name          aka_name license_ facility_type  \\\n",
       "0       2484532               VOLARE            VOLARE  2141813    Restaurant   \n",
       "1       2473041  ROSATI'S GRANT PARK          ROSATI'S  2762683    Restaurant   \n",
       "2       2472595                PORTO             PORTO  2636886    Restaurant   \n",
       "3       2457202               PI18EN            PI18EN  2626471    Restaurant   \n",
       "4       2386070     STREETERS TAVERN  STREETERS TAVERN     8864        TAVERN   \n",
       "\n",
       "            risk               address     city state    zip  \\\n",
       "0  Risk 1 (High)      201 E GRAND AVE   CHICAGO    IL  60611   \n",
       "1  Risk 1 (High)        23 E ADAMS ST   CHICAGO    IL  60603   \n",
       "2  Risk 1 (High)   1600 W CHICAGO AVE   CHICAGO    IL  60622   \n",
       "3  Risk 1 (High)       1519 W 18TH ST   CHICAGO    IL  60608   \n",
       "4   Risk 3 (Low)  48-50 E CHICAGO AVE   CHICAGO    IL  60611   \n",
       "\n",
       "           inspection_date inspection_type   results            latitude  \\\n",
       "0  2021-02-04T00:00:00.000  Non-Inspection  No Entry   41.89165221441017   \n",
       "1  2021-01-22T00:00:00.000         License      Pass  41.879391313239694   \n",
       "2  2021-01-12T00:00:00.000  Non-Inspection  No Entry  41.896182324221726   \n",
       "3  2020-11-30T00:00:00.000  Non-Inspection  No Entry    41.8577138739859   \n",
       "4  2020-08-13T00:00:00.000         Canvass      Pass   41.89681264961122   \n",
       "\n",
       "            longitude                                           location  \\\n",
       "0  -87.62260381408842  {'latitude': '-87.62260381408842', 'longitude'...   \n",
       "1  -87.62684825563626  {'latitude': '-87.62684825563626', 'longitude'...   \n",
       "2  -87.66735606423251  {'latitude': '-87.66735606423251', 'longitude'...   \n",
       "3  -87.66454238198166  {'latitude': '-87.66454238198166', 'longitude'...   \n",
       "4  -87.62636337526784  {'latitude': '-87.62636337526784', 'longitude'...   \n",
       "\n",
       "  violations  \n",
       "0        NaN  \n",
       "1        NaN  \n",
       "2        NaN  \n",
       "3        NaN  \n",
       "4        NaN  "
      ],
      "text/html": "<div>\n<style scoped>\n    .dataframe tbody tr th:only-of-type {\n        vertical-align: middle;\n    }\n\n    .dataframe tbody tr th {\n        vertical-align: top;\n    }\n\n    .dataframe thead th {\n        text-align: right;\n    }\n</style>\n<table border=\"1\" class=\"dataframe\">\n  <thead>\n    <tr style=\"text-align: right;\">\n      <th></th>\n      <th>inspection_id</th>\n      <th>dba_name</th>\n      <th>aka_name</th>\n      <th>license_</th>\n      <th>facility_type</th>\n      <th>risk</th>\n      <th>address</th>\n      <th>city</th>\n      <th>state</th>\n      <th>zip</th>\n      <th>inspection_date</th>\n      <th>inspection_type</th>\n      <th>results</th>\n      <th>latitude</th>\n      <th>longitude</th>\n      <th>location</th>\n      <th>violations</th>\n    </tr>\n  </thead>\n  <tbody>\n    <tr>\n      <th>0</th>\n      <td>2484532</td>\n      <td>VOLARE</td>\n      <td>VOLARE</td>\n      <td>2141813</td>\n      <td>Restaurant</td>\n      <td>Risk 1 (High)</td>\n      <td>201 E GRAND AVE</td>\n      <td>CHICAGO</td>\n      <td>IL</td>\n      <td>60611</td>\n      <td>2021-02-04T00:00:00.000</td>\n      <td>Non-Inspection</td>\n      <td>No Entry</td>\n      <td>41.89165221441017</td>\n      <td>-87.62260381408842</td>\n      <td>{'latitude': '-87.62260381408842', 'longitude'...</td>\n      <td>NaN</td>\n    </tr>\n    <tr>\n      <th>1</th>\n      <td>2473041</td>\n      <td>ROSATI'S GRANT PARK</td>\n      <td>ROSATI'S</td>\n      <td>2762683</td>\n      <td>Restaurant</td>\n      <td>Risk 1 (High)</td>\n      <td>23 E ADAMS ST</td>\n      <td>CHICAGO</td>\n      <td>IL</td>\n      <td>60603</td>\n      <td>2021-01-22T00:00:00.000</td>\n      <td>License</td>\n      <td>Pass</td>\n      <td>41.879391313239694</td>\n      <td>-87.62684825563626</td>\n      <td>{'latitude': '-87.62684825563626', 'longitude'...</td>\n      <td>NaN</td>\n    </tr>\n    <tr>\n      <th>2</th>\n      <td>2472595</td>\n      <td>PORTO</td>\n      <td>PORTO</td>\n      <td>2636886</td>\n      <td>Restaurant</td>\n      <td>Risk 1 (High)</td>\n      <td>1600 W CHICAGO AVE</td>\n      <td>CHICAGO</td>\n      <td>IL</td>\n      <td>60622</td>\n      <td>2021-01-12T00:00:00.000</td>\n      <td>Non-Inspection</td>\n      <td>No Entry</td>\n      <td>41.896182324221726</td>\n      <td>-87.66735606423251</td>\n      <td>{'latitude': '-87.66735606423251', 'longitude'...</td>\n      <td>NaN</td>\n    </tr>\n    <tr>\n      <th>3</th>\n      <td>2457202</td>\n      <td>PI18EN</td>\n      <td>PI18EN</td>\n      <td>2626471</td>\n      <td>Restaurant</td>\n      <td>Risk 1 (High)</td>\n      <td>1519 W 18TH ST</td>\n      <td>CHICAGO</td>\n      <td>IL</td>\n      <td>60608</td>\n      <td>2020-11-30T00:00:00.000</td>\n      <td>Non-Inspection</td>\n      <td>No Entry</td>\n      <td>41.8577138739859</td>\n      <td>-87.66454238198166</td>\n      <td>{'latitude': '-87.66454238198166', 'longitude'...</td>\n      <td>NaN</td>\n    </tr>\n    <tr>\n      <th>4</th>\n      <td>2386070</td>\n      <td>STREETERS TAVERN</td>\n      <td>STREETERS TAVERN</td>\n      <td>8864</td>\n      <td>TAVERN</td>\n      <td>Risk 3 (Low)</td>\n      <td>48-50 E CHICAGO AVE</td>\n      <td>CHICAGO</td>\n      <td>IL</td>\n      <td>60611</td>\n      <td>2020-08-13T00:00:00.000</td>\n      <td>Canvass</td>\n      <td>Pass</td>\n      <td>41.89681264961122</td>\n      <td>-87.62636337526784</td>\n      <td>{'latitude': '-87.62636337526784', 'longitude'...</td>\n      <td>NaN</td>\n    </tr>\n  </tbody>\n</table>\n</div>"
     },
     "metadata": {},
     "execution_count": 2
    }
   ],
   "source": [
    "#Make API call to City of Chicago Open Data Portal\n",
    "#Include only inspections prior to 3/31/2021\n",
    "client = Socrata(\"data.cityofchicago.org\", None)\n",
    "results = client.get(\"4ijn-s7e5\", where=\"inspection_date < '2021-04-01T00:00:00.000'\", limit=100000000)\n",
    "\n",
    "inspections_df = pd.DataFrame.from_records(results)\n",
    "inspections_df.head()"
   ]
  },
  {
   "cell_type": "code",
   "execution_count": 3,
   "metadata": {},
   "outputs": [
    {
     "output_type": "execute_result",
     "data": {
      "text/plain": [
       "array(['Non-Inspection', 'License', 'Canvass', 'Complaint',\n",
       "       'Canvass Re-Inspection', 'License Re-Inspection',\n",
       "       'Short Form Complaint', 'Complaint Re-Inspection',\n",
       "       'Suspected Food Poisoning', 'Recent Inspection', 'Consultation',\n",
       "       nan, 'License-Task Force',\n",
       "       'Suspected Food Poisoning Re-inspection', 'Complaint-Fire',\n",
       "       'Short Form Fire-Complaint', 'Complaint-Fire Re-inspection',\n",
       "       'Task Force Liquor 1475', 'Tag Removal', 'Out of Business',\n",
       "       'Special Events (Festivals)', 'No Entry', 'Business Not Located',\n",
       "       'NO ENTRY', 'LICENSE REQUEST', 'NO ENTRY-SHORT COMPLAINT)',\n",
       "       'OUT OF BUSINESS', 'citation re-issued', 'OFFICE ASSIGNMENT',\n",
       "       'COVID COMPLAINT', 'Not Ready', 'Recent inspection',\n",
       "       'fire complaint', 'FIRE', 'KITCHEN CLOSED FOR RENOVATION',\n",
       "       'CORRECTIVE ACTION', 'O.B.', 'OWNER SUSPENDED OPERATION/LICENSE',\n",
       "       'LICENSE CANCELED BY OWNER', 'LICENSE CONSULTATION',\n",
       "       'License consultation', 'Illegal Operation', 'Package Liquor 1474',\n",
       "       'TWO PEOPLE ATE AND GOT SICK.', 'CANVASS SPECIAL EVENTS',\n",
       "       'CANVASS SCHOOL/SPECIAL EVENT', 'Pre-License Consultation',\n",
       "       'HACCP QUESTIONAIRE', 'No entry', 'license task 1474',\n",
       "       'TASK FORCE LIQUOR 1470', 'FIRE/COMPLAIN', 'Sample Collection',\n",
       "       '1315 license reinspection', 'ADDENDUM',\n",
       "       'Task force liquor inspection 1474', 'Task Force for liquor 1474',\n",
       "       'LICENSE/NOT READY', 'CANVAS', 'SFP', 'Task Force Liquor Catering',\n",
       "       'no entry', 'SFP/COMPLAINT', 'SFP/Complaint', 'TASK FORCE NIGHT',\n",
       "       'expansion', 'SFP RECENTLY INSPECTED',\n",
       "       'LICENSE RENEWAL FOR DAYCARE', 'CANVASS RE INSPECTION OF CLOSE UP',\n",
       "       'TAVERN 1470', 'SMOKING COMPLAINT', 'CANVASS',\n",
       "       'LICENSE RENEWAL INSPECTION FOR DAYCARE',\n",
       "       'LICENSE TASK FORCE / NOT -FOR-PROFIT CLUB',\n",
       "       'task force(1470) liquor tavern', 'CITF', 'KIDS CAFE',\n",
       "       'LICENSE DAYCARE 1586', 'TASKFORCE',\n",
       "       'LICENSE TASK FORCE / NOT -FOR-PROFIT CLU',\n",
       "       'TASK FORCE PACKAGE LIQUOR', 'CANVASS/SPECIAL EVENT',\n",
       "       'DAY CARE LICENSE RENEWAL', 'CHANGED COURT DATE',\n",
       "       'LICENSE WRONG ADDRESS', 'LIQUOR CATERING', 'LICENSE',\n",
       "       'CLOSE-UP/COMPLAINT REINSPECTION', 'Summer Feeding',\n",
       "       'TASTE OF CHICAGO', 'error save', 'out ofbusiness',\n",
       "       'RE-INSPECTION OF CLOSE-UP', 'Special Task Force',\n",
       "       'LIQOUR TASK FORCE NOT READY', \"Kids Cafe'\",\n",
       "       'TASK FORCE NOT READY', 'task force',\n",
       "       'REINSPECTION OF 48 HOUR NOTICE', 'SPECIAL TASK FORCE', 'license',\n",
       "       'POSSIBLE FBI', 'REINSPECTION', 'Duplicated',\n",
       "       'TASK FORCE LIQUOR (1481)', 'RECALL INSPECTION',\n",
       "       'CANVASS FOR RIB FEST', 'finish complaint inspection from 5-18-10',\n",
       "       'sfp/complaint', 'TASK FORCE LIQUOR 1474',\n",
       "       'TASK FORCE PACKAGE GOODS 1474'], dtype=object)"
      ]
     },
     "metadata": {},
     "execution_count": 3
    }
   ],
   "source": [
    "inspections_df[\"inspection_type\"].unique()"
   ]
  },
  {
   "cell_type": "code",
   "execution_count": 4,
   "metadata": {},
   "outputs": [
    {
     "output_type": "execute_result",
     "data": {
      "text/plain": [
       "(41456, 18)"
      ]
     },
     "metadata": {},
     "execution_count": 4
    }
   ],
   "source": [
    "#Take only re-inspections\n",
    "inspections_df['inspection_type_clean'] = inspections_df['inspection_type'].str.lower()\n",
    "inspections_df['inspection_type_clean'] = inspections_df['inspection_type_clean'].str.replace('-', '')\n",
    "inspections_df['inspection_type_clean'] = inspections_df['inspection_type_clean'].str.replace('re inspection', 'reinspection')\n",
    "\n",
    "#inspections_df[inspections_df['inspection_type_clean'].isna()]\n",
    "#One record is missing inspection type; will drop\n",
    "inspections_df = inspections_df.dropna(subset=['inspection_type_clean'])\n",
    "#inspections_df['inspection_type_clean'].unique()\n",
    "\n",
    "reinspections_df = inspections_df[inspections_df['inspection_type_clean'].str.contains('reinspection')]\n",
    "reinspections_df.shape"
   ]
  },
  {
   "cell_type": "code",
   "execution_count": 5,
   "metadata": {},
   "outputs": [
    {
     "output_type": "execute_result",
     "data": {
      "text/plain": [
       "(218257, 18)"
      ]
     },
     "metadata": {},
     "execution_count": 5
    }
   ],
   "source": [
    "inspections_df.shape"
   ]
  },
  {
   "cell_type": "code",
   "execution_count": 6,
   "metadata": {},
   "outputs": [
    {
     "output_type": "execute_result",
     "data": {
      "text/plain": [
       "(494337, 31)"
      ]
     },
     "metadata": {},
     "execution_count": 6
    }
   ],
   "source": [
    "#matching steps:\n",
    "#merge full inspections_df with reinspections_df\n",
    "#delete where inspection_id = reinspection_id\n",
    "#group by ID of reinspection\n",
    "#within each group, retain only inspection with closest date before (but not equal to) reinspection\n",
    "full_merge = inspections_df.merge(reinspections_df, on=['dba_name', 'address', 'license_', 'latitude', 'longitude'],\n",
    "                                    suffixes=('_orig', '_re'))\n",
    "full_merge.shape"
   ]
  },
  {
   "cell_type": "code",
   "execution_count": 7,
   "metadata": {},
   "outputs": [
    {
     "output_type": "execute_result",
     "data": {
      "text/plain": [
       "Index(['inspection_id_orig', 'dba_name', 'aka_name_orig', 'license_',\n",
       "       'facility_type_orig', 'risk_orig', 'address', 'city_orig', 'state_orig',\n",
       "       'zip_orig', 'inspection_date_orig', 'inspection_type_orig',\n",
       "       'results_orig', 'latitude', 'longitude', 'location_orig',\n",
       "       'violations_orig', 'inspection_type_clean_orig', 'inspection_id_re',\n",
       "       'aka_name_re', 'facility_type_re', 'risk_re', 'city_re', 'state_re',\n",
       "       'zip_re', 'inspection_date_re', 'inspection_type_re', 'results_re',\n",
       "       'location_re', 'violations_re', 'inspection_type_clean_re'],\n",
       "      dtype='object')"
      ]
     },
     "metadata": {},
     "execution_count": 7
    }
   ],
   "source": [
    "full_merge.columns"
   ]
  },
  {
   "cell_type": "code",
   "execution_count": 8,
   "metadata": {},
   "outputs": [
    {
     "output_type": "execute_result",
     "data": {
      "text/plain": [
       "(452881, 31)"
      ]
     },
     "metadata": {},
     "execution_count": 8
    }
   ],
   "source": [
    "full_merge_clean = full_merge[full_merge['inspection_id_orig'] != full_merge['inspection_id_re']]\n",
    "full_merge_clean.shape"
   ]
  },
  {
   "cell_type": "code",
   "execution_count": 9,
   "metadata": {},
   "outputs": [
    {
     "output_type": "stream",
     "name": "stderr",
     "text": [
      "<ipython-input-9-2341921e68a0>:1: SettingWithCopyWarning: \nA value is trying to be set on a copy of a slice from a DataFrame.\nTry using .loc[row_indexer,col_indexer] = value instead\n\nSee the caveats in the documentation: https://pandas.pydata.org/pandas-docs/stable/user_guide/indexing.html#returning-a-view-versus-a-copy\n  full_merge_clean['date_orig'] = pd.to_datetime(full_merge_clean['inspection_date_orig'])\n<ipython-input-9-2341921e68a0>:2: SettingWithCopyWarning: \nA value is trying to be set on a copy of a slice from a DataFrame.\nTry using .loc[row_indexer,col_indexer] = value instead\n\nSee the caveats in the documentation: https://pandas.pydata.org/pandas-docs/stable/user_guide/indexing.html#returning-a-view-versus-a-copy\n  full_merge_clean['date_re'] = pd.to_datetime(full_merge_clean['inspection_date_re'])\n"
     ]
    }
   ],
   "source": [
    "full_merge_clean['date_orig'] = pd.to_datetime(full_merge_clean['inspection_date_orig'])\n",
    "full_merge_clean['date_re'] = pd.to_datetime(full_merge_clean['inspection_date_re'])"
   ]
  },
  {
   "cell_type": "code",
   "execution_count": 10,
   "metadata": {},
   "outputs": [
    {
     "output_type": "stream",
     "name": "stderr",
     "text": [
      "<ipython-input-10-6563173d44f8>:2: SettingWithCopyWarning: \nA value is trying to be set on a copy of a slice from a DataFrame.\nTry using .loc[row_indexer,col_indexer] = value instead\n\nSee the caveats in the documentation: https://pandas.pydata.org/pandas-docs/stable/user_guide/indexing.html#returning-a-view-versus-a-copy\n  full_merge_clean['time_between'] = full_merge_clean['date_orig'] - full_merge_clean['date_re']\n<ipython-input-10-6563173d44f8>:3: SettingWithCopyWarning: \nA value is trying to be set on a copy of a slice from a DataFrame.\nTry using .loc[row_indexer,col_indexer] = value instead\n\nSee the caveats in the documentation: https://pandas.pydata.org/pandas-docs/stable/user_guide/indexing.html#returning-a-view-versus-a-copy\n  full_merge_clean['time_between'] = full_merge_clean['time_between'].dt.days\n"
     ]
    },
    {
     "output_type": "execute_result",
     "data": {
      "text/plain": [
       "(248091, 34)"
      ]
     },
     "metadata": {},
     "execution_count": 10
    }
   ],
   "source": [
    "#remove rows where original inspection occurred after re-inspection\n",
    "full_merge_clean['time_between'] = full_merge_clean['date_orig'] - full_merge_clean['date_re']\n",
    "full_merge_clean['time_between'] = full_merge_clean['time_between'].dt.days\n",
    "full_merge_clean = full_merge_clean[full_merge_clean['time_between'] <= 0]\n",
    "full_merge_clean.shape"
   ]
  },
  {
   "cell_type": "code",
   "execution_count": 11,
   "metadata": {},
   "outputs": [
    {
     "output_type": "execute_result",
     "data": {
      "text/plain": [
       "   inspection_id_orig          dba_name     aka_name_orig license_  \\\n",
       "10            1989768            VOLARE            VOLARE  2141813   \n",
       "13            1632809            VOLARE            VOLARE  2141813   \n",
       "32            1448101  STREETERS TAVERN  STREETERS TAVERN     8864   \n",
       "36            2453925       MISS SAIGON       MISS SAIGON  2699550   \n",
       "39            2352289       MISS SAIGON       MISS SAIGON  2699550   \n",
       "\n",
       "   facility_type_orig      risk_orig               address city_orig  \\\n",
       "10         Restaurant  Risk 1 (High)      201 E GRAND AVE    CHICAGO   \n",
       "13         Restaurant  Risk 1 (High)      201 E GRAND AVE    CHICAGO   \n",
       "32             TAVERN   Risk 3 (Low)  48-50 E CHICAGO AVE    CHICAGO   \n",
       "36         Restaurant  Risk 1 (High)     1129 W ARGYLE ST    CHICAGO   \n",
       "39         Restaurant  Risk 1 (High)     1129 W ARGYLE ST    CHICAGO   \n",
       "\n",
       "   state_orig zip_orig  ... zip_re       inspection_date_re  \\\n",
       "10         IL    60611  ...  60611  2017-03-01T00:00:00.000   \n",
       "13         IL    60611  ...  60611  2016-03-15T00:00:00.000   \n",
       "32         IL    60611  ...  60611  2015-12-11T00:00:00.000   \n",
       "36         IL    60640  ...  60640  2020-11-05T00:00:00.000   \n",
       "39         IL    60640  ...  60640  2019-11-27T00:00:00.000   \n",
       "\n",
       "         inspection_type_re          results_re  \\\n",
       "10    Canvass Re-Inspection                Pass   \n",
       "13    Canvass Re-Inspection                Pass   \n",
       "32  Complaint Re-Inspection                Pass   \n",
       "36    Canvass Re-Inspection                Pass   \n",
       "39    License Re-Inspection  Pass w/ Conditions   \n",
       "\n",
       "                                          location_re  \\\n",
       "10  {'latitude': '-87.62260381408842', 'longitude'...   \n",
       "13  {'latitude': '-87.62260381408842', 'longitude'...   \n",
       "32  {'latitude': '-87.62636337526784', 'longitude'...   \n",
       "36  {'latitude': '-87.65895612095852', 'longitude'...   \n",
       "39  {'latitude': '-87.65895612095852', 'longitude'...   \n",
       "\n",
       "                                        violations_re  \\\n",
       "10  32. FOOD AND NON-FOOD CONTACT SURFACES PROPERL...   \n",
       "13                                                NaN   \n",
       "32                                                NaN   \n",
       "36                                                NaN   \n",
       "39  5. PROCEDURES FOR RESPONDING TO VOMITING AND D...   \n",
       "\n",
       "   inspection_type_clean_re  date_orig    date_re time_between  \n",
       "10     canvass reinspection 2017-02-27 2017-03-01           -2  \n",
       "13     canvass reinspection 2016-03-08 2016-03-15           -7  \n",
       "32   complaint reinspection 2015-12-01 2015-12-11          -10  \n",
       "36     canvass reinspection 2020-10-28 2020-11-05           -8  \n",
       "39     license reinspection 2019-11-25 2019-11-27           -2  \n",
       "\n",
       "[5 rows x 34 columns]"
      ],
      "text/html": "<div>\n<style scoped>\n    .dataframe tbody tr th:only-of-type {\n        vertical-align: middle;\n    }\n\n    .dataframe tbody tr th {\n        vertical-align: top;\n    }\n\n    .dataframe thead th {\n        text-align: right;\n    }\n</style>\n<table border=\"1\" class=\"dataframe\">\n  <thead>\n    <tr style=\"text-align: right;\">\n      <th></th>\n      <th>inspection_id_orig</th>\n      <th>dba_name</th>\n      <th>aka_name_orig</th>\n      <th>license_</th>\n      <th>facility_type_orig</th>\n      <th>risk_orig</th>\n      <th>address</th>\n      <th>city_orig</th>\n      <th>state_orig</th>\n      <th>zip_orig</th>\n      <th>...</th>\n      <th>zip_re</th>\n      <th>inspection_date_re</th>\n      <th>inspection_type_re</th>\n      <th>results_re</th>\n      <th>location_re</th>\n      <th>violations_re</th>\n      <th>inspection_type_clean_re</th>\n      <th>date_orig</th>\n      <th>date_re</th>\n      <th>time_between</th>\n    </tr>\n  </thead>\n  <tbody>\n    <tr>\n      <th>10</th>\n      <td>1989768</td>\n      <td>VOLARE</td>\n      <td>VOLARE</td>\n      <td>2141813</td>\n      <td>Restaurant</td>\n      <td>Risk 1 (High)</td>\n      <td>201 E GRAND AVE</td>\n      <td>CHICAGO</td>\n      <td>IL</td>\n      <td>60611</td>\n      <td>...</td>\n      <td>60611</td>\n      <td>2017-03-01T00:00:00.000</td>\n      <td>Canvass Re-Inspection</td>\n      <td>Pass</td>\n      <td>{'latitude': '-87.62260381408842', 'longitude'...</td>\n      <td>32. FOOD AND NON-FOOD CONTACT SURFACES PROPERL...</td>\n      <td>canvass reinspection</td>\n      <td>2017-02-27</td>\n      <td>2017-03-01</td>\n      <td>-2</td>\n    </tr>\n    <tr>\n      <th>13</th>\n      <td>1632809</td>\n      <td>VOLARE</td>\n      <td>VOLARE</td>\n      <td>2141813</td>\n      <td>Restaurant</td>\n      <td>Risk 1 (High)</td>\n      <td>201 E GRAND AVE</td>\n      <td>CHICAGO</td>\n      <td>IL</td>\n      <td>60611</td>\n      <td>...</td>\n      <td>60611</td>\n      <td>2016-03-15T00:00:00.000</td>\n      <td>Canvass Re-Inspection</td>\n      <td>Pass</td>\n      <td>{'latitude': '-87.62260381408842', 'longitude'...</td>\n      <td>NaN</td>\n      <td>canvass reinspection</td>\n      <td>2016-03-08</td>\n      <td>2016-03-15</td>\n      <td>-7</td>\n    </tr>\n    <tr>\n      <th>32</th>\n      <td>1448101</td>\n      <td>STREETERS TAVERN</td>\n      <td>STREETERS TAVERN</td>\n      <td>8864</td>\n      <td>TAVERN</td>\n      <td>Risk 3 (Low)</td>\n      <td>48-50 E CHICAGO AVE</td>\n      <td>CHICAGO</td>\n      <td>IL</td>\n      <td>60611</td>\n      <td>...</td>\n      <td>60611</td>\n      <td>2015-12-11T00:00:00.000</td>\n      <td>Complaint Re-Inspection</td>\n      <td>Pass</td>\n      <td>{'latitude': '-87.62636337526784', 'longitude'...</td>\n      <td>NaN</td>\n      <td>complaint reinspection</td>\n      <td>2015-12-01</td>\n      <td>2015-12-11</td>\n      <td>-10</td>\n    </tr>\n    <tr>\n      <th>36</th>\n      <td>2453925</td>\n      <td>MISS SAIGON</td>\n      <td>MISS SAIGON</td>\n      <td>2699550</td>\n      <td>Restaurant</td>\n      <td>Risk 1 (High)</td>\n      <td>1129 W ARGYLE ST</td>\n      <td>CHICAGO</td>\n      <td>IL</td>\n      <td>60640</td>\n      <td>...</td>\n      <td>60640</td>\n      <td>2020-11-05T00:00:00.000</td>\n      <td>Canvass Re-Inspection</td>\n      <td>Pass</td>\n      <td>{'latitude': '-87.65895612095852', 'longitude'...</td>\n      <td>NaN</td>\n      <td>canvass reinspection</td>\n      <td>2020-10-28</td>\n      <td>2020-11-05</td>\n      <td>-8</td>\n    </tr>\n    <tr>\n      <th>39</th>\n      <td>2352289</td>\n      <td>MISS SAIGON</td>\n      <td>MISS SAIGON</td>\n      <td>2699550</td>\n      <td>Restaurant</td>\n      <td>Risk 1 (High)</td>\n      <td>1129 W ARGYLE ST</td>\n      <td>CHICAGO</td>\n      <td>IL</td>\n      <td>60640</td>\n      <td>...</td>\n      <td>60640</td>\n      <td>2019-11-27T00:00:00.000</td>\n      <td>License Re-Inspection</td>\n      <td>Pass w/ Conditions</td>\n      <td>{'latitude': '-87.65895612095852', 'longitude'...</td>\n      <td>5. PROCEDURES FOR RESPONDING TO VOMITING AND D...</td>\n      <td>license reinspection</td>\n      <td>2019-11-25</td>\n      <td>2019-11-27</td>\n      <td>-2</td>\n    </tr>\n  </tbody>\n</table>\n<p>5 rows × 34 columns</p>\n</div>"
     },
     "metadata": {},
     "execution_count": 11
    }
   ],
   "source": [
    "#full_merge_grp = full_merge_clean.groupby('inspection_id_re')\n",
    "grped = full_merge_clean[full_merge_clean['time_between'] == full_merge_clean.groupby('inspection_id_re')['time_between'].transform('max')]\n",
    "\n",
    "grped.head()"
   ]
  },
  {
   "cell_type": "code",
   "execution_count": 12,
   "metadata": {},
   "outputs": [
    {
     "output_type": "execute_result",
     "data": {
      "text/plain": [
       "(41600, 34)"
      ]
     },
     "metadata": {},
     "execution_count": 12
    }
   ],
   "source": [
    "grped.shape"
   ]
  },
  {
   "cell_type": "code",
   "execution_count": 13,
   "metadata": {},
   "outputs": [
    {
     "output_type": "stream",
     "name": "stdout",
     "text": [
      "(262, 34)\n"
     ]
    },
    {
     "output_type": "execute_result",
     "data": {
      "text/plain": [
       "       inspection_id_orig     inspection_date_orig inspection_id_re  \\\n",
       "1786              2492464  2021-03-05T00:00:00.000          2492814   \n",
       "2314              2252347  2019-01-10T00:00:00.000          2252797   \n",
       "18957             2285631  2019-04-23T00:00:00.000          2290882   \n",
       "21946             2484257  2021-01-28T00:00:00.000          2484727   \n",
       "23396             2214079  2018-09-10T00:00:00.000          2240981   \n",
       "41707             1760212  2016-05-19T00:00:00.000          1931711   \n",
       "41971             2144588  2018-02-06T00:00:00.000          2144892   \n",
       "42266             2050307  2017-05-12T00:00:00.000          2050414   \n",
       "51975             2213686  2018-08-30T00:00:00.000          2222313   \n",
       "60531             1591629  2015-12-11T00:00:00.000          1609295   \n",
       "62890             1467469  2014-09-09T00:00:00.000          1467490   \n",
       "67979             2049219  2017-04-25T00:00:00.000          2049637   \n",
       "75700             2321142  2019-11-06T00:00:00.000          2345478   \n",
       "76441             1482315  2014-08-08T00:00:00.000          1482338   \n",
       "79615             1575441  2015-09-11T00:00:00.000          1578582   \n",
       "85582             1516051  2015-01-16T00:00:00.000          1516204   \n",
       "87386             2240474  2018-11-20T00:00:00.000          2240598   \n",
       "93876               80288  2010-05-03T00:00:00.000            80327   \n",
       "97807              679768  2012-02-17T00:00:00.000           670797   \n",
       "101821             580190  2011-04-04T00:00:00.000           580188   \n",
       "\n",
       "             inspection_date_re  time_between  \n",
       "1786    2021-03-12T00:00:00.000            -7  \n",
       "2314    2019-01-18T00:00:00.000            -8  \n",
       "18957   2019-06-04T00:00:00.000           -42  \n",
       "21946   2021-02-10T00:00:00.000           -13  \n",
       "23396   2018-12-04T00:00:00.000           -85  \n",
       "41707   2016-05-26T00:00:00.000            -7  \n",
       "41971   2018-02-13T00:00:00.000            -7  \n",
       "42266   2017-05-15T00:00:00.000            -3  \n",
       "51975   2018-09-13T00:00:00.000           -14  \n",
       "60531   2016-01-05T00:00:00.000           -25  \n",
       "62890   2014-09-23T00:00:00.000           -14  \n",
       "67979   2017-05-03T00:00:00.000            -8  \n",
       "75700   2019-11-13T00:00:00.000            -7  \n",
       "76441   2014-08-22T00:00:00.000           -14  \n",
       "79615   2015-10-06T00:00:00.000           -25  \n",
       "85582   2015-01-23T00:00:00.000            -7  \n",
       "87386   2018-11-26T00:00:00.000            -6  \n",
       "93876   2010-06-17T00:00:00.000           -45  \n",
       "97807   2012-02-27T00:00:00.000           -10  \n",
       "101821  2011-04-04T00:00:00.000             0  "
      ],
      "text/html": "<div>\n<style scoped>\n    .dataframe tbody tr th:only-of-type {\n        vertical-align: middle;\n    }\n\n    .dataframe tbody tr th {\n        vertical-align: top;\n    }\n\n    .dataframe thead th {\n        text-align: right;\n    }\n</style>\n<table border=\"1\" class=\"dataframe\">\n  <thead>\n    <tr style=\"text-align: right;\">\n      <th></th>\n      <th>inspection_id_orig</th>\n      <th>inspection_date_orig</th>\n      <th>inspection_id_re</th>\n      <th>inspection_date_re</th>\n      <th>time_between</th>\n    </tr>\n  </thead>\n  <tbody>\n    <tr>\n      <th>1786</th>\n      <td>2492464</td>\n      <td>2021-03-05T00:00:00.000</td>\n      <td>2492814</td>\n      <td>2021-03-12T00:00:00.000</td>\n      <td>-7</td>\n    </tr>\n    <tr>\n      <th>2314</th>\n      <td>2252347</td>\n      <td>2019-01-10T00:00:00.000</td>\n      <td>2252797</td>\n      <td>2019-01-18T00:00:00.000</td>\n      <td>-8</td>\n    </tr>\n    <tr>\n      <th>18957</th>\n      <td>2285631</td>\n      <td>2019-04-23T00:00:00.000</td>\n      <td>2290882</td>\n      <td>2019-06-04T00:00:00.000</td>\n      <td>-42</td>\n    </tr>\n    <tr>\n      <th>21946</th>\n      <td>2484257</td>\n      <td>2021-01-28T00:00:00.000</td>\n      <td>2484727</td>\n      <td>2021-02-10T00:00:00.000</td>\n      <td>-13</td>\n    </tr>\n    <tr>\n      <th>23396</th>\n      <td>2214079</td>\n      <td>2018-09-10T00:00:00.000</td>\n      <td>2240981</td>\n      <td>2018-12-04T00:00:00.000</td>\n      <td>-85</td>\n    </tr>\n    <tr>\n      <th>41707</th>\n      <td>1760212</td>\n      <td>2016-05-19T00:00:00.000</td>\n      <td>1931711</td>\n      <td>2016-05-26T00:00:00.000</td>\n      <td>-7</td>\n    </tr>\n    <tr>\n      <th>41971</th>\n      <td>2144588</td>\n      <td>2018-02-06T00:00:00.000</td>\n      <td>2144892</td>\n      <td>2018-02-13T00:00:00.000</td>\n      <td>-7</td>\n    </tr>\n    <tr>\n      <th>42266</th>\n      <td>2050307</td>\n      <td>2017-05-12T00:00:00.000</td>\n      <td>2050414</td>\n      <td>2017-05-15T00:00:00.000</td>\n      <td>-3</td>\n    </tr>\n    <tr>\n      <th>51975</th>\n      <td>2213686</td>\n      <td>2018-08-30T00:00:00.000</td>\n      <td>2222313</td>\n      <td>2018-09-13T00:00:00.000</td>\n      <td>-14</td>\n    </tr>\n    <tr>\n      <th>60531</th>\n      <td>1591629</td>\n      <td>2015-12-11T00:00:00.000</td>\n      <td>1609295</td>\n      <td>2016-01-05T00:00:00.000</td>\n      <td>-25</td>\n    </tr>\n    <tr>\n      <th>62890</th>\n      <td>1467469</td>\n      <td>2014-09-09T00:00:00.000</td>\n      <td>1467490</td>\n      <td>2014-09-23T00:00:00.000</td>\n      <td>-14</td>\n    </tr>\n    <tr>\n      <th>67979</th>\n      <td>2049219</td>\n      <td>2017-04-25T00:00:00.000</td>\n      <td>2049637</td>\n      <td>2017-05-03T00:00:00.000</td>\n      <td>-8</td>\n    </tr>\n    <tr>\n      <th>75700</th>\n      <td>2321142</td>\n      <td>2019-11-06T00:00:00.000</td>\n      <td>2345478</td>\n      <td>2019-11-13T00:00:00.000</td>\n      <td>-7</td>\n    </tr>\n    <tr>\n      <th>76441</th>\n      <td>1482315</td>\n      <td>2014-08-08T00:00:00.000</td>\n      <td>1482338</td>\n      <td>2014-08-22T00:00:00.000</td>\n      <td>-14</td>\n    </tr>\n    <tr>\n      <th>79615</th>\n      <td>1575441</td>\n      <td>2015-09-11T00:00:00.000</td>\n      <td>1578582</td>\n      <td>2015-10-06T00:00:00.000</td>\n      <td>-25</td>\n    </tr>\n    <tr>\n      <th>85582</th>\n      <td>1516051</td>\n      <td>2015-01-16T00:00:00.000</td>\n      <td>1516204</td>\n      <td>2015-01-23T00:00:00.000</td>\n      <td>-7</td>\n    </tr>\n    <tr>\n      <th>87386</th>\n      <td>2240474</td>\n      <td>2018-11-20T00:00:00.000</td>\n      <td>2240598</td>\n      <td>2018-11-26T00:00:00.000</td>\n      <td>-6</td>\n    </tr>\n    <tr>\n      <th>93876</th>\n      <td>80288</td>\n      <td>2010-05-03T00:00:00.000</td>\n      <td>80327</td>\n      <td>2010-06-17T00:00:00.000</td>\n      <td>-45</td>\n    </tr>\n    <tr>\n      <th>97807</th>\n      <td>679768</td>\n      <td>2012-02-17T00:00:00.000</td>\n      <td>670797</td>\n      <td>2012-02-27T00:00:00.000</td>\n      <td>-10</td>\n    </tr>\n    <tr>\n      <th>101821</th>\n      <td>580190</td>\n      <td>2011-04-04T00:00:00.000</td>\n      <td>580188</td>\n      <td>2011-04-04T00:00:00.000</td>\n      <td>0</td>\n    </tr>\n  </tbody>\n</table>\n</div>"
     },
     "metadata": {},
     "execution_count": 13
    }
   ],
   "source": [
    "duplicates = grped[grped.duplicated('inspection_id_re')]\n",
    "print(duplicates.shape)\n",
    "duplicates[['inspection_id_orig', 'inspection_date_orig', 'inspection_id_re', 'inspection_date_re', 'time_between']].head(20)"
   ]
  },
  {
   "cell_type": "code",
   "execution_count": 14,
   "metadata": {},
   "outputs": [
    {
     "output_type": "execute_result",
     "data": {
      "text/plain": [
       "array(['Fail', 'Pass w/ Conditions', 'Pass', 'No Entry',\n",
       "       'Out of Business', 'Not Ready'], dtype=object)"
      ]
     },
     "metadata": {},
     "execution_count": 14
    }
   ],
   "source": [
    "grped['results_orig'].unique()"
   ]
  },
  {
   "cell_type": "code",
   "execution_count": 15,
   "metadata": {},
   "outputs": [
    {
     "output_type": "execute_result",
     "data": {
      "text/plain": [
       "                    inspection_id_orig  dba_name  aka_name_orig  license_  \\\n",
       "results_orig                                                                \n",
       "Fail                             37853     37853          37419     37851   \n",
       "No Entry                           343       343            338       343   \n",
       "Not Ready                           70        70             70        70   \n",
       "Out of Business                    300       300            297       300   \n",
       "Pass                               596       596            591       596   \n",
       "Pass w/ Conditions                2438      2438           2429      2438   \n",
       "\n",
       "                    facility_type_orig  risk_orig  address  city_orig  \\\n",
       "results_orig                                                            \n",
       "Fail                             37826      37853    37853      37820   \n",
       "No Entry                           343        343      343        343   \n",
       "Not Ready                           70         70       70         70   \n",
       "Out of Business                    298        300      300        300   \n",
       "Pass                               596        596      596        596   \n",
       "Pass w/ Conditions                2438       2438     2438       2436   \n",
       "\n",
       "                    state_orig  zip_orig  ...  zip_re  inspection_date_re  \\\n",
       "results_orig                              ...                               \n",
       "Fail                     37844     37846  ...   37846               37853   \n",
       "No Entry                   343       343  ...     343                 343   \n",
       "Not Ready                   70        70  ...      70                  70   \n",
       "Out of Business            300       300  ...     300                 300   \n",
       "Pass                       596       596  ...     596                 596   \n",
       "Pass w/ Conditions        2438      2437  ...    2437                2438   \n",
       "\n",
       "                    inspection_type_re  results_re  location_re  \\\n",
       "results_orig                                                      \n",
       "Fail                             37853       37853        37724   \n",
       "No Entry                           343         343          343   \n",
       "Not Ready                           70          70           68   \n",
       "Out of Business                    300         300          299   \n",
       "Pass                               596         596          595   \n",
       "Pass w/ Conditions                2438        2438         2433   \n",
       "\n",
       "                    violations_re  inspection_type_clean_re  date_orig  \\\n",
       "results_orig                                                             \n",
       "Fail                        24824                     37853      37853   \n",
       "No Entry                      254                       343        343   \n",
       "Not Ready                      36                        70         70   \n",
       "Out of Business               175                       300        300   \n",
       "Pass                          277                       596        596   \n",
       "Pass w/ Conditions           1803                      2438       2438   \n",
       "\n",
       "                    date_re  time_between  \n",
       "results_orig                               \n",
       "Fail                  37853         37853  \n",
       "No Entry                343           343  \n",
       "Not Ready                70            70  \n",
       "Out of Business         300           300  \n",
       "Pass                    596           596  \n",
       "Pass w/ Conditions     2438          2438  \n",
       "\n",
       "[6 rows x 33 columns]"
      ],
      "text/html": "<div>\n<style scoped>\n    .dataframe tbody tr th:only-of-type {\n        vertical-align: middle;\n    }\n\n    .dataframe tbody tr th {\n        vertical-align: top;\n    }\n\n    .dataframe thead th {\n        text-align: right;\n    }\n</style>\n<table border=\"1\" class=\"dataframe\">\n  <thead>\n    <tr style=\"text-align: right;\">\n      <th></th>\n      <th>inspection_id_orig</th>\n      <th>dba_name</th>\n      <th>aka_name_orig</th>\n      <th>license_</th>\n      <th>facility_type_orig</th>\n      <th>risk_orig</th>\n      <th>address</th>\n      <th>city_orig</th>\n      <th>state_orig</th>\n      <th>zip_orig</th>\n      <th>...</th>\n      <th>zip_re</th>\n      <th>inspection_date_re</th>\n      <th>inspection_type_re</th>\n      <th>results_re</th>\n      <th>location_re</th>\n      <th>violations_re</th>\n      <th>inspection_type_clean_re</th>\n      <th>date_orig</th>\n      <th>date_re</th>\n      <th>time_between</th>\n    </tr>\n    <tr>\n      <th>results_orig</th>\n      <th></th>\n      <th></th>\n      <th></th>\n      <th></th>\n      <th></th>\n      <th></th>\n      <th></th>\n      <th></th>\n      <th></th>\n      <th></th>\n      <th></th>\n      <th></th>\n      <th></th>\n      <th></th>\n      <th></th>\n      <th></th>\n      <th></th>\n      <th></th>\n      <th></th>\n      <th></th>\n      <th></th>\n    </tr>\n  </thead>\n  <tbody>\n    <tr>\n      <th>Fail</th>\n      <td>37853</td>\n      <td>37853</td>\n      <td>37419</td>\n      <td>37851</td>\n      <td>37826</td>\n      <td>37853</td>\n      <td>37853</td>\n      <td>37820</td>\n      <td>37844</td>\n      <td>37846</td>\n      <td>...</td>\n      <td>37846</td>\n      <td>37853</td>\n      <td>37853</td>\n      <td>37853</td>\n      <td>37724</td>\n      <td>24824</td>\n      <td>37853</td>\n      <td>37853</td>\n      <td>37853</td>\n      <td>37853</td>\n    </tr>\n    <tr>\n      <th>No Entry</th>\n      <td>343</td>\n      <td>343</td>\n      <td>338</td>\n      <td>343</td>\n      <td>343</td>\n      <td>343</td>\n      <td>343</td>\n      <td>343</td>\n      <td>343</td>\n      <td>343</td>\n      <td>...</td>\n      <td>343</td>\n      <td>343</td>\n      <td>343</td>\n      <td>343</td>\n      <td>343</td>\n      <td>254</td>\n      <td>343</td>\n      <td>343</td>\n      <td>343</td>\n      <td>343</td>\n    </tr>\n    <tr>\n      <th>Not Ready</th>\n      <td>70</td>\n      <td>70</td>\n      <td>70</td>\n      <td>70</td>\n      <td>70</td>\n      <td>70</td>\n      <td>70</td>\n      <td>70</td>\n      <td>70</td>\n      <td>70</td>\n      <td>...</td>\n      <td>70</td>\n      <td>70</td>\n      <td>70</td>\n      <td>70</td>\n      <td>68</td>\n      <td>36</td>\n      <td>70</td>\n      <td>70</td>\n      <td>70</td>\n      <td>70</td>\n    </tr>\n    <tr>\n      <th>Out of Business</th>\n      <td>300</td>\n      <td>300</td>\n      <td>297</td>\n      <td>300</td>\n      <td>298</td>\n      <td>300</td>\n      <td>300</td>\n      <td>300</td>\n      <td>300</td>\n      <td>300</td>\n      <td>...</td>\n      <td>300</td>\n      <td>300</td>\n      <td>300</td>\n      <td>300</td>\n      <td>299</td>\n      <td>175</td>\n      <td>300</td>\n      <td>300</td>\n      <td>300</td>\n      <td>300</td>\n    </tr>\n    <tr>\n      <th>Pass</th>\n      <td>596</td>\n      <td>596</td>\n      <td>591</td>\n      <td>596</td>\n      <td>596</td>\n      <td>596</td>\n      <td>596</td>\n      <td>596</td>\n      <td>596</td>\n      <td>596</td>\n      <td>...</td>\n      <td>596</td>\n      <td>596</td>\n      <td>596</td>\n      <td>596</td>\n      <td>595</td>\n      <td>277</td>\n      <td>596</td>\n      <td>596</td>\n      <td>596</td>\n      <td>596</td>\n    </tr>\n    <tr>\n      <th>Pass w/ Conditions</th>\n      <td>2438</td>\n      <td>2438</td>\n      <td>2429</td>\n      <td>2438</td>\n      <td>2438</td>\n      <td>2438</td>\n      <td>2438</td>\n      <td>2436</td>\n      <td>2438</td>\n      <td>2437</td>\n      <td>...</td>\n      <td>2437</td>\n      <td>2438</td>\n      <td>2438</td>\n      <td>2438</td>\n      <td>2433</td>\n      <td>1803</td>\n      <td>2438</td>\n      <td>2438</td>\n      <td>2438</td>\n      <td>2438</td>\n    </tr>\n  </tbody>\n</table>\n<p>6 rows × 33 columns</p>\n</div>"
     },
     "metadata": {},
     "execution_count": 15
    }
   ],
   "source": [
    "grped.groupby('results_orig').count()"
   ]
  },
  {
   "cell_type": "code",
   "execution_count": 16,
   "metadata": {},
   "outputs": [
    {
     "output_type": "execute_result",
     "data": {
      "text/plain": [
       "(40291, 34)"
      ]
     },
     "metadata": {},
     "execution_count": 16
    }
   ],
   "source": [
    "grped_clean = grped[(grped['results_orig'] == 'Fail') | (grped['results_orig'] == 'Pass w/ Conditions')]\n",
    "grped_clean.shape"
   ]
  },
  {
   "cell_type": "code",
   "execution_count": 17,
   "metadata": {},
   "outputs": [
    {
     "output_type": "stream",
     "name": "stdout",
     "text": [
      "(69, 34)\n"
     ]
    },
    {
     "output_type": "execute_result",
     "data": {
      "text/plain": [
       "       inspection_id_orig     inspection_date_orig inspection_id_re  \\\n",
       "41707             1760212  2016-05-19T00:00:00.000          1931711   \n",
       "85582             1516051  2015-01-16T00:00:00.000          1516204   \n",
       "93876               80288  2010-05-03T00:00:00.000            80327   \n",
       "97807              679768  2012-02-17T00:00:00.000           670797   \n",
       "101821             580190  2011-04-04T00:00:00.000           580188   \n",
       "101822             580190  2011-04-04T00:00:00.000           580167   \n",
       "101823             580190  2011-04-04T00:00:00.000           580176   \n",
       "101824             580190  2011-04-04T00:00:00.000           580179   \n",
       "101825             580190  2011-04-04T00:00:00.000           580186   \n",
       "101827             580190  2011-04-04T00:00:00.000           580169   \n",
       "101828             580190  2011-04-04T00:00:00.000           580234   \n",
       "101829             580190  2011-04-04T00:00:00.000           580181   \n",
       "101830             580190  2011-04-04T00:00:00.000           580185   \n",
       "101831             580190  2011-04-04T00:00:00.000           580172   \n",
       "102404             580192  2011-04-04T00:00:00.000           580188   \n",
       "102405             580192  2011-04-04T00:00:00.000           580167   \n",
       "102406             580192  2011-04-04T00:00:00.000           580176   \n",
       "102407             580192  2011-04-04T00:00:00.000           580179   \n",
       "102408             580192  2011-04-04T00:00:00.000           580186   \n",
       "102410             580192  2011-04-04T00:00:00.000           580169   \n",
       "\n",
       "             inspection_date_re  time_between  \n",
       "41707   2016-05-26T00:00:00.000            -7  \n",
       "85582   2015-01-23T00:00:00.000            -7  \n",
       "93876   2010-06-17T00:00:00.000           -45  \n",
       "97807   2012-02-27T00:00:00.000           -10  \n",
       "101821  2011-04-04T00:00:00.000             0  \n",
       "101822  2011-04-04T00:00:00.000             0  \n",
       "101823  2011-04-04T00:00:00.000             0  \n",
       "101824  2011-04-04T00:00:00.000             0  \n",
       "101825  2011-04-04T00:00:00.000             0  \n",
       "101827  2011-04-04T00:00:00.000             0  \n",
       "101828  2011-04-04T00:00:00.000             0  \n",
       "101829  2011-04-04T00:00:00.000             0  \n",
       "101830  2011-04-04T00:00:00.000             0  \n",
       "101831  2011-04-04T00:00:00.000             0  \n",
       "102404  2011-04-04T00:00:00.000             0  \n",
       "102405  2011-04-04T00:00:00.000             0  \n",
       "102406  2011-04-04T00:00:00.000             0  \n",
       "102407  2011-04-04T00:00:00.000             0  \n",
       "102408  2011-04-04T00:00:00.000             0  \n",
       "102410  2011-04-04T00:00:00.000             0  "
      ],
      "text/html": "<div>\n<style scoped>\n    .dataframe tbody tr th:only-of-type {\n        vertical-align: middle;\n    }\n\n    .dataframe tbody tr th {\n        vertical-align: top;\n    }\n\n    .dataframe thead th {\n        text-align: right;\n    }\n</style>\n<table border=\"1\" class=\"dataframe\">\n  <thead>\n    <tr style=\"text-align: right;\">\n      <th></th>\n      <th>inspection_id_orig</th>\n      <th>inspection_date_orig</th>\n      <th>inspection_id_re</th>\n      <th>inspection_date_re</th>\n      <th>time_between</th>\n    </tr>\n  </thead>\n  <tbody>\n    <tr>\n      <th>41707</th>\n      <td>1760212</td>\n      <td>2016-05-19T00:00:00.000</td>\n      <td>1931711</td>\n      <td>2016-05-26T00:00:00.000</td>\n      <td>-7</td>\n    </tr>\n    <tr>\n      <th>85582</th>\n      <td>1516051</td>\n      <td>2015-01-16T00:00:00.000</td>\n      <td>1516204</td>\n      <td>2015-01-23T00:00:00.000</td>\n      <td>-7</td>\n    </tr>\n    <tr>\n      <th>93876</th>\n      <td>80288</td>\n      <td>2010-05-03T00:00:00.000</td>\n      <td>80327</td>\n      <td>2010-06-17T00:00:00.000</td>\n      <td>-45</td>\n    </tr>\n    <tr>\n      <th>97807</th>\n      <td>679768</td>\n      <td>2012-02-17T00:00:00.000</td>\n      <td>670797</td>\n      <td>2012-02-27T00:00:00.000</td>\n      <td>-10</td>\n    </tr>\n    <tr>\n      <th>101821</th>\n      <td>580190</td>\n      <td>2011-04-04T00:00:00.000</td>\n      <td>580188</td>\n      <td>2011-04-04T00:00:00.000</td>\n      <td>0</td>\n    </tr>\n    <tr>\n      <th>101822</th>\n      <td>580190</td>\n      <td>2011-04-04T00:00:00.000</td>\n      <td>580167</td>\n      <td>2011-04-04T00:00:00.000</td>\n      <td>0</td>\n    </tr>\n    <tr>\n      <th>101823</th>\n      <td>580190</td>\n      <td>2011-04-04T00:00:00.000</td>\n      <td>580176</td>\n      <td>2011-04-04T00:00:00.000</td>\n      <td>0</td>\n    </tr>\n    <tr>\n      <th>101824</th>\n      <td>580190</td>\n      <td>2011-04-04T00:00:00.000</td>\n      <td>580179</td>\n      <td>2011-04-04T00:00:00.000</td>\n      <td>0</td>\n    </tr>\n    <tr>\n      <th>101825</th>\n      <td>580190</td>\n      <td>2011-04-04T00:00:00.000</td>\n      <td>580186</td>\n      <td>2011-04-04T00:00:00.000</td>\n      <td>0</td>\n    </tr>\n    <tr>\n      <th>101827</th>\n      <td>580190</td>\n      <td>2011-04-04T00:00:00.000</td>\n      <td>580169</td>\n      <td>2011-04-04T00:00:00.000</td>\n      <td>0</td>\n    </tr>\n    <tr>\n      <th>101828</th>\n      <td>580190</td>\n      <td>2011-04-04T00:00:00.000</td>\n      <td>580234</td>\n      <td>2011-04-04T00:00:00.000</td>\n      <td>0</td>\n    </tr>\n    <tr>\n      <th>101829</th>\n      <td>580190</td>\n      <td>2011-04-04T00:00:00.000</td>\n      <td>580181</td>\n      <td>2011-04-04T00:00:00.000</td>\n      <td>0</td>\n    </tr>\n    <tr>\n      <th>101830</th>\n      <td>580190</td>\n      <td>2011-04-04T00:00:00.000</td>\n      <td>580185</td>\n      <td>2011-04-04T00:00:00.000</td>\n      <td>0</td>\n    </tr>\n    <tr>\n      <th>101831</th>\n      <td>580190</td>\n      <td>2011-04-04T00:00:00.000</td>\n      <td>580172</td>\n      <td>2011-04-04T00:00:00.000</td>\n      <td>0</td>\n    </tr>\n    <tr>\n      <th>102404</th>\n      <td>580192</td>\n      <td>2011-04-04T00:00:00.000</td>\n      <td>580188</td>\n      <td>2011-04-04T00:00:00.000</td>\n      <td>0</td>\n    </tr>\n    <tr>\n      <th>102405</th>\n      <td>580192</td>\n      <td>2011-04-04T00:00:00.000</td>\n      <td>580167</td>\n      <td>2011-04-04T00:00:00.000</td>\n      <td>0</td>\n    </tr>\n    <tr>\n      <th>102406</th>\n      <td>580192</td>\n      <td>2011-04-04T00:00:00.000</td>\n      <td>580176</td>\n      <td>2011-04-04T00:00:00.000</td>\n      <td>0</td>\n    </tr>\n    <tr>\n      <th>102407</th>\n      <td>580192</td>\n      <td>2011-04-04T00:00:00.000</td>\n      <td>580179</td>\n      <td>2011-04-04T00:00:00.000</td>\n      <td>0</td>\n    </tr>\n    <tr>\n      <th>102408</th>\n      <td>580192</td>\n      <td>2011-04-04T00:00:00.000</td>\n      <td>580186</td>\n      <td>2011-04-04T00:00:00.000</td>\n      <td>0</td>\n    </tr>\n    <tr>\n      <th>102410</th>\n      <td>580192</td>\n      <td>2011-04-04T00:00:00.000</td>\n      <td>580169</td>\n      <td>2011-04-04T00:00:00.000</td>\n      <td>0</td>\n    </tr>\n  </tbody>\n</table>\n</div>"
     },
     "metadata": {},
     "execution_count": 17
    }
   ],
   "source": [
    "duplicates2 = grped_clean[grped_clean.duplicated('inspection_id_re')]\n",
    "print(duplicates2.shape)\n",
    "duplicates2[['inspection_id_orig', 'inspection_date_orig', 'inspection_id_re', 'inspection_date_re', 'time_between']].head(20)"
   ]
  },
  {
   "cell_type": "code",
   "execution_count": 18,
   "metadata": {},
   "outputs": [
    {
     "output_type": "execute_result",
     "data": {
      "text/plain": [
       "(40192, 34)"
      ]
     },
     "metadata": {},
     "execution_count": 18
    }
   ],
   "source": [
    "#Dropping anything that's been duplicated. This only drops 69 rows. \n",
    "grped_no_duplicates = grped_clean.drop_duplicates(subset='inspection_id_re')\n",
    "grped_no_duplicates = grped_no_duplicates.drop_duplicates(subset='inspection_id_orig')\n",
    "grped_no_duplicates.shape"
   ]
  },
  {
   "cell_type": "code",
   "execution_count": 19,
   "metadata": {},
   "outputs": [
    {
     "output_type": "execute_result",
     "data": {
      "text/plain": [
       "count    40192.000000\n",
       "mean       -11.131046\n",
       "std         20.853949\n",
       "min      -1121.000000\n",
       "25%        -10.000000\n",
       "50%         -7.000000\n",
       "75%         -7.000000\n",
       "max          0.000000\n",
       "Name: time_between, dtype: float64"
      ]
     },
     "metadata": {},
     "execution_count": 19
    }
   ],
   "source": [
    "grped_no_duplicates['time_between'].describe()"
   ]
  },
  {
   "cell_type": "code",
   "execution_count": 20,
   "metadata": {},
   "outputs": [
    {
     "output_type": "execute_result",
     "data": {
      "text/plain": [
       "                    inspection_id_orig  dba_name  aka_name_orig  license_  \\\n",
       "results_re                                                                  \n",
       "Fail                              3512      3512           3433      3511   \n",
       "No Entry                           339       339            334       339   \n",
       "Not Ready                           36        36             36        36   \n",
       "Out of Business                     81        81             81        81   \n",
       "Pass                             31031     31031          30693     31030   \n",
       "Pass w/ Conditions                5193      5193           5173      5193   \n",
       "\n",
       "                    facility_type_orig  risk_orig  address  city_orig  \\\n",
       "results_re                                                              \n",
       "Fail                              3509       3512     3512       3507   \n",
       "No Entry                           339        339      339        339   \n",
       "Not Ready                           36         36       36         36   \n",
       "Out of Business                     80         81       81         81   \n",
       "Pass                             31012      31031    31031      31003   \n",
       "Pass w/ Conditions                5189       5193     5193       5191   \n",
       "\n",
       "                    state_orig  zip_orig  ...  state_re  zip_re  \\\n",
       "results_re                                ...                     \n",
       "Fail                      3512      3511  ...      3512    3511   \n",
       "No Entry                   339       339  ...       339     339   \n",
       "Not Ready                   36        36  ...        36      36   \n",
       "Out of Business             81        81  ...        81      81   \n",
       "Pass                     31024     31025  ...     31024   31025   \n",
       "Pass w/ Conditions        5191      5192  ...      5191    5192   \n",
       "\n",
       "                    inspection_date_re  inspection_type_re  location_re  \\\n",
       "results_re                                                                \n",
       "Fail                              3512                3512         3495   \n",
       "No Entry                           339                 339          338   \n",
       "Not Ready                           36                  36           36   \n",
       "Out of Business                     81                  81           81   \n",
       "Pass                             31031               31031        30930   \n",
       "Pass w/ Conditions                5193                5193         5178   \n",
       "\n",
       "                    violations_re  inspection_type_clean_re  date_orig  \\\n",
       "results_re                                                               \n",
       "Fail                         3433                      3512       3512   \n",
       "No Entry                      259                       339        339   \n",
       "Not Ready                      27                        36         36   \n",
       "Out of Business                14                        81         81   \n",
       "Pass                        17804                     31031      31031   \n",
       "Pass w/ Conditions           5057                      5193       5193   \n",
       "\n",
       "                    date_re  time_between  \n",
       "results_re                                 \n",
       "Fail                   3512          3512  \n",
       "No Entry                339           339  \n",
       "Not Ready                36            36  \n",
       "Out of Business          81            81  \n",
       "Pass                  31031         31031  \n",
       "Pass w/ Conditions     5193          5193  \n",
       "\n",
       "[6 rows x 33 columns]"
      ],
      "text/html": "<div>\n<style scoped>\n    .dataframe tbody tr th:only-of-type {\n        vertical-align: middle;\n    }\n\n    .dataframe tbody tr th {\n        vertical-align: top;\n    }\n\n    .dataframe thead th {\n        text-align: right;\n    }\n</style>\n<table border=\"1\" class=\"dataframe\">\n  <thead>\n    <tr style=\"text-align: right;\">\n      <th></th>\n      <th>inspection_id_orig</th>\n      <th>dba_name</th>\n      <th>aka_name_orig</th>\n      <th>license_</th>\n      <th>facility_type_orig</th>\n      <th>risk_orig</th>\n      <th>address</th>\n      <th>city_orig</th>\n      <th>state_orig</th>\n      <th>zip_orig</th>\n      <th>...</th>\n      <th>state_re</th>\n      <th>zip_re</th>\n      <th>inspection_date_re</th>\n      <th>inspection_type_re</th>\n      <th>location_re</th>\n      <th>violations_re</th>\n      <th>inspection_type_clean_re</th>\n      <th>date_orig</th>\n      <th>date_re</th>\n      <th>time_between</th>\n    </tr>\n    <tr>\n      <th>results_re</th>\n      <th></th>\n      <th></th>\n      <th></th>\n      <th></th>\n      <th></th>\n      <th></th>\n      <th></th>\n      <th></th>\n      <th></th>\n      <th></th>\n      <th></th>\n      <th></th>\n      <th></th>\n      <th></th>\n      <th></th>\n      <th></th>\n      <th></th>\n      <th></th>\n      <th></th>\n      <th></th>\n      <th></th>\n    </tr>\n  </thead>\n  <tbody>\n    <tr>\n      <th>Fail</th>\n      <td>3512</td>\n      <td>3512</td>\n      <td>3433</td>\n      <td>3511</td>\n      <td>3509</td>\n      <td>3512</td>\n      <td>3512</td>\n      <td>3507</td>\n      <td>3512</td>\n      <td>3511</td>\n      <td>...</td>\n      <td>3512</td>\n      <td>3511</td>\n      <td>3512</td>\n      <td>3512</td>\n      <td>3495</td>\n      <td>3433</td>\n      <td>3512</td>\n      <td>3512</td>\n      <td>3512</td>\n      <td>3512</td>\n    </tr>\n    <tr>\n      <th>No Entry</th>\n      <td>339</td>\n      <td>339</td>\n      <td>334</td>\n      <td>339</td>\n      <td>339</td>\n      <td>339</td>\n      <td>339</td>\n      <td>339</td>\n      <td>339</td>\n      <td>339</td>\n      <td>...</td>\n      <td>339</td>\n      <td>339</td>\n      <td>339</td>\n      <td>339</td>\n      <td>338</td>\n      <td>259</td>\n      <td>339</td>\n      <td>339</td>\n      <td>339</td>\n      <td>339</td>\n    </tr>\n    <tr>\n      <th>Not Ready</th>\n      <td>36</td>\n      <td>36</td>\n      <td>36</td>\n      <td>36</td>\n      <td>36</td>\n      <td>36</td>\n      <td>36</td>\n      <td>36</td>\n      <td>36</td>\n      <td>36</td>\n      <td>...</td>\n      <td>36</td>\n      <td>36</td>\n      <td>36</td>\n      <td>36</td>\n      <td>36</td>\n      <td>27</td>\n      <td>36</td>\n      <td>36</td>\n      <td>36</td>\n      <td>36</td>\n    </tr>\n    <tr>\n      <th>Out of Business</th>\n      <td>81</td>\n      <td>81</td>\n      <td>81</td>\n      <td>81</td>\n      <td>80</td>\n      <td>81</td>\n      <td>81</td>\n      <td>81</td>\n      <td>81</td>\n      <td>81</td>\n      <td>...</td>\n      <td>81</td>\n      <td>81</td>\n      <td>81</td>\n      <td>81</td>\n      <td>81</td>\n      <td>14</td>\n      <td>81</td>\n      <td>81</td>\n      <td>81</td>\n      <td>81</td>\n    </tr>\n    <tr>\n      <th>Pass</th>\n      <td>31031</td>\n      <td>31031</td>\n      <td>30693</td>\n      <td>31030</td>\n      <td>31012</td>\n      <td>31031</td>\n      <td>31031</td>\n      <td>31003</td>\n      <td>31024</td>\n      <td>31025</td>\n      <td>...</td>\n      <td>31024</td>\n      <td>31025</td>\n      <td>31031</td>\n      <td>31031</td>\n      <td>30930</td>\n      <td>17804</td>\n      <td>31031</td>\n      <td>31031</td>\n      <td>31031</td>\n      <td>31031</td>\n    </tr>\n    <tr>\n      <th>Pass w/ Conditions</th>\n      <td>5193</td>\n      <td>5193</td>\n      <td>5173</td>\n      <td>5193</td>\n      <td>5189</td>\n      <td>5193</td>\n      <td>5193</td>\n      <td>5191</td>\n      <td>5191</td>\n      <td>5192</td>\n      <td>...</td>\n      <td>5191</td>\n      <td>5192</td>\n      <td>5193</td>\n      <td>5193</td>\n      <td>5178</td>\n      <td>5057</td>\n      <td>5193</td>\n      <td>5193</td>\n      <td>5193</td>\n      <td>5193</td>\n    </tr>\n  </tbody>\n</table>\n<p>6 rows × 33 columns</p>\n</div>"
     },
     "metadata": {},
     "execution_count": 20
    }
   ],
   "source": [
    "grped_no_duplicates.groupby('results_re').count()"
   ]
  },
  {
   "cell_type": "code",
   "execution_count": 21,
   "metadata": {},
   "outputs": [
    {
     "output_type": "execute_result",
     "data": {
      "text/plain": [
       "count    39736.000000\n",
       "mean       -10.996779\n",
       "std         19.786114\n",
       "min       -685.000000\n",
       "25%        -10.000000\n",
       "50%         -7.000000\n",
       "75%         -7.000000\n",
       "max          0.000000\n",
       "Name: time_between, dtype: float64"
      ]
     },
     "metadata": {},
     "execution_count": 21
    }
   ],
   "source": [
    "grped2 = grped_no_duplicates[(grped_no_duplicates['results_re'] == 'Fail') | (grped_no_duplicates['results_re'] == 'Pass') | (grped_no_duplicates['results_re'] == 'Pass w/ Conditions') ]\n",
    "grped2['time_between'].describe()"
   ]
  },
  {
   "cell_type": "code",
   "execution_count": 22,
   "metadata": {},
   "outputs": [],
   "source": [
    "final_grped = grped2[grped2['time_between'] >= -180]"
   ]
  },
  {
   "cell_type": "code",
   "execution_count": 23,
   "metadata": {},
   "outputs": [
    {
     "output_type": "execute_result",
     "data": {
      "text/plain": [
       "Index(['inspection_id_orig', 'dba_name', 'aka_name_orig', 'license_',\n",
       "       'facility_type_orig', 'risk_orig', 'address', 'city_orig', 'state_orig',\n",
       "       'zip_orig', 'inspection_date_orig', 'inspection_type_orig',\n",
       "       'results_orig', 'latitude', 'longitude', 'location_orig',\n",
       "       'violations_orig', 'inspection_type_clean_orig', 'inspection_id_re',\n",
       "       'aka_name_re', 'facility_type_re', 'risk_re', 'city_re', 'state_re',\n",
       "       'zip_re', 'inspection_date_re', 'inspection_type_re', 'results_re',\n",
       "       'location_re', 'violations_re', 'inspection_type_clean_re', 'date_orig',\n",
       "       'date_re', 'time_between'],\n",
       "      dtype='object')"
      ]
     },
     "metadata": {},
     "execution_count": 23
    }
   ],
   "source": [
    "final_grped.columns"
   ]
  },
  {
   "cell_type": "code",
   "execution_count": 24,
   "metadata": {},
   "outputs": [],
   "source": [
    "final_df = final_grped[['inspection_id_orig', 'dba_name', 'license_', \n",
    "                        'facility_type_orig', 'date_orig', 'inspection_type_orig',\n",
    "                        'results_orig', 'violations_orig', 'inspection_id_re',\n",
    "                        'date_re', 'results_re', 'time_between']]\n",
    "final_df = final_df.rename({'inspection_id_orig': 'id_orig', 'dba_name': 'name', 'license_': 'license', \n",
    "                        'facility_type_orig': 'facility_type', 'inspection_id_re': 'id_re'}, axis=1)"
   ]
  },
  {
   "cell_type": "code",
   "execution_count": 25,
   "metadata": {},
   "outputs": [
    {
     "output_type": "execute_result",
     "data": {
      "text/plain": [
       "array(['Canvass', 'Complaint', 'License', 'License Re-Inspection',\n",
       "       'Canvass Re-Inspection', 'Suspected Food Poisoning',\n",
       "       'Complaint Re-Inspection', 'Short Form Complaint',\n",
       "       'Complaint-Fire', 'Consultation', 'Recent Inspection',\n",
       "       'License-Task Force', 'Tag Removal', 'Special Events (Festivals)',\n",
       "       'SFP', 'Suspected Food Poisoning Re-inspection',\n",
       "       'TWO PEOPLE ATE AND GOT SICK.', 'Short Form Fire-Complaint',\n",
       "       'No Entry', 'Task Force Liquor 1475', 'SFP/Complaint',\n",
       "       'TAVERN 1470', 'Complaint-Fire Re-inspection', 'SFP/COMPLAINT',\n",
       "       'Non-Inspection', 'RECALL INSPECTION', 'no entry',\n",
       "       'RE-INSPECTION OF CLOSE-UP', 'Illegal Operation',\n",
       "       'REINSPECTION OF 48 HOUR NOTICE', 'Package Liquor 1474',\n",
       "       '1315 license reinspection', 'NO ENTRY', 'TASK FORCE NIGHT',\n",
       "       'task force(1470) liquor tavern', 'TASK FORCE PACKAGE LIQUOR',\n",
       "       'LIQUOR CATERING', 'SPECIAL TASK FORCE'], dtype=object)"
      ]
     },
     "metadata": {},
     "execution_count": 25
    }
   ],
   "source": [
    "final_df['inspection_type_orig'].unique()"
   ]
  },
  {
   "cell_type": "code",
   "execution_count": 26,
   "metadata": {},
   "outputs": [],
   "source": [
    "final_df = final_df[(final_df['inspection_type_orig'] != 'No Entry') & (final_df['inspection_type_orig'] != 'no entry')]"
   ]
  },
  {
   "cell_type": "code",
   "execution_count": 27,
   "metadata": {},
   "outputs": [
    {
     "output_type": "stream",
     "name": "stdout",
     "text": [
      "(39623, 12)\n"
     ]
    },
    {
     "output_type": "execute_result",
     "data": {
      "text/plain": [
       "    id_orig              name  license facility_type  date_orig  \\\n",
       "10  1989768            VOLARE  2141813    Restaurant 2017-02-27   \n",
       "13  1632809            VOLARE  2141813    Restaurant 2016-03-08   \n",
       "32  1448101  STREETERS TAVERN     8864        TAVERN 2015-12-01   \n",
       "36  2453925       MISS SAIGON  2699550    Restaurant 2020-10-28   \n",
       "39  2352289       MISS SAIGON  2699550    Restaurant 2019-11-25   \n",
       "\n",
       "   inspection_type_orig results_orig  \\\n",
       "10              Canvass         Fail   \n",
       "13              Canvass         Fail   \n",
       "32            Complaint         Fail   \n",
       "36              Canvass         Fail   \n",
       "39              License         Fail   \n",
       "\n",
       "                                      violations_orig    id_re    date_re  \\\n",
       "10  11. ADEQUATE NUMBER, CONVENIENT, ACCESSIBLE, D...  1989902 2017-03-01   \n",
       "13  16. FOOD PROTECTED DURING STORAGE, PREPARATION...  1734225 2016-03-15   \n",
       "32  16. FOOD PROTECTED DURING STORAGE, PREPARATION...  1448119 2015-12-11   \n",
       "36  58. ALLERGEN TRAINING AS REQUIRED - Comments: ...  2456264 2020-11-05   \n",
       "39  5. PROCEDURES FOR RESPONDING TO VOMITING AND D...  2352403 2019-11-27   \n",
       "\n",
       "            results_re  time_between  \n",
       "10                Pass            -2  \n",
       "13                Pass            -7  \n",
       "32                Pass           -10  \n",
       "36                Pass            -8  \n",
       "39  Pass w/ Conditions            -2  "
      ],
      "text/html": "<div>\n<style scoped>\n    .dataframe tbody tr th:only-of-type {\n        vertical-align: middle;\n    }\n\n    .dataframe tbody tr th {\n        vertical-align: top;\n    }\n\n    .dataframe thead th {\n        text-align: right;\n    }\n</style>\n<table border=\"1\" class=\"dataframe\">\n  <thead>\n    <tr style=\"text-align: right;\">\n      <th></th>\n      <th>id_orig</th>\n      <th>name</th>\n      <th>license</th>\n      <th>facility_type</th>\n      <th>date_orig</th>\n      <th>inspection_type_orig</th>\n      <th>results_orig</th>\n      <th>violations_orig</th>\n      <th>id_re</th>\n      <th>date_re</th>\n      <th>results_re</th>\n      <th>time_between</th>\n    </tr>\n  </thead>\n  <tbody>\n    <tr>\n      <th>10</th>\n      <td>1989768</td>\n      <td>VOLARE</td>\n      <td>2141813</td>\n      <td>Restaurant</td>\n      <td>2017-02-27</td>\n      <td>Canvass</td>\n      <td>Fail</td>\n      <td>11. ADEQUATE NUMBER, CONVENIENT, ACCESSIBLE, D...</td>\n      <td>1989902</td>\n      <td>2017-03-01</td>\n      <td>Pass</td>\n      <td>-2</td>\n    </tr>\n    <tr>\n      <th>13</th>\n      <td>1632809</td>\n      <td>VOLARE</td>\n      <td>2141813</td>\n      <td>Restaurant</td>\n      <td>2016-03-08</td>\n      <td>Canvass</td>\n      <td>Fail</td>\n      <td>16. FOOD PROTECTED DURING STORAGE, PREPARATION...</td>\n      <td>1734225</td>\n      <td>2016-03-15</td>\n      <td>Pass</td>\n      <td>-7</td>\n    </tr>\n    <tr>\n      <th>32</th>\n      <td>1448101</td>\n      <td>STREETERS TAVERN</td>\n      <td>8864</td>\n      <td>TAVERN</td>\n      <td>2015-12-01</td>\n      <td>Complaint</td>\n      <td>Fail</td>\n      <td>16. FOOD PROTECTED DURING STORAGE, PREPARATION...</td>\n      <td>1448119</td>\n      <td>2015-12-11</td>\n      <td>Pass</td>\n      <td>-10</td>\n    </tr>\n    <tr>\n      <th>36</th>\n      <td>2453925</td>\n      <td>MISS SAIGON</td>\n      <td>2699550</td>\n      <td>Restaurant</td>\n      <td>2020-10-28</td>\n      <td>Canvass</td>\n      <td>Fail</td>\n      <td>58. ALLERGEN TRAINING AS REQUIRED - Comments: ...</td>\n      <td>2456264</td>\n      <td>2020-11-05</td>\n      <td>Pass</td>\n      <td>-8</td>\n    </tr>\n    <tr>\n      <th>39</th>\n      <td>2352289</td>\n      <td>MISS SAIGON</td>\n      <td>2699550</td>\n      <td>Restaurant</td>\n      <td>2019-11-25</td>\n      <td>License</td>\n      <td>Fail</td>\n      <td>5. PROCEDURES FOR RESPONDING TO VOMITING AND D...</td>\n      <td>2352403</td>\n      <td>2019-11-27</td>\n      <td>Pass w/ Conditions</td>\n      <td>-2</td>\n    </tr>\n  </tbody>\n</table>\n</div>"
     },
     "metadata": {},
     "execution_count": 27
    }
   ],
   "source": [
    "print(final_df.shape)\n",
    "final_df.head()"
   ]
  },
  {
   "cell_type": "code",
   "execution_count": 28,
   "metadata": {},
   "outputs": [],
   "source": [
    "#Drop conditions:\n",
    "#repeat re-inspection ID or original inspection ID (may investigate further, but not a big impact)\n",
    "#original outcome of pass, no entry, or not ready\n",
    "#more than 150 days between original and reinspection\n",
    "#went from 41,600 rows to 39,621\n",
    "\n",
    "#save to pickle\n",
    "final_df.to_pickle(\"initial_clean.pkl\")"
   ]
  },
  {
   "cell_type": "code",
   "execution_count": null,
   "metadata": {},
   "outputs": [],
   "source": []
  }
 ]
}