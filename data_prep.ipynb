{
 "metadata": {
  "language_info": {
   "codemirror_mode": {
    "name": "ipython",
    "version": 3
   },
   "file_extension": ".py",
   "mimetype": "text/x-python",
   "name": "python",
   "nbconvert_exporter": "python",
   "pygments_lexer": "ipython3",
   "version": "3.8.5-final"
  },
  "orig_nbformat": 2,
  "kernelspec": {
   "name": "python385jvsc74a57bd0ba539312d09a2ffa8c7e90eb1ed4fb57b0b5103be99f6c8fe3af2b5222ff8312",
   "display_name": "Python 3.8.5 64-bit ('alipe': virtualenv)"
  }
 },
 "nbformat": 4,
 "nbformat_minor": 2,
 "cells": [
  {
   "cell_type": "code",
   "execution_count": 1,
   "metadata": {},
   "outputs": [],
   "source": [
    "import numpy as np\n",
    "import pandas as pd\n",
    "from sodapy import Socrata\n",
    "import seaborn as sns\n",
    "import matplotlib.pyplot as plt\n",
    "from matplotlib.dates import DateFormatter\n",
    "%matplotlib inline"
   ]
  },
  {
   "cell_type": "code",
   "execution_count": 2,
   "metadata": {},
   "outputs": [
    {
     "output_type": "stream",
     "name": "stderr",
     "text": [
      "WARNING:root:Requests made without an app_token will be subject to strict throttling limits.\n"
     ]
    },
    {
     "output_type": "execute_result",
     "data": {
      "text/plain": [
       "  inspection_id             dba_name            aka_name license_  \\\n",
       "0       2484567              ROYALTY             ROYALTY  1306130   \n",
       "1       2473041  ROSATI'S GRANT PARK            ROSATI'S  2762683   \n",
       "2       2464198   FOOD FIRST CHICAGO  FOOD FIRST CHICAGO  2762429   \n",
       "3       2463977              HWA WON             HWA WON  2341742   \n",
       "4       2463667           M & M FOOD          M & M FOOD  1193207   \n",
       "\n",
       "  facility_type           risk               address     city state    zip  \\\n",
       "0    Restaurant  Risk 1 (High)       3810 W 63RD ST   CHICAGO    IL  60629   \n",
       "1    Restaurant  Risk 1 (High)        23 E ADAMS ST   CHICAGO    IL  60603   \n",
       "2      Catering  Risk 1 (High)    741 S WESTERN AVE   CHICAGO    IL  60612   \n",
       "3    Restaurant  Risk 1 (High)  2519 W PETERSON AVE   CHICAGO    IL  60659   \n",
       "4           NaN   Risk 3 (Low)   7073 N WESTERN AVE   CHICAGO    IL  60645   \n",
       "\n",
       "           inspection_date inspection_type          results  \\\n",
       "0  2021-02-05T00:00:00.000  Non-Inspection         No Entry   \n",
       "1  2021-01-22T00:00:00.000         License             Pass   \n",
       "2  2020-12-28T00:00:00.000         License             Pass   \n",
       "3  2020-12-21T00:00:00.000  Non-Inspection         No Entry   \n",
       "4  2020-12-11T00:00:00.000         Canvass  Out of Business   \n",
       "\n",
       "             latitude           longitude  \\\n",
       "0  41.778836516734856  -87.71836138998039   \n",
       "1  41.879391313239694  -87.62684825563626   \n",
       "2  41.871853705220325  -87.68603684594997   \n",
       "3   41.99036795715765   -87.6929808527407   \n",
       "4   42.01076851593425  -87.69006746560828   \n",
       "\n",
       "                                            location violations  \n",
       "0  {'latitude': '-87.71836138998039', 'longitude'...        NaN  \n",
       "1  {'latitude': '-87.62684825563626', 'longitude'...        NaN  \n",
       "2  {'latitude': '-87.68603684594997', 'longitude'...        NaN  \n",
       "3  {'latitude': '-87.6929808527407', 'longitude':...        NaN  \n",
       "4  {'latitude': '-87.69006746560828', 'longitude'...        NaN  "
      ],
      "text/html": "<div>\n<style scoped>\n    .dataframe tbody tr th:only-of-type {\n        vertical-align: middle;\n    }\n\n    .dataframe tbody tr th {\n        vertical-align: top;\n    }\n\n    .dataframe thead th {\n        text-align: right;\n    }\n</style>\n<table border=\"1\" class=\"dataframe\">\n  <thead>\n    <tr style=\"text-align: right;\">\n      <th></th>\n      <th>inspection_id</th>\n      <th>dba_name</th>\n      <th>aka_name</th>\n      <th>license_</th>\n      <th>facility_type</th>\n      <th>risk</th>\n      <th>address</th>\n      <th>city</th>\n      <th>state</th>\n      <th>zip</th>\n      <th>inspection_date</th>\n      <th>inspection_type</th>\n      <th>results</th>\n      <th>latitude</th>\n      <th>longitude</th>\n      <th>location</th>\n      <th>violations</th>\n    </tr>\n  </thead>\n  <tbody>\n    <tr>\n      <th>0</th>\n      <td>2484567</td>\n      <td>ROYALTY</td>\n      <td>ROYALTY</td>\n      <td>1306130</td>\n      <td>Restaurant</td>\n      <td>Risk 1 (High)</td>\n      <td>3810 W 63RD ST</td>\n      <td>CHICAGO</td>\n      <td>IL</td>\n      <td>60629</td>\n      <td>2021-02-05T00:00:00.000</td>\n      <td>Non-Inspection</td>\n      <td>No Entry</td>\n      <td>41.778836516734856</td>\n      <td>-87.71836138998039</td>\n      <td>{'latitude': '-87.71836138998039', 'longitude'...</td>\n      <td>NaN</td>\n    </tr>\n    <tr>\n      <th>1</th>\n      <td>2473041</td>\n      <td>ROSATI'S GRANT PARK</td>\n      <td>ROSATI'S</td>\n      <td>2762683</td>\n      <td>Restaurant</td>\n      <td>Risk 1 (High)</td>\n      <td>23 E ADAMS ST</td>\n      <td>CHICAGO</td>\n      <td>IL</td>\n      <td>60603</td>\n      <td>2021-01-22T00:00:00.000</td>\n      <td>License</td>\n      <td>Pass</td>\n      <td>41.879391313239694</td>\n      <td>-87.62684825563626</td>\n      <td>{'latitude': '-87.62684825563626', 'longitude'...</td>\n      <td>NaN</td>\n    </tr>\n    <tr>\n      <th>2</th>\n      <td>2464198</td>\n      <td>FOOD FIRST CHICAGO</td>\n      <td>FOOD FIRST CHICAGO</td>\n      <td>2762429</td>\n      <td>Catering</td>\n      <td>Risk 1 (High)</td>\n      <td>741 S WESTERN AVE</td>\n      <td>CHICAGO</td>\n      <td>IL</td>\n      <td>60612</td>\n      <td>2020-12-28T00:00:00.000</td>\n      <td>License</td>\n      <td>Pass</td>\n      <td>41.871853705220325</td>\n      <td>-87.68603684594997</td>\n      <td>{'latitude': '-87.68603684594997', 'longitude'...</td>\n      <td>NaN</td>\n    </tr>\n    <tr>\n      <th>3</th>\n      <td>2463977</td>\n      <td>HWA WON</td>\n      <td>HWA WON</td>\n      <td>2341742</td>\n      <td>Restaurant</td>\n      <td>Risk 1 (High)</td>\n      <td>2519 W PETERSON AVE</td>\n      <td>CHICAGO</td>\n      <td>IL</td>\n      <td>60659</td>\n      <td>2020-12-21T00:00:00.000</td>\n      <td>Non-Inspection</td>\n      <td>No Entry</td>\n      <td>41.99036795715765</td>\n      <td>-87.6929808527407</td>\n      <td>{'latitude': '-87.6929808527407', 'longitude':...</td>\n      <td>NaN</td>\n    </tr>\n    <tr>\n      <th>4</th>\n      <td>2463667</td>\n      <td>M &amp; M FOOD</td>\n      <td>M &amp; M FOOD</td>\n      <td>1193207</td>\n      <td>NaN</td>\n      <td>Risk 3 (Low)</td>\n      <td>7073 N WESTERN AVE</td>\n      <td>CHICAGO</td>\n      <td>IL</td>\n      <td>60645</td>\n      <td>2020-12-11T00:00:00.000</td>\n      <td>Canvass</td>\n      <td>Out of Business</td>\n      <td>42.01076851593425</td>\n      <td>-87.69006746560828</td>\n      <td>{'latitude': '-87.69006746560828', 'longitude'...</td>\n      <td>NaN</td>\n    </tr>\n  </tbody>\n</table>\n</div>"
     },
     "metadata": {},
     "execution_count": 2
    }
   ],
   "source": [
    "#Make API call to City of Chicago Open Data Portal\n",
    "#Include only inspections prior to 3/31/2021\n",
    "client = Socrata(\"data.cityofchicago.org\", None)\n",
    "results = client.get(\"4ijn-s7e5\", where=\"inspection_date < '2021-04-01T00:00:00.000'\", limit=100000000)\n",
    "\n",
    "inspections_df = pd.DataFrame.from_records(results)\n",
    "inspections_df.head()"
   ]
  },
  {
   "cell_type": "code",
   "execution_count": 3,
   "metadata": {},
   "outputs": [
    {
     "output_type": "execute_result",
     "data": {
      "text/plain": [
       "array(['Non-Inspection', 'License', 'Canvass', 'Canvass Re-Inspection',\n",
       "       'Complaint', 'License Re-Inspection', 'Short Form Complaint',\n",
       "       'Complaint Re-Inspection', 'Recent Inspection',\n",
       "       'Suspected Food Poisoning', 'Consultation', nan,\n",
       "       'License-Task Force', 'Suspected Food Poisoning Re-inspection',\n",
       "       'Not Ready', 'Task Force Liquor 1475', 'Complaint-Fire',\n",
       "       'Short Form Fire-Complaint', 'Pre-License Consultation',\n",
       "       'Out of Business', 'Tag Removal', 'Special Events (Festivals)',\n",
       "       'No Entry', 'OUT OF BUSINESS', 'out ofbusiness',\n",
       "       'Business Not Located', 'COVID COMPLAINT', 'OFFICE ASSIGNMENT',\n",
       "       'Recent inspection', 'fire complaint', 'FIRE',\n",
       "       'Complaint-Fire Re-inspection', 'KITCHEN CLOSED FOR RENOVATION',\n",
       "       'CORRECTIVE ACTION', 'O.B.', 'LICENSE CANCELED BY OWNER',\n",
       "       'OWNER SUSPENDED OPERATION/LICENSE', 'LICENSE CONSULTATION',\n",
       "       'License consultation', 'Illegal Operation', 'Package Liquor 1474',\n",
       "       'No entry', 'TWO PEOPLE ATE AND GOT SICK.',\n",
       "       'CANVASS SCHOOL/SPECIAL EVENT', 'CANVASS SPECIAL EVENTS',\n",
       "       'NO ENTRY', 'FIRE/COMPLAIN', 'TASK FORCE LIQUOR 1470',\n",
       "       'Task Force for liquor 1474', 'license task 1474',\n",
       "       'Sample Collection', 'TASK FORCE NIGHT',\n",
       "       '1315 license reinspection', 'Task force liquor inspection 1474',\n",
       "       'ADDENDUM', 'no entry', 'Task Force Liquor Catering', 'CANVAS',\n",
       "       'SFP', 'SFP/COMPLAINT', 'task force(1470) liquor tavern',\n",
       "       'expansion', 'SFP/Complaint', 'TASKFORCE', 'LICENSE REQUEST',\n",
       "       'SFP RECENTLY INSPECTED', 'LICENSE RENEWAL FOR DAYCARE',\n",
       "       'LICENSE TASK FORCE / NOT -FOR-PROFIT CLUB',\n",
       "       'LICENSE TASK FORCE / NOT -FOR-PROFIT CLU', 'CANVASS',\n",
       "       'LICENSE RENEWAL INSPECTION FOR DAYCARE',\n",
       "       'CANVASS RE INSPECTION OF CLOSE UP', 'SMOKING COMPLAINT',\n",
       "       'TAVERN 1470', 'CITF', 'KIDS CAFE', 'LICENSE DAYCARE 1586',\n",
       "       'NO ENTRY-SHORT COMPLAINT)', 'LICENSE/NOT READY',\n",
       "       'citation re-issued', 'Duplicated', 'sfp/complaint',\n",
       "       'HACCP QUESTIONAIRE', 'LICENSE',\n",
       "       'finish complaint inspection from 5-18-10', 'CHANGED COURT DATE',\n",
       "       'CANVASS/SPECIAL EVENT', 'DAY CARE LICENSE RENEWAL',\n",
       "       'CLOSE-UP/COMPLAINT REINSPECTION', 'license',\n",
       "       'LICENSE WRONG ADDRESS', 'LIQUOR CATERING',\n",
       "       'TASK FORCE PACKAGE LIQUOR', 'TASTE OF CHICAGO', 'Summer Feeding',\n",
       "       'error save', 'POSSIBLE FBI', 'RECALL INSPECTION',\n",
       "       'RE-INSPECTION OF CLOSE-UP', 'TASK FORCE NOT READY',\n",
       "       'SPECIAL TASK FORCE', 'REINSPECTION OF 48 HOUR NOTICE',\n",
       "       'task force', 'TASK FORCE LIQUOR (1481)', 'Special Task Force',\n",
       "       'LIQOUR TASK FORCE NOT READY', 'REINSPECTION',\n",
       "       'CANVASS FOR RIB FEST', 'TASK FORCE LIQUOR 1474',\n",
       "       'TASK FORCE PACKAGE GOODS 1474', \"Kids Cafe'\"], dtype=object)"
      ]
     },
     "metadata": {},
     "execution_count": 3
    }
   ],
   "source": [
    "inspections_df[\"inspection_type\"].unique()"
   ]
  },
  {
   "cell_type": "code",
   "execution_count": 4,
   "metadata": {},
   "outputs": [
    {
     "output_type": "execute_result",
     "data": {
      "text/plain": [
       "(41455, 18)"
      ]
     },
     "metadata": {},
     "execution_count": 4
    }
   ],
   "source": [
    "#Take only re-inspections\n",
    "inspections_df['inspection_type_clean'] = inspections_df['inspection_type'].str.lower()\n",
    "inspections_df['inspection_type_clean'] = inspections_df['inspection_type_clean'].str.replace('-', '')\n",
    "\n",
    "#inspections_df[inspections_df['inspection_type_clean'].isna()]\n",
    "#One record is missing inspection type; will drop\n",
    "inspections_df = inspections_df.dropna(subset=['inspection_type_clean'])\n",
    "#inspections_df['inspection_type_clean'].unique()\n",
    "\n",
    "reinspections_df = inspections_df[inspections_df['inspection_type_clean'].str.contains('reinspection')]\n",
    "reinspections_df.shape"
   ]
  },
  {
   "cell_type": "code",
   "execution_count": 5,
   "metadata": {},
   "outputs": [
    {
     "output_type": "execute_result",
     "data": {
      "text/plain": [
       "(218229, 18)"
      ]
     },
     "metadata": {},
     "execution_count": 5
    }
   ],
   "source": [
    "inspections_df.shape"
   ]
  },
  {
   "cell_type": "code",
   "execution_count": 6,
   "metadata": {},
   "outputs": [
    {
     "output_type": "execute_result",
     "data": {
      "text/plain": [
       "(494272, 31)"
      ]
     },
     "metadata": {},
     "execution_count": 6
    }
   ],
   "source": [
    "#matching steps:\n",
    "#merge full inspections_df with reinspections_df\n",
    "#delete where inspection_id = reinspection_id\n",
    "#group by ID of reinspection\n",
    "#within each group, retain only inspection with closest date before (but not equal to) reinspection\n",
    "full_merge = inspections_df.merge(reinspections_df, on=['dba_name', 'address', 'license_', 'latitude', 'longitude'],\n",
    "                                    suffixes=('_orig', '_re'))\n",
    "full_merge.shape"
   ]
  },
  {
   "cell_type": "code",
   "execution_count": 7,
   "metadata": {},
   "outputs": [
    {
     "output_type": "execute_result",
     "data": {
      "text/plain": [
       "Index(['inspection_id_orig', 'dba_name', 'aka_name_orig', 'license_',\n",
       "       'facility_type_orig', 'risk_orig', 'address', 'city_orig', 'state_orig',\n",
       "       'zip_orig', 'inspection_date_orig', 'inspection_type_orig',\n",
       "       'results_orig', 'latitude', 'longitude', 'location_orig',\n",
       "       'violations_orig', 'inspection_type_clean_orig', 'inspection_id_re',\n",
       "       'aka_name_re', 'facility_type_re', 'risk_re', 'city_re', 'state_re',\n",
       "       'zip_re', 'inspection_date_re', 'inspection_type_re', 'results_re',\n",
       "       'location_re', 'violations_re', 'inspection_type_clean_re'],\n",
       "      dtype='object')"
      ]
     },
     "metadata": {},
     "execution_count": 7
    }
   ],
   "source": [
    "full_merge.columns"
   ]
  },
  {
   "cell_type": "code",
   "execution_count": 8,
   "metadata": {},
   "outputs": [
    {
     "output_type": "execute_result",
     "data": {
      "text/plain": [
       "(452817, 31)"
      ]
     },
     "metadata": {},
     "execution_count": 8
    }
   ],
   "source": [
    "full_merge_clean = full_merge[full_merge['inspection_id_orig'] != full_merge['inspection_id_re']]\n",
    "full_merge_clean.shape"
   ]
  },
  {
   "cell_type": "code",
   "execution_count": 9,
   "metadata": {},
   "outputs": [
    {
     "output_type": "stream",
     "name": "stderr",
     "text": [
      "<ipython-input-9-2341921e68a0>:1: SettingWithCopyWarning: \nA value is trying to be set on a copy of a slice from a DataFrame.\nTry using .loc[row_indexer,col_indexer] = value instead\n\nSee the caveats in the documentation: https://pandas.pydata.org/pandas-docs/stable/user_guide/indexing.html#returning-a-view-versus-a-copy\n  full_merge_clean['date_orig'] = pd.to_datetime(full_merge_clean['inspection_date_orig'])\n<ipython-input-9-2341921e68a0>:2: SettingWithCopyWarning: \nA value is trying to be set on a copy of a slice from a DataFrame.\nTry using .loc[row_indexer,col_indexer] = value instead\n\nSee the caveats in the documentation: https://pandas.pydata.org/pandas-docs/stable/user_guide/indexing.html#returning-a-view-versus-a-copy\n  full_merge_clean['date_re'] = pd.to_datetime(full_merge_clean['inspection_date_re'])\n"
     ]
    }
   ],
   "source": [
    "full_merge_clean['date_orig'] = pd.to_datetime(full_merge_clean['inspection_date_orig'])\n",
    "full_merge_clean['date_re'] = pd.to_datetime(full_merge_clean['inspection_date_re'])"
   ]
  },
  {
   "cell_type": "code",
   "execution_count": 10,
   "metadata": {},
   "outputs": [
    {
     "output_type": "stream",
     "name": "stderr",
     "text": [
      "<ipython-input-10-6563173d44f8>:2: SettingWithCopyWarning: \nA value is trying to be set on a copy of a slice from a DataFrame.\nTry using .loc[row_indexer,col_indexer] = value instead\n\nSee the caveats in the documentation: https://pandas.pydata.org/pandas-docs/stable/user_guide/indexing.html#returning-a-view-versus-a-copy\n  full_merge_clean['time_between'] = full_merge_clean['date_orig'] - full_merge_clean['date_re']\n<ipython-input-10-6563173d44f8>:3: SettingWithCopyWarning: \nA value is trying to be set on a copy of a slice from a DataFrame.\nTry using .loc[row_indexer,col_indexer] = value instead\n\nSee the caveats in the documentation: https://pandas.pydata.org/pandas-docs/stable/user_guide/indexing.html#returning-a-view-versus-a-copy\n  full_merge_clean['time_between'] = full_merge_clean['time_between'].dt.days\n"
     ]
    },
    {
     "output_type": "execute_result",
     "data": {
      "text/plain": [
       "(248086, 34)"
      ]
     },
     "metadata": {},
     "execution_count": 10
    }
   ],
   "source": [
    "#remove rows where original inspection occurred after re-inspection\n",
    "full_merge_clean['time_between'] = full_merge_clean['date_orig'] - full_merge_clean['date_re']\n",
    "full_merge_clean['time_between'] = full_merge_clean['time_between'].dt.days\n",
    "full_merge_clean = full_merge_clean[full_merge_clean['time_between'] <= 0]\n",
    "full_merge_clean.shape"
   ]
  },
  {
   "cell_type": "code",
   "execution_count": 11,
   "metadata": {},
   "outputs": [
    {
     "output_type": "execute_result",
     "data": {
      "text/plain": [
       "   inspection_id_orig       dba_name aka_name_orig license_  \\\n",
       "16             577275        ROYALTY       ROYALTY  1306130   \n",
       "28            2200477        HWA WON       HWA WON  2341742   \n",
       "43            1506367        HWA WON       HWA WON  2341742   \n",
       "53            2320554  SUBWAY #44541        SUBWAY  1963876   \n",
       "57            2176834  SUBWAY #44541        SUBWAY  1963876   \n",
       "\n",
       "   facility_type_orig      risk_orig               address city_orig  \\\n",
       "16         Restaurant  Risk 1 (High)       3810 W 63RD ST    CHICAGO   \n",
       "28         Restaurant  Risk 1 (High)  2519 W PETERSON AVE    CHICAGO   \n",
       "43         Restaurant  Risk 1 (High)  2519 W PETERSON AVE    CHICAGO   \n",
       "53         Restaurant  Risk 1 (High)       211 W ADAMS ST    CHICAGO   \n",
       "57         Restaurant  Risk 1 (High)       211 W ADAMS ST    CHICAGO   \n",
       "\n",
       "   state_orig zip_orig  ... zip_re       inspection_date_re  \\\n",
       "16         IL    60629  ...  60629  2011-05-24T00:00:00.000   \n",
       "28         IL    60659  ...  60659  2018-08-10T00:00:00.000   \n",
       "43         IL    60659  ...  60659  2015-02-24T00:00:00.000   \n",
       "53         IL    60606  ...  60606  2019-11-05T00:00:00.000   \n",
       "57         IL    60606  ...  60606  2018-06-14T00:00:00.000   \n",
       "\n",
       "       inspection_type_re          results_re  \\\n",
       "16  Canvass Re-Inspection                Pass   \n",
       "28  Canvass Re-Inspection  Pass w/ Conditions   \n",
       "43  License Re-Inspection                Pass   \n",
       "53  Canvass Re-Inspection                Pass   \n",
       "57  Canvass Re-Inspection                Pass   \n",
       "\n",
       "                                          location_re  \\\n",
       "16  {'latitude': '-87.71836138998039', 'longitude'...   \n",
       "28  {'latitude': '-87.6929808527407', 'longitude':...   \n",
       "43  {'latitude': '-87.6929808527407', 'longitude':...   \n",
       "53  {'latitude': '-87.63410319837826', 'longitude'...   \n",
       "57  {'latitude': '-87.63410319837826', 'longitude'...   \n",
       "\n",
       "                                        violations_re  \\\n",
       "16  33. FOOD AND NON-FOOD CONTACT EQUIPMENT UTENSI...   \n",
       "28  3. MANAGEMENT, FOOD EMPLOYEE AND CONDITIONAL E...   \n",
       "43                                                NaN   \n",
       "53  51. PLUMBING INSTALLED; PROPER BACKFLOW DEVICE...   \n",
       "57                                                NaN   \n",
       "\n",
       "   inspection_type_clean_re  date_orig    date_re time_between  \n",
       "16     canvass reinspection 2011-04-18 2011-05-24          -36  \n",
       "28     canvass reinspection 2018-08-02 2018-08-10           -8  \n",
       "43     license reinspection 2015-02-17 2015-02-24           -7  \n",
       "53     canvass reinspection 2019-10-28 2019-11-05           -8  \n",
       "57     canvass reinspection 2018-06-06 2018-06-14           -8  \n",
       "\n",
       "[5 rows x 34 columns]"
      ],
      "text/html": "<div>\n<style scoped>\n    .dataframe tbody tr th:only-of-type {\n        vertical-align: middle;\n    }\n\n    .dataframe tbody tr th {\n        vertical-align: top;\n    }\n\n    .dataframe thead th {\n        text-align: right;\n    }\n</style>\n<table border=\"1\" class=\"dataframe\">\n  <thead>\n    <tr style=\"text-align: right;\">\n      <th></th>\n      <th>inspection_id_orig</th>\n      <th>dba_name</th>\n      <th>aka_name_orig</th>\n      <th>license_</th>\n      <th>facility_type_orig</th>\n      <th>risk_orig</th>\n      <th>address</th>\n      <th>city_orig</th>\n      <th>state_orig</th>\n      <th>zip_orig</th>\n      <th>...</th>\n      <th>zip_re</th>\n      <th>inspection_date_re</th>\n      <th>inspection_type_re</th>\n      <th>results_re</th>\n      <th>location_re</th>\n      <th>violations_re</th>\n      <th>inspection_type_clean_re</th>\n      <th>date_orig</th>\n      <th>date_re</th>\n      <th>time_between</th>\n    </tr>\n  </thead>\n  <tbody>\n    <tr>\n      <th>16</th>\n      <td>577275</td>\n      <td>ROYALTY</td>\n      <td>ROYALTY</td>\n      <td>1306130</td>\n      <td>Restaurant</td>\n      <td>Risk 1 (High)</td>\n      <td>3810 W 63RD ST</td>\n      <td>CHICAGO</td>\n      <td>IL</td>\n      <td>60629</td>\n      <td>...</td>\n      <td>60629</td>\n      <td>2011-05-24T00:00:00.000</td>\n      <td>Canvass Re-Inspection</td>\n      <td>Pass</td>\n      <td>{'latitude': '-87.71836138998039', 'longitude'...</td>\n      <td>33. FOOD AND NON-FOOD CONTACT EQUIPMENT UTENSI...</td>\n      <td>canvass reinspection</td>\n      <td>2011-04-18</td>\n      <td>2011-05-24</td>\n      <td>-36</td>\n    </tr>\n    <tr>\n      <th>28</th>\n      <td>2200477</td>\n      <td>HWA WON</td>\n      <td>HWA WON</td>\n      <td>2341742</td>\n      <td>Restaurant</td>\n      <td>Risk 1 (High)</td>\n      <td>2519 W PETERSON AVE</td>\n      <td>CHICAGO</td>\n      <td>IL</td>\n      <td>60659</td>\n      <td>...</td>\n      <td>60659</td>\n      <td>2018-08-10T00:00:00.000</td>\n      <td>Canvass Re-Inspection</td>\n      <td>Pass w/ Conditions</td>\n      <td>{'latitude': '-87.6929808527407', 'longitude':...</td>\n      <td>3. MANAGEMENT, FOOD EMPLOYEE AND CONDITIONAL E...</td>\n      <td>canvass reinspection</td>\n      <td>2018-08-02</td>\n      <td>2018-08-10</td>\n      <td>-8</td>\n    </tr>\n    <tr>\n      <th>43</th>\n      <td>1506367</td>\n      <td>HWA WON</td>\n      <td>HWA WON</td>\n      <td>2341742</td>\n      <td>Restaurant</td>\n      <td>Risk 1 (High)</td>\n      <td>2519 W PETERSON AVE</td>\n      <td>CHICAGO</td>\n      <td>IL</td>\n      <td>60659</td>\n      <td>...</td>\n      <td>60659</td>\n      <td>2015-02-24T00:00:00.000</td>\n      <td>License Re-Inspection</td>\n      <td>Pass</td>\n      <td>{'latitude': '-87.6929808527407', 'longitude':...</td>\n      <td>NaN</td>\n      <td>license reinspection</td>\n      <td>2015-02-17</td>\n      <td>2015-02-24</td>\n      <td>-7</td>\n    </tr>\n    <tr>\n      <th>53</th>\n      <td>2320554</td>\n      <td>SUBWAY #44541</td>\n      <td>SUBWAY</td>\n      <td>1963876</td>\n      <td>Restaurant</td>\n      <td>Risk 1 (High)</td>\n      <td>211 W ADAMS ST</td>\n      <td>CHICAGO</td>\n      <td>IL</td>\n      <td>60606</td>\n      <td>...</td>\n      <td>60606</td>\n      <td>2019-11-05T00:00:00.000</td>\n      <td>Canvass Re-Inspection</td>\n      <td>Pass</td>\n      <td>{'latitude': '-87.63410319837826', 'longitude'...</td>\n      <td>51. PLUMBING INSTALLED; PROPER BACKFLOW DEVICE...</td>\n      <td>canvass reinspection</td>\n      <td>2019-10-28</td>\n      <td>2019-11-05</td>\n      <td>-8</td>\n    </tr>\n    <tr>\n      <th>57</th>\n      <td>2176834</td>\n      <td>SUBWAY #44541</td>\n      <td>SUBWAY</td>\n      <td>1963876</td>\n      <td>Restaurant</td>\n      <td>Risk 1 (High)</td>\n      <td>211 W ADAMS ST</td>\n      <td>CHICAGO</td>\n      <td>IL</td>\n      <td>60606</td>\n      <td>...</td>\n      <td>60606</td>\n      <td>2018-06-14T00:00:00.000</td>\n      <td>Canvass Re-Inspection</td>\n      <td>Pass</td>\n      <td>{'latitude': '-87.63410319837826', 'longitude'...</td>\n      <td>NaN</td>\n      <td>canvass reinspection</td>\n      <td>2018-06-06</td>\n      <td>2018-06-14</td>\n      <td>-8</td>\n    </tr>\n  </tbody>\n</table>\n<p>5 rows × 34 columns</p>\n</div>"
     },
     "metadata": {},
     "execution_count": 11
    }
   ],
   "source": [
    "#full_merge_grp = full_merge_clean.groupby('inspection_id_re')\n",
    "grped = full_merge_clean[full_merge_clean['time_between'] == full_merge_clean.groupby('inspection_id_re')['time_between'].transform('max')]\n",
    "\n",
    "grped.head()"
   ]
  },
  {
   "cell_type": "code",
   "execution_count": 12,
   "metadata": {},
   "outputs": [
    {
     "output_type": "execute_result",
     "data": {
      "text/plain": [
       "(41599, 34)"
      ]
     },
     "metadata": {},
     "execution_count": 12
    }
   ],
   "source": [
    "grped.shape"
   ]
  },
  {
   "cell_type": "code",
   "execution_count": 13,
   "metadata": {},
   "outputs": [
    {
     "output_type": "stream",
     "name": "stdout",
     "text": [
      "(262, 34)\n"
     ]
    },
    {
     "output_type": "execute_result",
     "data": {
      "text/plain": [
       "      inspection_id_orig     inspection_date_orig inspection_id_re  \\\n",
       "2042             1966455  2016-10-14T00:00:00.000          1970656   \n",
       "3647             2252450  2019-01-10T00:00:00.000          2252797   \n",
       "8664              519218  2011-07-26T00:00:00.000           517448   \n",
       "19050            2285617  2019-04-23T00:00:00.000          2290882   \n",
       "46092            1760212  2016-05-19T00:00:00.000          1931711   \n",
       "46349            2144588  2018-02-06T00:00:00.000          2144892   \n",
       "46541            2050307  2017-05-12T00:00:00.000          2050414   \n",
       "50681            1965764  2016-09-30T00:00:00.000          1965767   \n",
       "58609            2213707  2018-08-30T00:00:00.000          2222313   \n",
       "69806            1591629  2015-12-11T00:00:00.000          1609295   \n",
       "81208            1467469  2014-09-09T00:00:00.000          1467490   \n",
       "82271            1464439  2014-08-28T00:00:00.000          1464449   \n",
       "82522            1482314  2014-08-08T00:00:00.000          1482338   \n",
       "83223              88599  2010-11-19T00:00:00.000            88604   \n",
       "87753             580616  2011-04-27T00:00:00.000           580732   \n",
       "89965            1516051  2015-01-16T00:00:00.000          1516204   \n",
       "91504            1114659  2013-02-04T00:00:00.000          1114657   \n",
       "91766            2240478  2018-11-20T00:00:00.000          2240598   \n",
       "93113            1286303  2013-03-11T00:00:00.000          1326277   \n",
       "94596            1493729  2014-08-13T00:00:00.000          1441491   \n",
       "\n",
       "            inspection_date_re  time_between  \n",
       "2042   2016-11-01T00:00:00.000           -18  \n",
       "3647   2019-01-18T00:00:00.000            -8  \n",
       "8664   2011-08-02T00:00:00.000            -7  \n",
       "19050  2019-06-04T00:00:00.000           -42  \n",
       "46092  2016-05-26T00:00:00.000            -7  \n",
       "46349  2018-02-13T00:00:00.000            -7  \n",
       "46541  2017-05-15T00:00:00.000            -3  \n",
       "50681  2016-10-03T00:00:00.000            -3  \n",
       "58609  2018-09-13T00:00:00.000           -14  \n",
       "69806  2016-01-05T00:00:00.000           -25  \n",
       "81208  2014-09-23T00:00:00.000           -14  \n",
       "82271  2014-09-04T00:00:00.000            -7  \n",
       "82522  2014-08-22T00:00:00.000           -14  \n",
       "83223  2010-11-23T00:00:00.000            -4  \n",
       "87753  2011-05-04T00:00:00.000            -7  \n",
       "89965  2015-01-23T00:00:00.000            -7  \n",
       "91504  2013-02-04T00:00:00.000             0  \n",
       "91766  2018-11-26T00:00:00.000            -6  \n",
       "93113  2013-03-12T00:00:00.000            -1  \n",
       "94596  2014-08-21T00:00:00.000            -8  "
      ],
      "text/html": "<div>\n<style scoped>\n    .dataframe tbody tr th:only-of-type {\n        vertical-align: middle;\n    }\n\n    .dataframe tbody tr th {\n        vertical-align: top;\n    }\n\n    .dataframe thead th {\n        text-align: right;\n    }\n</style>\n<table border=\"1\" class=\"dataframe\">\n  <thead>\n    <tr style=\"text-align: right;\">\n      <th></th>\n      <th>inspection_id_orig</th>\n      <th>inspection_date_orig</th>\n      <th>inspection_id_re</th>\n      <th>inspection_date_re</th>\n      <th>time_between</th>\n    </tr>\n  </thead>\n  <tbody>\n    <tr>\n      <th>2042</th>\n      <td>1966455</td>\n      <td>2016-10-14T00:00:00.000</td>\n      <td>1970656</td>\n      <td>2016-11-01T00:00:00.000</td>\n      <td>-18</td>\n    </tr>\n    <tr>\n      <th>3647</th>\n      <td>2252450</td>\n      <td>2019-01-10T00:00:00.000</td>\n      <td>2252797</td>\n      <td>2019-01-18T00:00:00.000</td>\n      <td>-8</td>\n    </tr>\n    <tr>\n      <th>8664</th>\n      <td>519218</td>\n      <td>2011-07-26T00:00:00.000</td>\n      <td>517448</td>\n      <td>2011-08-02T00:00:00.000</td>\n      <td>-7</td>\n    </tr>\n    <tr>\n      <th>19050</th>\n      <td>2285617</td>\n      <td>2019-04-23T00:00:00.000</td>\n      <td>2290882</td>\n      <td>2019-06-04T00:00:00.000</td>\n      <td>-42</td>\n    </tr>\n    <tr>\n      <th>46092</th>\n      <td>1760212</td>\n      <td>2016-05-19T00:00:00.000</td>\n      <td>1931711</td>\n      <td>2016-05-26T00:00:00.000</td>\n      <td>-7</td>\n    </tr>\n    <tr>\n      <th>46349</th>\n      <td>2144588</td>\n      <td>2018-02-06T00:00:00.000</td>\n      <td>2144892</td>\n      <td>2018-02-13T00:00:00.000</td>\n      <td>-7</td>\n    </tr>\n    <tr>\n      <th>46541</th>\n      <td>2050307</td>\n      <td>2017-05-12T00:00:00.000</td>\n      <td>2050414</td>\n      <td>2017-05-15T00:00:00.000</td>\n      <td>-3</td>\n    </tr>\n    <tr>\n      <th>50681</th>\n      <td>1965764</td>\n      <td>2016-09-30T00:00:00.000</td>\n      <td>1965767</td>\n      <td>2016-10-03T00:00:00.000</td>\n      <td>-3</td>\n    </tr>\n    <tr>\n      <th>58609</th>\n      <td>2213707</td>\n      <td>2018-08-30T00:00:00.000</td>\n      <td>2222313</td>\n      <td>2018-09-13T00:00:00.000</td>\n      <td>-14</td>\n    </tr>\n    <tr>\n      <th>69806</th>\n      <td>1591629</td>\n      <td>2015-12-11T00:00:00.000</td>\n      <td>1609295</td>\n      <td>2016-01-05T00:00:00.000</td>\n      <td>-25</td>\n    </tr>\n    <tr>\n      <th>81208</th>\n      <td>1467469</td>\n      <td>2014-09-09T00:00:00.000</td>\n      <td>1467490</td>\n      <td>2014-09-23T00:00:00.000</td>\n      <td>-14</td>\n    </tr>\n    <tr>\n      <th>82271</th>\n      <td>1464439</td>\n      <td>2014-08-28T00:00:00.000</td>\n      <td>1464449</td>\n      <td>2014-09-04T00:00:00.000</td>\n      <td>-7</td>\n    </tr>\n    <tr>\n      <th>82522</th>\n      <td>1482314</td>\n      <td>2014-08-08T00:00:00.000</td>\n      <td>1482338</td>\n      <td>2014-08-22T00:00:00.000</td>\n      <td>-14</td>\n    </tr>\n    <tr>\n      <th>83223</th>\n      <td>88599</td>\n      <td>2010-11-19T00:00:00.000</td>\n      <td>88604</td>\n      <td>2010-11-23T00:00:00.000</td>\n      <td>-4</td>\n    </tr>\n    <tr>\n      <th>87753</th>\n      <td>580616</td>\n      <td>2011-04-27T00:00:00.000</td>\n      <td>580732</td>\n      <td>2011-05-04T00:00:00.000</td>\n      <td>-7</td>\n    </tr>\n    <tr>\n      <th>89965</th>\n      <td>1516051</td>\n      <td>2015-01-16T00:00:00.000</td>\n      <td>1516204</td>\n      <td>2015-01-23T00:00:00.000</td>\n      <td>-7</td>\n    </tr>\n    <tr>\n      <th>91504</th>\n      <td>1114659</td>\n      <td>2013-02-04T00:00:00.000</td>\n      <td>1114657</td>\n      <td>2013-02-04T00:00:00.000</td>\n      <td>0</td>\n    </tr>\n    <tr>\n      <th>91766</th>\n      <td>2240478</td>\n      <td>2018-11-20T00:00:00.000</td>\n      <td>2240598</td>\n      <td>2018-11-26T00:00:00.000</td>\n      <td>-6</td>\n    </tr>\n    <tr>\n      <th>93113</th>\n      <td>1286303</td>\n      <td>2013-03-11T00:00:00.000</td>\n      <td>1326277</td>\n      <td>2013-03-12T00:00:00.000</td>\n      <td>-1</td>\n    </tr>\n    <tr>\n      <th>94596</th>\n      <td>1493729</td>\n      <td>2014-08-13T00:00:00.000</td>\n      <td>1441491</td>\n      <td>2014-08-21T00:00:00.000</td>\n      <td>-8</td>\n    </tr>\n  </tbody>\n</table>\n</div>"
     },
     "metadata": {},
     "execution_count": 13
    }
   ],
   "source": [
    "duplicates = grped[grped.duplicated('inspection_id_re')]\n",
    "print(duplicates.shape)\n",
    "duplicates[['inspection_id_orig', 'inspection_date_orig', 'inspection_id_re', 'inspection_date_re', 'time_between']].head(20)"
   ]
  },
  {
   "cell_type": "code",
   "execution_count": 14,
   "metadata": {},
   "outputs": [
    {
     "output_type": "execute_result",
     "data": {
      "text/plain": [
       "array(['Fail', 'Pass w/ Conditions', 'Pass', 'No Entry', 'Not Ready',\n",
       "       'Out of Business'], dtype=object)"
      ]
     },
     "metadata": {},
     "execution_count": 14
    }
   ],
   "source": [
    "grped['results_orig'].unique()"
   ]
  },
  {
   "cell_type": "code",
   "execution_count": 15,
   "metadata": {},
   "outputs": [
    {
     "output_type": "execute_result",
     "data": {
      "text/plain": [
       "                    inspection_id_orig  dba_name  aka_name_orig  license_  \\\n",
       "results_orig                                                                \n",
       "Fail                             37848     37848          37414     37846   \n",
       "No Entry                           343       343            338       343   \n",
       "Not Ready                           70        70             70        70   \n",
       "Out of Business                    301       301            298       301   \n",
       "Pass                               598       598            593       598   \n",
       "Pass w/ Conditions                2439      2439           2430      2439   \n",
       "\n",
       "                    facility_type_orig  risk_orig  address  city_orig  \\\n",
       "results_orig                                                            \n",
       "Fail                             37821      37848    37848      37815   \n",
       "No Entry                           343        343      343        343   \n",
       "Not Ready                           70         70       70         70   \n",
       "Out of Business                    299        301      301        301   \n",
       "Pass                               598        598      598        598   \n",
       "Pass w/ Conditions                2439       2439     2439       2437   \n",
       "\n",
       "                    state_orig  zip_orig  ...  zip_re  inspection_date_re  \\\n",
       "results_orig                              ...                               \n",
       "Fail                     37839     37841  ...   37841               37848   \n",
       "No Entry                   343       343  ...     343                 343   \n",
       "Not Ready                   70        70  ...      70                  70   \n",
       "Out of Business            301       301  ...     301                 301   \n",
       "Pass                       598       598  ...     598                 598   \n",
       "Pass w/ Conditions        2439      2438  ...    2438                2439   \n",
       "\n",
       "                    inspection_type_re  results_re  location_re  \\\n",
       "results_orig                                                      \n",
       "Fail                             37848       37848        37719   \n",
       "No Entry                           343         343          343   \n",
       "Not Ready                           70          70           68   \n",
       "Out of Business                    301         301          300   \n",
       "Pass                               598         598          597   \n",
       "Pass w/ Conditions                2439        2439         2434   \n",
       "\n",
       "                    violations_re  inspection_type_clean_re  date_orig  \\\n",
       "results_orig                                                             \n",
       "Fail                        24820                     37848      37848   \n",
       "No Entry                      254                       343        343   \n",
       "Not Ready                      36                        70         70   \n",
       "Out of Business               176                       301        301   \n",
       "Pass                          279                       598        598   \n",
       "Pass w/ Conditions           1804                      2439       2439   \n",
       "\n",
       "                    date_re  time_between  \n",
       "results_orig                               \n",
       "Fail                  37848         37848  \n",
       "No Entry                343           343  \n",
       "Not Ready                70            70  \n",
       "Out of Business         301           301  \n",
       "Pass                    598           598  \n",
       "Pass w/ Conditions     2439          2439  \n",
       "\n",
       "[6 rows x 33 columns]"
      ],
      "text/html": "<div>\n<style scoped>\n    .dataframe tbody tr th:only-of-type {\n        vertical-align: middle;\n    }\n\n    .dataframe tbody tr th {\n        vertical-align: top;\n    }\n\n    .dataframe thead th {\n        text-align: right;\n    }\n</style>\n<table border=\"1\" class=\"dataframe\">\n  <thead>\n    <tr style=\"text-align: right;\">\n      <th></th>\n      <th>inspection_id_orig</th>\n      <th>dba_name</th>\n      <th>aka_name_orig</th>\n      <th>license_</th>\n      <th>facility_type_orig</th>\n      <th>risk_orig</th>\n      <th>address</th>\n      <th>city_orig</th>\n      <th>state_orig</th>\n      <th>zip_orig</th>\n      <th>...</th>\n      <th>zip_re</th>\n      <th>inspection_date_re</th>\n      <th>inspection_type_re</th>\n      <th>results_re</th>\n      <th>location_re</th>\n      <th>violations_re</th>\n      <th>inspection_type_clean_re</th>\n      <th>date_orig</th>\n      <th>date_re</th>\n      <th>time_between</th>\n    </tr>\n    <tr>\n      <th>results_orig</th>\n      <th></th>\n      <th></th>\n      <th></th>\n      <th></th>\n      <th></th>\n      <th></th>\n      <th></th>\n      <th></th>\n      <th></th>\n      <th></th>\n      <th></th>\n      <th></th>\n      <th></th>\n      <th></th>\n      <th></th>\n      <th></th>\n      <th></th>\n      <th></th>\n      <th></th>\n      <th></th>\n      <th></th>\n    </tr>\n  </thead>\n  <tbody>\n    <tr>\n      <th>Fail</th>\n      <td>37848</td>\n      <td>37848</td>\n      <td>37414</td>\n      <td>37846</td>\n      <td>37821</td>\n      <td>37848</td>\n      <td>37848</td>\n      <td>37815</td>\n      <td>37839</td>\n      <td>37841</td>\n      <td>...</td>\n      <td>37841</td>\n      <td>37848</td>\n      <td>37848</td>\n      <td>37848</td>\n      <td>37719</td>\n      <td>24820</td>\n      <td>37848</td>\n      <td>37848</td>\n      <td>37848</td>\n      <td>37848</td>\n    </tr>\n    <tr>\n      <th>No Entry</th>\n      <td>343</td>\n      <td>343</td>\n      <td>338</td>\n      <td>343</td>\n      <td>343</td>\n      <td>343</td>\n      <td>343</td>\n      <td>343</td>\n      <td>343</td>\n      <td>343</td>\n      <td>...</td>\n      <td>343</td>\n      <td>343</td>\n      <td>343</td>\n      <td>343</td>\n      <td>343</td>\n      <td>254</td>\n      <td>343</td>\n      <td>343</td>\n      <td>343</td>\n      <td>343</td>\n    </tr>\n    <tr>\n      <th>Not Ready</th>\n      <td>70</td>\n      <td>70</td>\n      <td>70</td>\n      <td>70</td>\n      <td>70</td>\n      <td>70</td>\n      <td>70</td>\n      <td>70</td>\n      <td>70</td>\n      <td>70</td>\n      <td>...</td>\n      <td>70</td>\n      <td>70</td>\n      <td>70</td>\n      <td>70</td>\n      <td>68</td>\n      <td>36</td>\n      <td>70</td>\n      <td>70</td>\n      <td>70</td>\n      <td>70</td>\n    </tr>\n    <tr>\n      <th>Out of Business</th>\n      <td>301</td>\n      <td>301</td>\n      <td>298</td>\n      <td>301</td>\n      <td>299</td>\n      <td>301</td>\n      <td>301</td>\n      <td>301</td>\n      <td>301</td>\n      <td>301</td>\n      <td>...</td>\n      <td>301</td>\n      <td>301</td>\n      <td>301</td>\n      <td>301</td>\n      <td>300</td>\n      <td>176</td>\n      <td>301</td>\n      <td>301</td>\n      <td>301</td>\n      <td>301</td>\n    </tr>\n    <tr>\n      <th>Pass</th>\n      <td>598</td>\n      <td>598</td>\n      <td>593</td>\n      <td>598</td>\n      <td>598</td>\n      <td>598</td>\n      <td>598</td>\n      <td>598</td>\n      <td>598</td>\n      <td>598</td>\n      <td>...</td>\n      <td>598</td>\n      <td>598</td>\n      <td>598</td>\n      <td>598</td>\n      <td>597</td>\n      <td>279</td>\n      <td>598</td>\n      <td>598</td>\n      <td>598</td>\n      <td>598</td>\n    </tr>\n    <tr>\n      <th>Pass w/ Conditions</th>\n      <td>2439</td>\n      <td>2439</td>\n      <td>2430</td>\n      <td>2439</td>\n      <td>2439</td>\n      <td>2439</td>\n      <td>2439</td>\n      <td>2437</td>\n      <td>2439</td>\n      <td>2438</td>\n      <td>...</td>\n      <td>2438</td>\n      <td>2439</td>\n      <td>2439</td>\n      <td>2439</td>\n      <td>2434</td>\n      <td>1804</td>\n      <td>2439</td>\n      <td>2439</td>\n      <td>2439</td>\n      <td>2439</td>\n    </tr>\n  </tbody>\n</table>\n<p>6 rows × 33 columns</p>\n</div>"
     },
     "metadata": {},
     "execution_count": 15
    }
   ],
   "source": [
    "grped.groupby('results_orig').count()"
   ]
  },
  {
   "cell_type": "code",
   "execution_count": 16,
   "metadata": {},
   "outputs": [
    {
     "output_type": "execute_result",
     "data": {
      "text/plain": [
       "(40287, 34)"
      ]
     },
     "metadata": {},
     "execution_count": 16
    }
   ],
   "source": [
    "grped_clean = grped[(grped['results_orig'] == 'Fail') | (grped['results_orig'] == 'Pass w/ Conditions')]\n",
    "grped_clean.shape"
   ]
  },
  {
   "cell_type": "code",
   "execution_count": 17,
   "metadata": {},
   "outputs": [
    {
     "output_type": "stream",
     "name": "stdout",
     "text": [
      "(69, 34)\n"
     ]
    },
    {
     "output_type": "execute_result",
     "data": {
      "text/plain": [
       "       inspection_id_orig     inspection_date_orig inspection_id_re  \\\n",
       "2042              1966455  2016-10-14T00:00:00.000          1970656   \n",
       "8664               519218  2011-07-26T00:00:00.000           517448   \n",
       "46092             1760212  2016-05-19T00:00:00.000          1931711   \n",
       "50681             1965764  2016-09-30T00:00:00.000          1965767   \n",
       "83223               88599  2010-11-19T00:00:00.000            88604   \n",
       "87753              580616  2011-04-27T00:00:00.000           580732   \n",
       "89965             1516051  2015-01-16T00:00:00.000          1516204   \n",
       "94596             1493729  2014-08-13T00:00:00.000          1441491   \n",
       "104666              80288  2010-05-03T00:00:00.000            80327   \n",
       "106750             580192  2011-04-04T00:00:00.000           580179   \n",
       "106752             580192  2011-04-04T00:00:00.000           580186   \n",
       "106753             580192  2011-04-04T00:00:00.000           580169   \n",
       "106754             580192  2011-04-04T00:00:00.000           580167   \n",
       "106755             580192  2011-04-04T00:00:00.000           580172   \n",
       "106756             580192  2011-04-04T00:00:00.000           580176   \n",
       "106757             580192  2011-04-04T00:00:00.000           580185   \n",
       "106758             580192  2011-04-04T00:00:00.000           580234   \n",
       "106759             580192  2011-04-04T00:00:00.000           580181   \n",
       "106760             580192  2011-04-04T00:00:00.000           580188   \n",
       "106882             580191  2011-04-04T00:00:00.000           580179   \n",
       "\n",
       "             inspection_date_re  time_between  \n",
       "2042    2016-11-01T00:00:00.000           -18  \n",
       "8664    2011-08-02T00:00:00.000            -7  \n",
       "46092   2016-05-26T00:00:00.000            -7  \n",
       "50681   2016-10-03T00:00:00.000            -3  \n",
       "83223   2010-11-23T00:00:00.000            -4  \n",
       "87753   2011-05-04T00:00:00.000            -7  \n",
       "89965   2015-01-23T00:00:00.000            -7  \n",
       "94596   2014-08-21T00:00:00.000            -8  \n",
       "104666  2010-06-17T00:00:00.000           -45  \n",
       "106750  2011-04-04T00:00:00.000             0  \n",
       "106752  2011-04-04T00:00:00.000             0  \n",
       "106753  2011-04-04T00:00:00.000             0  \n",
       "106754  2011-04-04T00:00:00.000             0  \n",
       "106755  2011-04-04T00:00:00.000             0  \n",
       "106756  2011-04-04T00:00:00.000             0  \n",
       "106757  2011-04-04T00:00:00.000             0  \n",
       "106758  2011-04-04T00:00:00.000             0  \n",
       "106759  2011-04-04T00:00:00.000             0  \n",
       "106760  2011-04-04T00:00:00.000             0  \n",
       "106882  2011-04-04T00:00:00.000             0  "
      ],
      "text/html": "<div>\n<style scoped>\n    .dataframe tbody tr th:only-of-type {\n        vertical-align: middle;\n    }\n\n    .dataframe tbody tr th {\n        vertical-align: top;\n    }\n\n    .dataframe thead th {\n        text-align: right;\n    }\n</style>\n<table border=\"1\" class=\"dataframe\">\n  <thead>\n    <tr style=\"text-align: right;\">\n      <th></th>\n      <th>inspection_id_orig</th>\n      <th>inspection_date_orig</th>\n      <th>inspection_id_re</th>\n      <th>inspection_date_re</th>\n      <th>time_between</th>\n    </tr>\n  </thead>\n  <tbody>\n    <tr>\n      <th>2042</th>\n      <td>1966455</td>\n      <td>2016-10-14T00:00:00.000</td>\n      <td>1970656</td>\n      <td>2016-11-01T00:00:00.000</td>\n      <td>-18</td>\n    </tr>\n    <tr>\n      <th>8664</th>\n      <td>519218</td>\n      <td>2011-07-26T00:00:00.000</td>\n      <td>517448</td>\n      <td>2011-08-02T00:00:00.000</td>\n      <td>-7</td>\n    </tr>\n    <tr>\n      <th>46092</th>\n      <td>1760212</td>\n      <td>2016-05-19T00:00:00.000</td>\n      <td>1931711</td>\n      <td>2016-05-26T00:00:00.000</td>\n      <td>-7</td>\n    </tr>\n    <tr>\n      <th>50681</th>\n      <td>1965764</td>\n      <td>2016-09-30T00:00:00.000</td>\n      <td>1965767</td>\n      <td>2016-10-03T00:00:00.000</td>\n      <td>-3</td>\n    </tr>\n    <tr>\n      <th>83223</th>\n      <td>88599</td>\n      <td>2010-11-19T00:00:00.000</td>\n      <td>88604</td>\n      <td>2010-11-23T00:00:00.000</td>\n      <td>-4</td>\n    </tr>\n    <tr>\n      <th>87753</th>\n      <td>580616</td>\n      <td>2011-04-27T00:00:00.000</td>\n      <td>580732</td>\n      <td>2011-05-04T00:00:00.000</td>\n      <td>-7</td>\n    </tr>\n    <tr>\n      <th>89965</th>\n      <td>1516051</td>\n      <td>2015-01-16T00:00:00.000</td>\n      <td>1516204</td>\n      <td>2015-01-23T00:00:00.000</td>\n      <td>-7</td>\n    </tr>\n    <tr>\n      <th>94596</th>\n      <td>1493729</td>\n      <td>2014-08-13T00:00:00.000</td>\n      <td>1441491</td>\n      <td>2014-08-21T00:00:00.000</td>\n      <td>-8</td>\n    </tr>\n    <tr>\n      <th>104666</th>\n      <td>80288</td>\n      <td>2010-05-03T00:00:00.000</td>\n      <td>80327</td>\n      <td>2010-06-17T00:00:00.000</td>\n      <td>-45</td>\n    </tr>\n    <tr>\n      <th>106750</th>\n      <td>580192</td>\n      <td>2011-04-04T00:00:00.000</td>\n      <td>580179</td>\n      <td>2011-04-04T00:00:00.000</td>\n      <td>0</td>\n    </tr>\n    <tr>\n      <th>106752</th>\n      <td>580192</td>\n      <td>2011-04-04T00:00:00.000</td>\n      <td>580186</td>\n      <td>2011-04-04T00:00:00.000</td>\n      <td>0</td>\n    </tr>\n    <tr>\n      <th>106753</th>\n      <td>580192</td>\n      <td>2011-04-04T00:00:00.000</td>\n      <td>580169</td>\n      <td>2011-04-04T00:00:00.000</td>\n      <td>0</td>\n    </tr>\n    <tr>\n      <th>106754</th>\n      <td>580192</td>\n      <td>2011-04-04T00:00:00.000</td>\n      <td>580167</td>\n      <td>2011-04-04T00:00:00.000</td>\n      <td>0</td>\n    </tr>\n    <tr>\n      <th>106755</th>\n      <td>580192</td>\n      <td>2011-04-04T00:00:00.000</td>\n      <td>580172</td>\n      <td>2011-04-04T00:00:00.000</td>\n      <td>0</td>\n    </tr>\n    <tr>\n      <th>106756</th>\n      <td>580192</td>\n      <td>2011-04-04T00:00:00.000</td>\n      <td>580176</td>\n      <td>2011-04-04T00:00:00.000</td>\n      <td>0</td>\n    </tr>\n    <tr>\n      <th>106757</th>\n      <td>580192</td>\n      <td>2011-04-04T00:00:00.000</td>\n      <td>580185</td>\n      <td>2011-04-04T00:00:00.000</td>\n      <td>0</td>\n    </tr>\n    <tr>\n      <th>106758</th>\n      <td>580192</td>\n      <td>2011-04-04T00:00:00.000</td>\n      <td>580234</td>\n      <td>2011-04-04T00:00:00.000</td>\n      <td>0</td>\n    </tr>\n    <tr>\n      <th>106759</th>\n      <td>580192</td>\n      <td>2011-04-04T00:00:00.000</td>\n      <td>580181</td>\n      <td>2011-04-04T00:00:00.000</td>\n      <td>0</td>\n    </tr>\n    <tr>\n      <th>106760</th>\n      <td>580192</td>\n      <td>2011-04-04T00:00:00.000</td>\n      <td>580188</td>\n      <td>2011-04-04T00:00:00.000</td>\n      <td>0</td>\n    </tr>\n    <tr>\n      <th>106882</th>\n      <td>580191</td>\n      <td>2011-04-04T00:00:00.000</td>\n      <td>580179</td>\n      <td>2011-04-04T00:00:00.000</td>\n      <td>0</td>\n    </tr>\n  </tbody>\n</table>\n</div>"
     },
     "metadata": {},
     "execution_count": 17
    }
   ],
   "source": [
    "duplicates2 = grped_clean[grped_clean.duplicated('inspection_id_re')]\n",
    "print(duplicates2.shape)\n",
    "duplicates2[['inspection_id_orig', 'inspection_date_orig', 'inspection_id_re', 'inspection_date_re', 'time_between']].head(20)"
   ]
  },
  {
   "cell_type": "code",
   "execution_count": 18,
   "metadata": {},
   "outputs": [
    {
     "output_type": "execute_result",
     "data": {
      "text/plain": [
       "(40187, 34)"
      ]
     },
     "metadata": {},
     "execution_count": 18
    }
   ],
   "source": [
    "#Dropping anything that's been duplicated. This only drops 69 rows. \n",
    "grped_no_duplicates = grped_clean.drop_duplicates(subset='inspection_id_re')\n",
    "grped_no_duplicates = grped_no_duplicates.drop_duplicates(subset='inspection_id_orig')\n",
    "grped_no_duplicates.shape"
   ]
  },
  {
   "cell_type": "code",
   "execution_count": 19,
   "metadata": {},
   "outputs": [
    {
     "output_type": "execute_result",
     "data": {
      "text/plain": [
       "count    40187.000000\n",
       "mean       -11.147685\n",
       "std         21.085523\n",
       "min      -1121.000000\n",
       "25%        -10.000000\n",
       "50%         -7.000000\n",
       "75%         -7.000000\n",
       "max          0.000000\n",
       "Name: time_between, dtype: float64"
      ]
     },
     "metadata": {},
     "execution_count": 19
    }
   ],
   "source": [
    "grped_no_duplicates['time_between'].describe()"
   ]
  },
  {
   "cell_type": "code",
   "execution_count": 20,
   "metadata": {},
   "outputs": [
    {
     "output_type": "execute_result",
     "data": {
      "text/plain": [
       "                    inspection_id_orig  dba_name  aka_name_orig  license_  \\\n",
       "results_re                                                                  \n",
       "Fail                              3512      3512           3433      3511   \n",
       "No Entry                           340       340            335       340   \n",
       "Not Ready                           36        36             36        36   \n",
       "Out of Business                     81        81             81        81   \n",
       "Pass                             31026     31026          30688     31025   \n",
       "Pass w/ Conditions                5192      5192           5172      5192   \n",
       "\n",
       "                    facility_type_orig  risk_orig  address  city_orig  \\\n",
       "results_re                                                              \n",
       "Fail                              3509       3512     3512       3507   \n",
       "No Entry                           340        340      340        340   \n",
       "Not Ready                           36         36       36         36   \n",
       "Out of Business                     80         81       81         81   \n",
       "Pass                             31007      31026    31026      30998   \n",
       "Pass w/ Conditions                5188       5192     5192       5190   \n",
       "\n",
       "                    state_orig  zip_orig  ...  state_re  zip_re  \\\n",
       "results_re                                ...                     \n",
       "Fail                      3512      3511  ...      3512    3511   \n",
       "No Entry                   340       340  ...       340     340   \n",
       "Not Ready                   36        36  ...        36      36   \n",
       "Out of Business             81        81  ...        81      81   \n",
       "Pass                     31019     31020  ...     31019   31020   \n",
       "Pass w/ Conditions        5190      5191  ...      5190    5191   \n",
       "\n",
       "                    inspection_date_re  inspection_type_re  location_re  \\\n",
       "results_re                                                                \n",
       "Fail                              3512                3512         3495   \n",
       "No Entry                           340                 340          339   \n",
       "Not Ready                           36                  36           36   \n",
       "Out of Business                     81                  81           81   \n",
       "Pass                             31026               31026        30925   \n",
       "Pass w/ Conditions                5192                5192         5177   \n",
       "\n",
       "                    violations_re  inspection_type_clean_re  date_orig  \\\n",
       "results_re                                                               \n",
       "Fail                         3434                      3512       3512   \n",
       "No Entry                      259                       340        340   \n",
       "Not Ready                      27                        36         36   \n",
       "Out of Business                14                        81         81   \n",
       "Pass                        17802                     31026      31026   \n",
       "Pass w/ Conditions           5056                      5192       5192   \n",
       "\n",
       "                    date_re  time_between  \n",
       "results_re                                 \n",
       "Fail                   3512          3512  \n",
       "No Entry                340           340  \n",
       "Not Ready                36            36  \n",
       "Out of Business          81            81  \n",
       "Pass                  31026         31026  \n",
       "Pass w/ Conditions     5192          5192  \n",
       "\n",
       "[6 rows x 33 columns]"
      ],
      "text/html": "<div>\n<style scoped>\n    .dataframe tbody tr th:only-of-type {\n        vertical-align: middle;\n    }\n\n    .dataframe tbody tr th {\n        vertical-align: top;\n    }\n\n    .dataframe thead th {\n        text-align: right;\n    }\n</style>\n<table border=\"1\" class=\"dataframe\">\n  <thead>\n    <tr style=\"text-align: right;\">\n      <th></th>\n      <th>inspection_id_orig</th>\n      <th>dba_name</th>\n      <th>aka_name_orig</th>\n      <th>license_</th>\n      <th>facility_type_orig</th>\n      <th>risk_orig</th>\n      <th>address</th>\n      <th>city_orig</th>\n      <th>state_orig</th>\n      <th>zip_orig</th>\n      <th>...</th>\n      <th>state_re</th>\n      <th>zip_re</th>\n      <th>inspection_date_re</th>\n      <th>inspection_type_re</th>\n      <th>location_re</th>\n      <th>violations_re</th>\n      <th>inspection_type_clean_re</th>\n      <th>date_orig</th>\n      <th>date_re</th>\n      <th>time_between</th>\n    </tr>\n    <tr>\n      <th>results_re</th>\n      <th></th>\n      <th></th>\n      <th></th>\n      <th></th>\n      <th></th>\n      <th></th>\n      <th></th>\n      <th></th>\n      <th></th>\n      <th></th>\n      <th></th>\n      <th></th>\n      <th></th>\n      <th></th>\n      <th></th>\n      <th></th>\n      <th></th>\n      <th></th>\n      <th></th>\n      <th></th>\n      <th></th>\n    </tr>\n  </thead>\n  <tbody>\n    <tr>\n      <th>Fail</th>\n      <td>3512</td>\n      <td>3512</td>\n      <td>3433</td>\n      <td>3511</td>\n      <td>3509</td>\n      <td>3512</td>\n      <td>3512</td>\n      <td>3507</td>\n      <td>3512</td>\n      <td>3511</td>\n      <td>...</td>\n      <td>3512</td>\n      <td>3511</td>\n      <td>3512</td>\n      <td>3512</td>\n      <td>3495</td>\n      <td>3434</td>\n      <td>3512</td>\n      <td>3512</td>\n      <td>3512</td>\n      <td>3512</td>\n    </tr>\n    <tr>\n      <th>No Entry</th>\n      <td>340</td>\n      <td>340</td>\n      <td>335</td>\n      <td>340</td>\n      <td>340</td>\n      <td>340</td>\n      <td>340</td>\n      <td>340</td>\n      <td>340</td>\n      <td>340</td>\n      <td>...</td>\n      <td>340</td>\n      <td>340</td>\n      <td>340</td>\n      <td>340</td>\n      <td>339</td>\n      <td>259</td>\n      <td>340</td>\n      <td>340</td>\n      <td>340</td>\n      <td>340</td>\n    </tr>\n    <tr>\n      <th>Not Ready</th>\n      <td>36</td>\n      <td>36</td>\n      <td>36</td>\n      <td>36</td>\n      <td>36</td>\n      <td>36</td>\n      <td>36</td>\n      <td>36</td>\n      <td>36</td>\n      <td>36</td>\n      <td>...</td>\n      <td>36</td>\n      <td>36</td>\n      <td>36</td>\n      <td>36</td>\n      <td>36</td>\n      <td>27</td>\n      <td>36</td>\n      <td>36</td>\n      <td>36</td>\n      <td>36</td>\n    </tr>\n    <tr>\n      <th>Out of Business</th>\n      <td>81</td>\n      <td>81</td>\n      <td>81</td>\n      <td>81</td>\n      <td>80</td>\n      <td>81</td>\n      <td>81</td>\n      <td>81</td>\n      <td>81</td>\n      <td>81</td>\n      <td>...</td>\n      <td>81</td>\n      <td>81</td>\n      <td>81</td>\n      <td>81</td>\n      <td>81</td>\n      <td>14</td>\n      <td>81</td>\n      <td>81</td>\n      <td>81</td>\n      <td>81</td>\n    </tr>\n    <tr>\n      <th>Pass</th>\n      <td>31026</td>\n      <td>31026</td>\n      <td>30688</td>\n      <td>31025</td>\n      <td>31007</td>\n      <td>31026</td>\n      <td>31026</td>\n      <td>30998</td>\n      <td>31019</td>\n      <td>31020</td>\n      <td>...</td>\n      <td>31019</td>\n      <td>31020</td>\n      <td>31026</td>\n      <td>31026</td>\n      <td>30925</td>\n      <td>17802</td>\n      <td>31026</td>\n      <td>31026</td>\n      <td>31026</td>\n      <td>31026</td>\n    </tr>\n    <tr>\n      <th>Pass w/ Conditions</th>\n      <td>5192</td>\n      <td>5192</td>\n      <td>5172</td>\n      <td>5192</td>\n      <td>5188</td>\n      <td>5192</td>\n      <td>5192</td>\n      <td>5190</td>\n      <td>5190</td>\n      <td>5191</td>\n      <td>...</td>\n      <td>5190</td>\n      <td>5191</td>\n      <td>5192</td>\n      <td>5192</td>\n      <td>5177</td>\n      <td>5056</td>\n      <td>5192</td>\n      <td>5192</td>\n      <td>5192</td>\n      <td>5192</td>\n    </tr>\n  </tbody>\n</table>\n<p>6 rows × 33 columns</p>\n</div>"
     },
     "metadata": {},
     "execution_count": 20
    }
   ],
   "source": [
    "grped_no_duplicates.groupby('results_re').count()"
   ]
  },
  {
   "cell_type": "code",
   "execution_count": 21,
   "metadata": {},
   "outputs": [
    {
     "output_type": "execute_result",
     "data": {
      "text/plain": [
       "count    39730.000000\n",
       "mean       -11.013869\n",
       "std         20.032972\n",
       "min       -685.000000\n",
       "25%        -10.000000\n",
       "50%         -7.000000\n",
       "75%         -7.000000\n",
       "max          0.000000\n",
       "Name: time_between, dtype: float64"
      ]
     },
     "metadata": {},
     "execution_count": 21
    }
   ],
   "source": [
    "grped2 = grped_no_duplicates[(grped_no_duplicates['results_re'] == 'Fail') | (grped_no_duplicates['results_re'] == 'Pass') | (grped_no_duplicates['results_re'] == 'Pass w/ Conditions') ]\n",
    "grped2['time_between'].describe()"
   ]
  },
  {
   "cell_type": "code",
   "execution_count": 22,
   "metadata": {},
   "outputs": [],
   "source": [
    "final_grped = grped2[grped2['time_between'] >= -150]"
   ]
  },
  {
   "cell_type": "code",
   "execution_count": 23,
   "metadata": {},
   "outputs": [
    {
     "output_type": "execute_result",
     "data": {
      "text/plain": [
       "Index(['inspection_id_orig', 'dba_name', 'aka_name_orig', 'license_',\n",
       "       'facility_type_orig', 'risk_orig', 'address', 'city_orig', 'state_orig',\n",
       "       'zip_orig', 'inspection_date_orig', 'inspection_type_orig',\n",
       "       'results_orig', 'latitude', 'longitude', 'location_orig',\n",
       "       'violations_orig', 'inspection_type_clean_orig', 'inspection_id_re',\n",
       "       'aka_name_re', 'facility_type_re', 'risk_re', 'city_re', 'state_re',\n",
       "       'zip_re', 'inspection_date_re', 'inspection_type_re', 'results_re',\n",
       "       'location_re', 'violations_re', 'inspection_type_clean_re', 'date_orig',\n",
       "       'date_re', 'time_between'],\n",
       "      dtype='object')"
      ]
     },
     "metadata": {},
     "execution_count": 23
    }
   ],
   "source": [
    "final_grped.columns"
   ]
  },
  {
   "cell_type": "code",
   "execution_count": 24,
   "metadata": {},
   "outputs": [],
   "source": [
    "final_df = final_grped[['inspection_id_orig', 'dba_name', 'license_', \n",
    "                        'facility_type_orig', 'date_orig', 'inspection_type_orig',\n",
    "                        'results_orig', 'violations_orig', 'inspection_id_re',\n",
    "                        'date_re', 'results_re', 'time_between']]\n",
    "final_df = final_df.rename({'inspection_id_orig': 'id_orig', 'dba_name': 'name', 'license_': 'license', \n",
    "                        'facility_type_orig': 'facility_type', 'inspection_id_re': 'id_re'}, axis=1)"
   ]
  },
  {
   "cell_type": "code",
   "execution_count": 25,
   "metadata": {},
   "outputs": [
    {
     "output_type": "stream",
     "name": "stdout",
     "text": [
      "(39570, 12)\n"
     ]
    },
    {
     "output_type": "execute_result",
     "data": {
      "text/plain": [
       "    id_orig           name  license facility_type  date_orig  \\\n",
       "16   577275        ROYALTY  1306130    Restaurant 2011-04-18   \n",
       "28  2200477        HWA WON  2341742    Restaurant 2018-08-02   \n",
       "43  1506367        HWA WON  2341742    Restaurant 2015-02-17   \n",
       "53  2320554  SUBWAY #44541  1963876    Restaurant 2019-10-28   \n",
       "57  2176834  SUBWAY #44541  1963876    Restaurant 2018-06-06   \n",
       "\n",
       "   inspection_type_orig results_orig  \\\n",
       "16              Canvass         Fail   \n",
       "28              Canvass         Fail   \n",
       "43              License         Fail   \n",
       "53              Canvass         Fail   \n",
       "57              Canvass         Fail   \n",
       "\n",
       "                                      violations_orig    id_re    date_re  \\\n",
       "16  18. NO EVIDENCE OF RODENT OR INSECT OUTER OPEN...   577343 2011-05-24   \n",
       "28  3. MANAGEMENT, FOOD EMPLOYEE AND CONDITIONAL E...  2200718 2018-08-10   \n",
       "43  10. SEWAGE AND WASTE WATER DISPOSAL, NO BACK S...  1506378 2015-02-24   \n",
       "53  5. PROCEDURES FOR RESPONDING TO VOMITING AND D...  2321003 2019-11-05   \n",
       "57  19. OUTSIDE GARBAGE WASTE GREASE AND STORAGE A...  2181359 2018-06-14   \n",
       "\n",
       "            results_re  time_between  \n",
       "16                Pass           -36  \n",
       "28  Pass w/ Conditions            -8  \n",
       "43                Pass            -7  \n",
       "53                Pass            -8  \n",
       "57                Pass            -8  "
      ],
      "text/html": "<div>\n<style scoped>\n    .dataframe tbody tr th:only-of-type {\n        vertical-align: middle;\n    }\n\n    .dataframe tbody tr th {\n        vertical-align: top;\n    }\n\n    .dataframe thead th {\n        text-align: right;\n    }\n</style>\n<table border=\"1\" class=\"dataframe\">\n  <thead>\n    <tr style=\"text-align: right;\">\n      <th></th>\n      <th>id_orig</th>\n      <th>name</th>\n      <th>license</th>\n      <th>facility_type</th>\n      <th>date_orig</th>\n      <th>inspection_type_orig</th>\n      <th>results_orig</th>\n      <th>violations_orig</th>\n      <th>id_re</th>\n      <th>date_re</th>\n      <th>results_re</th>\n      <th>time_between</th>\n    </tr>\n  </thead>\n  <tbody>\n    <tr>\n      <th>16</th>\n      <td>577275</td>\n      <td>ROYALTY</td>\n      <td>1306130</td>\n      <td>Restaurant</td>\n      <td>2011-04-18</td>\n      <td>Canvass</td>\n      <td>Fail</td>\n      <td>18. NO EVIDENCE OF RODENT OR INSECT OUTER OPEN...</td>\n      <td>577343</td>\n      <td>2011-05-24</td>\n      <td>Pass</td>\n      <td>-36</td>\n    </tr>\n    <tr>\n      <th>28</th>\n      <td>2200477</td>\n      <td>HWA WON</td>\n      <td>2341742</td>\n      <td>Restaurant</td>\n      <td>2018-08-02</td>\n      <td>Canvass</td>\n      <td>Fail</td>\n      <td>3. MANAGEMENT, FOOD EMPLOYEE AND CONDITIONAL E...</td>\n      <td>2200718</td>\n      <td>2018-08-10</td>\n      <td>Pass w/ Conditions</td>\n      <td>-8</td>\n    </tr>\n    <tr>\n      <th>43</th>\n      <td>1506367</td>\n      <td>HWA WON</td>\n      <td>2341742</td>\n      <td>Restaurant</td>\n      <td>2015-02-17</td>\n      <td>License</td>\n      <td>Fail</td>\n      <td>10. SEWAGE AND WASTE WATER DISPOSAL, NO BACK S...</td>\n      <td>1506378</td>\n      <td>2015-02-24</td>\n      <td>Pass</td>\n      <td>-7</td>\n    </tr>\n    <tr>\n      <th>53</th>\n      <td>2320554</td>\n      <td>SUBWAY #44541</td>\n      <td>1963876</td>\n      <td>Restaurant</td>\n      <td>2019-10-28</td>\n      <td>Canvass</td>\n      <td>Fail</td>\n      <td>5. PROCEDURES FOR RESPONDING TO VOMITING AND D...</td>\n      <td>2321003</td>\n      <td>2019-11-05</td>\n      <td>Pass</td>\n      <td>-8</td>\n    </tr>\n    <tr>\n      <th>57</th>\n      <td>2176834</td>\n      <td>SUBWAY #44541</td>\n      <td>1963876</td>\n      <td>Restaurant</td>\n      <td>2018-06-06</td>\n      <td>Canvass</td>\n      <td>Fail</td>\n      <td>19. OUTSIDE GARBAGE WASTE GREASE AND STORAGE A...</td>\n      <td>2181359</td>\n      <td>2018-06-14</td>\n      <td>Pass</td>\n      <td>-8</td>\n    </tr>\n  </tbody>\n</table>\n</div>"
     },
     "metadata": {},
     "execution_count": 25
    }
   ],
   "source": [
    "print(final_df.shape)\n",
    "final_df.head()"
   ]
  },
  {
   "cell_type": "code",
   "execution_count": 26,
   "metadata": {},
   "outputs": [],
   "source": [
    "#Drop conditions:\n",
    "#repeat re-inspection ID or original inspection ID (may investigate further, but not a big impact)\n",
    "#original outcome of pass, no entry, or not ready\n",
    "#more than 150 days between original and reinspection\n",
    "#went from 41,455 rows to 39,570\n",
    "\n",
    "#save to pickle\n",
    "final_df.to_pickle(\"initial_clean.pkl\")"
   ]
  },
  {
   "cell_type": "code",
   "execution_count": null,
   "metadata": {},
   "outputs": [],
   "source": []
  }
 ]
}