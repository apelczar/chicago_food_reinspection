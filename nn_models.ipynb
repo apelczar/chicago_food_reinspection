{
  "nbformat": 4,
  "nbformat_minor": 0,
  "metadata": {
    "kernelspec": {
      "name": "python385jvsc74a57bd0ba539312d09a2ffa8c7e90eb1ed4fb57b0b5103be99f6c8fe3af2b5222ff8312",
      "display_name": "Python 3.8.5 64-bit ('base': conda)"
    },
    "language_info": {
      "codemirror_mode": {
        "name": "ipython",
        "version": 3
      },
      "file_extension": ".py",
      "mimetype": "text/x-python",
      "name": "python",
      "nbconvert_exporter": "python",
      "pygments_lexer": "ipython3",
      "version": "3.8.5"
    },
    "colab": {
      "name": "feature_eng_nn.ipynb",
      "provenance": []
    },
    "accelerator": "GPU"
  },
  "cells": [
    {
      "cell_type": "code",
      "metadata": {
        "id": "cxv2XSVJFLDb"
      },
      "source": [
        "import pandas as pd\n",
        "import numpy as np\n",
        "\n",
        "import torch\n",
        "from torchtext.data.utils import get_tokenizer\n",
        "from torchtext.vocab import Vocab\n",
        "from torchtext.vocab import GloVe\n",
        "\n",
        "from collections import Counter\n",
        "\n",
        "from sklearn.model_selection import train_test_split\n",
        "from sklearn.utils import resample"
      ],
      "execution_count": null,
      "outputs": []
    },
    {
      "cell_type": "code",
      "metadata": {
        "colab": {
          "base_uri": "https://localhost:8080/"
        },
        "id": "Zm6fJMdEFPQN",
        "outputId": "69a53327-4093-4ddc-a642-614eda55edca"
      },
      "source": [
        "USE_CUDA = torch.cuda.is_available()\n",
        "\n",
        "if USE_CUDA:\n",
        "    DEVICE = torch.device('cuda')\n",
        "    print(\"Using cuda.\")\n",
        "else:\n",
        "    DEVICE = torch.device('cpu')\n",
        "    print(\"Using cpu.\")\n",
        "\n",
        "\n",
        "COLAB = True\n",
        "if COLAB:\n",
        "    from google.colab import drive \n",
        "    drive.mount('/content/gdrive')\n",
        "    PATH = \"gdrive/My Drive/advancedml_hw4_data/\"\n",
        "else:\n",
        "    PATH = \"C:/Users/alipe/Desktop/Advanced ML\"\n",
        "    "
      ],
      "execution_count": null,
      "outputs": [
        {
          "output_type": "stream",
          "text": [
            "Using cuda.\n",
            "Mounted at /content/gdrive\n"
          ],
          "name": "stdout"
        }
      ]
    },
    {
      "cell_type": "code",
      "metadata": {
        "colab": {
          "base_uri": "https://localhost:8080/"
        },
        "id": "dglKTwgFG2i1",
        "outputId": "a733e2ab-c4c1-4f94-d31a-7051db55c873"
      },
      "source": [
        "pip install pickle5"
      ],
      "execution_count": null,
      "outputs": [
        {
          "output_type": "stream",
          "text": [
            "Collecting pickle5\n",
            "\u001b[?25l  Downloading https://files.pythonhosted.org/packages/f7/4c/5c4dd0462c8d3a6bc4af500a6af240763c2ebd1efdc736fc2c946d44b70a/pickle5-0.0.11.tar.gz (132kB)\n",
            "\r\u001b[K     |██▌                             | 10kB 20.5MB/s eta 0:00:01\r\u001b[K     |█████                           | 20kB 18.3MB/s eta 0:00:01\r\u001b[K     |███████▍                        | 30kB 15.4MB/s eta 0:00:01\r\u001b[K     |██████████                      | 40kB 14.2MB/s eta 0:00:01\r\u001b[K     |████████████▍                   | 51kB 8.6MB/s eta 0:00:01\r\u001b[K     |██████████████▉                 | 61kB 10.1MB/s eta 0:00:01\r\u001b[K     |█████████████████▍              | 71kB 9.4MB/s eta 0:00:01\r\u001b[K     |███████████████████▉            | 81kB 10.4MB/s eta 0:00:01\r\u001b[K     |██████████████████████▎         | 92kB 9.8MB/s eta 0:00:01\r\u001b[K     |████████████████████████▉       | 102kB 8.3MB/s eta 0:00:01\r\u001b[K     |███████████████████████████▎    | 112kB 8.3MB/s eta 0:00:01\r\u001b[K     |█████████████████████████████▊  | 122kB 8.3MB/s eta 0:00:01\r\u001b[K     |████████████████████████████████| 133kB 8.3MB/s \n",
            "\u001b[?25hBuilding wheels for collected packages: pickle5\n",
            "  Building wheel for pickle5 (setup.py) ... \u001b[?25l\u001b[?25hdone\n",
            "  Created wheel for pickle5: filename=pickle5-0.0.11-cp37-cp37m-linux_x86_64.whl size=219242 sha256=00e2f7e2d62c566c06f943193238fe0b36c573aaeaaeea529ac5d9d5586d509e\n",
            "  Stored in directory: /root/.cache/pip/wheels/a6/90/95/f889ca4aa8b0e0c7f21c8470b6f5d6032f0390a3a141a9a3bd\n",
            "Successfully built pickle5\n",
            "Installing collected packages: pickle5\n",
            "Successfully installed pickle5-0.0.11\n"
          ],
          "name": "stdout"
        }
      ]
    },
    {
      "cell_type": "code",
      "metadata": {
        "id": "QkE4O6uHFLDi"
      },
      "source": [
        "import pickle5 as pickle\n",
        "with open(PATH + \"initial_clean.pkl\", \"rb\") as fh:\n",
        "  df = pickle.load(fh)"
      ],
      "execution_count": null,
      "outputs": []
    },
    {
      "cell_type": "code",
      "metadata": {
        "colab": {
          "base_uri": "https://localhost:8080/",
          "height": 564
        },
        "id": "YBINBhQMFLDj",
        "outputId": "9f58ec36-b855-4e77-9c4b-037ec2055a29"
      },
      "source": [
        "df = df[df['violations_orig'].notna()]\n",
        "df.head()"
      ],
      "execution_count": null,
      "outputs": [
        {
          "output_type": "execute_result",
          "data": {
            "text/html": [
              "<div>\n",
              "<style scoped>\n",
              "    .dataframe tbody tr th:only-of-type {\n",
              "        vertical-align: middle;\n",
              "    }\n",
              "\n",
              "    .dataframe tbody tr th {\n",
              "        vertical-align: top;\n",
              "    }\n",
              "\n",
              "    .dataframe thead th {\n",
              "        text-align: right;\n",
              "    }\n",
              "</style>\n",
              "<table border=\"1\" class=\"dataframe\">\n",
              "  <thead>\n",
              "    <tr style=\"text-align: right;\">\n",
              "      <th></th>\n",
              "      <th>id_orig</th>\n",
              "      <th>name</th>\n",
              "      <th>license</th>\n",
              "      <th>facility_type</th>\n",
              "      <th>date_orig</th>\n",
              "      <th>inspection_type_orig</th>\n",
              "      <th>results_orig</th>\n",
              "      <th>violations_orig</th>\n",
              "      <th>id_re</th>\n",
              "      <th>date_re</th>\n",
              "      <th>results_re</th>\n",
              "      <th>time_between</th>\n",
              "    </tr>\n",
              "  </thead>\n",
              "  <tbody>\n",
              "    <tr>\n",
              "      <th>16</th>\n",
              "      <td>577275</td>\n",
              "      <td>ROYALTY</td>\n",
              "      <td>1306130</td>\n",
              "      <td>Restaurant</td>\n",
              "      <td>2011-04-18</td>\n",
              "      <td>Canvass</td>\n",
              "      <td>Fail</td>\n",
              "      <td>18. NO EVIDENCE OF RODENT OR INSECT OUTER OPEN...</td>\n",
              "      <td>577343</td>\n",
              "      <td>2011-05-24</td>\n",
              "      <td>Pass</td>\n",
              "      <td>-36</td>\n",
              "    </tr>\n",
              "    <tr>\n",
              "      <th>38</th>\n",
              "      <td>1345428</td>\n",
              "      <td>PRET A MANGER</td>\n",
              "      <td>2138418</td>\n",
              "      <td>Restaurant</td>\n",
              "      <td>2013-08-06</td>\n",
              "      <td>Canvass</td>\n",
              "      <td>Fail</td>\n",
              "      <td>18. NO EVIDENCE OF RODENT OR INSECT OUTER OPEN...</td>\n",
              "      <td>1345448</td>\n",
              "      <td>2013-08-13</td>\n",
              "      <td>Pass</td>\n",
              "      <td>-7</td>\n",
              "    </tr>\n",
              "    <tr>\n",
              "      <th>43</th>\n",
              "      <td>1114379</td>\n",
              "      <td>PRET A MANGER</td>\n",
              "      <td>2138418</td>\n",
              "      <td>Restaurant</td>\n",
              "      <td>2012-07-23</td>\n",
              "      <td>Complaint</td>\n",
              "      <td>Fail</td>\n",
              "      <td>18. NO EVIDENCE OF RODENT OR INSECT OUTER OPEN...</td>\n",
              "      <td>1114384</td>\n",
              "      <td>2012-07-31</td>\n",
              "      <td>Pass</td>\n",
              "      <td>-8</td>\n",
              "    </tr>\n",
              "    <tr>\n",
              "      <th>65</th>\n",
              "      <td>343293</td>\n",
              "      <td>CHIPOTLE MEXICAN GRILL</td>\n",
              "      <td>1379435</td>\n",
              "      <td>Restaurant</td>\n",
              "      <td>2010-08-17</td>\n",
              "      <td>Canvass</td>\n",
              "      <td>Fail</td>\n",
              "      <td>18. NO EVIDENCE OF RODENT OR INSECT OUTER OPEN...</td>\n",
              "      <td>343310</td>\n",
              "      <td>2010-08-26</td>\n",
              "      <td>Pass</td>\n",
              "      <td>-9</td>\n",
              "    </tr>\n",
              "    <tr>\n",
              "      <th>72</th>\n",
              "      <td>2484973</td>\n",
              "      <td>HILLTOP FAMILY RESTAURANT</td>\n",
              "      <td>2652370</td>\n",
              "      <td>Restaurant</td>\n",
              "      <td>2021-02-19</td>\n",
              "      <td>Canvass Re-Inspection</td>\n",
              "      <td>Fail</td>\n",
              "      <td>44. UTENSILS, EQUIPMENT &amp; LINENS: PROPERLY STO...</td>\n",
              "      <td>2485081</td>\n",
              "      <td>2021-02-23</td>\n",
              "      <td>Pass w/ Conditions</td>\n",
              "      <td>-4</td>\n",
              "    </tr>\n",
              "  </tbody>\n",
              "</table>\n",
              "</div>"
            ],
            "text/plain": [
              "    id_orig                       name  ...          results_re time_between\n",
              "16   577275                    ROYALTY  ...                Pass          -36\n",
              "38  1345428              PRET A MANGER  ...                Pass           -7\n",
              "43  1114379              PRET A MANGER  ...                Pass           -8\n",
              "65   343293     CHIPOTLE MEXICAN GRILL  ...                Pass           -9\n",
              "72  2484973  HILLTOP FAMILY RESTAURANT  ...  Pass w/ Conditions           -4\n",
              "\n",
              "[5 rows x 12 columns]"
            ]
          },
          "metadata": {
            "tags": []
          },
          "execution_count": 5
        }
      ]
    },
    {
      "cell_type": "code",
      "metadata": {
        "id": "lmVdpSTAFLDj"
      },
      "source": [
        "# Change 'Pass w/ Conditions' to 'Pass', and change target to 0/1 numeric\n",
        "results_dict = {'Pass': 0, 'Fail': 1}\n",
        "df['results_re'] = df['results_re'].str.replace('Pass w/ Conditions', 'Pass')\n",
        "df['results_re'] = df['results_re'].apply(lambda x: results_dict[x])"
      ],
      "execution_count": null,
      "outputs": []
    },
    {
      "cell_type": "markdown",
      "metadata": {
        "id": "b3XL-SC1FLDk"
      },
      "source": [
        "### Split data into feature & target, and then into train and test sets"
      ]
    },
    {
      "cell_type": "code",
      "metadata": {
        "id": "4Po7tGWxFLDk"
      },
      "source": [
        "# Sort dataframe by inspection date\n",
        "# Training set will include initial 80% of inspections\n",
        "sorted_df = df.sort_values(by=['date_orig'])"
      ],
      "execution_count": null,
      "outputs": []
    },
    {
      "cell_type": "code",
      "metadata": {
        "colab": {
          "base_uri": "https://localhost:8080/",
          "height": 564
        },
        "id": "2KyniKv3FLDk",
        "outputId": "570bf771-4052-47c0-baad-9d217dd1f0fd"
      },
      "source": [
        "sorted_df.head()"
      ],
      "execution_count": null,
      "outputs": [
        {
          "output_type": "execute_result",
          "data": {
            "text/html": [
              "<div>\n",
              "<style scoped>\n",
              "    .dataframe tbody tr th:only-of-type {\n",
              "        vertical-align: middle;\n",
              "    }\n",
              "\n",
              "    .dataframe tbody tr th {\n",
              "        vertical-align: top;\n",
              "    }\n",
              "\n",
              "    .dataframe thead th {\n",
              "        text-align: right;\n",
              "    }\n",
              "</style>\n",
              "<table border=\"1\" class=\"dataframe\">\n",
              "  <thead>\n",
              "    <tr style=\"text-align: right;\">\n",
              "      <th></th>\n",
              "      <th>id_orig</th>\n",
              "      <th>name</th>\n",
              "      <th>license</th>\n",
              "      <th>facility_type</th>\n",
              "      <th>date_orig</th>\n",
              "      <th>inspection_type_orig</th>\n",
              "      <th>results_orig</th>\n",
              "      <th>violations_orig</th>\n",
              "      <th>id_re</th>\n",
              "      <th>date_re</th>\n",
              "      <th>results_re</th>\n",
              "      <th>time_between</th>\n",
              "    </tr>\n",
              "  </thead>\n",
              "  <tbody>\n",
              "    <tr>\n",
              "      <th>494307</th>\n",
              "      <td>67738</td>\n",
              "      <td>MICHAEL'S ON MAIN CAFE</td>\n",
              "      <td>2008948</td>\n",
              "      <td>Restaurant</td>\n",
              "      <td>2010-01-04</td>\n",
              "      <td>License</td>\n",
              "      <td>Fail</td>\n",
              "      <td>18. NO EVIDENCE OF RODENT OR INSECT OUTER OPEN...</td>\n",
              "      <td>124279</td>\n",
              "      <td>2010-01-19</td>\n",
              "      <td>0</td>\n",
              "      <td>-15</td>\n",
              "    </tr>\n",
              "    <tr>\n",
              "      <th>217726</th>\n",
              "      <td>104236</td>\n",
              "      <td>TEMPO CAFE</td>\n",
              "      <td>80916</td>\n",
              "      <td>Restaurant</td>\n",
              "      <td>2010-01-04</td>\n",
              "      <td>Canvass</td>\n",
              "      <td>Fail</td>\n",
              "      <td>18. NO EVIDENCE OF RODENT OR INSECT OUTER OPEN...</td>\n",
              "      <td>104243</td>\n",
              "      <td>2010-01-12</td>\n",
              "      <td>0</td>\n",
              "      <td>-8</td>\n",
              "    </tr>\n",
              "    <tr>\n",
              "      <th>45936</th>\n",
              "      <td>80207</td>\n",
              "      <td>Delhi Darbar Kabob House</td>\n",
              "      <td>2013590</td>\n",
              "      <td>Restaurant</td>\n",
              "      <td>2010-01-05</td>\n",
              "      <td>License</td>\n",
              "      <td>Fail</td>\n",
              "      <td>18. NO EVIDENCE OF RODENT OR INSECT OUTER OPEN...</td>\n",
              "      <td>72235</td>\n",
              "      <td>2010-01-12</td>\n",
              "      <td>0</td>\n",
              "      <td>-7</td>\n",
              "    </tr>\n",
              "    <tr>\n",
              "      <th>489892</th>\n",
              "      <td>98313</td>\n",
              "      <td>WHIPPLE STORE</td>\n",
              "      <td>2009114</td>\n",
              "      <td>Grocery Store</td>\n",
              "      <td>2010-01-05</td>\n",
              "      <td>License</td>\n",
              "      <td>Fail</td>\n",
              "      <td>35. WALLS, CEILINGS, ATTACHED EQUIPMENT CONSTR...</td>\n",
              "      <td>98371</td>\n",
              "      <td>2010-02-05</td>\n",
              "      <td>0</td>\n",
              "      <td>-31</td>\n",
              "    </tr>\n",
              "    <tr>\n",
              "      <th>491644</th>\n",
              "      <td>160209</td>\n",
              "      <td>CHICAGO SINAI CONGREGATION</td>\n",
              "      <td>75567</td>\n",
              "      <td>Daycare (2 - 6 Years)</td>\n",
              "      <td>2010-01-05</td>\n",
              "      <td>License</td>\n",
              "      <td>Fail</td>\n",
              "      <td>32. FOOD AND NON-FOOD CONTACT SURFACES PROPERL...</td>\n",
              "      <td>160331</td>\n",
              "      <td>2010-04-12</td>\n",
              "      <td>0</td>\n",
              "      <td>-97</td>\n",
              "    </tr>\n",
              "  </tbody>\n",
              "</table>\n",
              "</div>"
            ],
            "text/plain": [
              "       id_orig                        name  ... results_re time_between\n",
              "494307   67738      MICHAEL'S ON MAIN CAFE  ...          0          -15\n",
              "217726  104236                  TEMPO CAFE  ...          0           -8\n",
              "45936    80207    Delhi Darbar Kabob House  ...          0           -7\n",
              "489892   98313               WHIPPLE STORE  ...          0          -31\n",
              "491644  160209  CHICAGO SINAI CONGREGATION  ...          0          -97\n",
              "\n",
              "[5 rows x 12 columns]"
            ]
          },
          "metadata": {
            "tags": []
          },
          "execution_count": 8
        }
      ]
    },
    {
      "cell_type": "code",
      "metadata": {
        "id": "JZdqQ-f4FLDl"
      },
      "source": [
        "target_col = ['results_re']\n",
        "target = sorted_df[target_col]\n",
        "\n",
        "cols_to_exclude = ['name', 'id_orig', 'id_re', 'license']\n",
        "feature_cols = [col for col in sorted_df.columns if (col not in cols_to_exclude and col not in target_col)]\n",
        "features = sorted_df[feature_cols]"
      ],
      "execution_count": null,
      "outputs": []
    },
    {
      "cell_type": "code",
      "metadata": {
        "colab": {
          "base_uri": "https://localhost:8080/",
          "height": 204
        },
        "id": "tPLfl11CFLDl",
        "outputId": "e860153f-7449-4ac1-9bae-ef9343cdc023"
      },
      "source": [
        "target.head()"
      ],
      "execution_count": null,
      "outputs": [
        {
          "output_type": "execute_result",
          "data": {
            "text/html": [
              "<div>\n",
              "<style scoped>\n",
              "    .dataframe tbody tr th:only-of-type {\n",
              "        vertical-align: middle;\n",
              "    }\n",
              "\n",
              "    .dataframe tbody tr th {\n",
              "        vertical-align: top;\n",
              "    }\n",
              "\n",
              "    .dataframe thead th {\n",
              "        text-align: right;\n",
              "    }\n",
              "</style>\n",
              "<table border=\"1\" class=\"dataframe\">\n",
              "  <thead>\n",
              "    <tr style=\"text-align: right;\">\n",
              "      <th></th>\n",
              "      <th>results_re</th>\n",
              "    </tr>\n",
              "  </thead>\n",
              "  <tbody>\n",
              "    <tr>\n",
              "      <th>494307</th>\n",
              "      <td>0</td>\n",
              "    </tr>\n",
              "    <tr>\n",
              "      <th>217726</th>\n",
              "      <td>0</td>\n",
              "    </tr>\n",
              "    <tr>\n",
              "      <th>45936</th>\n",
              "      <td>0</td>\n",
              "    </tr>\n",
              "    <tr>\n",
              "      <th>489892</th>\n",
              "      <td>0</td>\n",
              "    </tr>\n",
              "    <tr>\n",
              "      <th>491644</th>\n",
              "      <td>0</td>\n",
              "    </tr>\n",
              "  </tbody>\n",
              "</table>\n",
              "</div>"
            ],
            "text/plain": [
              "        results_re\n",
              "494307           0\n",
              "217726           0\n",
              "45936            0\n",
              "489892           0\n",
              "491644           0"
            ]
          },
          "metadata": {
            "tags": []
          },
          "execution_count": 10
        }
      ]
    },
    {
      "cell_type": "code",
      "metadata": {
        "colab": {
          "base_uri": "https://localhost:8080/",
          "height": 289
        },
        "id": "1Oomxi9KFLDl",
        "outputId": "8f856687-c9da-48fa-af06-4c3230661d55"
      },
      "source": [
        "features.head()"
      ],
      "execution_count": null,
      "outputs": [
        {
          "output_type": "execute_result",
          "data": {
            "text/html": [
              "<div>\n",
              "<style scoped>\n",
              "    .dataframe tbody tr th:only-of-type {\n",
              "        vertical-align: middle;\n",
              "    }\n",
              "\n",
              "    .dataframe tbody tr th {\n",
              "        vertical-align: top;\n",
              "    }\n",
              "\n",
              "    .dataframe thead th {\n",
              "        text-align: right;\n",
              "    }\n",
              "</style>\n",
              "<table border=\"1\" class=\"dataframe\">\n",
              "  <thead>\n",
              "    <tr style=\"text-align: right;\">\n",
              "      <th></th>\n",
              "      <th>facility_type</th>\n",
              "      <th>date_orig</th>\n",
              "      <th>inspection_type_orig</th>\n",
              "      <th>results_orig</th>\n",
              "      <th>violations_orig</th>\n",
              "      <th>date_re</th>\n",
              "      <th>time_between</th>\n",
              "    </tr>\n",
              "  </thead>\n",
              "  <tbody>\n",
              "    <tr>\n",
              "      <th>494307</th>\n",
              "      <td>Restaurant</td>\n",
              "      <td>2010-01-04</td>\n",
              "      <td>License</td>\n",
              "      <td>Fail</td>\n",
              "      <td>18. NO EVIDENCE OF RODENT OR INSECT OUTER OPEN...</td>\n",
              "      <td>2010-01-19</td>\n",
              "      <td>-15</td>\n",
              "    </tr>\n",
              "    <tr>\n",
              "      <th>217726</th>\n",
              "      <td>Restaurant</td>\n",
              "      <td>2010-01-04</td>\n",
              "      <td>Canvass</td>\n",
              "      <td>Fail</td>\n",
              "      <td>18. NO EVIDENCE OF RODENT OR INSECT OUTER OPEN...</td>\n",
              "      <td>2010-01-12</td>\n",
              "      <td>-8</td>\n",
              "    </tr>\n",
              "    <tr>\n",
              "      <th>45936</th>\n",
              "      <td>Restaurant</td>\n",
              "      <td>2010-01-05</td>\n",
              "      <td>License</td>\n",
              "      <td>Fail</td>\n",
              "      <td>18. NO EVIDENCE OF RODENT OR INSECT OUTER OPEN...</td>\n",
              "      <td>2010-01-12</td>\n",
              "      <td>-7</td>\n",
              "    </tr>\n",
              "    <tr>\n",
              "      <th>489892</th>\n",
              "      <td>Grocery Store</td>\n",
              "      <td>2010-01-05</td>\n",
              "      <td>License</td>\n",
              "      <td>Fail</td>\n",
              "      <td>35. WALLS, CEILINGS, ATTACHED EQUIPMENT CONSTR...</td>\n",
              "      <td>2010-02-05</td>\n",
              "      <td>-31</td>\n",
              "    </tr>\n",
              "    <tr>\n",
              "      <th>491644</th>\n",
              "      <td>Daycare (2 - 6 Years)</td>\n",
              "      <td>2010-01-05</td>\n",
              "      <td>License</td>\n",
              "      <td>Fail</td>\n",
              "      <td>32. FOOD AND NON-FOOD CONTACT SURFACES PROPERL...</td>\n",
              "      <td>2010-04-12</td>\n",
              "      <td>-97</td>\n",
              "    </tr>\n",
              "  </tbody>\n",
              "</table>\n",
              "</div>"
            ],
            "text/plain": [
              "                facility_type  date_orig  ...    date_re time_between\n",
              "494307             Restaurant 2010-01-04  ... 2010-01-19          -15\n",
              "217726             Restaurant 2010-01-04  ... 2010-01-12           -8\n",
              "45936              Restaurant 2010-01-05  ... 2010-01-12           -7\n",
              "489892          Grocery Store 2010-01-05  ... 2010-02-05          -31\n",
              "491644  Daycare (2 - 6 Years) 2010-01-05  ... 2010-04-12          -97\n",
              "\n",
              "[5 rows x 7 columns]"
            ]
          },
          "metadata": {
            "tags": []
          },
          "execution_count": 11
        }
      ]
    },
    {
      "cell_type": "code",
      "metadata": {
        "id": "A2nLAPP6FLDl"
      },
      "source": [
        "# Don't shuffle data before splitting\n",
        "train_feat, test_feat, train_targ, test_targ = train_test_split(features, target, test_size=0.2,\n",
        "                                                                shuffle=False)"
      ],
      "execution_count": null,
      "outputs": []
    },
    {
      "cell_type": "code",
      "metadata": {
        "colab": {
          "base_uri": "https://localhost:8080/",
          "height": 289
        },
        "id": "6OB689wCFLDm",
        "outputId": "e623e5f6-631d-49fe-df76-51168774c0b5"
      },
      "source": [
        "train_feat.head()"
      ],
      "execution_count": null,
      "outputs": [
        {
          "output_type": "execute_result",
          "data": {
            "text/html": [
              "<div>\n",
              "<style scoped>\n",
              "    .dataframe tbody tr th:only-of-type {\n",
              "        vertical-align: middle;\n",
              "    }\n",
              "\n",
              "    .dataframe tbody tr th {\n",
              "        vertical-align: top;\n",
              "    }\n",
              "\n",
              "    .dataframe thead th {\n",
              "        text-align: right;\n",
              "    }\n",
              "</style>\n",
              "<table border=\"1\" class=\"dataframe\">\n",
              "  <thead>\n",
              "    <tr style=\"text-align: right;\">\n",
              "      <th></th>\n",
              "      <th>facility_type</th>\n",
              "      <th>date_orig</th>\n",
              "      <th>inspection_type_orig</th>\n",
              "      <th>results_orig</th>\n",
              "      <th>violations_orig</th>\n",
              "      <th>date_re</th>\n",
              "      <th>time_between</th>\n",
              "    </tr>\n",
              "  </thead>\n",
              "  <tbody>\n",
              "    <tr>\n",
              "      <th>494307</th>\n",
              "      <td>Restaurant</td>\n",
              "      <td>2010-01-04</td>\n",
              "      <td>License</td>\n",
              "      <td>Fail</td>\n",
              "      <td>18. NO EVIDENCE OF RODENT OR INSECT OUTER OPEN...</td>\n",
              "      <td>2010-01-19</td>\n",
              "      <td>-15</td>\n",
              "    </tr>\n",
              "    <tr>\n",
              "      <th>217726</th>\n",
              "      <td>Restaurant</td>\n",
              "      <td>2010-01-04</td>\n",
              "      <td>Canvass</td>\n",
              "      <td>Fail</td>\n",
              "      <td>18. NO EVIDENCE OF RODENT OR INSECT OUTER OPEN...</td>\n",
              "      <td>2010-01-12</td>\n",
              "      <td>-8</td>\n",
              "    </tr>\n",
              "    <tr>\n",
              "      <th>45936</th>\n",
              "      <td>Restaurant</td>\n",
              "      <td>2010-01-05</td>\n",
              "      <td>License</td>\n",
              "      <td>Fail</td>\n",
              "      <td>18. NO EVIDENCE OF RODENT OR INSECT OUTER OPEN...</td>\n",
              "      <td>2010-01-12</td>\n",
              "      <td>-7</td>\n",
              "    </tr>\n",
              "    <tr>\n",
              "      <th>489892</th>\n",
              "      <td>Grocery Store</td>\n",
              "      <td>2010-01-05</td>\n",
              "      <td>License</td>\n",
              "      <td>Fail</td>\n",
              "      <td>35. WALLS, CEILINGS, ATTACHED EQUIPMENT CONSTR...</td>\n",
              "      <td>2010-02-05</td>\n",
              "      <td>-31</td>\n",
              "    </tr>\n",
              "    <tr>\n",
              "      <th>491644</th>\n",
              "      <td>Daycare (2 - 6 Years)</td>\n",
              "      <td>2010-01-05</td>\n",
              "      <td>License</td>\n",
              "      <td>Fail</td>\n",
              "      <td>32. FOOD AND NON-FOOD CONTACT SURFACES PROPERL...</td>\n",
              "      <td>2010-04-12</td>\n",
              "      <td>-97</td>\n",
              "    </tr>\n",
              "  </tbody>\n",
              "</table>\n",
              "</div>"
            ],
            "text/plain": [
              "                facility_type  date_orig  ...    date_re time_between\n",
              "494307             Restaurant 2010-01-04  ... 2010-01-19          -15\n",
              "217726             Restaurant 2010-01-04  ... 2010-01-12           -8\n",
              "45936              Restaurant 2010-01-05  ... 2010-01-12           -7\n",
              "489892          Grocery Store 2010-01-05  ... 2010-02-05          -31\n",
              "491644  Daycare (2 - 6 Years) 2010-01-05  ... 2010-04-12          -97\n",
              "\n",
              "[5 rows x 7 columns]"
            ]
          },
          "metadata": {
            "tags": []
          },
          "execution_count": 13
        }
      ]
    },
    {
      "cell_type": "code",
      "metadata": {
        "colab": {
          "base_uri": "https://localhost:8080/"
        },
        "id": "_6XlS6gnFLDm",
        "outputId": "30ddea3f-669e-4b39-d9ec-877fc1482d4d"
      },
      "source": [
        "pct_fail = len(train_targ[train_targ['results_re'] == 1]) / len(train_targ)\n",
        "print(f'{pct_fail*100:.2f}% reinspections fail in training set')"
      ],
      "execution_count": null,
      "outputs": [
        {
          "output_type": "stream",
          "text": [
            "8.77% reinspections fail in training set\n"
          ],
          "name": "stdout"
        }
      ]
    },
    {
      "cell_type": "markdown",
      "metadata": {
        "id": "pokaWkntFLDn"
      },
      "source": [
        "### Split out the text features"
      ]
    },
    {
      "cell_type": "code",
      "metadata": {
        "id": "2Rey_t2iFLDn"
      },
      "source": [
        "text_col = ['violations_orig']\n",
        "train_feat_txt = train_feat[text_col].astype(str)\n",
        "test_feat_txt = test_feat[text_col].astype(str)"
      ],
      "execution_count": null,
      "outputs": []
    },
    {
      "cell_type": "code",
      "metadata": {
        "colab": {
          "base_uri": "https://localhost:8080/"
        },
        "id": "dglTTq4PFLDn",
        "outputId": "757b6e03-6352-42a2-ff57-386d7ba656e6"
      },
      "source": [
        "train_feat_txt.head()"
      ],
      "execution_count": null,
      "outputs": [
        {
          "output_type": "execute_result",
          "data": {
            "text/html": [
              "<div>\n",
              "<style scoped>\n",
              "    .dataframe tbody tr th:only-of-type {\n",
              "        vertical-align: middle;\n",
              "    }\n",
              "\n",
              "    .dataframe tbody tr th {\n",
              "        vertical-align: top;\n",
              "    }\n",
              "\n",
              "    .dataframe thead th {\n",
              "        text-align: right;\n",
              "    }\n",
              "</style>\n",
              "<table border=\"1\" class=\"dataframe\">\n",
              "  <thead>\n",
              "    <tr style=\"text-align: right;\">\n",
              "      <th></th>\n",
              "      <th>violations_orig</th>\n",
              "    </tr>\n",
              "  </thead>\n",
              "  <tbody>\n",
              "    <tr>\n",
              "      <th>494307</th>\n",
              "      <td>18. NO EVIDENCE OF RODENT OR INSECT OUTER OPEN...</td>\n",
              "    </tr>\n",
              "    <tr>\n",
              "      <th>217726</th>\n",
              "      <td>18. NO EVIDENCE OF RODENT OR INSECT OUTER OPEN...</td>\n",
              "    </tr>\n",
              "    <tr>\n",
              "      <th>45936</th>\n",
              "      <td>18. NO EVIDENCE OF RODENT OR INSECT OUTER OPEN...</td>\n",
              "    </tr>\n",
              "    <tr>\n",
              "      <th>489892</th>\n",
              "      <td>35. WALLS, CEILINGS, ATTACHED EQUIPMENT CONSTR...</td>\n",
              "    </tr>\n",
              "    <tr>\n",
              "      <th>491644</th>\n",
              "      <td>32. FOOD AND NON-FOOD CONTACT SURFACES PROPERL...</td>\n",
              "    </tr>\n",
              "  </tbody>\n",
              "</table>\n",
              "</div>"
            ],
            "text/plain": [
              "                                          violations_orig\n",
              "494307  18. NO EVIDENCE OF RODENT OR INSECT OUTER OPEN...\n",
              "217726  18. NO EVIDENCE OF RODENT OR INSECT OUTER OPEN...\n",
              "45936   18. NO EVIDENCE OF RODENT OR INSECT OUTER OPEN...\n",
              "489892  35. WALLS, CEILINGS, ATTACHED EQUIPMENT CONSTR...\n",
              "491644  32. FOOD AND NON-FOOD CONTACT SURFACES PROPERL..."
            ]
          },
          "metadata": {
            "tags": []
          },
          "execution_count": 16
        }
      ]
    },
    {
      "cell_type": "markdown",
      "metadata": {
        "id": "A_p16Z5MFLDn"
      },
      "source": [
        "### Split the text into tokens"
      ]
    },
    {
      "cell_type": "code",
      "metadata": {
        "id": "wIb9dtfyFLDn"
      },
      "source": [
        "tokenizer = get_tokenizer('basic_english')\n",
        "counter = Counter()"
      ],
      "execution_count": null,
      "outputs": []
    },
    {
      "cell_type": "code",
      "metadata": {
        "id": "gT-Ehp-BFLDo"
      },
      "source": [
        "# Create vocab using training set only\n",
        "for idx, text in train_feat_txt.itertuples():\n",
        "    counter.update(tokenizer(text))"
      ],
      "execution_count": null,
      "outputs": []
    },
    {
      "cell_type": "code",
      "metadata": {
        "id": "vZLzsfx4FLDo"
      },
      "source": [
        "MIN_FREQ = 500\n",
        "vocab = Vocab(counter, min_freq=MIN_FREQ)"
      ],
      "execution_count": null,
      "outputs": []
    },
    {
      "cell_type": "code",
      "metadata": {
        "colab": {
          "base_uri": "https://localhost:8080/"
        },
        "id": "Wws6YgkBFLDo",
        "outputId": "e80ab998-4e46-47d0-e280-35b08a061495"
      },
      "source": [
        "len(vocab)"
      ],
      "execution_count": null,
      "outputs": [
        {
          "output_type": "execute_result",
          "data": {
            "text/plain": [
              "1081"
            ]
          },
          "metadata": {
            "tags": []
          },
          "execution_count": 20
        }
      ]
    },
    {
      "cell_type": "markdown",
      "metadata": {
        "id": "wbrKBYDbFLDo"
      },
      "source": [
        "### Create BOW features"
      ]
    },
    {
      "cell_type": "code",
      "metadata": {
        "id": "pqJK_2XgFLDo"
      },
      "source": [
        "def collate_into_bow(data, voc=vocab):\n",
        "    '''\n",
        "    Collate data into BOW features\n",
        "\n",
        "    Inputs:\n",
        "    data - Pandas dataframe\n",
        "    voc - vocab object\n",
        "\n",
        "    Returns:\n",
        "    labels - a one-dimensional tensor of labels\n",
        "    bow - a tensor of BOW embeddings plus document length\n",
        "    '''\n",
        "    bow = torch.zeros((len(data), len(voc) + 1))\n",
        "    labels = torch.zeros((len(data), 1))\n",
        "    for i, (label, text) in enumerate(data):\n",
        "        counter = Counter()\n",
        "        counter.update(tokenizer(text))\n",
        "        line_vocab = Vocab(counter)\n",
        "        tot_freqs = sum(line_vocab.freqs.values())\n",
        "        labels[i] = label\n",
        "        for token in line_vocab.freqs:\n",
        "            bow[i, voc.stoi[token]] = line_vocab.freqs[token] / tot_freqs  # Using relative frequencies\n",
        "            bow[i, -1] = tot_freqs\n",
        "    \n",
        "    return (labels, bow)"
      ],
      "execution_count": null,
      "outputs": []
    },
    {
      "cell_type": "markdown",
      "metadata": {
        "id": "ntqCtLQYFLDp"
      },
      "source": [
        "### __Create CBOW features__"
      ]
    },
    {
      "cell_type": "code",
      "metadata": {
        "colab": {
          "base_uri": "https://localhost:8080/"
        },
        "id": "0F-7XCaqFLDp",
        "outputId": "1f5cc59c-edaf-453f-eac3-981e89f66e88"
      },
      "source": [
        "VECTORS_CACHE_DIR = './.vector_cache'\n",
        "DIM_GLOVE = 300\n",
        "\n",
        "glove = GloVe('6B',cache=VECTORS_CACHE_DIR)"
      ],
      "execution_count": null,
      "outputs": [
        {
          "output_type": "stream",
          "text": [
            "./.vector_cache/glove.6B.zip: 862MB [02:41, 5.35MB/s]                           \n",
            "100%|█████████▉| 399006/400000 [00:36<00:00, 11435.70it/s]"
          ],
          "name": "stderr"
        }
      ]
    },
    {
      "cell_type": "code",
      "metadata": {
        "id": "yux41WxgFLDp"
      },
      "source": [
        "def collate_into_cbow(data):\n",
        "    '''\n",
        "    Collate data into CBOW features\n",
        "\n",
        "    Inputs:\n",
        "    data - Pandas dataframe\n",
        "\n",
        "    Returns:\n",
        "    labels - a one-dimensional tensor of labels\n",
        "    cbow - a tensor of CBOW embeddings\n",
        "    '''\n",
        "    cbow = torch.zeros((len(data), DIM_GLOVE))\n",
        "    labels = torch.zeros((len(data), 1))\n",
        "    for i, (label, text) in enumerate(data):\n",
        "        counter = Counter()\n",
        "        counter.update(tokenizer(text))\n",
        "        tokens = list(Vocab(counter).freqs)\n",
        "        vecs = glove.get_vecs_by_tokens(tokens)\n",
        "        cbow[i] = torch.mean(vecs, axis=0)\n",
        "        labels[i] = label\n",
        "    return (labels, cbow)\n"
      ],
      "execution_count": null,
      "outputs": []
    },
    {
      "cell_type": "markdown",
      "metadata": {
        "id": "mnkXQ7BnFLDp"
      },
      "source": [
        "### Create ngram features"
      ]
    },
    {
      "cell_type": "code",
      "metadata": {
        "id": "BasP3Xi3FLDp"
      },
      "source": [
        "# Using CountVectorizer to get ngrams\n",
        "# https://scikit-learn.org/stable/modules/generated/sklearn.feature_extraction.text.CountVectorizer.html\n",
        "from sklearn.feature_extraction.text import CountVectorizer"
      ],
      "execution_count": null,
      "outputs": []
    },
    {
      "cell_type": "code",
      "metadata": {
        "id": "29G4ztZ0FLDp"
      },
      "source": [
        "def divide_rows_by_row_sum(arr):\n",
        "    return np.nan_to_num(\n",
        "            np.divide(arr, arr.sum(axis=1)[:, None]),\n",
        "            nan=0  # Small number of ngram rows are all zeroes; don't divide row by 0 \n",
        "    )"
      ],
      "execution_count": null,
      "outputs": []
    },
    {
      "cell_type": "code",
      "metadata": {
        "id": "WIrRaH_TFLDq"
      },
      "source": [
        "vectorizer = CountVectorizer(min_df=MIN_FREQ, ngram_range=(2,2))\n",
        "corpus = train_feat_txt['violations_orig'].to_list()\n",
        "vocab_ngrams = vectorizer.fit_transform(corpus)"
      ],
      "execution_count": null,
      "outputs": []
    },
    {
      "cell_type": "code",
      "metadata": {
        "id": "jfJLscJFFLDq"
      },
      "source": [
        "def collate_into_ngrams(data, voc=vocab_ngrams):\n",
        "    '''\n",
        "    Collate data into \"bag of two-gram\" features\n",
        "\n",
        "    Inputs:\n",
        "    data - Pandas dataframe\n",
        "    voc - vocab object\n",
        "\n",
        "    Returns:\n",
        "    labels - a one-dimensional tensor of labels\n",
        "    ngrams - a tensor of bag of two gram features\n",
        "    '''\n",
        "    ngrams = torch.zeros((len(data), voc.shape[1]))\n",
        "    labels = torch.zeros((len(data), 1))\n",
        "    for i, (label, text) in enumerate(data):\n",
        "        X_batch = vectorizer.transform([text])\n",
        "        ngram_arr = X_batch.toarray()\n",
        "        ngram_arr = divide_rows_by_row_sum(ngram_arr)\n",
        "        ngrams[i, :] = torch.tensor(ngram_arr)\n",
        "        labels[i] = label\n",
        "    \n",
        "    return (labels, ngrams)"
      ],
      "execution_count": null,
      "outputs": []
    },
    {
      "cell_type": "markdown",
      "metadata": {
        "id": "VxfJpnWKFLDq"
      },
      "source": [
        "### Split train set into train and validation"
      ]
    },
    {
      "cell_type": "code",
      "metadata": {
        "id": "TsSBVAqFFLDq"
      },
      "source": [
        "train_x, val_x, train_y, val_y = train_test_split(train_feat_txt, train_targ,\n",
        "                                                    test_size=0.2, shuffle=False)"
      ],
      "execution_count": null,
      "outputs": []
    },
    {
      "cell_type": "code",
      "metadata": {
        "id": "nFQvxBOfFLDr"
      },
      "source": [
        "#Oversample on target vector\n",
        "train_targ_reset = train_y.reset_index().drop('index', axis=1)\n",
        "train_targ_fail = train_targ_reset[train_targ_reset['results_re'] == 1]\n",
        "size_diff = train_targ_reset.shape[0] - train_targ_fail.shape[0]\n",
        "train_resample = resample(train_targ_fail, n_samples = size_diff, replace=True)\n",
        "train_targ_all = pd.concat([train_targ_reset, train_resample])"
      ],
      "execution_count": null,
      "outputs": []
    },
    {
      "cell_type": "code",
      "metadata": {
        "id": "GJic7AktFLDr"
      },
      "source": [
        "#create Dataset class so tensors can become DataLoaders\n",
        "from torch.utils.data import Dataset, DataLoader\n",
        "\n",
        "class InspectionsDataset(Dataset):\n",
        "    def __init__(self, features_df, target_df):\n",
        "\n",
        "        self.features_text = features_df['violations_orig']\n",
        "        self.labels = target_df['results_re']\n",
        "\n",
        "    def __len__(self):\n",
        "        return len(self.features_text)\n",
        "\n",
        "    def __getitem__(self, idx):\n",
        "        text = self.features_text.iloc[idx]\n",
        "        label = self.labels.iloc[idx]\n",
        "\n",
        "        return (label, text)"
      ],
      "execution_count": null,
      "outputs": []
    },
    {
      "cell_type": "code",
      "metadata": {
        "id": "eKWN1TlIFLDr"
      },
      "source": [
        "#then resample features\n",
        "train_x_reset = train_x.reset_index().drop('index', axis=1)\n",
        "train_x_resample = train_x_reset.iloc[train_targ_all.index]\n",
        "\n",
        "#and convert to dataset object\n",
        "inspections_train = InspectionsDataset(train_x_resample, train_targ_all)\n",
        "inspections_val = InspectionsDataset(val_x, val_y)\n",
        "inspections_test = InspectionsDataset(test_feat_txt, test_targ)\n",
        "\n",
        "#these can all now be fed into DataLoaders with the proper collate functions"
      ],
      "execution_count": null,
      "outputs": []
    },
    {
      "cell_type": "markdown",
      "metadata": {
        "id": "qbfpq3sUFLDr"
      },
      "source": [
        "### Bag of Words"
      ]
    },
    {
      "cell_type": "code",
      "metadata": {
        "id": "swzXnefvFLDr"
      },
      "source": [
        "BATCH_SIZE=64"
      ],
      "execution_count": null,
      "outputs": []
    },
    {
      "cell_type": "code",
      "metadata": {
        "id": "cHN68BrYFLDs"
      },
      "source": [
        "#create dataloaders\n",
        "train_dataloader = DataLoader(inspections_train, batch_size=BATCH_SIZE, shuffle=True, \n",
        "                                collate_fn=collate_into_bow)\n",
        "valid_dataloader = DataLoader(inspections_val, batch_size=BATCH_SIZE, shuffle=False, \n",
        "                                collate_fn=collate_into_bow)\n",
        "test_dataloader = DataLoader(inspections_test, batch_size=BATCH_SIZE, shuffle=False, \n",
        "                                collate_fn=collate_into_bow)\n"
      ],
      "execution_count": null,
      "outputs": []
    },
    {
      "cell_type": "code",
      "metadata": {
        "id": "Uc_VzrtBFLDs"
      },
      "source": [
        "from torch import nn\n",
        "import torch.nn.functional as F\n",
        "\n",
        "class BoWClassifier(nn.Module):\n",
        "\n",
        "    def __init__(self, vocab_size):\n",
        "        super(BoWClassifier, self).__init__()\n",
        "        self.linear1 = nn.Linear(vocab_size, 16)\n",
        "        self.linear2 = nn.Linear(16, 1)\n",
        "        self.hidden1 = nn.Tanh()\n",
        "    \n",
        "    def forward(self, bow_vec):\n",
        "        x = self.hidden1(self.linear1(bow_vec))\n",
        "        x = self.linear2(x)\n",
        "        return x\n"
      ],
      "execution_count": null,
      "outputs": []
    },
    {
      "cell_type": "code",
      "metadata": {
        "id": "bE_HpUm6FLDs"
      },
      "source": [
        "loss_function = torch.nn.BCEWithLogitsLoss()\n",
        "\n",
        "def train_an_epoch(dataloader):\n",
        "  '''\n",
        "  Train a single epoch for the given dataloader.\n",
        "  '''\n",
        "    model.train() # Sets the module in training mode.\n",
        "    log_interval = 200\n",
        "\n",
        "    for idx, (label, text) in enumerate(dataloader):\n",
        "        model.zero_grad()\n",
        "        if USE_CUDA:\n",
        "          text, label = text.cuda(), label.cuda()\n",
        "        log_probs = model(text)\n",
        "        loss = loss_function(log_probs, label)\n",
        "        loss.backward()\n",
        "        optimizer.step()\n",
        "        if idx % log_interval == 0 and idx > 0:\n",
        "            print(f'At iteration {idx} the loss is {loss:.3f}.')"
      ],
      "execution_count": null,
      "outputs": []
    },
    {
      "cell_type": "code",
      "metadata": {
        "id": "A3ukz42XFLDs"
      },
      "source": [
        "def get_accuracy(dataloader):\n",
        "  '''\n",
        "  Get the accuracy score for the given dataloader\n",
        "  '''\n",
        "    model.eval()\n",
        "    correct = 0\n",
        "    total = 0\n",
        "    with torch.no_grad():\n",
        "        for idx, (label, text) in enumerate(dataloader):\n",
        "            if USE_CUDA:\n",
        "              text, label = text.cuda(), label.cuda()\n",
        "            outputs = model(text)\n",
        "            predicted = torch.round(torch.sigmoid(outputs))\n",
        "            total += label.size(0)\n",
        "            correct += (predicted == label).sum().item()\n",
        "    \n",
        "    print(\"Total: {}, correct: {}\".format(total, correct))\n",
        "    return(correct/total)"
      ],
      "execution_count": null,
      "outputs": []
    },
    {
      "cell_type": "code",
      "metadata": {
        "tags": [],
        "colab": {
          "base_uri": "https://localhost:8080/",
          "height": 1000
        },
        "id": "38TcE7frFLDs",
        "outputId": "83e18dfc-63f4-44ae-a91b-b6c0aaa8efe2"
      },
      "source": [
        "import matplotlib.pyplot as plt\n",
        "%matplotlib inline\n",
        "import time\n",
        "\n",
        "num_labels = 2\n",
        "vocab_size = len(vocab) + 1\n",
        "model = BoWClassifier(vocab_size)\n",
        "EPOCHS = 10\n",
        "optimizer = torch.optim.AdamW(model.parameters(), lr=0.0001)\n",
        "\n",
        "#reset/clear out model just in case\n",
        "for layer in model.children():\n",
        "    if hasattr(layer, 'reset_parameters'):\n",
        "        layer.reset_parameters()\n",
        "\n",
        "if USE_CUDA:\n",
        "  model = model.cuda()\n",
        "\n",
        "accuracies=[]\n",
        "for epoch in range(1, EPOCHS + 1):\n",
        "    epoch_start_time = time.time()\n",
        "    train_an_epoch(train_dataloader)\n",
        "    accuracy = get_accuracy(valid_dataloader)\n",
        "    accuracies.append(accuracy)\n",
        "    print()\n",
        "    print(f'After epoch {epoch} the validation accuracy is {accuracy:.3f}.')\n",
        "    print()\n",
        "    \n",
        "plt.plot(range(1, EPOCHS+1), accuracies)"
      ],
      "execution_count": null,
      "outputs": [
        {
          "output_type": "stream",
          "text": [
            "\r100%|█████████▉| 399006/400000 [00:50<00:00, 11435.70it/s]"
          ],
          "name": "stderr"
        },
        {
          "output_type": "stream",
          "text": [
            "At iteration 200 the loss is 0.670.\n",
            "At iteration 400 the loss is 0.679.\n",
            "At iteration 600 the loss is 0.661.\n",
            "Total: 5849, correct: 3034\n",
            "\n",
            "After epoch 1 the validation accuracy is 0.519.\n",
            "\n",
            "At iteration 200 the loss is 0.651.\n",
            "At iteration 400 the loss is 0.670.\n",
            "At iteration 600 the loss is 0.647.\n",
            "Total: 5849, correct: 4003\n",
            "\n",
            "After epoch 2 the validation accuracy is 0.684.\n",
            "\n",
            "At iteration 200 the loss is 0.689.\n",
            "At iteration 400 the loss is 0.658.\n",
            "At iteration 600 the loss is 0.670.\n",
            "Total: 5849, correct: 3384\n",
            "\n",
            "After epoch 3 the validation accuracy is 0.579.\n",
            "\n",
            "At iteration 200 the loss is 0.659.\n",
            "At iteration 400 the loss is 0.686.\n",
            "At iteration 600 the loss is 0.651.\n",
            "Total: 5849, correct: 3048\n",
            "\n",
            "After epoch 4 the validation accuracy is 0.521.\n",
            "\n",
            "At iteration 200 the loss is 0.703.\n",
            "At iteration 400 the loss is 0.669.\n",
            "At iteration 600 the loss is 0.664.\n",
            "Total: 5849, correct: 3221\n",
            "\n",
            "After epoch 5 the validation accuracy is 0.551.\n",
            "\n",
            "At iteration 200 the loss is 0.666.\n",
            "At iteration 400 the loss is 0.648.\n",
            "At iteration 600 the loss is 0.666.\n",
            "Total: 5849, correct: 3618\n",
            "\n",
            "After epoch 6 the validation accuracy is 0.619.\n",
            "\n",
            "At iteration 200 the loss is 0.620.\n",
            "At iteration 400 the loss is 0.627.\n",
            "At iteration 600 the loss is 0.666.\n",
            "Total: 5849, correct: 3354\n",
            "\n",
            "After epoch 7 the validation accuracy is 0.573.\n",
            "\n",
            "At iteration 200 the loss is 0.660.\n",
            "At iteration 400 the loss is 0.658.\n",
            "At iteration 600 the loss is 0.671.\n",
            "Total: 5849, correct: 3610\n",
            "\n",
            "After epoch 8 the validation accuracy is 0.617.\n",
            "\n",
            "At iteration 200 the loss is 0.661.\n",
            "At iteration 400 the loss is 0.674.\n",
            "At iteration 600 the loss is 0.614.\n",
            "Total: 5849, correct: 3280\n",
            "\n",
            "After epoch 9 the validation accuracy is 0.561.\n",
            "\n",
            "At iteration 200 the loss is 0.633.\n",
            "At iteration 400 the loss is 0.652.\n",
            "At iteration 600 the loss is 0.657.\n",
            "Total: 5849, correct: 3914\n",
            "\n",
            "After epoch 10 the validation accuracy is 0.669.\n",
            "\n"
          ],
          "name": "stdout"
        },
        {
          "output_type": "execute_result",
          "data": {
            "text/plain": [
              "[<matplotlib.lines.Line2D at 0x7fac0a98e350>]"
            ]
          },
          "metadata": {
            "tags": []
          },
          "execution_count": 37
        },
        {
          "output_type": "display_data",
          "data": {
            "image/png": "[encoded data removed]",
            "text/plain": [
              "<Figure size 432x288 with 1 Axes>"
            ]
          },
          "metadata": {
            "tags": [],
            "needs_background": "light"
          }
        }
      ]
    },
    {
      "cell_type": "code",
      "metadata": {
        "id": "VGGItiZhX88b"
      },
      "source": [
        "def get_all_metrics(dataloader):\n",
        "  '''\n",
        "  Prints the accuracy, recall, precision, and F1 score for the given\n",
        "  dataloader. Returns: None.\n",
        "  '''\n",
        "    model.eval()\n",
        "    correct = 0\n",
        "    total = 0\n",
        "    target_true = 0\n",
        "    predicted_true = 0\n",
        "    correct_true = 0\n",
        "    with torch.no_grad():\n",
        "        for idx, (label, text) in enumerate(dataloader):\n",
        "            if USE_CUDA:\n",
        "                text, label = text.cuda(), label.cuda()\n",
        "            outputs = model(text)\n",
        "            predicted = torch.round(torch.sigmoid(outputs))\n",
        "            total += label.size(0)\n",
        "            correct += (predicted == label).sum().item()\n",
        "            \n",
        "            predicted_classes = predicted == 1\n",
        "\n",
        "            target_true += torch.sum(label == 1).float()\n",
        "            predicted_true += torch.sum(predicted_classes).float()\n",
        "            correct_true += torch.sum(\n",
        "                (predicted_classes == label) * (predicted_classes == 1)).float()\n",
        "\n",
        "\n",
        "    recall = correct_true / target_true\n",
        "    precision = correct_true / predicted_true\n",
        "    f1_score = 2 * precision * recall / (precision + recall)\n",
        "\n",
        "    print(\"Total: {}, correct: {}\".format(total, correct))\n",
        "    print(\"Accuracy: {}\".format(correct/total))\n",
        "    print(\"Recall: {}\".format(recall))\n",
        "    print(\"Precision: {}\".format(precision))\n",
        "    print(\"F1 score: {}\".format(f1_score))"
      ],
      "execution_count": null,
      "outputs": []
    },
    {
      "cell_type": "code",
      "metadata": {
        "colab": {
          "base_uri": "https://localhost:8080/"
        },
        "id": "UnIiPkBFQEkP",
        "outputId": "986fdeca-2f25-43d4-e6dd-7bc22cf12809"
      },
      "source": [
        "get_all_metrics(test_dataloader)"
      ],
      "execution_count": null,
      "outputs": [
        {
          "output_type": "stream",
          "text": [
            "Total: 7311, correct: 4149\n",
            "Accuracy: 0.5675010258514567\n",
            "Recall: 0.6210153698921204\n",
            "Precision: 0.1562221497297287\n",
            "F1 score: 0.24964404106140137\n"
          ],
          "name": "stdout"
        }
      ]
    },
    {
      "cell_type": "markdown",
      "metadata": {
        "id": "ETSGVDGbFLDt"
      },
      "source": [
        "### Continuous Bag of Words"
      ]
    },
    {
      "cell_type": "code",
      "metadata": {
        "id": "3xULKPG_FLDt"
      },
      "source": [
        "#create dataloaders\n",
        "train_dataloader = DataLoader(inspections_train, batch_size=BATCH_SIZE, shuffle=True, \n",
        "                                collate_fn=collate_into_cbow)\n",
        "valid_dataloader = DataLoader(inspections_val, batch_size=BATCH_SIZE, shuffle=False, \n",
        "                                collate_fn=collate_into_cbow)\n",
        "test_dataloader = DataLoader(inspections_test, batch_size=BATCH_SIZE, shuffle=False, \n",
        "                                collate_fn=collate_into_cbow)"
      ],
      "execution_count": null,
      "outputs": []
    },
    {
      "cell_type": "code",
      "metadata": {
        "id": "2-Ttk9lli0k1"
      },
      "source": [
        "from torch import nn\n",
        "import torch.nn.functional as F\n",
        "\n",
        "class CBoWClassifier(nn.Module):\n",
        "\n",
        "    def __init__(self, vocab_size):\n",
        "        super(CBoWClassifier, self).__init__()\n",
        "        self.linear1 = nn.Linear(vocab_size, 16)\n",
        "        self.linear2 = nn.Linear(16, 1)\n",
        "        self.hidden1 = nn.Tanh()\n",
        "    \n",
        "    def forward(self, bow_vec):\n",
        "        x = self.hidden1(self.linear1(bow_vec))\n",
        "        x = self.linear2(x)\n",
        "        return x\n"
      ],
      "execution_count": null,
      "outputs": []
    },
    {
      "cell_type": "code",
      "metadata": {
        "colab": {
          "base_uri": "https://localhost:8080/",
          "height": 1000
        },
        "id": "8MjprK_jK1ck",
        "outputId": "ef548264-d355-4fd1-f0c8-f3365c33d18f"
      },
      "source": [
        "num_labels = 2\n",
        "vocab_size = 300\n",
        "model = CBoWClassifier(vocab_size)\n",
        "EPOCHS = 10\n",
        "optimizer = torch.optim.AdamW(model.parameters(), lr=0.0001)\n",
        "\n",
        "#reset/clear out model just in case\n",
        "for layer in model.children():\n",
        "    if hasattr(layer, 'reset_parameters'):\n",
        "        layer.reset_parameters()\n",
        "\n",
        "if USE_CUDA:\n",
        "  model = model.cuda()\n",
        "\n",
        "accuracies=[]\n",
        "for epoch in range(1, EPOCHS + 1):\n",
        "    epoch_start_time = time.time()\n",
        "    train_an_epoch(train_dataloader)\n",
        "    accuracy = get_accuracy(valid_dataloader)\n",
        "    accuracies.append(accuracy)\n",
        "    print()\n",
        "    print(f'After epoch {epoch} the validation accuracy is {accuracy:.3f}.')\n",
        "    print()\n",
        "    \n",
        "plt.plot(range(1, EPOCHS+1), accuracies)"
      ],
      "execution_count": null,
      "outputs": [
        {
          "output_type": "stream",
          "text": [
            "At iteration 200 the loss is 0.688.\n",
            "At iteration 400 the loss is 0.687.\n",
            "At iteration 600 the loss is 0.683.\n",
            "Total: 5849, correct: 2237\n",
            "\n",
            "After epoch 1 the validation accuracy is 0.382.\n",
            "\n",
            "At iteration 200 the loss is 0.679.\n",
            "At iteration 400 the loss is 0.692.\n",
            "At iteration 600 the loss is 0.676.\n",
            "Total: 5849, correct: 2831\n",
            "\n",
            "After epoch 2 the validation accuracy is 0.484.\n",
            "\n",
            "At iteration 200 the loss is 0.676.\n",
            "At iteration 400 the loss is 0.682.\n",
            "At iteration 600 the loss is 0.689.\n",
            "Total: 5849, correct: 3164\n",
            "\n",
            "After epoch 3 the validation accuracy is 0.541.\n",
            "\n",
            "At iteration 200 the loss is 0.646.\n",
            "At iteration 400 the loss is 0.688.\n",
            "At iteration 600 the loss is 0.653.\n",
            "Total: 5849, correct: 3333\n",
            "\n",
            "After epoch 4 the validation accuracy is 0.570.\n",
            "\n",
            "At iteration 200 the loss is 0.667.\n",
            "At iteration 400 the loss is 0.644.\n",
            "At iteration 600 the loss is 0.661.\n",
            "Total: 5849, correct: 3323\n",
            "\n",
            "After epoch 5 the validation accuracy is 0.568.\n",
            "\n",
            "At iteration 200 the loss is 0.649.\n",
            "At iteration 400 the loss is 0.620.\n",
            "At iteration 600 the loss is 0.658.\n",
            "Total: 5849, correct: 3774\n",
            "\n",
            "After epoch 6 the validation accuracy is 0.645.\n",
            "\n",
            "At iteration 200 the loss is 0.638.\n",
            "At iteration 400 the loss is 0.674.\n",
            "At iteration 600 the loss is 0.661.\n",
            "Total: 5849, correct: 3588\n",
            "\n",
            "After epoch 7 the validation accuracy is 0.613.\n",
            "\n",
            "At iteration 200 the loss is 0.598.\n",
            "At iteration 400 the loss is 0.604.\n",
            "At iteration 600 the loss is 0.615.\n",
            "Total: 5849, correct: 3588\n",
            "\n",
            "After epoch 8 the validation accuracy is 0.613.\n",
            "\n",
            "At iteration 200 the loss is 0.684.\n",
            "At iteration 400 the loss is 0.621.\n",
            "At iteration 600 the loss is 0.628.\n",
            "Total: 5849, correct: 3688\n",
            "\n",
            "After epoch 9 the validation accuracy is 0.631.\n",
            "\n",
            "At iteration 200 the loss is 0.577.\n",
            "At iteration 400 the loss is 0.634.\n",
            "At iteration 600 the loss is 0.640.\n",
            "Total: 5849, correct: 3566\n",
            "\n",
            "After epoch 10 the validation accuracy is 0.610.\n",
            "\n"
          ],
          "name": "stdout"
        },
        {
          "output_type": "execute_result",
          "data": {
            "text/plain": [
              "[<matplotlib.lines.Line2D at 0x7fac0a133bd0>]"
            ]
          },
          "metadata": {
            "tags": []
          },
          "execution_count": 42
        },
        {
          "output_type": "display_data",
          "data": {
            "image/png": "[encoded data removed]",
            "text/plain": [
              "<Figure size 432x288 with 1 Axes>"
            ]
          },
          "metadata": {
            "tags": [],
            "needs_background": "light"
          }
        }
      ]
    },
    {
      "cell_type": "code",
      "metadata": {
        "colab": {
          "base_uri": "https://localhost:8080/"
        },
        "id": "3CTr6ZkUWT7B",
        "outputId": "d61c3159-fcc8-4456-8aea-acea78ffda94"
      },
      "source": [
        "get_all_metrics(test_dataloader)"
      ],
      "execution_count": null,
      "outputs": [
        {
          "output_type": "stream",
          "text": [
            "Total: 7311, correct: 2719\n",
            "Accuracy: 0.37190534810559434\n",
            "Recall: 0.8276269435882568\n",
            "Precision: 0.1361958384513855\n",
            "F1 score: 0.23390056192874908\n"
          ],
          "name": "stdout"
        }
      ]
    },
    {
      "cell_type": "markdown",
      "metadata": {
        "id": "tH9wFdk3FLDt"
      },
      "source": [
        "### Ngrams"
      ]
    },
    {
      "cell_type": "code",
      "metadata": {
        "id": "0YkWMWwfFLDt"
      },
      "source": [
        "#create dataloaders\n",
        "train_dataloader = DataLoader(inspections_train, batch_size=BATCH_SIZE, shuffle=True, \n",
        "                                collate_fn=collate_into_ngrams)\n",
        "valid_dataloader = DataLoader(inspections_val, batch_size=BATCH_SIZE, shuffle=False, \n",
        "                                collate_fn=collate_into_ngrams)\n",
        "test_dataloader = DataLoader(inspections_test, batch_size=BATCH_SIZE, shuffle=False, \n",
        "                                collate_fn=collate_into_ngrams)"
      ],
      "execution_count": null,
      "outputs": []
    },
    {
      "cell_type": "code",
      "metadata": {
        "id": "FpscHJ7Lnme9"
      },
      "source": [
        "from torch import nn\n",
        "import torch.nn.functional as F\n",
        "\n",
        "class NGramClassifier(nn.Module):\n",
        "\n",
        "    def __init__(self, vocab_size):\n",
        "        super(NGramClassifier, self).__init__()\n",
        "        self.linear1 = nn.Linear(vocab_size, 16)\n",
        "        self.linear2 = nn.Linear(16, 1)\n",
        "        self.hidden1 = nn.Tanh()\n",
        "    \n",
        "    def forward(self, bow_vec):\n",
        "        x = self.hidden1(self.linear1(bow_vec))\n",
        "        x = self.linear2(x)\n",
        "        return x\n"
      ],
      "execution_count": null,
      "outputs": []
    },
    {
      "cell_type": "code",
      "metadata": {
        "colab": {
          "base_uri": "https://localhost:8080/",
          "height": 1000
        },
        "id": "tFcCFOcXFLDt",
        "outputId": "35dd9b0c-14a6-4d81-a662-63fbfa26c48f"
      },
      "source": [
        "vocab_size = vocab_ngrams.shape[1]\n",
        "model = NGramClassifier(vocab_size)\n",
        "EPOCHS = 10\n",
        "optimizer = torch.optim.AdamW(model.parameters(), lr=0.0001)\n",
        "\n",
        "#reset/clear out model just in case\n",
        "for layer in model.children():\n",
        "    if hasattr(layer, 'reset_parameters'):\n",
        "        layer.reset_parameters()\n",
        "\n",
        "if USE_CUDA:\n",
        "  model = model.cuda()\n",
        "\n",
        "accuracies=[]\n",
        "for epoch in range(1, EPOCHS + 1):\n",
        "    epoch_start_time = time.time()\n",
        "    train_an_epoch(train_dataloader)\n",
        "    accuracy = get_accuracy(valid_dataloader)\n",
        "    accuracies.append(accuracy)\n",
        "    print()\n",
        "    print(f'After epoch {epoch} the validation accuracy is {accuracy:.3f}.')\n",
        "    print()\n",
        "    \n",
        "plt.plot(range(1, EPOCHS+1), accuracies)"
      ],
      "execution_count": null,
      "outputs": [
        {
          "output_type": "stream",
          "text": [
            "At iteration 200 the loss is 0.693.\n",
            "At iteration 400 the loss is 0.694.\n",
            "At iteration 600 the loss is 0.689.\n",
            "Total: 5849, correct: 730\n",
            "\n",
            "After epoch 1 the validation accuracy is 0.125.\n",
            "\n",
            "At iteration 200 the loss is 0.692.\n",
            "At iteration 400 the loss is 0.686.\n",
            "At iteration 600 the loss is 0.689.\n",
            "Total: 5849, correct: 845\n",
            "\n",
            "After epoch 2 the validation accuracy is 0.144.\n",
            "\n",
            "At iteration 200 the loss is 0.682.\n",
            "At iteration 400 the loss is 0.679.\n",
            "At iteration 600 the loss is 0.685.\n",
            "Total: 5849, correct: 1924\n",
            "\n",
            "After epoch 3 the validation accuracy is 0.329.\n",
            "\n",
            "At iteration 200 the loss is 0.690.\n",
            "At iteration 400 the loss is 0.678.\n",
            "At iteration 600 the loss is 0.666.\n",
            "Total: 5849, correct: 2792\n",
            "\n",
            "After epoch 4 the validation accuracy is 0.477.\n",
            "\n",
            "At iteration 200 the loss is 0.679.\n",
            "At iteration 400 the loss is 0.665.\n",
            "At iteration 600 the loss is 0.681.\n",
            "Total: 5849, correct: 3558\n",
            "\n",
            "After epoch 5 the validation accuracy is 0.608.\n",
            "\n",
            "At iteration 200 the loss is 0.663.\n",
            "At iteration 400 the loss is 0.660.\n",
            "At iteration 600 the loss is 0.661.\n",
            "Total: 5849, correct: 3826\n",
            "\n",
            "After epoch 6 the validation accuracy is 0.654.\n",
            "\n",
            "At iteration 200 the loss is 0.658.\n",
            "At iteration 400 the loss is 0.659.\n",
            "At iteration 600 the loss is 0.682.\n",
            "Total: 5849, correct: 3874\n",
            "\n",
            "After epoch 7 the validation accuracy is 0.662.\n",
            "\n",
            "At iteration 200 the loss is 0.675.\n",
            "At iteration 400 the loss is 0.660.\n",
            "At iteration 600 the loss is 0.680.\n",
            "Total: 5849, correct: 3893\n",
            "\n",
            "After epoch 8 the validation accuracy is 0.666.\n",
            "\n",
            "At iteration 200 the loss is 0.671.\n",
            "At iteration 400 the loss is 0.694.\n",
            "At iteration 600 the loss is 0.674.\n",
            "Total: 5849, correct: 4030\n",
            "\n",
            "After epoch 9 the validation accuracy is 0.689.\n",
            "\n",
            "At iteration 200 the loss is 0.651.\n",
            "At iteration 400 the loss is 0.686.\n",
            "At iteration 600 the loss is 0.660.\n",
            "Total: 5849, correct: 4135\n",
            "\n",
            "After epoch 10 the validation accuracy is 0.707.\n",
            "\n"
          ],
          "name": "stdout"
        },
        {
          "output_type": "execute_result",
          "data": {
            "text/plain": [
              "[<matplotlib.lines.Line2D at 0x7fac0a430290>]"
            ]
          },
          "metadata": {
            "tags": []
          },
          "execution_count": 46
        },
        {
          "output_type": "display_data",
          "data": {
            "image/png": "[encoded data removed]",
            "text/plain": [
              "<Figure size 432x288 with 1 Axes>"
            ]
          },
          "metadata": {
            "tags": [],
            "needs_background": "light"
          }
        }
      ]
    },
    {
      "cell_type": "code",
      "metadata": {
        "colab": {
          "base_uri": "https://localhost:8080/"
        },
        "id": "asEh6YNGYwvq",
        "outputId": "b5bbd9e1-000f-43fe-83ec-6e6dc0d97b82"
      },
      "source": [
        "get_all_metrics(test_dataloader)"
      ],
      "execution_count": null,
      "outputs": [
        {
          "output_type": "stream",
          "text": [
            "/usr/local/lib/python3.7/dist-packages/ipykernel_launcher.py:3: RuntimeWarning: invalid value encountered in true_divide\n",
            "  This is separate from the ipykernel package so we can avoid doing imports until\n"
          ],
          "name": "stderr"
        },
        {
          "output_type": "stream",
          "text": [
            "Total: 7311, correct: 4200\n",
            "Accuracy: 0.5744768157570784\n",
            "Recall: 0.5489964485168457\n",
            "Precision: 0.14558547735214233\n",
            "F1 score: 0.2301410585641861\n"
          ],
          "name": "stdout"
        }
      ]
    },
    {
      "cell_type": "markdown",
      "metadata": {
        "id": "LvDzACFF_8hs"
      },
      "source": [
        "### Using weights instead of oversampling"
      ]
    },
    {
      "cell_type": "code",
      "metadata": {
        "id": "TlRjL03L_66O"
      },
      "source": [
        "#Split data but don't oversample\n",
        "train_x, val_x, train_y, val_y = train_test_split(train_feat_txt, train_targ,\n",
        "                                                    test_size=0.2, shuffle=False)"
      ],
      "execution_count": null,
      "outputs": []
    },
    {
      "cell_type": "code",
      "metadata": {
        "id": "Gq4SA5FUAFc5"
      },
      "source": [
        "#and convert to dataset object\n",
        "inspections_train = InspectionsDataset(train_x, train_y)\n",
        "inspections_val = InspectionsDataset(val_x, val_y)\n",
        "inspections_test = InspectionsDataset(test_feat_txt, test_targ)\n"
      ],
      "execution_count": null,
      "outputs": []
    },
    {
      "cell_type": "code",
      "metadata": {
        "id": "bzbW2HutAM1T"
      },
      "source": [
        "BATCH_SIZE = 64\n",
        "#create dataloaders\n",
        "train_dataloader = DataLoader(inspections_train, batch_size=BATCH_SIZE, shuffle=True, \n",
        "                                collate_fn=collate_into_bow)\n",
        "valid_dataloader = DataLoader(inspections_val, batch_size=BATCH_SIZE, shuffle=False, \n",
        "                                collate_fn=collate_into_bow)\n",
        "test_dataloader = DataLoader(inspections_test, batch_size=BATCH_SIZE, shuffle=False, \n",
        "                                collate_fn=collate_into_bow)"
      ],
      "execution_count": null,
      "outputs": []
    },
    {
      "cell_type": "code",
      "metadata": {
        "id": "YPFsmb4cAYVg"
      },
      "source": [
        "from torch import nn\n",
        "import torch.nn.functional as F\n",
        "\n",
        "class BoWClassifier(nn.Module):\n",
        "\n",
        "    def __init__(self, vocab_size):\n",
        "        super(BoWClassifier, self).__init__()\n",
        "        self.linear1 = nn.Linear(vocab_size, 16)\n",
        "        self.linear2 = nn.Linear(16, 1)\n",
        "        self.hidden1 = nn.Tanh()\n",
        "    \n",
        "    def forward(self, bow_vec):\n",
        "        x = self.hidden1(self.linear1(bow_vec))\n",
        "        x = self.linear2(x)\n",
        "        return x\n"
      ],
      "execution_count": null,
      "outputs": []
    },
    {
      "cell_type": "code",
      "metadata": {
        "colab": {
          "base_uri": "https://localhost:8080/"
        },
        "id": "354rhgW0DLp5",
        "outputId": "5e717582-9966-47cb-8ebd-a35c8dab3fca"
      },
      "source": [
        "weights = torch.tensor([875, 125])\n",
        "weights = weights / weights.sum()\n",
        "weights = 1/weights\n",
        "print(weights)"
      ],
      "execution_count": null,
      "outputs": [
        {
          "output_type": "stream",
          "text": [
            "tensor([1.1429, 8.0000])\n"
          ],
          "name": "stdout"
        }
      ]
    },
    {
      "cell_type": "code",
      "metadata": {
        "id": "T_uG7-buAdNu"
      },
      "source": [
        "weights = weights[1].to(DEVICE)\n",
        "loss_function = torch.nn.BCEWithLogitsLoss(pos_weight=weights)"
      ],
      "execution_count": null,
      "outputs": []
    },
    {
      "cell_type": "code",
      "metadata": {
        "colab": {
          "base_uri": "https://localhost:8080/",
          "height": 647
        },
        "id": "E9yUkKIEAn_k",
        "outputId": "c4fe7440-6634-4f1f-fa20-e6eb96757cbf"
      },
      "source": [
        "import matplotlib.pyplot as plt\n",
        "%matplotlib inline\n",
        "import time\n",
        "\n",
        "num_labels = 2\n",
        "vocab_size = len(vocab) + 1\n",
        "model = BoWClassifier(vocab_size)\n",
        "EPOCHS = 3\n",
        "optimizer = torch.optim.AdamW(model.parameters(), lr=0.0001)\n",
        "\n",
        "#reset/clear out model just in case\n",
        "for layer in model.children():\n",
        "    if hasattr(layer, 'reset_parameters'):\n",
        "        layer.reset_parameters()\n",
        "\n",
        "if USE_CUDA:\n",
        "  model = model.cuda()\n",
        "\n",
        "accuracies=[]\n",
        "for epoch in range(1, EPOCHS + 1):\n",
        "    epoch_start_time = time.time()\n",
        "    train_an_epoch(train_dataloader)\n",
        "    accuracy = get_accuracy(valid_dataloader)\n",
        "    accuracies.append(accuracy)\n",
        "    print()\n",
        "    print(f'After epoch {epoch} the validation accuracy is {accuracy:.3f}.')\n",
        "    print()\n",
        "    \n",
        "plt.plot(range(1, EPOCHS+1), accuracies)"
      ],
      "execution_count": null,
      "outputs": [
        {
          "output_type": "stream",
          "text": [
            "At iteration 100 the loss is 1.264.\n",
            "At iteration 200 the loss is 0.913.\n",
            "At iteration 300 the loss is 1.288.\n",
            "Total: 5953, correct: 5402\n",
            "\n",
            "After epoch 1 the validation accuracy is 0.907.\n",
            "\n",
            "At iteration 100 the loss is 0.919.\n",
            "At iteration 200 the loss is 0.822.\n",
            "At iteration 300 the loss is 1.422.\n",
            "Total: 5953, correct: 5402\n",
            "\n",
            "After epoch 2 the validation accuracy is 0.907.\n",
            "\n",
            "At iteration 100 the loss is 1.056.\n",
            "At iteration 200 the loss is 1.197.\n",
            "At iteration 300 the loss is 0.947.\n",
            "Total: 5953, correct: 5305\n",
            "\n",
            "After epoch 3 the validation accuracy is 0.891.\n",
            "\n"
          ],
          "name": "stdout"
        },
        {
          "output_type": "execute_result",
          "data": {
            "text/plain": [
              "[<matplotlib.lines.Line2D at 0x7f46e1040110>]"
            ]
          },
          "metadata": {
            "tags": []
          },
          "execution_count": 61
        },
        {
          "output_type": "display_data",
          "data": {
            "image/png": "[encoded data removed]",
            "text/plain": [
              "<Figure size 432x288 with 1 Axes>"
            ]
          },
          "metadata": {
            "tags": [],
            "needs_background": "light"
          }
        }
      ]
    },
    {
      "cell_type": "code",
      "metadata": {
        "colab": {
          "base_uri": "https://localhost:8080/"
        },
        "id": "GOzAPTD_CKC_",
        "outputId": "1601e167-9a48-4b0f-8e07-7e251815a727"
      },
      "source": [
        "get_all_metrics(test_dataloader)"
      ],
      "execution_count": null,
      "outputs": [
        {
          "output_type": "stream",
          "text": [
            "Total: 7442, correct: 6328\n",
            "Accuracy: 0.8503090567051867\n",
            "Recall: 0.13931523263454437\n",
            "Precision: 0.23459245264530182\n",
            "F1 score: 0.17481482028961182\n"
          ],
          "name": "stdout"
        }
      ]
    }
  ]
}