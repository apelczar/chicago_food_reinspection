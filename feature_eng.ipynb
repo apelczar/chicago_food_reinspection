{
 "cells": [
  {
   "cell_type": "code",
   "execution_count": 1,
   "metadata": {},
   "outputs": [],
   "source": [
    "import pandas as pd\n",
    "import numpy as np\n",
    "\n",
    "import torch\n",
    "from torchtext.data.utils import get_tokenizer\n",
    "from torchtext.vocab import Vocab\n",
    "from torchtext.vocab import GloVe\n",
    "\n",
    "from collections import Counter\n",
    "\n",
    "from sklearn.naive_bayes import MultinomialNB, GaussianNB\n",
    "from sklearn.linear_model import LogisticRegression\n",
    "from sklearn.model_selection import train_test_split\n",
    "from sklearn.metrics import accuracy_score, precision_score, recall_score, f1_score, roc_auc_score\n",
    "from sklearn.utils import resample"
   ]
  },
  {
   "cell_type": "markdown",
   "metadata": {},
   "source": [
    "__Notes:__\n",
    "- If we want to keep our prediction binary, we should change all 'Pass w/ Conditions' in the `results_re` field to 'Pass'.\n",
    "- We should also make this field numeric, with Fail as 1 and Pass as 0 (as 'Fail' is the event we are trying to predict). I think we can add both of these to the `data_prep` notebook."
   ]
  },
  {
   "cell_type": "markdown",
   "metadata": {},
   "source": [
    "__Questions to discuss:__\n",
    "- __Shuffling during train/test split__: When we do our train/test split, should we sort our data by inspection date first? I know this matters for time series data (where we'd want to avoid leakage of future data into the past), but not sure how much it matters here, where the inspections are generally distinct establishments. Below I did sort the data, and didn't shuffle during the train/test split, but would like your thoughts on whether this matters.\n",
    "- __Word frequency threshold__: In our HW 2, we only included in our vocab words that appeared at least 1000 times in the entire corpus. We'll need to decide what threshold we want to use. I used 1000 below, and also listed the vocab counts at different thresholds.\n",
    "- __Pipeline operations__: What kinds of additional cleaning steps should we perform in our pipeline? Right now, we're just converting words to lower case and splitting them with a tokenizer. Other possible steps include removing stop words and lemmatizing (https://www.geeksforgeeks.org/python-lemmatization-approaches-with-examples/). I'd recommend we go to Amitabh's office hours to get his thoughts on an appropriate 'good practice' pipeline.\n",
    "- __Relative vs. absolute frequencies for BOW__: In our HW, we implemented BOW with relative frequencies, but I think for our purposes absolute frequencies make more sense, as more words/longer comments can mean more violations. Do you think this makes sense?\n",
    "- __Choice of n for ngrams__: I made an initial choice of 2, which seemed reasonable to me. Would like your thoughts on this, though."
   ]
  },
  {
   "cell_type": "code",
   "execution_count": 2,
   "metadata": {},
   "outputs": [],
   "source": [
    "df = pd.read_pickle('initial_clean.pkl')"
   ]
  },
  {
   "cell_type": "code",
   "execution_count": 3,
   "metadata": {},
   "outputs": [
    {
     "data": {
      "text/html": [
       "<div>\n",
       "<style scoped>\n",
       "    .dataframe tbody tr th:only-of-type {\n",
       "        vertical-align: middle;\n",
       "    }\n",
       "\n",
       "    .dataframe tbody tr th {\n",
       "        vertical-align: top;\n",
       "    }\n",
       "\n",
       "    .dataframe thead th {\n",
       "        text-align: right;\n",
       "    }\n",
       "</style>\n",
       "<table border=\"1\" class=\"dataframe\">\n",
       "  <thead>\n",
       "    <tr style=\"text-align: right;\">\n",
       "      <th></th>\n",
       "      <th>id_orig</th>\n",
       "      <th>name</th>\n",
       "      <th>license</th>\n",
       "      <th>facility_type</th>\n",
       "      <th>date_orig</th>\n",
       "      <th>inspection_type_orig</th>\n",
       "      <th>results_orig</th>\n",
       "      <th>violations_orig</th>\n",
       "      <th>id_re</th>\n",
       "      <th>date_re</th>\n",
       "      <th>results_re</th>\n",
       "      <th>time_between</th>\n",
       "    </tr>\n",
       "  </thead>\n",
       "  <tbody>\n",
       "    <tr>\n",
       "      <th>8</th>\n",
       "      <td>2362749</td>\n",
       "      <td>DANIEL WILLIAM HALE</td>\n",
       "      <td>66311</td>\n",
       "      <td>School</td>\n",
       "      <td>2020-02-24</td>\n",
       "      <td>Canvass</td>\n",
       "      <td>Fail</td>\n",
       "      <td>38. INSECTS, RODENTS, &amp; ANIMALS NOT PRESENT - ...</td>\n",
       "      <td>2363154</td>\n",
       "      <td>2020-03-03</td>\n",
       "      <td>Pass</td>\n",
       "      <td>-8</td>\n",
       "    </tr>\n",
       "    <tr>\n",
       "      <th>21</th>\n",
       "      <td>2009301</td>\n",
       "      <td>DANIEL WILLIAM HALE</td>\n",
       "      <td>66311</td>\n",
       "      <td>School</td>\n",
       "      <td>2017-03-27</td>\n",
       "      <td>Canvass</td>\n",
       "      <td>Fail</td>\n",
       "      <td>18. NO EVIDENCE OF RODENT OR INSECT OUTER OPEN...</td>\n",
       "      <td>2009714</td>\n",
       "      <td>2017-04-04</td>\n",
       "      <td>Pass</td>\n",
       "      <td>-8</td>\n",
       "    </tr>\n",
       "    <tr>\n",
       "      <th>34</th>\n",
       "      <td>1734408</td>\n",
       "      <td>DANIEL WILLIAM HALE</td>\n",
       "      <td>66311</td>\n",
       "      <td>School</td>\n",
       "      <td>2016-03-18</td>\n",
       "      <td>Canvass</td>\n",
       "      <td>Fail</td>\n",
       "      <td>13. NO EVIDENCE OF RODENT OR INSECT INFESTATIO...</td>\n",
       "      <td>1734665</td>\n",
       "      <td>2016-03-23</td>\n",
       "      <td>Pass</td>\n",
       "      <td>-5</td>\n",
       "    </tr>\n",
       "    <tr>\n",
       "      <th>39</th>\n",
       "      <td>1386146</td>\n",
       "      <td>DANIEL WILLIAM HALE</td>\n",
       "      <td>66311</td>\n",
       "      <td>School</td>\n",
       "      <td>2015-05-20</td>\n",
       "      <td>Canvass</td>\n",
       "      <td>Fail</td>\n",
       "      <td>13. NO EVIDENCE OF RODENT OR INSECT INFESTATIO...</td>\n",
       "      <td>1386157</td>\n",
       "      <td>2015-05-22</td>\n",
       "      <td>Pass</td>\n",
       "      <td>-2</td>\n",
       "    </tr>\n",
       "    <tr>\n",
       "      <th>65</th>\n",
       "      <td>2463620</td>\n",
       "      <td>DAYGLOW</td>\n",
       "      <td>2749526</td>\n",
       "      <td>Restaurant</td>\n",
       "      <td>2020-12-10</td>\n",
       "      <td>License</td>\n",
       "      <td>Fail</td>\n",
       "      <td>2. CITY OF CHICAGO FOOD SERVICE SANITATION CER...</td>\n",
       "      <td>2463913</td>\n",
       "      <td>2020-12-17</td>\n",
       "      <td>Pass w/ Conditions</td>\n",
       "      <td>-7</td>\n",
       "    </tr>\n",
       "  </tbody>\n",
       "</table>\n",
       "</div>"
      ],
      "text/plain": [
       "    id_orig                 name  license facility_type  date_orig  \\\n",
       "8   2362749  DANIEL WILLIAM HALE    66311        School 2020-02-24   \n",
       "21  2009301  DANIEL WILLIAM HALE    66311        School 2017-03-27   \n",
       "34  1734408  DANIEL WILLIAM HALE    66311        School 2016-03-18   \n",
       "39  1386146  DANIEL WILLIAM HALE    66311        School 2015-05-20   \n",
       "65  2463620              DAYGLOW  2749526    Restaurant 2020-12-10   \n",
       "\n",
       "   inspection_type_orig results_orig  \\\n",
       "8               Canvass         Fail   \n",
       "21              Canvass         Fail   \n",
       "34              Canvass         Fail   \n",
       "39              Canvass         Fail   \n",
       "65              License         Fail   \n",
       "\n",
       "                                      violations_orig    id_re    date_re  \\\n",
       "8   38. INSECTS, RODENTS, & ANIMALS NOT PRESENT - ...  2363154 2020-03-03   \n",
       "21  18. NO EVIDENCE OF RODENT OR INSECT OUTER OPEN...  2009714 2017-04-04   \n",
       "34  13. NO EVIDENCE OF RODENT OR INSECT INFESTATIO...  1734665 2016-03-23   \n",
       "39  13. NO EVIDENCE OF RODENT OR INSECT INFESTATIO...  1386157 2015-05-22   \n",
       "65  2. CITY OF CHICAGO FOOD SERVICE SANITATION CER...  2463913 2020-12-17   \n",
       "\n",
       "            results_re  time_between  \n",
       "8                 Pass            -8  \n",
       "21                Pass            -8  \n",
       "34                Pass            -5  \n",
       "39                Pass            -2  \n",
       "65  Pass w/ Conditions            -7  "
      ]
     },
     "execution_count": 3,
     "metadata": {},
     "output_type": "execute_result"
    }
   ],
   "source": [
    "df.head()"
   ]
  },
  {
   "cell_type": "code",
   "execution_count": 4,
   "metadata": {},
   "outputs": [],
   "source": [
    "# Change 'Pass w/ Conditions' to 'Pass', and change target to 0/1 numeric\n",
    "results_dict = {'Pass': 0, 'Fail': 1}\n",
    "df['results_re'] = df['results_re'].str.replace('Pass w/ Conditions', 'Pass')\n",
    "df['results_re'] = df['results_re'].apply(lambda x: results_dict[x])"
   ]
  },
  {
   "cell_type": "markdown",
   "metadata": {},
   "source": [
    "### Split data into feature & target, and then into train and test sets"
   ]
  },
  {
   "cell_type": "code",
   "execution_count": 5,
   "metadata": {},
   "outputs": [],
   "source": [
    "# Sort dataframe by inspection date\n",
    "# Training set will include initial 80% of inspections\n",
    "sorted_df = df.sort_values(by=['date_orig'])"
   ]
  },
  {
   "cell_type": "code",
   "execution_count": 6,
   "metadata": {},
   "outputs": [
    {
     "data": {
      "text/html": [
       "<div>\n",
       "<style scoped>\n",
       "    .dataframe tbody tr th:only-of-type {\n",
       "        vertical-align: middle;\n",
       "    }\n",
       "\n",
       "    .dataframe tbody tr th {\n",
       "        vertical-align: top;\n",
       "    }\n",
       "\n",
       "    .dataframe thead th {\n",
       "        text-align: right;\n",
       "    }\n",
       "</style>\n",
       "<table border=\"1\" class=\"dataframe\">\n",
       "  <thead>\n",
       "    <tr style=\"text-align: right;\">\n",
       "      <th></th>\n",
       "      <th>id_orig</th>\n",
       "      <th>name</th>\n",
       "      <th>license</th>\n",
       "      <th>facility_type</th>\n",
       "      <th>date_orig</th>\n",
       "      <th>inspection_type_orig</th>\n",
       "      <th>results_orig</th>\n",
       "      <th>violations_orig</th>\n",
       "      <th>id_re</th>\n",
       "      <th>date_re</th>\n",
       "      <th>results_re</th>\n",
       "      <th>time_between</th>\n",
       "    </tr>\n",
       "  </thead>\n",
       "  <tbody>\n",
       "    <tr>\n",
       "      <th>220538</th>\n",
       "      <td>104236</td>\n",
       "      <td>TEMPO CAFE</td>\n",
       "      <td>80916</td>\n",
       "      <td>Restaurant</td>\n",
       "      <td>2010-01-04</td>\n",
       "      <td>Canvass</td>\n",
       "      <td>Fail</td>\n",
       "      <td>18. NO EVIDENCE OF RODENT OR INSECT OUTER OPEN...</td>\n",
       "      <td>104243</td>\n",
       "      <td>2010-01-12</td>\n",
       "      <td>0</td>\n",
       "      <td>-8</td>\n",
       "    </tr>\n",
       "    <tr>\n",
       "      <th>494292</th>\n",
       "      <td>67738</td>\n",
       "      <td>MICHAEL'S ON MAIN CAFE</td>\n",
       "      <td>2008948</td>\n",
       "      <td>Restaurant</td>\n",
       "      <td>2010-01-04</td>\n",
       "      <td>License</td>\n",
       "      <td>Fail</td>\n",
       "      <td>18. NO EVIDENCE OF RODENT OR INSECT OUTER OPEN...</td>\n",
       "      <td>124279</td>\n",
       "      <td>2010-01-19</td>\n",
       "      <td>0</td>\n",
       "      <td>-15</td>\n",
       "    </tr>\n",
       "    <tr>\n",
       "      <th>379705</th>\n",
       "      <td>118297</td>\n",
       "      <td>MAXWELL STREET DEPOT INC.</td>\n",
       "      <td>18135</td>\n",
       "      <td>Restaurant</td>\n",
       "      <td>2010-01-05</td>\n",
       "      <td>Complaint</td>\n",
       "      <td>Fail</td>\n",
       "      <td>18. NO EVIDENCE OF RODENT OR INSECT OUTER OPEN...</td>\n",
       "      <td>118308</td>\n",
       "      <td>2010-01-12</td>\n",
       "      <td>0</td>\n",
       "      <td>-7</td>\n",
       "    </tr>\n",
       "    <tr>\n",
       "      <th>491825</th>\n",
       "      <td>80208</td>\n",
       "      <td>Dunkin Donuts</td>\n",
       "      <td>2013340</td>\n",
       "      <td>Restaurant</td>\n",
       "      <td>2010-01-05</td>\n",
       "      <td>License</td>\n",
       "      <td>Fail</td>\n",
       "      <td>18. NO EVIDENCE OF RODENT OR INSECT OUTER OPEN...</td>\n",
       "      <td>80233</td>\n",
       "      <td>2010-02-05</td>\n",
       "      <td>1</td>\n",
       "      <td>-31</td>\n",
       "    </tr>\n",
       "    <tr>\n",
       "      <th>263231</th>\n",
       "      <td>67741</td>\n",
       "      <td>CITGO</td>\n",
       "      <td>2013296</td>\n",
       "      <td>Grocery Store</td>\n",
       "      <td>2010-01-05</td>\n",
       "      <td>License</td>\n",
       "      <td>Fail</td>\n",
       "      <td>2. FACILITIES TO MAINTAIN PROPER TEMPERATURE -...</td>\n",
       "      <td>176270</td>\n",
       "      <td>2010-02-17</td>\n",
       "      <td>0</td>\n",
       "      <td>-43</td>\n",
       "    </tr>\n",
       "  </tbody>\n",
       "</table>\n",
       "</div>"
      ],
      "text/plain": [
       "       id_orig                       name  license  facility_type  date_orig  \\\n",
       "220538  104236                 TEMPO CAFE    80916     Restaurant 2010-01-04   \n",
       "494292   67738     MICHAEL'S ON MAIN CAFE  2008948     Restaurant 2010-01-04   \n",
       "379705  118297  MAXWELL STREET DEPOT INC.    18135     Restaurant 2010-01-05   \n",
       "491825   80208              Dunkin Donuts  2013340     Restaurant 2010-01-05   \n",
       "263231   67741                      CITGO  2013296  Grocery Store 2010-01-05   \n",
       "\n",
       "       inspection_type_orig results_orig  \\\n",
       "220538              Canvass         Fail   \n",
       "494292              License         Fail   \n",
       "379705            Complaint         Fail   \n",
       "491825              License         Fail   \n",
       "263231              License         Fail   \n",
       "\n",
       "                                          violations_orig   id_re    date_re  \\\n",
       "220538  18. NO EVIDENCE OF RODENT OR INSECT OUTER OPEN...  104243 2010-01-12   \n",
       "494292  18. NO EVIDENCE OF RODENT OR INSECT OUTER OPEN...  124279 2010-01-19   \n",
       "379705  18. NO EVIDENCE OF RODENT OR INSECT OUTER OPEN...  118308 2010-01-12   \n",
       "491825  18. NO EVIDENCE OF RODENT OR INSECT OUTER OPEN...   80233 2010-02-05   \n",
       "263231  2. FACILITIES TO MAINTAIN PROPER TEMPERATURE -...  176270 2010-02-17   \n",
       "\n",
       "        results_re  time_between  \n",
       "220538           0            -8  \n",
       "494292           0           -15  \n",
       "379705           0            -7  \n",
       "491825           1           -31  \n",
       "263231           0           -43  "
      ]
     },
     "execution_count": 6,
     "metadata": {},
     "output_type": "execute_result"
    }
   ],
   "source": [
    "sorted_df.head()"
   ]
  },
  {
   "cell_type": "code",
   "execution_count": 7,
   "metadata": {},
   "outputs": [],
   "source": [
    "target_col = ['results_re']\n",
    "target = sorted_df[target_col]\n",
    "\n",
    "cols_to_exclude = ['name', 'id_orig', 'id_re', 'license']\n",
    "feature_cols = [col for col in sorted_df.columns if (col not in cols_to_exclude and col not in target_col)]\n",
    "features = sorted_df[feature_cols]"
   ]
  },
  {
   "cell_type": "code",
   "execution_count": 8,
   "metadata": {},
   "outputs": [
    {
     "data": {
      "text/html": [
       "<div>\n",
       "<style scoped>\n",
       "    .dataframe tbody tr th:only-of-type {\n",
       "        vertical-align: middle;\n",
       "    }\n",
       "\n",
       "    .dataframe tbody tr th {\n",
       "        vertical-align: top;\n",
       "    }\n",
       "\n",
       "    .dataframe thead th {\n",
       "        text-align: right;\n",
       "    }\n",
       "</style>\n",
       "<table border=\"1\" class=\"dataframe\">\n",
       "  <thead>\n",
       "    <tr style=\"text-align: right;\">\n",
       "      <th></th>\n",
       "      <th>results_re</th>\n",
       "    </tr>\n",
       "  </thead>\n",
       "  <tbody>\n",
       "    <tr>\n",
       "      <th>220538</th>\n",
       "      <td>0</td>\n",
       "    </tr>\n",
       "    <tr>\n",
       "      <th>494292</th>\n",
       "      <td>0</td>\n",
       "    </tr>\n",
       "    <tr>\n",
       "      <th>379705</th>\n",
       "      <td>0</td>\n",
       "    </tr>\n",
       "    <tr>\n",
       "      <th>491825</th>\n",
       "      <td>1</td>\n",
       "    </tr>\n",
       "    <tr>\n",
       "      <th>263231</th>\n",
       "      <td>0</td>\n",
       "    </tr>\n",
       "  </tbody>\n",
       "</table>\n",
       "</div>"
      ],
      "text/plain": [
       "        results_re\n",
       "220538           0\n",
       "494292           0\n",
       "379705           0\n",
       "491825           1\n",
       "263231           0"
      ]
     },
     "execution_count": 8,
     "metadata": {},
     "output_type": "execute_result"
    }
   ],
   "source": [
    "target.head()"
   ]
  },
  {
   "cell_type": "code",
   "execution_count": 9,
   "metadata": {},
   "outputs": [
    {
     "data": {
      "text/html": [
       "<div>\n",
       "<style scoped>\n",
       "    .dataframe tbody tr th:only-of-type {\n",
       "        vertical-align: middle;\n",
       "    }\n",
       "\n",
       "    .dataframe tbody tr th {\n",
       "        vertical-align: top;\n",
       "    }\n",
       "\n",
       "    .dataframe thead th {\n",
       "        text-align: right;\n",
       "    }\n",
       "</style>\n",
       "<table border=\"1\" class=\"dataframe\">\n",
       "  <thead>\n",
       "    <tr style=\"text-align: right;\">\n",
       "      <th></th>\n",
       "      <th>facility_type</th>\n",
       "      <th>date_orig</th>\n",
       "      <th>inspection_type_orig</th>\n",
       "      <th>results_orig</th>\n",
       "      <th>violations_orig</th>\n",
       "      <th>date_re</th>\n",
       "      <th>time_between</th>\n",
       "    </tr>\n",
       "  </thead>\n",
       "  <tbody>\n",
       "    <tr>\n",
       "      <th>220538</th>\n",
       "      <td>Restaurant</td>\n",
       "      <td>2010-01-04</td>\n",
       "      <td>Canvass</td>\n",
       "      <td>Fail</td>\n",
       "      <td>18. NO EVIDENCE OF RODENT OR INSECT OUTER OPEN...</td>\n",
       "      <td>2010-01-12</td>\n",
       "      <td>-8</td>\n",
       "    </tr>\n",
       "    <tr>\n",
       "      <th>494292</th>\n",
       "      <td>Restaurant</td>\n",
       "      <td>2010-01-04</td>\n",
       "      <td>License</td>\n",
       "      <td>Fail</td>\n",
       "      <td>18. NO EVIDENCE OF RODENT OR INSECT OUTER OPEN...</td>\n",
       "      <td>2010-01-19</td>\n",
       "      <td>-15</td>\n",
       "    </tr>\n",
       "    <tr>\n",
       "      <th>379705</th>\n",
       "      <td>Restaurant</td>\n",
       "      <td>2010-01-05</td>\n",
       "      <td>Complaint</td>\n",
       "      <td>Fail</td>\n",
       "      <td>18. NO EVIDENCE OF RODENT OR INSECT OUTER OPEN...</td>\n",
       "      <td>2010-01-12</td>\n",
       "      <td>-7</td>\n",
       "    </tr>\n",
       "    <tr>\n",
       "      <th>491825</th>\n",
       "      <td>Restaurant</td>\n",
       "      <td>2010-01-05</td>\n",
       "      <td>License</td>\n",
       "      <td>Fail</td>\n",
       "      <td>18. NO EVIDENCE OF RODENT OR INSECT OUTER OPEN...</td>\n",
       "      <td>2010-02-05</td>\n",
       "      <td>-31</td>\n",
       "    </tr>\n",
       "    <tr>\n",
       "      <th>263231</th>\n",
       "      <td>Grocery Store</td>\n",
       "      <td>2010-01-05</td>\n",
       "      <td>License</td>\n",
       "      <td>Fail</td>\n",
       "      <td>2. FACILITIES TO MAINTAIN PROPER TEMPERATURE -...</td>\n",
       "      <td>2010-02-17</td>\n",
       "      <td>-43</td>\n",
       "    </tr>\n",
       "  </tbody>\n",
       "</table>\n",
       "</div>"
      ],
      "text/plain": [
       "        facility_type  date_orig inspection_type_orig results_orig  \\\n",
       "220538     Restaurant 2010-01-04              Canvass         Fail   \n",
       "494292     Restaurant 2010-01-04              License         Fail   \n",
       "379705     Restaurant 2010-01-05            Complaint         Fail   \n",
       "491825     Restaurant 2010-01-05              License         Fail   \n",
       "263231  Grocery Store 2010-01-05              License         Fail   \n",
       "\n",
       "                                          violations_orig    date_re  \\\n",
       "220538  18. NO EVIDENCE OF RODENT OR INSECT OUTER OPEN... 2010-01-12   \n",
       "494292  18. NO EVIDENCE OF RODENT OR INSECT OUTER OPEN... 2010-01-19   \n",
       "379705  18. NO EVIDENCE OF RODENT OR INSECT OUTER OPEN... 2010-01-12   \n",
       "491825  18. NO EVIDENCE OF RODENT OR INSECT OUTER OPEN... 2010-02-05   \n",
       "263231  2. FACILITIES TO MAINTAIN PROPER TEMPERATURE -... 2010-02-17   \n",
       "\n",
       "        time_between  \n",
       "220538            -8  \n",
       "494292           -15  \n",
       "379705            -7  \n",
       "491825           -31  \n",
       "263231           -43  "
      ]
     },
     "execution_count": 9,
     "metadata": {},
     "output_type": "execute_result"
    }
   ],
   "source": [
    "features.head()"
   ]
  },
  {
   "cell_type": "code",
   "execution_count": 10,
   "metadata": {},
   "outputs": [],
   "source": [
    "# Don't shuffle data before splitting\n",
    "train_feat, test_feat, train_targ, test_targ = train_test_split(features, target, test_size=0.2,\n",
    "                                                                shuffle=False)"
   ]
  },
  {
   "cell_type": "code",
   "execution_count": 11,
   "metadata": {},
   "outputs": [
    {
     "data": {
      "text/html": [
       "<div>\n",
       "<style scoped>\n",
       "    .dataframe tbody tr th:only-of-type {\n",
       "        vertical-align: middle;\n",
       "    }\n",
       "\n",
       "    .dataframe tbody tr th {\n",
       "        vertical-align: top;\n",
       "    }\n",
       "\n",
       "    .dataframe thead th {\n",
       "        text-align: right;\n",
       "    }\n",
       "</style>\n",
       "<table border=\"1\" class=\"dataframe\">\n",
       "  <thead>\n",
       "    <tr style=\"text-align: right;\">\n",
       "      <th></th>\n",
       "      <th>facility_type</th>\n",
       "      <th>date_orig</th>\n",
       "      <th>inspection_type_orig</th>\n",
       "      <th>results_orig</th>\n",
       "      <th>violations_orig</th>\n",
       "      <th>date_re</th>\n",
       "      <th>time_between</th>\n",
       "    </tr>\n",
       "  </thead>\n",
       "  <tbody>\n",
       "    <tr>\n",
       "      <th>220538</th>\n",
       "      <td>Restaurant</td>\n",
       "      <td>2010-01-04</td>\n",
       "      <td>Canvass</td>\n",
       "      <td>Fail</td>\n",
       "      <td>18. NO EVIDENCE OF RODENT OR INSECT OUTER OPEN...</td>\n",
       "      <td>2010-01-12</td>\n",
       "      <td>-8</td>\n",
       "    </tr>\n",
       "    <tr>\n",
       "      <th>494292</th>\n",
       "      <td>Restaurant</td>\n",
       "      <td>2010-01-04</td>\n",
       "      <td>License</td>\n",
       "      <td>Fail</td>\n",
       "      <td>18. NO EVIDENCE OF RODENT OR INSECT OUTER OPEN...</td>\n",
       "      <td>2010-01-19</td>\n",
       "      <td>-15</td>\n",
       "    </tr>\n",
       "    <tr>\n",
       "      <th>379705</th>\n",
       "      <td>Restaurant</td>\n",
       "      <td>2010-01-05</td>\n",
       "      <td>Complaint</td>\n",
       "      <td>Fail</td>\n",
       "      <td>18. NO EVIDENCE OF RODENT OR INSECT OUTER OPEN...</td>\n",
       "      <td>2010-01-12</td>\n",
       "      <td>-7</td>\n",
       "    </tr>\n",
       "    <tr>\n",
       "      <th>491825</th>\n",
       "      <td>Restaurant</td>\n",
       "      <td>2010-01-05</td>\n",
       "      <td>License</td>\n",
       "      <td>Fail</td>\n",
       "      <td>18. NO EVIDENCE OF RODENT OR INSECT OUTER OPEN...</td>\n",
       "      <td>2010-02-05</td>\n",
       "      <td>-31</td>\n",
       "    </tr>\n",
       "    <tr>\n",
       "      <th>263231</th>\n",
       "      <td>Grocery Store</td>\n",
       "      <td>2010-01-05</td>\n",
       "      <td>License</td>\n",
       "      <td>Fail</td>\n",
       "      <td>2. FACILITIES TO MAINTAIN PROPER TEMPERATURE -...</td>\n",
       "      <td>2010-02-17</td>\n",
       "      <td>-43</td>\n",
       "    </tr>\n",
       "  </tbody>\n",
       "</table>\n",
       "</div>"
      ],
      "text/plain": [
       "        facility_type  date_orig inspection_type_orig results_orig  \\\n",
       "220538     Restaurant 2010-01-04              Canvass         Fail   \n",
       "494292     Restaurant 2010-01-04              License         Fail   \n",
       "379705     Restaurant 2010-01-05            Complaint         Fail   \n",
       "491825     Restaurant 2010-01-05              License         Fail   \n",
       "263231  Grocery Store 2010-01-05              License         Fail   \n",
       "\n",
       "                                          violations_orig    date_re  \\\n",
       "220538  18. NO EVIDENCE OF RODENT OR INSECT OUTER OPEN... 2010-01-12   \n",
       "494292  18. NO EVIDENCE OF RODENT OR INSECT OUTER OPEN... 2010-01-19   \n",
       "379705  18. NO EVIDENCE OF RODENT OR INSECT OUTER OPEN... 2010-01-12   \n",
       "491825  18. NO EVIDENCE OF RODENT OR INSECT OUTER OPEN... 2010-02-05   \n",
       "263231  2. FACILITIES TO MAINTAIN PROPER TEMPERATURE -... 2010-02-17   \n",
       "\n",
       "        time_between  \n",
       "220538            -8  \n",
       "494292           -15  \n",
       "379705            -7  \n",
       "491825           -31  \n",
       "263231           -43  "
      ]
     },
     "execution_count": 11,
     "metadata": {},
     "output_type": "execute_result"
    }
   ],
   "source": [
    "train_feat.head()"
   ]
  },
  {
   "cell_type": "code",
   "execution_count": 12,
   "metadata": {},
   "outputs": [
    {
     "name": "stdout",
     "output_type": "stream",
     "text": [
      "8.79% reinspections fail in training set\n"
     ]
    }
   ],
   "source": [
    "pct_fail = len(train_targ[train_targ['results_re'] == 1]) / len(train_targ)\n",
    "print(f'{pct_fail*100:.2f}% reinspections fail in training set')"
   ]
  },
  {
   "cell_type": "markdown",
   "metadata": {},
   "source": [
    "### Split out the text features"
   ]
  },
  {
   "cell_type": "code",
   "execution_count": 13,
   "metadata": {},
   "outputs": [],
   "source": [
    "text_col = ['violations_orig']\n",
    "train_feat_txt = train_feat[text_col].astype(str)\n",
    "test_feat_txt = test_feat[text_col].astype(str)"
   ]
  },
  {
   "cell_type": "code",
   "execution_count": 14,
   "metadata": {},
   "outputs": [
    {
     "data": {
      "text/html": [
       "<div>\n",
       "<style scoped>\n",
       "    .dataframe tbody tr th:only-of-type {\n",
       "        vertical-align: middle;\n",
       "    }\n",
       "\n",
       "    .dataframe tbody tr th {\n",
       "        vertical-align: top;\n",
       "    }\n",
       "\n",
       "    .dataframe thead th {\n",
       "        text-align: right;\n",
       "    }\n",
       "</style>\n",
       "<table border=\"1\" class=\"dataframe\">\n",
       "  <thead>\n",
       "    <tr style=\"text-align: right;\">\n",
       "      <th></th>\n",
       "      <th>violations_orig</th>\n",
       "    </tr>\n",
       "  </thead>\n",
       "  <tbody>\n",
       "    <tr>\n",
       "      <th>220538</th>\n",
       "      <td>18. NO EVIDENCE OF RODENT OR INSECT OUTER OPEN...</td>\n",
       "    </tr>\n",
       "    <tr>\n",
       "      <th>494292</th>\n",
       "      <td>18. NO EVIDENCE OF RODENT OR INSECT OUTER OPEN...</td>\n",
       "    </tr>\n",
       "    <tr>\n",
       "      <th>379705</th>\n",
       "      <td>18. NO EVIDENCE OF RODENT OR INSECT OUTER OPEN...</td>\n",
       "    </tr>\n",
       "    <tr>\n",
       "      <th>491825</th>\n",
       "      <td>18. NO EVIDENCE OF RODENT OR INSECT OUTER OPEN...</td>\n",
       "    </tr>\n",
       "    <tr>\n",
       "      <th>263231</th>\n",
       "      <td>2. FACILITIES TO MAINTAIN PROPER TEMPERATURE -...</td>\n",
       "    </tr>\n",
       "  </tbody>\n",
       "</table>\n",
       "</div>"
      ],
      "text/plain": [
       "                                          violations_orig\n",
       "220538  18. NO EVIDENCE OF RODENT OR INSECT OUTER OPEN...\n",
       "494292  18. NO EVIDENCE OF RODENT OR INSECT OUTER OPEN...\n",
       "379705  18. NO EVIDENCE OF RODENT OR INSECT OUTER OPEN...\n",
       "491825  18. NO EVIDENCE OF RODENT OR INSECT OUTER OPEN...\n",
       "263231  2. FACILITIES TO MAINTAIN PROPER TEMPERATURE -..."
      ]
     },
     "execution_count": 14,
     "metadata": {},
     "output_type": "execute_result"
    }
   ],
   "source": [
    "train_feat_txt.head()"
   ]
  },
  {
   "cell_type": "markdown",
   "metadata": {},
   "source": [
    "### Split the text into tokens"
   ]
  },
  {
   "cell_type": "code",
   "execution_count": 15,
   "metadata": {},
   "outputs": [],
   "source": [
    "tokenizer = get_tokenizer('basic_english')\n",
    "counter = Counter()"
   ]
  },
  {
   "cell_type": "code",
   "execution_count": 16,
   "metadata": {},
   "outputs": [],
   "source": [
    "# Create vocab using training set only!!!!\n",
    "for idx, text in train_feat_txt.itertuples():\n",
    "    counter.update(tokenizer(text))"
   ]
  },
  {
   "cell_type": "code",
   "execution_count": 17,
   "metadata": {},
   "outputs": [],
   "source": [
    "# Not sure what the min frequency should be\n",
    "# Min freq = 1 -> 50768 vocab length\n",
    "# Min freq = 50 -> 2942\n",
    "# Min freq = 100 -> 2211\n",
    "# Min freq = 250 -> 1481\n",
    "# Min freq = 500 -> 1107\n",
    "# Min freq = 1000 -> 806\n",
    "MIN_FREQ = 500\n",
    "vocab = Vocab(counter, min_freq=MIN_FREQ)"
   ]
  },
  {
   "cell_type": "code",
   "execution_count": 18,
   "metadata": {},
   "outputs": [
    {
     "data": {
      "text/plain": [
       "1086"
      ]
     },
     "execution_count": 18,
     "metadata": {},
     "output_type": "execute_result"
    }
   ],
   "source": [
    "len(vocab)"
   ]
  },
  {
   "cell_type": "markdown",
   "metadata": {},
   "source": [
    "### Create BOW features"
   ]
  },
  {
   "cell_type": "markdown",
   "metadata": {},
   "source": [
    "Note - I think we should use absolute rather than relative frequencies for the BOW vectors, as greater number of violations likely provides relevant information"
   ]
  },
  {
   "cell_type": "code",
   "execution_count": 19,
   "metadata": {},
   "outputs": [],
   "source": [
    "def collate_into_bow(data, voc):\n",
    "    bow = np.zeros((len(data), len(voc)))\n",
    "    token_counts = np.zeros((len(data), 1))\n",
    "    for i, (idx, text) in enumerate(data.itertuples()):\n",
    "        counter = Counter()\n",
    "        counter.update(tokenizer(text))\n",
    "        line_vocab = Vocab(counter)\n",
    "        tot_freqs = sum(line_vocab.freqs.values())\n",
    "        token_counts[i] = tot_freqs\n",
    "        for token in line_vocab.freqs:\n",
    "            bow[i, voc.stoi[token]] = line_vocab.freqs[token] / tot_freqs  # Using relative frequencies\n",
    "    return token_counts, bow"
   ]
  },
  {
   "cell_type": "code",
   "execution_count": 20,
   "metadata": {},
   "outputs": [],
   "source": [
    "# Create training bow set\n",
    "token_counts, bow = collate_into_bow(train_feat_txt, vocab)\n",
    "bow_concat = np.concatenate((bow, token_counts), axis=1)\n",
    "bow_df = pd.DataFrame(bow_concat, columns=vocab.itos + ['token_counts'])"
   ]
  },
  {
   "cell_type": "code",
   "execution_count": 21,
   "metadata": {},
   "outputs": [],
   "source": [
    "# Create test bow set using vocab from training set\n",
    "test_token_counts, test_bow = collate_into_bow(test_feat_txt, vocab)\n",
    "test_bow_concat = np.concatenate((test_bow, test_token_counts), axis=1)\n",
    "test_bow_df = pd.DataFrame(test_bow_concat, columns=vocab.itos + ['token_counts'])"
   ]
  },
  {
   "cell_type": "markdown",
   "metadata": {},
   "source": [
    "### __Create CBOW features__"
   ]
  },
  {
   "cell_type": "code",
   "execution_count": 22,
   "metadata": {},
   "outputs": [],
   "source": [
    "# You'll need to copy your vector cache to the folder with this notebook!\n",
    "VECTORS_CACHE_DIR = './.vector_cache'\n",
    "DIM_GLOVE = 300\n",
    "\n",
    "glove = GloVe('6B',cache=VECTORS_CACHE_DIR)"
   ]
  },
  {
   "cell_type": "code",
   "execution_count": 23,
   "metadata": {},
   "outputs": [],
   "source": [
    "def collate_into_cbow(data):\n",
    "    cbow = np.zeros((len(data), DIM_GLOVE))\n",
    "    for i, (idx, text) in enumerate(data.itertuples()):\n",
    "        counter = Counter()\n",
    "        counter.update(tokenizer(text))\n",
    "        tokens = list(Vocab(counter).freqs)\n",
    "        vecs = glove.get_vecs_by_tokens(tokens).numpy()\n",
    "        cbow[i] = np.mean(vecs, axis=0)\n",
    "    return cbow"
   ]
  },
  {
   "cell_type": "code",
   "execution_count": 24,
   "metadata": {},
   "outputs": [],
   "source": [
    "# Create training cbow set\n",
    "cbow = collate_into_cbow(train_feat_txt)\n",
    "cbow_df = pd.DataFrame(cbow)"
   ]
  },
  {
   "cell_type": "code",
   "execution_count": 25,
   "metadata": {},
   "outputs": [],
   "source": [
    "# Create test cbow set\n",
    "test_cbow = collate_into_cbow(train_feat_txt)\n",
    "test_cbow_df = pd.DataFrame(cbow)"
   ]
  },
  {
   "cell_type": "markdown",
   "metadata": {},
   "source": [
    "### Create ngram features"
   ]
  },
  {
   "cell_type": "code",
   "execution_count": 26,
   "metadata": {},
   "outputs": [],
   "source": [
    "# Using CountVectorizer to get ngrams (this was the most intuitive tool I could find...)\n",
    "# https://scikit-learn.org/stable/modules/generated/sklearn.feature_extraction.text.CountVectorizer.html\n",
    "from sklearn.feature_extraction.text import CountVectorizer"
   ]
  },
  {
   "cell_type": "code",
   "execution_count": 27,
   "metadata": {},
   "outputs": [],
   "source": [
    "def divide_rows_by_row_sum(arr):\n",
    "    return np.nan_to_num(\n",
    "            np.divide(arr, arr.sum(axis=1)[:, None]),\n",
    "            nan=0  # Small number of ngram rows are all zeroes; don't divide row by 0 \n",
    "    )"
   ]
  },
  {
   "cell_type": "code",
   "execution_count": 28,
   "metadata": {},
   "outputs": [],
   "source": [
    "vectorizer = CountVectorizer(min_df=MIN_FREQ, ngram_range=(2,2))"
   ]
  },
  {
   "cell_type": "code",
   "execution_count": 29,
   "metadata": {},
   "outputs": [],
   "source": [
    "corpus = train_feat_txt['violations_orig'].to_list()"
   ]
  },
  {
   "cell_type": "code",
   "execution_count": 30,
   "metadata": {},
   "outputs": [
    {
     "name": "stderr",
     "output_type": "stream",
     "text": [
      "<ipython-input-27-251124bc7b2a>:3: RuntimeWarning: invalid value encountered in true_divide\n",
      "  np.divide(arr, arr.sum(axis=1)[:, None]),\n"
     ]
    }
   ],
   "source": [
    "# Create training ngram set\n",
    "X = vectorizer.fit_transform(corpus)\n",
    "ngram_arr = X.toarray()\n",
    "ngram_arr = divide_rows_by_row_sum(ngram_arr)\n",
    "ngram_arr = np.concatenate((ngram_arr, token_counts), axis=1)"
   ]
  },
  {
   "cell_type": "code",
   "execution_count": 31,
   "metadata": {},
   "outputs": [
    {
     "name": "stderr",
     "output_type": "stream",
     "text": [
      "<ipython-input-27-251124bc7b2a>:3: RuntimeWarning: invalid value encountered in true_divide\n",
      "  np.divide(arr, arr.sum(axis=1)[:, None]),\n"
     ]
    }
   ],
   "source": [
    "# Create test ngram set\n",
    "\n",
    "# I'm pretty sure this is how it's done?\n",
    "corpus_test = test_feat_txt['violations_orig'].to_list()\n",
    "X_test = vectorizer.transform(corpus_test)\n",
    "test_ngram_arr = X_test.toarray()\n",
    "test_ngram_arr = divide_rows_by_row_sum(test_ngram_arr)\n",
    "test_ngram_arr = np.concatenate((test_ngram_arr, test_token_counts), axis=1)"
   ]
  },
  {
   "cell_type": "code",
   "execution_count": 32,
   "metadata": {},
   "outputs": [
    {
     "data": {
      "text/plain": [
       "(7442, 1907)"
      ]
     },
     "execution_count": 32,
     "metadata": {},
     "output_type": "execute_result"
    }
   ],
   "source": [
    "# Should be same dimensionality as training array (1088)\n",
    "test_ngram_arr.shape"
   ]
  },
  {
   "cell_type": "markdown",
   "metadata": {},
   "source": [
    "### Split train set into train and validation"
   ]
  },
  {
   "cell_type": "code",
   "execution_count": 33,
   "metadata": {},
   "outputs": [],
   "source": [
    "# Don't shuffle data before splitting\n",
    "train_bow, val_bow, train_targ_spl, val_targ = train_test_split(bow_df, train_targ, test_size=0.2,\n",
    "                                                                shuffle=False)\n",
    "\n",
    "train_cbow, val_cbow = train_test_split(cbow_df, test_size=0.2, shuffle=False)\n",
    "train_2gram, val_2gram = train_test_split(ngram_arr, test_size=0.2, shuffle=False)"
   ]
  },
  {
   "cell_type": "code",
   "execution_count": 34,
   "metadata": {},
   "outputs": [],
   "source": [
    "#Oversample on target vector\n",
    "train_targ_reset = train_targ_spl.reset_index().drop('index', axis=1)\n",
    "train_targ_fail = train_targ_reset[train_targ_reset['results_re'] == 1]\n",
    "size_diff = train_targ_reset.shape[0] - train_targ_fail.shape[0]\n",
    "train_resample = resample(train_targ_fail, n_samples = size_diff, replace=True)\n",
    "train_targ_all = pd.concat([train_targ_reset, train_resample])"
   ]
  },
  {
   "cell_type": "code",
   "execution_count": 35,
   "metadata": {},
   "outputs": [
    {
     "name": "stderr",
     "output_type": "stream",
     "text": [
      "<ipython-input-35-b91eb85c8663>:4: FutureWarning: Using a non-tuple sequence for multidimensional indexing is deprecated; use `arr[tuple(seq)]` instead of `arr[seq]`. In the future this will be interpreted as an array index, `arr[np.array(seq)]`, which will result either in an error or a different result.\n",
      "  train_2gram_resample = train_2gram[[train_targ_all.index]]\n"
     ]
    }
   ],
   "source": [
    "#then resample feature matrices\n",
    "train_bow_resample = train_bow.iloc[train_targ_all.index]\n",
    "train_cbow_resample = train_cbow.iloc[train_targ_all.index]\n",
    "train_2gram_resample = train_2gram[[train_targ_all.index]]"
   ]
  },
  {
   "cell_type": "code",
   "execution_count": 36,
   "metadata": {},
   "outputs": [],
   "source": [
    "# Model expects 1d array as target\n",
    "#train_targ_1d = train_targ_spl.iloc[:, 0].ravel()\n",
    "train_targ_1d = train_targ_all.iloc[:, 0].ravel()\n",
    "val_targ_1d = val_targ.iloc[:, 0].ravel()\n",
    "test_targ_1d = test_targ.iloc[:, 0].ravel()"
   ]
  },
  {
   "cell_type": "markdown",
   "metadata": {},
   "source": [
    "### Set model baseline"
   ]
  },
  {
   "cell_type": "markdown",
   "metadata": {},
   "source": [
    "Baseline for model will be if we predict 'pass' every time. If model cannot beat these scores, then it is not good!"
   ]
  },
  {
   "cell_type": "code",
   "execution_count": 37,
   "metadata": {},
   "outputs": [],
   "source": [
    "def print_clf_metrics(y_true, y_pred):\n",
    "    accuracy = accuracy_score(y_true, y_pred)\n",
    "    precision = precision_score(y_true, y_pred, zero_division=0)\n",
    "    recall = recall_score(y_true, y_pred)\n",
    "    f1 = f1_score(y_true, y_pred)\n",
    "    auc = roc_auc_score(y_true, y_pred)\n",
    "\n",
    "    print(f\"\"\"\n",
    "    Accuracy: {accuracy:.2f}\n",
    "    Precision: {precision:.2f}\n",
    "    Recall: {recall:.2f}\n",
    "    F1 score: {f1:.2f}\n",
    "    ROC AUC: {auc:.2f}\n",
    "    \"\"\")"
   ]
  },
  {
   "cell_type": "code",
   "execution_count": 38,
   "metadata": {},
   "outputs": [],
   "source": [
    "# create y_pred array that includes only Passes\n",
    "results = [0] * val_targ.shape[0]\n",
    "d = {'results_re': results}\n",
    "baseline_df = pd.DataFrame(data=d)"
   ]
  },
  {
   "cell_type": "code",
   "execution_count": 39,
   "metadata": {},
   "outputs": [
    {
     "name": "stdout",
     "output_type": "stream",
     "text": [
      "\n",
      "    Accuracy: 0.91\n",
      "    Precision: 0.00\n",
      "    Recall: 0.00\n",
      "    F1 score: 0.00\n",
      "    ROC AUC: 0.50\n",
      "    \n"
     ]
    }
   ],
   "source": [
    "print_clf_metrics(val_targ['results_re'], baseline_df['results_re'])"
   ]
  },
  {
   "cell_type": "markdown",
   "metadata": {},
   "source": [
    "### Naive Bayes model"
   ]
  },
  {
   "cell_type": "markdown",
   "metadata": {},
   "source": [
    "BOW model:"
   ]
  },
  {
   "cell_type": "code",
   "execution_count": 40,
   "metadata": {},
   "outputs": [
    {
     "name": "stdout",
     "output_type": "stream",
     "text": [
      "\n",
      "    Accuracy: 0.47\n",
      "    Precision: 0.12\n",
      "    Recall: 0.78\n",
      "    F1 score: 0.22\n",
      "    ROC AUC: 0.61\n",
      "    \n"
     ]
    }
   ],
   "source": [
    "# Use multinomial NB b/c features are discrete (counts)\n",
    "nb_bow = MultinomialNB()\n",
    "nb_bow.fit(train_bow_resample, train_targ_1d)\n",
    "\n",
    "y_pred_bow = nb_bow.predict(val_bow)\n",
    "print_clf_metrics(val_targ_1d, y_pred_bow)"
   ]
  },
  {
   "cell_type": "markdown",
   "metadata": {},
   "source": [
    "CBOW model:"
   ]
  },
  {
   "cell_type": "code",
   "execution_count": 41,
   "metadata": {},
   "outputs": [
    {
     "name": "stdout",
     "output_type": "stream",
     "text": [
      "\n",
      "    Accuracy: 0.89\n",
      "    Precision: 0.03\n",
      "    Recall: 0.01\n",
      "    F1 score: 0.01\n",
      "    ROC AUC: 0.49\n",
      "    \n"
     ]
    }
   ],
   "source": [
    "# Use Gaussian NB b/c features now continuous\n",
    "nb_cbow = GaussianNB()\n",
    "nb_cbow.fit(train_cbow_resample, train_targ_1d)\n",
    "\n",
    "y_pred_cbow = nb_cbow.predict(val_cbow)\n",
    "print_clf_metrics(val_targ_1d, y_pred_cbow)"
   ]
  },
  {
   "cell_type": "markdown",
   "metadata": {},
   "source": [
    "2-gram model:"
   ]
  },
  {
   "cell_type": "code",
   "execution_count": 42,
   "metadata": {},
   "outputs": [
    {
     "name": "stdout",
     "output_type": "stream",
     "text": [
      "\n",
      "    Accuracy: 0.53\n",
      "    Precision: 0.14\n",
      "    Recall: 0.76\n",
      "    F1 score: 0.23\n",
      "    ROC AUC: 0.63\n",
      "    \n"
     ]
    }
   ],
   "source": [
    "# Use multinomial NB b/c features are discrete (counts)\n",
    "nb_2gram = MultinomialNB()\n",
    "nb_2gram.fit(train_2gram_resample, train_targ_1d)\n",
    "\n",
    "y_pred_2gram = nb_2gram.predict(val_2gram)\n",
    "print_clf_metrics(val_targ_1d, y_pred_2gram)"
   ]
  },
  {
   "cell_type": "markdown",
   "metadata": {},
   "source": [
    "### Logistic Regression model"
   ]
  },
  {
   "cell_type": "markdown",
   "metadata": {},
   "source": [
    "BOW model:"
   ]
  },
  {
   "cell_type": "code",
   "execution_count": 43,
   "metadata": {},
   "outputs": [
    {
     "name": "stdout",
     "output_type": "stream",
     "text": [
      "\n",
      "    Accuracy: 0.61\n",
      "    Precision: 0.14\n",
      "    Recall: 0.64\n",
      "    F1 score: 0.23\n",
      "    ROC AUC: 0.62\n",
      "    \n"
     ]
    }
   ],
   "source": [
    "log_reg_bow = LogisticRegression(max_iter=5000)\n",
    "log_reg_bow.fit(train_bow_resample, train_targ_1d)\n",
    "log_y_pred_bow = log_reg_bow.predict(val_bow)\n",
    "print_clf_metrics(val_targ_1d, log_y_pred_bow)"
   ]
  },
  {
   "cell_type": "markdown",
   "metadata": {},
   "source": [
    "CBOW model:"
   ]
  },
  {
   "cell_type": "code",
   "execution_count": 44,
   "metadata": {
    "scrolled": true
   },
   "outputs": [
    {
     "name": "stdout",
     "output_type": "stream",
     "text": [
      "\n",
      "    Accuracy: 0.63\n",
      "    Precision: 0.16\n",
      "    Recall: 0.72\n",
      "    F1 score: 0.26\n",
      "    ROC AUC: 0.67\n",
      "    \n"
     ]
    }
   ],
   "source": [
    "log_reg_cbow = LogisticRegression(max_iter=1000)\n",
    "log_reg_cbow.fit(train_cbow_resample, train_targ_1d)\n",
    "log_y_pred_cbow = log_reg_cbow.predict(val_cbow)\n",
    "print_clf_metrics(val_targ_1d, log_y_pred_cbow)"
   ]
  },
  {
   "cell_type": "markdown",
   "metadata": {},
   "source": [
    "2-gram model:"
   ]
  },
  {
   "cell_type": "code",
   "execution_count": 45,
   "metadata": {},
   "outputs": [
    {
     "name": "stdout",
     "output_type": "stream",
     "text": [
      "\n",
      "    Accuracy: 0.61\n",
      "    Precision: 0.15\n",
      "    Recall: 0.66\n",
      "    F1 score: 0.24\n",
      "    ROC AUC: 0.63\n",
      "    \n"
     ]
    }
   ],
   "source": [
    "log_reg_2gram = LogisticRegression(max_iter=5000)\n",
    "log_reg_2gram.fit(train_2gram_resample, train_targ_1d)\n",
    "\n",
    "log_y_pred_2gram = log_reg_2gram.predict(val_2gram)\n",
    "print_clf_metrics(val_targ_1d, log_y_pred_2gram)"
   ]
  },
  {
   "cell_type": "code",
   "execution_count": null,
   "metadata": {},
   "outputs": [],
   "source": []
  }
 ],
 "metadata": {
  "kernelspec": {
   "display_name": "Python 3",
   "language": "python",
   "name": "python3"
  },
  "language_info": {
   "codemirror_mode": {
    "name": "ipython",
    "version": 3
   },
   "file_extension": ".py",
   "mimetype": "text/x-python",
   "name": "python",
   "nbconvert_exporter": "python",
   "pygments_lexer": "ipython3",
   "version": "3.8.2"
  }
 },
 "nbformat": 4,
 "nbformat_minor": 4
}
